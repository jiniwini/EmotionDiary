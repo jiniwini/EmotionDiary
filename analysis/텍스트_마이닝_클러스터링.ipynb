{
  "nbformat": 4,
  "nbformat_minor": 0,
  "metadata": {
    "colab": {
      "provenance": []
    },
    "kernelspec": {
      "name": "python3",
      "display_name": "Python 3"
    },
    "language_info": {
      "name": "python"
    }
  },
  "cells": [
    {
      "cell_type": "markdown",
      "source": [
        "##<strong>문서 유사도 비교를 통한 군집분석</strong>\n",
        "\n",
        "- 감정분석 모델은 총 11개의 감정을 분류, 분석된 감정에 대한 시각화 서비스 제공시 표현할 감정 결정을 위한 근거로서 해당 군집분석 결과 활용\n",
        "  1. 감정분석 모델 생성시 사용한 감정 라벨링이 되어있는 데이터셋에 대해 문장 유사도를 비교한 후 군집분석 진행\n",
        "    - 문서를 형태소 분리, 불용어 처리, 토큰화한 후 TF-IDF 매트릭스 구현\n",
        "    - K-means를 이용하여 벡터화된 문서들 군집분석\n",
        "    - 동일한 군집으로 묶인 문서들 간의 코사인 유사도(Cosine Similarity) 확인\n",
        "  2. 같은 클러스터로 분류된 감정들은 통합하여 사용"
      ],
      "metadata": {
        "id": "RIMvqxGQWofn"
      }
    },
    {
      "cell_type": "code",
      "source": [
        "!sudo apt-get install -y fonts-nanum\n",
        "!sudo fc-cache -fv\n",
        "!rm ~/.cache/matplotlib -rf"
      ],
      "metadata": {
        "colab": {
          "base_uri": "https://localhost:8080/"
        },
        "id": "AvdPHMw--hME",
        "outputId": "1329c3fb-52e3-4a3b-dfde-cedb1d882309"
      },
      "execution_count": 52,
      "outputs": [
        {
          "output_type": "stream",
          "name": "stdout",
          "text": [
            "Reading package lists... Done\n",
            "Building dependency tree       \n",
            "Reading state information... Done\n",
            "fonts-nanum is already the newest version (20180306-3).\n",
            "0 upgraded, 0 newly installed, 0 to remove and 53 not upgraded.\n",
            "/usr/share/fonts: caching, new cache contents: 0 fonts, 1 dirs\n",
            "/usr/share/fonts/truetype: caching, new cache contents: 0 fonts, 4 dirs\n",
            "/usr/share/fonts/truetype/dejavu: caching, new cache contents: 22 fonts, 0 dirs\n",
            "/usr/share/fonts/truetype/humor-sans: caching, new cache contents: 1 fonts, 0 dirs\n",
            "/usr/share/fonts/truetype/liberation: caching, new cache contents: 16 fonts, 0 dirs\n",
            "/usr/share/fonts/truetype/nanum: caching, new cache contents: 10 fonts, 0 dirs\n",
            "/usr/local/share/fonts: caching, new cache contents: 0 fonts, 0 dirs\n",
            "/root/.local/share/fonts: skipping, no such directory\n",
            "/root/.fonts: skipping, no such directory\n",
            "/usr/share/fonts/truetype: skipping, looped directory detected\n",
            "/usr/share/fonts/truetype/dejavu: skipping, looped directory detected\n",
            "/usr/share/fonts/truetype/humor-sans: skipping, looped directory detected\n",
            "/usr/share/fonts/truetype/liberation: skipping, looped directory detected\n",
            "/usr/share/fonts/truetype/nanum: skipping, looped directory detected\n",
            "/var/cache/fontconfig: cleaning cache directory\n",
            "/root/.cache/fontconfig: not cleaning non-existent cache directory\n",
            "/root/.fontconfig: not cleaning non-existent cache directory\n",
            "fc-cache: succeeded\n"
          ]
        }
      ]
    },
    {
      "cell_type": "code",
      "execution_count": 53,
      "metadata": {
        "id": "9ylU7dipV1vq"
      },
      "outputs": [],
      "source": [
        "import numpy as np\n",
        "import pandas as pd\n",
        "import matplotlib.pyplot as plt\n",
        "import seaborn as sns\n",
        "\n",
        "import string\n",
        "import glob\n",
        "import os\n",
        "import sklearn\n",
        "import nltk"
      ]
    },
    {
      "cell_type": "markdown",
      "source": [
        "######<strong>데이터셋 전처리</strong>\n",
        "- 감정 라벨링을 기준으로 결합하여 새로운 데이터 만들기\n",
        "- 감정 라벨링:\n",
        "  - '슬픔':0, '중립':1, '불안':2, '당황':3, '분노':4, '기쁨':5, '혐오':6, '상처':7, '행복':8, '놀람':9, '공포':10"
      ],
      "metadata": {
        "id": "56hvwzJBd2Su"
      }
    },
    {
      "cell_type": "code",
      "source": [
        "# 데이터셋 불러오기\n",
        "total_train = pd.read_csv('/content/drive/MyDrive/data/total_train_real.csv')\n",
        "total_test = pd.read_csv('/content/drive/MyDrive//data/total_test_real.csv')"
      ],
      "metadata": {
        "id": "Ue8exP-4Wkmq"
      },
      "execution_count": 54,
      "outputs": []
    },
    {
      "cell_type": "code",
      "source": [
        "# 데이터셋 합치기\n",
        "emotion_sentences = pd.concat([total_train, total_test], axis=0)\n",
        "emotion_sentences.tail()"
      ],
      "metadata": {
        "colab": {
          "base_uri": "https://localhost:8080/",
          "height": 204
        },
        "id": "nBLFvTkNez7N",
        "outputId": "90172780-3a7f-4699-981b-2c6876658acd"
      },
      "execution_count": 55,
      "outputs": [
        {
          "output_type": "execute_result",
          "data": {
            "text/plain": [
              "       Unnamed: 0                                           Sentence Emotion\n",
              "11113        6636  나랑 비슷한 시기에 결혼하는 친구는 시댁에서 집을 해줘서 너무 부러워. 우리는 대출...      당황\n",
              "11114        6637    친구 한 명이 결혼해서 아이를 가졌는데 너무 행복해 보이더라. 기분이 좋지만은 않아.      당황\n",
              "11115        6638      남들은 결혼 전에 일억을 모았다는데 난 뭐를 한 것인지 모르겠어. 자괴감만 드네.      당황\n",
              "11116        6639  나보다 결혼을 먼저 한 친구가 부러워. 그 친구 남편은 직장도 내 남편보다 좋고 키...      당황\n",
              "11117        6640                        친구들 모두 결혼하고 나만 혼자 남아서 쓸쓸하네.      당황"
            ],
            "text/html": [
              "\n",
              "  <div id=\"df-a872be67-6759-4d88-937b-ccda692fae09\">\n",
              "    <div class=\"colab-df-container\">\n",
              "      <div>\n",
              "<style scoped>\n",
              "    .dataframe tbody tr th:only-of-type {\n",
              "        vertical-align: middle;\n",
              "    }\n",
              "\n",
              "    .dataframe tbody tr th {\n",
              "        vertical-align: top;\n",
              "    }\n",
              "\n",
              "    .dataframe thead th {\n",
              "        text-align: right;\n",
              "    }\n",
              "</style>\n",
              "<table border=\"1\" class=\"dataframe\">\n",
              "  <thead>\n",
              "    <tr style=\"text-align: right;\">\n",
              "      <th></th>\n",
              "      <th>Unnamed: 0</th>\n",
              "      <th>Sentence</th>\n",
              "      <th>Emotion</th>\n",
              "    </tr>\n",
              "  </thead>\n",
              "  <tbody>\n",
              "    <tr>\n",
              "      <th>11113</th>\n",
              "      <td>6636</td>\n",
              "      <td>나랑 비슷한 시기에 결혼하는 친구는 시댁에서 집을 해줘서 너무 부러워. 우리는 대출...</td>\n",
              "      <td>당황</td>\n",
              "    </tr>\n",
              "    <tr>\n",
              "      <th>11114</th>\n",
              "      <td>6637</td>\n",
              "      <td>친구 한 명이 결혼해서 아이를 가졌는데 너무 행복해 보이더라. 기분이 좋지만은 않아.</td>\n",
              "      <td>당황</td>\n",
              "    </tr>\n",
              "    <tr>\n",
              "      <th>11115</th>\n",
              "      <td>6638</td>\n",
              "      <td>남들은 결혼 전에 일억을 모았다는데 난 뭐를 한 것인지 모르겠어. 자괴감만 드네.</td>\n",
              "      <td>당황</td>\n",
              "    </tr>\n",
              "    <tr>\n",
              "      <th>11116</th>\n",
              "      <td>6639</td>\n",
              "      <td>나보다 결혼을 먼저 한 친구가 부러워. 그 친구 남편은 직장도 내 남편보다 좋고 키...</td>\n",
              "      <td>당황</td>\n",
              "    </tr>\n",
              "    <tr>\n",
              "      <th>11117</th>\n",
              "      <td>6640</td>\n",
              "      <td>친구들 모두 결혼하고 나만 혼자 남아서 쓸쓸하네.</td>\n",
              "      <td>당황</td>\n",
              "    </tr>\n",
              "  </tbody>\n",
              "</table>\n",
              "</div>\n",
              "      <button class=\"colab-df-convert\" onclick=\"convertToInteractive('df-a872be67-6759-4d88-937b-ccda692fae09')\"\n",
              "              title=\"Convert this dataframe to an interactive table.\"\n",
              "              style=\"display:none;\">\n",
              "        \n",
              "  <svg xmlns=\"http://www.w3.org/2000/svg\" height=\"24px\"viewBox=\"0 0 24 24\"\n",
              "       width=\"24px\">\n",
              "    <path d=\"M0 0h24v24H0V0z\" fill=\"none\"/>\n",
              "    <path d=\"M18.56 5.44l.94 2.06.94-2.06 2.06-.94-2.06-.94-.94-2.06-.94 2.06-2.06.94zm-11 1L8.5 8.5l.94-2.06 2.06-.94-2.06-.94L8.5 2.5l-.94 2.06-2.06.94zm10 10l.94 2.06.94-2.06 2.06-.94-2.06-.94-.94-2.06-.94 2.06-2.06.94z\"/><path d=\"M17.41 7.96l-1.37-1.37c-.4-.4-.92-.59-1.43-.59-.52 0-1.04.2-1.43.59L10.3 9.45l-7.72 7.72c-.78.78-.78 2.05 0 2.83L4 21.41c.39.39.9.59 1.41.59.51 0 1.02-.2 1.41-.59l7.78-7.78 2.81-2.81c.8-.78.8-2.07 0-2.86zM5.41 20L4 18.59l7.72-7.72 1.47 1.35L5.41 20z\"/>\n",
              "  </svg>\n",
              "      </button>\n",
              "      \n",
              "  <style>\n",
              "    .colab-df-container {\n",
              "      display:flex;\n",
              "      flex-wrap:wrap;\n",
              "      gap: 12px;\n",
              "    }\n",
              "\n",
              "    .colab-df-convert {\n",
              "      background-color: #E8F0FE;\n",
              "      border: none;\n",
              "      border-radius: 50%;\n",
              "      cursor: pointer;\n",
              "      display: none;\n",
              "      fill: #1967D2;\n",
              "      height: 32px;\n",
              "      padding: 0 0 0 0;\n",
              "      width: 32px;\n",
              "    }\n",
              "\n",
              "    .colab-df-convert:hover {\n",
              "      background-color: #E2EBFA;\n",
              "      box-shadow: 0px 1px 2px rgba(60, 64, 67, 0.3), 0px 1px 3px 1px rgba(60, 64, 67, 0.15);\n",
              "      fill: #174EA6;\n",
              "    }\n",
              "\n",
              "    [theme=dark] .colab-df-convert {\n",
              "      background-color: #3B4455;\n",
              "      fill: #D2E3FC;\n",
              "    }\n",
              "\n",
              "    [theme=dark] .colab-df-convert:hover {\n",
              "      background-color: #434B5C;\n",
              "      box-shadow: 0px 1px 3px 1px rgba(0, 0, 0, 0.15);\n",
              "      filter: drop-shadow(0px 1px 2px rgba(0, 0, 0, 0.3));\n",
              "      fill: #FFFFFF;\n",
              "    }\n",
              "  </style>\n",
              "\n",
              "      <script>\n",
              "        const buttonEl =\n",
              "          document.querySelector('#df-a872be67-6759-4d88-937b-ccda692fae09 button.colab-df-convert');\n",
              "        buttonEl.style.display =\n",
              "          google.colab.kernel.accessAllowed ? 'block' : 'none';\n",
              "\n",
              "        async function convertToInteractive(key) {\n",
              "          const element = document.querySelector('#df-a872be67-6759-4d88-937b-ccda692fae09');\n",
              "          const dataTable =\n",
              "            await google.colab.kernel.invokeFunction('convertToInteractive',\n",
              "                                                     [key], {});\n",
              "          if (!dataTable) return;\n",
              "\n",
              "          const docLinkHtml = 'Like what you see? Visit the ' +\n",
              "            '<a target=\"_blank\" href=https://colab.research.google.com/notebooks/data_table.ipynb>data table notebook</a>'\n",
              "            + ' to learn more about interactive tables.';\n",
              "          element.innerHTML = '';\n",
              "          dataTable['output_type'] = 'display_data';\n",
              "          await google.colab.output.renderOutput(dataTable, element);\n",
              "          const docLink = document.createElement('div');\n",
              "          docLink.innerHTML = docLinkHtml;\n",
              "          element.appendChild(docLink);\n",
              "        }\n",
              "      </script>\n",
              "    </div>\n",
              "  </div>\n",
              "  "
            ]
          },
          "metadata": {},
          "execution_count": 55
        }
      ]
    },
    {
      "cell_type": "code",
      "source": [
        "# 인덱스 재설정\n",
        "emotion_sentences.reset_index(drop=True, inplace=True)\n",
        "emotion_sentences.tail()"
      ],
      "metadata": {
        "colab": {
          "base_uri": "https://localhost:8080/",
          "height": 204
        },
        "id": "TBV-RBFdfsi_",
        "outputId": "0748ca19-6661-4d84-a6a6-fddcb76d2f35"
      },
      "execution_count": 56,
      "outputs": [
        {
          "output_type": "execute_result",
          "data": {
            "text/plain": [
              "       Unnamed: 0                                           Sentence Emotion\n",
              "68956        6636  나랑 비슷한 시기에 결혼하는 친구는 시댁에서 집을 해줘서 너무 부러워. 우리는 대출...      당황\n",
              "68957        6637    친구 한 명이 결혼해서 아이를 가졌는데 너무 행복해 보이더라. 기분이 좋지만은 않아.      당황\n",
              "68958        6638      남들은 결혼 전에 일억을 모았다는데 난 뭐를 한 것인지 모르겠어. 자괴감만 드네.      당황\n",
              "68959        6639  나보다 결혼을 먼저 한 친구가 부러워. 그 친구 남편은 직장도 내 남편보다 좋고 키...      당황\n",
              "68960        6640                        친구들 모두 결혼하고 나만 혼자 남아서 쓸쓸하네.      당황"
            ],
            "text/html": [
              "\n",
              "  <div id=\"df-19a8398e-7c8d-46a6-87f6-f64aebf80427\">\n",
              "    <div class=\"colab-df-container\">\n",
              "      <div>\n",
              "<style scoped>\n",
              "    .dataframe tbody tr th:only-of-type {\n",
              "        vertical-align: middle;\n",
              "    }\n",
              "\n",
              "    .dataframe tbody tr th {\n",
              "        vertical-align: top;\n",
              "    }\n",
              "\n",
              "    .dataframe thead th {\n",
              "        text-align: right;\n",
              "    }\n",
              "</style>\n",
              "<table border=\"1\" class=\"dataframe\">\n",
              "  <thead>\n",
              "    <tr style=\"text-align: right;\">\n",
              "      <th></th>\n",
              "      <th>Unnamed: 0</th>\n",
              "      <th>Sentence</th>\n",
              "      <th>Emotion</th>\n",
              "    </tr>\n",
              "  </thead>\n",
              "  <tbody>\n",
              "    <tr>\n",
              "      <th>68956</th>\n",
              "      <td>6636</td>\n",
              "      <td>나랑 비슷한 시기에 결혼하는 친구는 시댁에서 집을 해줘서 너무 부러워. 우리는 대출...</td>\n",
              "      <td>당황</td>\n",
              "    </tr>\n",
              "    <tr>\n",
              "      <th>68957</th>\n",
              "      <td>6637</td>\n",
              "      <td>친구 한 명이 결혼해서 아이를 가졌는데 너무 행복해 보이더라. 기분이 좋지만은 않아.</td>\n",
              "      <td>당황</td>\n",
              "    </tr>\n",
              "    <tr>\n",
              "      <th>68958</th>\n",
              "      <td>6638</td>\n",
              "      <td>남들은 결혼 전에 일억을 모았다는데 난 뭐를 한 것인지 모르겠어. 자괴감만 드네.</td>\n",
              "      <td>당황</td>\n",
              "    </tr>\n",
              "    <tr>\n",
              "      <th>68959</th>\n",
              "      <td>6639</td>\n",
              "      <td>나보다 결혼을 먼저 한 친구가 부러워. 그 친구 남편은 직장도 내 남편보다 좋고 키...</td>\n",
              "      <td>당황</td>\n",
              "    </tr>\n",
              "    <tr>\n",
              "      <th>68960</th>\n",
              "      <td>6640</td>\n",
              "      <td>친구들 모두 결혼하고 나만 혼자 남아서 쓸쓸하네.</td>\n",
              "      <td>당황</td>\n",
              "    </tr>\n",
              "  </tbody>\n",
              "</table>\n",
              "</div>\n",
              "      <button class=\"colab-df-convert\" onclick=\"convertToInteractive('df-19a8398e-7c8d-46a6-87f6-f64aebf80427')\"\n",
              "              title=\"Convert this dataframe to an interactive table.\"\n",
              "              style=\"display:none;\">\n",
              "        \n",
              "  <svg xmlns=\"http://www.w3.org/2000/svg\" height=\"24px\"viewBox=\"0 0 24 24\"\n",
              "       width=\"24px\">\n",
              "    <path d=\"M0 0h24v24H0V0z\" fill=\"none\"/>\n",
              "    <path d=\"M18.56 5.44l.94 2.06.94-2.06 2.06-.94-2.06-.94-.94-2.06-.94 2.06-2.06.94zm-11 1L8.5 8.5l.94-2.06 2.06-.94-2.06-.94L8.5 2.5l-.94 2.06-2.06.94zm10 10l.94 2.06.94-2.06 2.06-.94-2.06-.94-.94-2.06-.94 2.06-2.06.94z\"/><path d=\"M17.41 7.96l-1.37-1.37c-.4-.4-.92-.59-1.43-.59-.52 0-1.04.2-1.43.59L10.3 9.45l-7.72 7.72c-.78.78-.78 2.05 0 2.83L4 21.41c.39.39.9.59 1.41.59.51 0 1.02-.2 1.41-.59l7.78-7.78 2.81-2.81c.8-.78.8-2.07 0-2.86zM5.41 20L4 18.59l7.72-7.72 1.47 1.35L5.41 20z\"/>\n",
              "  </svg>\n",
              "      </button>\n",
              "      \n",
              "  <style>\n",
              "    .colab-df-container {\n",
              "      display:flex;\n",
              "      flex-wrap:wrap;\n",
              "      gap: 12px;\n",
              "    }\n",
              "\n",
              "    .colab-df-convert {\n",
              "      background-color: #E8F0FE;\n",
              "      border: none;\n",
              "      border-radius: 50%;\n",
              "      cursor: pointer;\n",
              "      display: none;\n",
              "      fill: #1967D2;\n",
              "      height: 32px;\n",
              "      padding: 0 0 0 0;\n",
              "      width: 32px;\n",
              "    }\n",
              "\n",
              "    .colab-df-convert:hover {\n",
              "      background-color: #E2EBFA;\n",
              "      box-shadow: 0px 1px 2px rgba(60, 64, 67, 0.3), 0px 1px 3px 1px rgba(60, 64, 67, 0.15);\n",
              "      fill: #174EA6;\n",
              "    }\n",
              "\n",
              "    [theme=dark] .colab-df-convert {\n",
              "      background-color: #3B4455;\n",
              "      fill: #D2E3FC;\n",
              "    }\n",
              "\n",
              "    [theme=dark] .colab-df-convert:hover {\n",
              "      background-color: #434B5C;\n",
              "      box-shadow: 0px 1px 3px 1px rgba(0, 0, 0, 0.15);\n",
              "      filter: drop-shadow(0px 1px 2px rgba(0, 0, 0, 0.3));\n",
              "      fill: #FFFFFF;\n",
              "    }\n",
              "  </style>\n",
              "\n",
              "      <script>\n",
              "        const buttonEl =\n",
              "          document.querySelector('#df-19a8398e-7c8d-46a6-87f6-f64aebf80427 button.colab-df-convert');\n",
              "        buttonEl.style.display =\n",
              "          google.colab.kernel.accessAllowed ? 'block' : 'none';\n",
              "\n",
              "        async function convertToInteractive(key) {\n",
              "          const element = document.querySelector('#df-19a8398e-7c8d-46a6-87f6-f64aebf80427');\n",
              "          const dataTable =\n",
              "            await google.colab.kernel.invokeFunction('convertToInteractive',\n",
              "                                                     [key], {});\n",
              "          if (!dataTable) return;\n",
              "\n",
              "          const docLinkHtml = 'Like what you see? Visit the ' +\n",
              "            '<a target=\"_blank\" href=https://colab.research.google.com/notebooks/data_table.ipynb>data table notebook</a>'\n",
              "            + ' to learn more about interactive tables.';\n",
              "          element.innerHTML = '';\n",
              "          dataTable['output_type'] = 'display_data';\n",
              "          await google.colab.output.renderOutput(dataTable, element);\n",
              "          const docLink = document.createElement('div');\n",
              "          docLink.innerHTML = docLinkHtml;\n",
              "          element.appendChild(docLink);\n",
              "        }\n",
              "      </script>\n",
              "    </div>\n",
              "  </div>\n",
              "  "
            ]
          },
          "metadata": {},
          "execution_count": 56
        }
      ]
    },
    {
      "cell_type": "code",
      "source": [
        "# 필요없는 컬럼 제거\n",
        "emotion_sentences.drop('Unnamed: 0', axis=1, inplace=True)"
      ],
      "metadata": {
        "id": "d08kx1tqfUta"
      },
      "execution_count": 57,
      "outputs": []
    },
    {
      "cell_type": "code",
      "source": [
        "# Emotion_label로 묶어서 새로운 데이터 생성\n",
        "당황 = emotion_sentences[emotion_sentences['Emotion']=='당황']\n",
        "슬픔 = emotion_sentences[emotion_sentences['Emotion']=='슬픔']\n",
        "중립 = emotion_sentences[emotion_sentences['Emotion']=='중립']\n",
        "불안 = emotion_sentences[emotion_sentences['Emotion']=='불안']\n",
        "분노 = emotion_sentences[emotion_sentences['Emotion']=='분노']\n",
        "기쁨 = emotion_sentences[emotion_sentences['Emotion']=='기쁨']\n",
        "행복 = emotion_sentences[emotion_sentences['Emotion']=='행복']\n",
        "놀람 = emotion_sentences[emotion_sentences['Emotion']=='놀람']\n",
        "공포 = emotion_sentences[emotion_sentences['Emotion']=='공포']\n",
        "혐오 = emotion_sentences[emotion_sentences['Emotion']=='혐오']\n",
        "상처 = emotion_sentences[emotion_sentences['Emotion']=='상처']"
      ],
      "metadata": {
        "id": "nsPhCFklg0QQ"
      },
      "execution_count": 58,
      "outputs": []
    },
    {
      "cell_type": "code",
      "source": [
        "def make_list(data):\n",
        "  a = data['Sentence'].tolist()\n",
        "  b = []\n",
        "  for i in a:\n",
        "    b.append(i)\n",
        "  return b"
      ],
      "metadata": {
        "id": "bZ2hYGuEUe_6"
      },
      "execution_count": 59,
      "outputs": []
    },
    {
      "cell_type": "code",
      "source": [
        "label_3 = make_list(당황)"
      ],
      "metadata": {
        "id": "t59ej3JyUhjD"
      },
      "execution_count": 60,
      "outputs": []
    },
    {
      "cell_type": "code",
      "source": [
        "label_0 = make_list(슬픔)"
      ],
      "metadata": {
        "id": "ziQRGKt1UnXO"
      },
      "execution_count": 61,
      "outputs": []
    },
    {
      "cell_type": "code",
      "source": [
        "label_2 = make_list(불안)"
      ],
      "metadata": {
        "id": "_ByMYPZiUnfj"
      },
      "execution_count": 62,
      "outputs": []
    },
    {
      "cell_type": "code",
      "source": [
        "label_4 = make_list(분노)"
      ],
      "metadata": {
        "id": "wjZhNzYgUnqV"
      },
      "execution_count": 63,
      "outputs": []
    },
    {
      "cell_type": "code",
      "source": [
        "label_5 = make_list(기쁨)"
      ],
      "metadata": {
        "id": "PtzMrpxlUnzc"
      },
      "execution_count": 64,
      "outputs": []
    },
    {
      "cell_type": "code",
      "source": [
        "label_6 = make_list(혐오)"
      ],
      "metadata": {
        "id": "DokH8W_tUn-p"
      },
      "execution_count": 65,
      "outputs": []
    },
    {
      "cell_type": "code",
      "source": [
        "label_7 = make_list(상처)"
      ],
      "metadata": {
        "id": "BL0xIrLkUoIH"
      },
      "execution_count": 66,
      "outputs": []
    },
    {
      "cell_type": "code",
      "source": [
        "label_8 = make_list(행복)"
      ],
      "metadata": {
        "id": "_c3dFE2gUoRT"
      },
      "execution_count": 67,
      "outputs": []
    },
    {
      "cell_type": "code",
      "source": [
        "label_9 = make_list(놀람)"
      ],
      "metadata": {
        "id": "quUquYpeUoZ5"
      },
      "execution_count": 68,
      "outputs": []
    },
    {
      "cell_type": "code",
      "source": [
        "label_10 = make_list(공포)"
      ],
      "metadata": {
        "id": "HbMVGFroUoie"
      },
      "execution_count": 69,
      "outputs": []
    },
    {
      "cell_type": "code",
      "source": [
        "# 데이터프레임 생성\n",
        "doc_df = pd.DataFrame({'filename':['슬픔', '불안', '당황', '분노', '기쁨', '혐오', '상처', '행복', '놀람', '공포'],\n",
        "                       'sentence':[label_0, label_2, label_3, label_4, label_5, label_6, label_7, label_8, label_9, label_10]})"
      ],
      "metadata": {
        "id": "9ZZQsH2lUoqe"
      },
      "execution_count": 70,
      "outputs": []
    },
    {
      "cell_type": "code",
      "source": [
        "슬픔 = ' '.join(doc_df['sentence'][0])\n",
        "불안 = ' '.join(doc_df['sentence'][1])\n",
        "당황 = ' '.join(doc_df['sentence'][2])\n",
        "분노 = ' '.join(doc_df['sentence'][3])\n",
        "기쁨 = ' '.join(doc_df['sentence'][4])\n",
        "혐오 = ' '.join(doc_df['sentence'][5])\n",
        "상처 = ' '.join(doc_df['sentence'][6])\n",
        "행복 = ' '.join(doc_df['sentence'][7])\n",
        "놀람 = ' '.join(doc_df['sentence'][8])\n",
        "공포 = ' '.join(doc_df['sentence'][9])"
      ],
      "metadata": {
        "id": "YjvJ8pcNEn4k"
      },
      "execution_count": 71,
      "outputs": []
    },
    {
      "cell_type": "code",
      "source": [
        "# 데이터프레임 생성\n",
        "doc_df = pd.DataFrame({'filename':['슬픔', '불안', '당황', '분노', '기쁨', '혐오', '상처', '행복', '놀람', '공포'],\n",
        "                       'sentence':[슬픔, 불안, 당황, 분노, 기쁨, 혐오, 상처, 행복, 놀람, 공포]})"
      ],
      "metadata": {
        "id": "ujsqKf0lEUz-"
      },
      "execution_count": 72,
      "outputs": []
    },
    {
      "cell_type": "code",
      "source": [
        "doc_df"
      ],
      "metadata": {
        "colab": {
          "base_uri": "https://localhost:8080/",
          "height": 359
        },
        "id": "fybtpspXEU6u",
        "outputId": "9c237eaf-b043-4547-cba0-ed6a9d573d8e"
      },
      "execution_count": 73,
      "outputs": [
        {
          "output_type": "execute_result",
          "data": {
            "text/plain": [
              "  filename                                           sentence\n",
              "0       슬픔   아직도 기대감이 사라지지 않았어...  누나내가 좋아하는건 미안한일이잖아 키스까지...\n",
              "1       불안  졸업반이라서 취업을 생각해야 하는데 지금 너무 느긋해서 이래도 되나 싶어. 면접에서...\n",
              "2       당황  길을 가다가 우연히 마주친 동네 아주머니께서 취업했냐고 물어보셔서 당황했어. 어제 ...\n",
              "3       분노  외교하라니까 친미 친일 하고있는 윤병x이 문제라곤 생각 안하지? 덜떨어진것들 그돈 ...\n",
              "4       기쁨  퇴사한 지 얼마 안 됐지만 천천히 직장을 구해보려고. 요즘 직장생활이 너무 편하고 ...\n",
              "5       혐오  니들이 1~2년 쓰다가 고장나는건 폰을 개떡같이 쓰니까 그런거야 펴엉신들아ㅉㅉ앱등이...\n",
              "6       상처  면접관에게 완전히 속았어. 면접일에 알려준 연봉과 실수령액이 꽤 차이가 나네. 지인...\n",
              "7       행복  항상 감사합니다 용규선수ㅠㅠㅠㅠ 축하 한다 ~~^^ 저에겐 요리에 대한 두려움을 없...\n",
              "8       놀람  얘네는 댓글만 보면 중국가수네 와 직장인으로서 7천만 연봉이었는데 지금 다 버리고 ...\n",
              "9       공포  노인운전자 위험해요 그래서 보내줘야겠는데 멀 보낼지 생각이 안나서 고민0 산천어가 ..."
            ],
            "text/html": [
              "\n",
              "  <div id=\"df-74613353-78cd-4e5c-bce5-a63f7c178740\">\n",
              "    <div class=\"colab-df-container\">\n",
              "      <div>\n",
              "<style scoped>\n",
              "    .dataframe tbody tr th:only-of-type {\n",
              "        vertical-align: middle;\n",
              "    }\n",
              "\n",
              "    .dataframe tbody tr th {\n",
              "        vertical-align: top;\n",
              "    }\n",
              "\n",
              "    .dataframe thead th {\n",
              "        text-align: right;\n",
              "    }\n",
              "</style>\n",
              "<table border=\"1\" class=\"dataframe\">\n",
              "  <thead>\n",
              "    <tr style=\"text-align: right;\">\n",
              "      <th></th>\n",
              "      <th>filename</th>\n",
              "      <th>sentence</th>\n",
              "    </tr>\n",
              "  </thead>\n",
              "  <tbody>\n",
              "    <tr>\n",
              "      <th>0</th>\n",
              "      <td>슬픔</td>\n",
              "      <td>아직도 기대감이 사라지지 않았어...  누나내가 좋아하는건 미안한일이잖아 키스까지...</td>\n",
              "    </tr>\n",
              "    <tr>\n",
              "      <th>1</th>\n",
              "      <td>불안</td>\n",
              "      <td>졸업반이라서 취업을 생각해야 하는데 지금 너무 느긋해서 이래도 되나 싶어. 면접에서...</td>\n",
              "    </tr>\n",
              "    <tr>\n",
              "      <th>2</th>\n",
              "      <td>당황</td>\n",
              "      <td>길을 가다가 우연히 마주친 동네 아주머니께서 취업했냐고 물어보셔서 당황했어. 어제 ...</td>\n",
              "    </tr>\n",
              "    <tr>\n",
              "      <th>3</th>\n",
              "      <td>분노</td>\n",
              "      <td>외교하라니까 친미 친일 하고있는 윤병x이 문제라곤 생각 안하지? 덜떨어진것들 그돈 ...</td>\n",
              "    </tr>\n",
              "    <tr>\n",
              "      <th>4</th>\n",
              "      <td>기쁨</td>\n",
              "      <td>퇴사한 지 얼마 안 됐지만 천천히 직장을 구해보려고. 요즘 직장생활이 너무 편하고 ...</td>\n",
              "    </tr>\n",
              "    <tr>\n",
              "      <th>5</th>\n",
              "      <td>혐오</td>\n",
              "      <td>니들이 1~2년 쓰다가 고장나는건 폰을 개떡같이 쓰니까 그런거야 펴엉신들아ㅉㅉ앱등이...</td>\n",
              "    </tr>\n",
              "    <tr>\n",
              "      <th>6</th>\n",
              "      <td>상처</td>\n",
              "      <td>면접관에게 완전히 속았어. 면접일에 알려준 연봉과 실수령액이 꽤 차이가 나네. 지인...</td>\n",
              "    </tr>\n",
              "    <tr>\n",
              "      <th>7</th>\n",
              "      <td>행복</td>\n",
              "      <td>항상 감사합니다 용규선수ㅠㅠㅠㅠ 축하 한다 ~~^^ 저에겐 요리에 대한 두려움을 없...</td>\n",
              "    </tr>\n",
              "    <tr>\n",
              "      <th>8</th>\n",
              "      <td>놀람</td>\n",
              "      <td>얘네는 댓글만 보면 중국가수네 와 직장인으로서 7천만 연봉이었는데 지금 다 버리고 ...</td>\n",
              "    </tr>\n",
              "    <tr>\n",
              "      <th>9</th>\n",
              "      <td>공포</td>\n",
              "      <td>노인운전자 위험해요 그래서 보내줘야겠는데 멀 보낼지 생각이 안나서 고민0 산천어가 ...</td>\n",
              "    </tr>\n",
              "  </tbody>\n",
              "</table>\n",
              "</div>\n",
              "      <button class=\"colab-df-convert\" onclick=\"convertToInteractive('df-74613353-78cd-4e5c-bce5-a63f7c178740')\"\n",
              "              title=\"Convert this dataframe to an interactive table.\"\n",
              "              style=\"display:none;\">\n",
              "        \n",
              "  <svg xmlns=\"http://www.w3.org/2000/svg\" height=\"24px\"viewBox=\"0 0 24 24\"\n",
              "       width=\"24px\">\n",
              "    <path d=\"M0 0h24v24H0V0z\" fill=\"none\"/>\n",
              "    <path d=\"M18.56 5.44l.94 2.06.94-2.06 2.06-.94-2.06-.94-.94-2.06-.94 2.06-2.06.94zm-11 1L8.5 8.5l.94-2.06 2.06-.94-2.06-.94L8.5 2.5l-.94 2.06-2.06.94zm10 10l.94 2.06.94-2.06 2.06-.94-2.06-.94-.94-2.06-.94 2.06-2.06.94z\"/><path d=\"M17.41 7.96l-1.37-1.37c-.4-.4-.92-.59-1.43-.59-.52 0-1.04.2-1.43.59L10.3 9.45l-7.72 7.72c-.78.78-.78 2.05 0 2.83L4 21.41c.39.39.9.59 1.41.59.51 0 1.02-.2 1.41-.59l7.78-7.78 2.81-2.81c.8-.78.8-2.07 0-2.86zM5.41 20L4 18.59l7.72-7.72 1.47 1.35L5.41 20z\"/>\n",
              "  </svg>\n",
              "      </button>\n",
              "      \n",
              "  <style>\n",
              "    .colab-df-container {\n",
              "      display:flex;\n",
              "      flex-wrap:wrap;\n",
              "      gap: 12px;\n",
              "    }\n",
              "\n",
              "    .colab-df-convert {\n",
              "      background-color: #E8F0FE;\n",
              "      border: none;\n",
              "      border-radius: 50%;\n",
              "      cursor: pointer;\n",
              "      display: none;\n",
              "      fill: #1967D2;\n",
              "      height: 32px;\n",
              "      padding: 0 0 0 0;\n",
              "      width: 32px;\n",
              "    }\n",
              "\n",
              "    .colab-df-convert:hover {\n",
              "      background-color: #E2EBFA;\n",
              "      box-shadow: 0px 1px 2px rgba(60, 64, 67, 0.3), 0px 1px 3px 1px rgba(60, 64, 67, 0.15);\n",
              "      fill: #174EA6;\n",
              "    }\n",
              "\n",
              "    [theme=dark] .colab-df-convert {\n",
              "      background-color: #3B4455;\n",
              "      fill: #D2E3FC;\n",
              "    }\n",
              "\n",
              "    [theme=dark] .colab-df-convert:hover {\n",
              "      background-color: #434B5C;\n",
              "      box-shadow: 0px 1px 3px 1px rgba(0, 0, 0, 0.15);\n",
              "      filter: drop-shadow(0px 1px 2px rgba(0, 0, 0, 0.3));\n",
              "      fill: #FFFFFF;\n",
              "    }\n",
              "  </style>\n",
              "\n",
              "      <script>\n",
              "        const buttonEl =\n",
              "          document.querySelector('#df-74613353-78cd-4e5c-bce5-a63f7c178740 button.colab-df-convert');\n",
              "        buttonEl.style.display =\n",
              "          google.colab.kernel.accessAllowed ? 'block' : 'none';\n",
              "\n",
              "        async function convertToInteractive(key) {\n",
              "          const element = document.querySelector('#df-74613353-78cd-4e5c-bce5-a63f7c178740');\n",
              "          const dataTable =\n",
              "            await google.colab.kernel.invokeFunction('convertToInteractive',\n",
              "                                                     [key], {});\n",
              "          if (!dataTable) return;\n",
              "\n",
              "          const docLinkHtml = 'Like what you see? Visit the ' +\n",
              "            '<a target=\"_blank\" href=https://colab.research.google.com/notebooks/data_table.ipynb>data table notebook</a>'\n",
              "            + ' to learn more about interactive tables.';\n",
              "          element.innerHTML = '';\n",
              "          dataTable['output_type'] = 'display_data';\n",
              "          await google.colab.output.renderOutput(dataTable, element);\n",
              "          const docLink = document.createElement('div');\n",
              "          docLink.innerHTML = docLinkHtml;\n",
              "          element.appendChild(docLink);\n",
              "        }\n",
              "      </script>\n",
              "    </div>\n",
              "  </div>\n",
              "  "
            ]
          },
          "metadata": {},
          "execution_count": 73
        }
      ]
    },
    {
      "cell_type": "code",
      "source": [
        "당황"
      ],
      "metadata": {
        "colab": {
          "base_uri": "https://localhost:8080/",
          "height": 243
        },
        "id": "orI8ACDKE8Zv",
        "outputId": "e3d041d6-16b6-44f4-c556-59b9cd58c1d5"
      },
      "execution_count": 74,
      "outputs": [
        {
          "output_type": "execute_result",
          "data": {
            "text/plain": [
              "'길을 가다가 우연히 마주친 동네 아주머니께서 취업했냐고 물어보셔서 당황했어. 어제 합격 통보를 받은 회사에서 문자를 잘못 발송했다고 연락이 왔어. 너무 당혹스럽고 속상해. 나 오늘 첫 출근 했는데 너무 당황스러웠어! 이번에 직장을 이직했는데 글쎄 만나고 싶지 않은 사람을 만나서 아주 당황스럽더라고. 이번에 중소기업에 취업하게 되었어. 친구들에게 말하기가 조금 부끄러워. 저번 주에 친구와 같은 회사에서 같이 면접을 봤는데 나만 떨어져서 너무 창피해. 내 친구가 이번에 나보다 먼저 회사에 취직했어. 학교 다닐 때 내가 공부도 더 잘했는데 열등감이 느껴져. 취업 준비 중인데 잘 안 되어 우울해. 요새 회사 끝나고 오면 피곤해서 친구도 보기 귀찮고 휴대전화만 하게 되는 거 같아. 같이 일하던 사람이 나 때문에 혼났는데 사과를 못 해서 어색한 사이가 됐어. 결혼 못 한 친구 중에 부끄러워하는 친구들이 있어. 갑자기 나도 조금 부끄럽네. 결혼이 코앞인데 아직 확신이 들지 않아. 자꾸 도망치려는 내가 싫어져. 결혼하고 아이가 생기면 좋을 줄 알았는데 그런 건 아무것도 없었어. 결혼하려고 하는데 친구랑 비교가 되네. 결혼할 예식장이 근사하지 않은 것 같아서 걱정이야. 공무원 시험 준비를 너무 오래 하고 있어. 부모님에게 손 벌리는 것도 이젠 죄송해. 교회 친구가 갑자기 절을 가자고 해. 나 어떡해. 내 여자친구가 너무 부끄럽다. 나 오늘 회사에서 진짜 꼴 보기 싫은 걸 봤어. 나 이번에도 면접에 떨어졌어. 나 정말 한심한 것 같아. 나는 사람들 앞에서 발표하는 게 너무 부끄러워. 나도 이제 외로워서 연애도 하고 결혼도 해야 하겠어. 나를 보면 다들 결혼한 유부남인 줄 알아. 내가 특정 지역 혐오를 하는 사이트의 회원이라는 이야기가 여기저기에 돌고 있더라. 아니 내가 그 지역 출신인데 말이나 되는 소리냐고. 진짜 황당하네. 내가 한 실수도 아닌데 나를 혼내니까 너무 당황스럽다. 내가 이 회사에 최종합격한 줄 알았는데 아니라니 너무 당황스러워. 동성 간의 연애가 보기 힘들 때가 있어. 드디어 내가 아빠가 된다니 상상해보면 생각처럼 쉽지가 않을 것 같아. 부모님께서 결혼하라고 재촉하셔. 근데 난 아직 모은 돈이 없어서 이런 내가 한심해. 삼 년 동안 기러기 아빠로 지내다 보니 외롭고 지쳐. 아내와 아들이 너무 보고 싶어. 순간의 감정으로 친구를 배신했어. 죄를 지은 느낌이야. 승승장구하는 회사 동기들을 보고 있자면 신경질이 나. 난 인생의 낙오자이고 패배자인가 봐. 아내가 아기를 낳았는데 너무 고통스러워했어. 아내의 모습을 보니 아무것도 할 수 없는 내가 부끄러워졌어. 아내가 친구들이랑 해외여행을 갔어. 벌써 일주일이나 혼자 있으니 외롭네. 아빠가 되었는데. 아이가 꾸물거리는 게 좀 이상하게 느껴져.  어떻게 날 면접에서 탈락시킬 수가 있지? 정말 실망스럽다.  어제 부인 앞에서 그만 방귀가 나왔지 뭐야. 그것도 소리가 제법 컸어. 어제 여자친구와 술을 먹었는데 너무 많이 먹어서 기억이 나지 않아. 어제 회사 동료들과 술 마셨는데 내가 취해서 주사 부린 게 소문났나 봐. 여자친구가 갑자기 이별 통보를 해왔어. 이유도 말해주지 않고. 여자친구가 결혼을 기대하고 있는데 나는 결혼이 준비되지 않아 미안해 죽겠어. 여자친구랑 교외에서 자전거를 탔는데 넘어져서 다쳤어. 괜히 내가 타자고 그래서 여자친구만 다친 것 같아. 오늘 누가 나한테 반갑게 인사를 했는데 난 그 사람의 이름이 생각나지 않는 거야. 진땀 나는 순간이었어. 오늘 소개팅을 했는데 차였어. 요즘 너무 외로운 거 같아. 오늘 어떤 사람이 내 머리를 때리고 가서 너무 당황했어. 오늘도 퇴근길은 쓸쓸하다. 외로워. 이 세상에 나 혼자인 것 같은 기분이 들어. 이단에 속해 있는 친구들을 보면 너무 싫어. 남자 친구가 연락이 안 돼. 갑자기 내 연락에 답하지 않아서 불안해. 출산 예정일도 아닌데 진통이 와서 혼자 출산하게 되어 힘드네. 남편은 일하고 있어서 바빴거든. 남자 친구한테 다른 여자가 생겨서 헤어지게 됐어. 창피해서 어디 말할 수도 없네. 겨우 결혼한 지 일주일밖에 안 됐는데 남편이 벌써 술 먹고 외박을 했어. 어이가 없어서 헛웃음만 난다. 남자 친구의 장애 때문에 우리의 결혼을 응원하는 사람이 없어서 당황스러워. 결혼을 모든 가족이 반대해서 아무도 내 결혼식에 참석하지 않는대서 당황스러워. 출산을 한 날에 남편이 사고로 죽었어. 내 아이의 생일은 아이 아버지의 기일이 되어 버렸어. 남자 친구가 다른 여자랑 결혼한대. 드라마에 나올 법한 일이 나한테 일어나서 당황스러워. 결혼식에 초대할 사람이 없어서 당황스러워. 텅 빈 결혼식장에서 결혼하고 싶지는 않아. 남편이랑 이혼하려고 하는데 아이들이 다 내가 아닌 아빠를 따라가겠다고 해서 씁쓸하네. 나 사실 남자 친구 아이를 가졌어. 부모님도 친구들도 모두 지우라고 하네. 동기들과 자꾸 실적을 비교하게 돼. 친척 모임에서 취직했냐는 질문을 들으면 그 자리에서 도망가고 싶어. 사장님이 나를 혼낼 때 직원들 앞이 아닌 따로 불러서 혼냈으면 좋겠어. 사무실 옆자리 남직원이 나를 좋아하는 것 같아. 회사 워크숍 장기자랑에서 잘하고 싶어. 대기업이 아니라 친척들이 어떤 회사에서 근무하냐고 물어보면 대답하기 민망해. 취업 선물로 외제 차를 받았는데 신입이 외제 차 타고 다닌다고 뒷말이 나와. 부모님은 중소기업에 합격한 내가 부끄러우신가 봐. 중소기업에 합격해서 자존심이 너무 상해. 친구가 대기업에 합격한 나를 멀리할까 봐 친구한테 티를 내지 않았어. 신경 쓰이는 사람이 생겨서 요즘 꾸미고 출근하기 시작했어. 남들이 인정하는 직업과 내가 좋아하는 직업 사이에서 고민이야. 아빠가 다른 여자를 만난다는 걸 엄마한테 알려줬는데 내가 잘한 건지 모르겠어. 내 친구가 같이 간 식당에서 직원한테 갑질을 하더라. 정이 너무 떨어졌어. 사내 연애 중인 여자친구가 회사에서 가벼운 스킨십을 시도하는데 어떻게 해야 할지 모르겠어. 학교에서 여자친구가 팔짱을 꼈는데 다른 사람들을 의식해서 팔을 빼버렸어. 술자리에서 여자친구를 챙겼더니 시선이 나한테만 쏠리는 것 같아서 민망함에 자리를 떠버렸어. 다른 여자랑 길을 걷다가 아내를 봐서 나도 모르게 숨어버렸어. 오해하면 어떡하지? 여자친구가 생겼냐고 물어보시는 부모님께 당황스러운 마음에 역정을 냈어. 길거리에서 아내와 싸웠는데 사람들이 수군거리길래 자리를 떴어. 여자친구가 사람도 많은 데서 애정 표현을 하려고 하길래 당황스러워서 밀쳤지 뭐야. 아내와 언성을 높여 싸우다가 아이들이 잠에서 깨서 방에서 나오는 것을 보고 말을 아꼈어. 애들이 어떻게 생각할까? 호감을 가지고 있던 여자한테 고백을 받았는데 알고 보니 그 사람이 내 전 여자친구의 친구더라. 동창 모임에 이혼한 아내가 왔는데 분위기를 망칠까 봐 아무렇지 않은 척했어. 아내가 힘들어하는 것을 봤지만 부모님 눈치가 보여서 모른 척했어. 처음 남자를 사귀는데 스킨십 문제를 어떻게 해야 할지 모르겠어. 내가 선배랑 사귀는 게 사람들한테 알려져서 너무 당황스러워. 부끄럽게 남편은 아이들이 있는 데서 뽀뽀를 하려고 해. 남자 친구가 사람이 많은 길에서 프로포즈를 해서 많이 부끄러웠어. 곧 남편이 될 남자친구랑 첫날밤을 어떻게 보내야 할지 걱정이야. 가끔씩 남자 친구가 공공장소에서 애정 표현을 하는데 그럴 때마다 조금 난처해. 곧 결혼기념일인데 부끄러워서 남편에게 말 대신 편지로 마음을 고백했어. 어리게만 보았던 후배가 내게 고백했는데 당황스러워서 어떻게 해야 할지 모르겠네. 술김에 오래 알고 지낸 친구한테 좋아한다고 말해버렸어. 남편 앞에서 처음으로 방귀를 뀌어서 너무 민망해. 누나의 친구들이 내가 중간고사에서 커닝한 걸 알고 있어 부끄러워. 친한 친구라고 생각했는데 나만의 착각이었던 것 같아서 당황스러워. 사귀는 사람이 나에게는 말도 없이 혼자 여행을 떠나서 당황스러워. 여자친구에게 결혼 생각이 있는지 물어봤는데 시큰둥해서 당황스럽네. 친구들에게 만나자는 연락을 했는데 아무도 답장이 없어. 친구들과 있어도 별로 즐거운 기분이 들지 않고 외로워. 작년에 나보다 공부를 잘하는 친구를 따돌렸던 것 때문에 죄책감을 느껴. 어제 친구가 브랜드 가방을 메고 다니는 게 부러워서 그 가방을 뺏었어. 내가 실수해서 회사의 신제품이 노출돼 버려서 죄책감이 들어. 내가 지각한 탓에 팀 프로젝트를 망쳐 버렸어. 내가 사장님 앞에서 큰 실수를 하는 바람에 우리 부서 동료들에게 미안하게 됐어. 내가 돈을 받고 범인을 풀어 준 사실이 들통나면서 죄책감에 시달려. 올해 마지막 입사 면접까지 떨어져서 부모님께 죄송한 마음이 들어. 나보다 실적이 좋은 동기의 업무 일지를 훔쳐보다가 들켜서 죄책감이 들어. 학점을 위조한 서류로 취업이 돼서 마음이 편하지가 않아. 처음 하는 발표에서 내 실수로 발표 전체를 망쳐 버렸어. 내 잔소리 때문에 신입 사원이 눈물을 보여서 내가 잘못한 것 같아. 경기 악화 때문에 회사의 지시로 팀원을 해고하게 돼서 죄책감에 시달리고 있어. 조별 과제에서 내가 맡은 부분을 망친 것 같아서 친구들에게 미안해. 직장 동기가 휴게실에서 우리가 본인 얘기하는 걸 들은 것 같아서 미안하네. 부장님에게 큰 실수를 한 것 같아서 괴로워. 친구가 내가 소개해 줬던 애인에게 구타당했다고 들었어. 내 잘못 같아. 팀 프로젝트를 내가 망쳐 버려서 조원들에게 미안해. 친구가 연락을 끊을 정도로 큰 실수를 한 것 같아. 나 때문에 대리님이 크게 다치신 것 같아 죄송해. 어제 내가 한 실수 때문에 친구에게 정말 미안해. 나 때문에 같이 살고 있는 친구가 괴로워하는 것 같아. 친구에게 빌린 유에스비를 잃어버린 것 같아 당황스러워. 직장 동료에게 빌린 담요에 얼룩을 내 버렸어. 친구의 시계를 몰래 차 보다가 깨 버려서 친구에게 미안해. 내가 동생보다도 문제를 더 많이 틀렸어. 오늘 지각을 해서 선생님께 정말 부끄러워. 목표를 세우면 항상 작심삼일이야. 내 스스로가 부끄러워. 발표를 하다가 우리 반 앞에서 실수해 버려서 정말 부끄러워. 너무 쉬운 수학 문제를 틀려서 부끄러워. 남들에 비해 모의고사 성적이 나빠서 성적을 말하기가 부끄러워. 외로워서 연애를 하고 싶은데 엄마가 회사 일이 먼저라고 말씀하실 때 당황스러웠어. 친구의 소개로 소개받은 남자가 좋아. 그런데 나만 그 사람을 좋아하는 것 같아 당황스러울 때가 있어. 엄마가 언니만 챙기는 것 같아. 그래서 당황스럽고 상대적인 소외감을 느낄 때가 많아. 고등학교 단짝인 친구와 자취를 하게 되었어. 그런데 친구가 유학을 간 뒤로 적적해서 집에 들어가기 싫어. 우리 엄마는 암으로 돌아가셨어. 그 후로 아빠는 쭉 혼자 생활하셨는데 갑자기 재혼을 하시겠다고 하셔서 당황스러워. 부모님과 떨어져 직장 생활을 하고 있는데 퇴근 후 집에 오면 너무 쓸쓸해 들어가기 싫어져. 학점 때문에 교수님에게 억지로라도 잘 보여야 하는 게 괴로워. 술을 마시고 구토를 하는 친구 대신 뒤처리를 하는 게 곤욕이야. 자꾸만 연락처를 알려달라고 하는 손님 때문에 아르바이트를 그만두고 싶어. 가끔 학교의 남자 동기들은 생각 없이 성희롱적인 발언을 하는 것 같아. 직원들의 의견 없이 독단적으로 결정하는 사장님에게 화가 나. 직장 생활을 하다 보니 부당한 것도 상사의 눈치를 보며 참아야 해. 성격은 좋은 친구가 심한 욕설이 섞인 말을 할 때면 기분이 좋지 않아. 남자친구에게 명품 선물을 몇 번 받은 뒤로 언니가 점점 속물이 되어 가는 것 같아. 경제적으로 가난한 사람들을 아무렇지 않게 비하하는 말을 하는 친구를 보니 기분이 나빠. 새벽 일찍 일어나서 공부할 때 혼자 있는 느낌이 들어서 외로워. 가족들은 모두 거실에서 노는데 나 혼자 공부하고 있는 것 같아서 쓸쓸해. 선생님은 내 성적에 관심이 없으신 것 같아서 외로워. 부모님은 내가 공부를 잘하든 못하든 신경을 쓰지 않으시는 것 같아서 쓸쓸해. 대학 입시를 위해 아무것도 하지 말고 앉아서 공부만 하라고 시켜서 괴로워. 나는 공부에 도움을 줄 멘토와 선생님이 없어서 외로워. 언니가 밖에 나갈 때마다 화려하게 꾸미고 다녀서 당황했어. 엄마가 주변 사람들한테 내가 공부를 엄청 잘한다고 말씀하고 다녀서 당황스러워. 부모님은 내가 당연히 좋은 대학에 갈 거라고 자부하는 것 같아 당황스러워. 우리 오빠는 집 안에서는 게임만 하는데 밖에서는 뭐든 열심히 하는 척해서 당황했어. 가족들은 안 그러는데도 나는 남들에게 보이는 내 모습을 신경 쓰는 것 같아서 걱정이야. 명절 때마다 엄마가 친척들에게 내 자랑을 과장해서 해서 민망해. 엄마가 공부 잘하는 애들을 자꾸 소개해주려고 해서 당황스러워. 내 동생은 밖에서는 날 아는 체도 안 해서 섭섭해. 엄마는 지인들에게 전교 회장 출신인 언니 이야기만 하는 것 같아. 집에서는 말 안 듣는 동생이 학교에서는 모범생인 척해서 당황스러워. 엄마는 집에서랑 밖에서랑 행동이 달라서 당황스러워. 언니는 집에서는 아니면서 학교에서만 모범생인 척해서 당황스러워. 언니가 자기 남자친구를 엄마에게 소개해 주고 있던데. 나 혼란스러워. 동생이 갑자기 나한테 참 이상한 메시지를 보냈어. 왜 이런 걸 보냈을까 너무 궁금해. 갑자기 오늘 아침에 할머니가 돌아가셨어. 당황스러워. 학교 끝나고 가는 길인데 갑자기 엄마가 집에 빨리 오라고 전화해서 너무 걱정돼. 갑자기 경찰서에서 동생을 데리러 오라는 연락이 왔어. 너무 놀랍고 무서워. 요즘 우리 아빠와 엄마가 서로 대화를 안 해. 답답하고 혼란스러워. 우리 집이 곧 이사를 하게 됐다고 하네. 갑자기 두려워. 회사에 취직했는데 대학 동기가 과장이었어. 너무 당황스러워. 존경하신 분 비서로 일하게 되었는데 알고 보니 여자관계가 복잡하네. 실망스러워. 나와 내 동생이 배다른 형제래. 정말 혼란스러워. 내가 자취를 하고 있는데 내 친구가 같이 살면 안 되겠냐고 해서 너무 혼란스러워 엄마 아빠가 재혼해서 나를 낳았대. 갑자기 불안하고 혼란스러워. 힘들게 성사된 계약이 무산됐다는 연락을 받았어. 너무 혼란스러워. 우리 엄마가 선생님인데 학부모에게 신고를 당했대. 너무 당황스러워. 회사에서 상사가 나한테 남자친구가 있냐고 물어봐서 당황스러워. 사람들이 혹시라도 내 애인에 관해 물어보면 난 당당하게 대답할 자신이 없어. 친구들이 내 결혼식장에 오면 남편을 보여주는 게 용기가 나지 않아. 두려워. 오늘 고백을 받았는데 아무 말도 못 했어. 사실 난 동성애자인데 사실대로 말하기가 겁나. 우리 사회는 이성애자에보다 동성애자가 겪는 어려움이 너무 많아서 소외감을 많이 느껴. 그 사람이 나를 좋아할 줄은 꿈에도 몰랐는데 오늘 좋아한다는 소릴 듣고 당황했어. 좋아하는 사람에게 고백했다가 거절당해서 당황스러웠어. 좋아하는 사람을 봤는데 고백할 자신이 없어서 인사만 하고 지나쳤어. 내가 동성애자라는 걸 분명히 알게 되고 나니 당황스러워. 다른 동료들을 보면 열등감이 느껴져. 좋아하는 사람이 내게 말을 건네왔는데 너무 당황했어. 대답하지 못한 게 너무 후회돼. 상사가 누구를 잘라야 하냐고 해서 평소 일 못 하던 직원을 추천했어. 잘한 걸까? 좋아하는 친구에게 내가 괴롭힘당하는 모습을 들킨 것 같아서 너무 수치스러워. 내가 괴롭히던 친구의 부모님이 알고 보니 우리 집과 연이 있는 분들이라니 낯을 뵐 면목이 없어. 내가 괴롭힌 애가 먼저 나를 용서하겠다고 말을 했어. 그 말에 나도 모르게 눈물이 나더라. 학교폭력에 대해 큰 소리 한 번 내보지 못하고 당하고만 있었던 내가 부끄러워졌어. 비밀로 해왔던 사내 연애가 회사 사람들이 모두 알게 되어서 당황스러워. 오늘 시험 보는데 옆 친구가 내 답안지를 그대로 베끼는 걸 봤는데 어이가 없더라. 오늘 시험 시간에 다른 친구가 커닝하는 것을 보고 놀랐어. 그리고 당황스러워. 얼마 전에 친한 친구에게 오랜만에 연락했는데 연락을 무시했어. 취업하려 하는데 코로나 십구 때문에 회사들이 갑자기 사람을 뽑지 않아서 큰일이야. 와이프가 출산하면 자신이 아이들을 위해서 희생해야 한다고 자꾸 생각하는데 난 그렇지 않거든. 정말 혼란스럽네. 당황스럽네. 여자친구랑 대화하다가 갑자기 집에 가버렸어. 차라리 앞으로 친구들을 만나지 말까 봐. 집에서 동생 얼굴 보기가 너무 싫어. 얼굴만 봐도 화가 나네. 친구한테 돈을 빌렸는데 기한 내에 갚지 못할 것 같아서 큰일이야. 일주일 정도 더 필요하거든. 내 마음이 어떤 건지 나도 정확히 몰라서 혼란스러워. 상사가 협력회사에 갑질하는 모습을 보니까 너무 혐오스러워서 같이 일을 못 하겠어. 좋아하는 사람한테 오늘 고백하려고 하는데 방법을 모르겠어. 잘생긴 사람에게만 친절하게 대하는 동호회 사람이 있는데 너무 가증스러워. 같은 과 친구들은 모두 연애를 하는데 나는 여자친구가 없어서 속상해. 남자친구가 바람을 피워서 헤어졌어. 치가 떨리고 화가 나. 친구들은 다 취업해서 번듯한 직장에 다니는 데 나 혼자만 취업 준비 중이야. 친구들은 다 대기업에 다니는데 나만 중소기업에 다녀. 나는 지금 비정규직으로 일하고 있는데 결혼하려면 얼마나 돈을 저축해야 할까? 열심히 노력하고 있는데 최근 내가 취업하고자 하는 기업의 채용 소식이 없어서 당황스러워. 코로나로 계속 취업이 안 돼서 너무 고민이야. 난 아이를 갖기 싫은데 주변에 있는 사람들은 언제 아이가 생기느냐고 물어봐. 친구들은 모두 결혼하고 나만 혼자 남았어. 아이를 원하지 않는데 임신했어. 매번 이성한테 차이는데 뭐가 문제일까? 결혼을 하면 덜 외로울까? 학교 조별 모임에서 아는 사람이 하나도 없어서 걱정이야. 남자친구를 친구에게 소개해 줘야 하는데 고민이야. 청소 일을 하게 되었는데 주변에 말을 하지 못했어. 대학교에 입학했는데 동기들에게 말 한마디 못 하는 내가 너무 한심해. 독서 모임에서 만난 친구에게 고백하고 싶은데 못하겠어. 스터디 카페도 도서관도 전부 닫아서 갈 곳이 없네. 아까 마스크 안 쓰고 통화하는 사람을 보았어. 통장 입금 내용 또 비교당했네. 나만 돈 못 버나? 테이블에 먹던 음식 그냥 두고 갔네. 다들 결혼에 관한 이야기만 해서 나 들으라고 저러나 싶어. 같은 주제로 온라인에 글 올렸는데 내 글보다 친구 글에 더 좋아요가 많네. 나의 편이 되어주겠지라고 내심 생각했던 사람이 그러지 않으니까 솔직히 배신당한 것 같네. 내가 가장 응원했던 선배님 커플이 헤어졌어! 엉뚱한 사람에게 카카오톡 메시지 잘못 보냈어. 아니 왜 나만 쏙 빼놓고 다 불렀대? 내가 하고 싶은 일을 꾸준히 해왔는데 가정 형편을 위해 포기해야 할 때가 온 것 같아. 나는 지금 여자친구가 너무 좋은데 자꾸 남의 시선을 의식하게 돼. 요즘 만나는 사람도 없고 너무 외롭고 힘들다. 친구들은 다들 좋은 직장에 합격했는데 나만 정체된 것 같아서 슬퍼. 사람들은 왜 생각 없이 말하는 걸까? 친구들 만나고 들어와서 기분만 나빠졌어. 친구들이 나만 빼고 모임을 해서 당황스러워. 가까이 지내며 연락할 친구가 없어. 어렸을 때는 친구가 많았는데 나이가 드니 다 멀어졌어. 회사에 내 입사 동기는 맨날 일 잘한다고 칭찬만 듣고 난 매번 혼나기만 해서 열등감이 생길 지경이야. 초등학교 동창 모임에 나갔었어. 나랑 친했던 친구를 보고 반갑게 인사했는데 친구가 나를 못 알아봐서 당황스러웠어. 우리 팀에서 여자 직원이 나 하나라서 너무 외로워. 우리 회사는 거의 다 남자 직원들뿐이야. 자원봉사를 하러 동호회 사람들과 모이는데 낯가림 때문에 잘 모르는 사람은 얼굴만 쳐다봐도 부끄러워. 회의 중에 부장님과 의견 충돌이 있었는데 내가 너무 언성을 높인 것 같아 죄책감이 들어. 이 나이 먹도록 연애 한 번 못 해봤어. 스스로가 정말 한심해. 난 결혼이나 할 수 있을까? 나 자신이 한심해 내가 아직 연애를 못 하고 있는 건 내가 뚱뚱해서 못 하는 걸까? 요즘에 그런 생각이 자주 들어. 여자는 정말 기술을 배워야 좋은 직장에 들어갈 수 있을까? 어떻게 하지? 회사에서 따돌림당할 것 같아. 회사에서 새로운 부서에 들어갔는데 내일부터 그 부서로 출근을 해야 한대. 내일 무슨 옷을 입을까? 자신의 진로를 정해서 할 일을 해나가는 친구가 부러워. 나는 무엇을 해야 할지 모르겠어. 이번 입사시험도 떨어졌어. 부모님을 뵐 면목이 없어. 다른 사람 모두 이성 친구가 있는데 나만 없어. 나 정말 한심한 것 같아. 직장 동료가 주도하여 왕따를 당하고 있어. 나는 모성애가 별로 없는 것 같아. 직장 동료가 그렇게 상사에게 아첨해. 결혼하면서 남편 따라 타지로 이사 왔는데 너무 외로워. 주변 사람들은 다들 결혼하는데 여자친구도 없는 내가 너무 한심해. 회사에서 다들 나를 두고 수군거리는 것 같아. 오늘 친구를 만나고 왔는데 그 친구가 내가 매사에 툴툴대는 것 같다고 하더라. 나는 내가 무슨 옷을 입고 외출했을 때 사람들이 나를 어떻게 볼지 너무 신경이 쓰여. 친구들은 다들 취업 잘만 하는데 나는 또 낙방이야. 친구가 이민하였어. 출산 후 달라진 와이프의 언행이 당황스러워. 오늘 일 년 사귄 여자친구가 갑자기 결혼 얘기를 꺼냈어. 난 아직 준비가 안 됐는데 너무 당황스러워. 내 연봉이 너무 창피해. 어디 가서 말하고 다니겠어? 어렸을 때부터 친했던 단짝이 사실 나랑 동갑이 아니라는 걸 오늘 알았어. 너무 당황스럽다. 처가살이하고 있는데 아내의 가족들과 친하게 지내는 게 너무 힘들어. 홀로 고립된 기분이야. 내가 친구를 의심해서 사이가 틀어졌어. 너무 죄책감이 들어서 사과하고 싶어. 친하지도 않은 회사 직원이 갑자기 소개팅을 해주겠다고 해서 당황했어. 일 때문에 너무 바빠서 친구의 생일을 그만 깜박 잊어버렸어. 십 년 된 친구의 생일도 잊어버린 내가 너무 한심해. 친구한테 빌린 물건을 그만 망가뜨려 버렸는데 아직 그 사실을 친구한테 말하지 않아 죄책감이 들어. 요즘 왠지 친구들 사이에서 고립된 것 같은 느낌이 들어. 이제 막 대학교 졸업을 했는데 벌써 친척들이 결혼은 언제 할 생각이냐고 물어봐. 어제 처음으로 회사 면접을 보러 갔는데 돌발 질문이 나와서 너무 당황스러웠어. 첫 직장에 입사하고 처음으로 구두를 신고 출근했는데 모르고 넘어져 버려서 너무 부끄러워. 회사 상사님이 밥을 같이 먹을 때마다 코를 푸셔서 마주 보고 먹는데 비위가 상해. 친동생이 대뜸 남자친구를 집에 데려와서는 결혼을 하고 싶다고 하더라. 디자인 부서로 취업을 했는데 엑셀을 할 줄 안다는 이유로 사수가 회계 업무를 시키셔서 당황스러워. 아무래도 남자친구와의 결혼을 다시 생각해봐야 할 것 같아. 친구들이 나만 빼고 놀러 갔어. 아 큰일 났네. 어떻게 하는 게 좋을까? 회사에서 공개적으로 상사에게 혼나서 부끄러워. 회사에서 아무도 나에게 말을 걸어주지 않아. 남자친구 몰래 바람을 피웠어. 그래서 죄책감이 들어. 나 이번에 면접에서 또 떨어졌는데 친구는 합격했대. 나랑 사귀는 애가 갑자기 결혼하자고 하는 거야. 정작 난 생각도 없는데 주변에서 자꾸 언제 국수 먹여줄 거냐고 물어봐서 스트레스 받아. 우리 이번 주 금요일에 팀 회식한다고 통보하는데 어쩌지? 이 시국에 무슨 회식을 한다는 거야. 오늘 신입 사원이 들어왔는데 고등학교 때 좋아했던 오빠인 거 있지. 남자친구한테 아침에 연락이 없길래 전화해 봤더니 밤새 게임을 하느라 늦잠 자서 지각했대. 친구들이 요즘 놀아주지 않아서 외로워. 열등감 때문에 많이 힘들어. 처음 출근한 직장이 낯설어서 너무 혼란스러워. 결혼을 꼭 해야 할까? 남들의 시선이 부담스러워. 직장은 혐오 그 자체야. 오늘 완전 당황스러운 일이 있었어. 비밀 연애를 하고 있어. 동기 중에 취업 잘하려고 교수님한테 아부하는 동기가 정말 싫어. 오늘 친구를 만나고 왔는데 내 남자 친구 조건이 친구 남자 친구보다 떨어져서 열등감이 느껴졌어. 난 직장 다니는 사람들이 제일 부럽더라. 혼자 일하려니 외로워. 나 아무래도 직장을 옮겨야 하나 봐. 지금 있는 곳은 너무 외로워. 대학에 가니까 친구를 어떻게 사귀어야 할지 모르겠어. 혼자 다니니까 너무 외로워. 앞으로 동창 모임에 나가지 말까 봐. 나갔더니 소외된 느낌이 들더라고. 오늘 나 당황스러운 일이 있었어. 결혼식장을 더 일찍 잡았어야 했나 봐. 어떻게 식장이 이렇게 없을 수가 있지? 정말 당황스러워. 주변에 친구들은 다 결혼하고 혼자가 된 기분이야. 나보다 못한 친구가 좋은 집안사람과 결혼해. 부럽고 열등감 느껴져. 이 나이가 되도록 연애도 못 해보고 정말 한심하지 않아? 매일 아침 옷을 고르는 데만 거의 한 시간을 허비해. 남의 시선을 병적으로 신경 쓰는 것 같아서 고치고 싶어. 친구들도 모두 결혼하고 외로워. 애인과 헤어지니 주말에도 할 일이 없네. 생각지 못하게 대충 지원한 기업에서 합격 통보가 왔어. 취업난인데 그냥 다녀야 할까? 친구들은 다 취업했는데 나만 백수네. 스스로 초라하게 느껴지네. 남자친구가 어제 갑자기 청혼했어. 너무 갑작스러운데 어떻게 해야 할까? 어제 술을 많이 마셔서 기억이 잘 안 나는 데 친구가 진짜 기억 안 나냐고 하네. 이런 적이 없어 아주 당황스러워. 회사에서 갑자기 아무 연고도 없는 지방으로 발령을 냈어. 정말 당황스러워. 추석이라 다들 각자 가족들과 시간을 보내는데 나는 혼자 보내. 세상에 나 혼자인 것만 같아 외로워. 취업 면접장에서 창피한 일을 겪었어. 너무 부끄러워. 나에게 정말 맞는 진로라고 생각했는데 인제 보니 아닌 것 같아. 정말 당황스러워. 옆자리 동료가 너무 혐오스러워. 자기 혼자 잘났다고 모두를 바보 취급해. 취업이 되어도 마냥 좋지만은 않아. 아무도 내 말을 들어주질 않아. 혼자 말하는 기분이야. 여자친구에게 프러포즈를 해야 할 것 같은데 어떻게 해야 할지 모르겠어. 생각만 해도 부끄러워. 나는 아직 여자친구도 없고 한심한 느낌이 들어. 오늘 여자친구가 갑자기 헤어지자고 해서 당황스러워. 내가 어저께 직장 동료의 기분을 나쁘게 해서 죄책감이 들어. 내가 가고 싶은 벤처기업이 있는데 남들이 안 좋게 볼까 봐 지원하기가 꺼려져. 오늘 면접 자리에서 너무 부끄러웠어. 나만 스펙이 부족한 것 같아. 요새 코로나 일구 때문에 아무도 만나지 못해서 외로워. 소개팅 자리에 나갔는데 왜 친구는 인기가 많은 거야? 친구한테 열등감 생겨. 내가 뭔가 잘못한 것 같아. 내가 예전부터 가고 싶었던 과가 있었는데 부모님께서 갑자기 반대하셔. 처음에는 찬성하셨는데. 가족은 많은데 다들 너무 바쁘고 나에게\\xa0신경 써\\xa0줄 틈이 없어서 외롭다는 생각이 들어. 새 학기인데 학교에서 친구가 한 명도 없어서 걱정이야. 남들이 보기에 불쌍해 보이겠지? 남자친구랑 같이 다니기 정말 창피해!! 정말 친척들은 왜 그런지 모르겠어!! 오지랖도 적당히 부려야지! 새로운 부서로 발령이 났는데 창고 같은 곳에서 혼자 자료 정리를 하게 되었어. 처음 해보는 일이라 걱정이 돼. 남자친구와 술을 마셨는데 내가 술에 취해서 엄청나게 애교를 부렸대. 첫 아이를 출산했어. 참 복합적인 기분이 들어. 나보다 어린데 더 나은 직업을 가진 사람들을 요즘 자주 만나게 돼. 나이가 좀 많아도 새로운 일에 도전하려고 취직했는데 막상 일해 보니 나랑 안 맞아서 당황스러워. 삼십 대 후반에 공무원 시험을 준비하면 마흔이 넘어 합격할 텐데 젊은 공무원들이 불편해하지 않을까? 난 신랑과 아이를 가지지 않기로 합의했어. 그런데 자꾸 주변에서 호들갑이야. 내가 털털해서 남자 친구들이 많은 편인데 그게 썩 좋아 보이진 않나 봐. 사이가 좋지 않은 친구가 다른 친구들에게 내 뒷이야기를 하고 나를 외톨이로 만들려는 것 같아서 당혹스러워. 친구들 사이에서 내 뒷이야기를 하며 내 이미지를 깎아 내는 사람이 있어서 고민이야. 친하게 지내던 친구들이 있는데 언제부턴가 나만 동떨어진 것 같은 기분이 들어. 오래전부터 좋아하던 사람이 있는데 고백할 엄두가 안 나. 왜 이렇게 용기가 없는지 나 자신이 한심해. 언제부턴가 직장 동료들 사이에서 친구들 사이에서 혼자가 된 것 같아. 왜 이렇게 됐는지 모르겠고 당황스러워. 소개팅으로 만난 남자가 갑자기 잠적을 하였어. 황당해. 결혼을 앞둔 여자친구가 나보다 모든 점에서 뛰어나 열등감을 느껴. 오늘 처음 만난 사람과 대화했는데 당황스러웠어. 결혼을 앞둔 여자친구와 파혼했어. 나는 뭔가 자꾸 다른 사람의 눈치를 보게 되는 것 같아. 공무원 시험을 오랫동안 준비하다 보니 늘 혼자 있는 것 같아. 때로는 너무 외로워. 나는 다른 사람보다 못한 것 같아. 임신 구 개월인데 출산이 두려워. 직장 상사 너무 싫어. 나 길거리에서 넘어졌어. 다치지는 않았는데 창피해. 코로나 때문에 오랫동안 준비한 회사에서 상반기 신입 사원을 뽑지 않을 예정이라는 소식을 들었어. 어찌해야 할지 모르겠어. 처음 출근한 회사에서 하루 만에 해고당했어. 겨우 하루 같이 일했으면서 일하는 스타일이 마음에 안 든대. 취업 준비만 삼 년째야. 아주 지겹고 이제는 의지도 안 생겨. 평생 백수로 놀고먹는 거 아닐까? 나 자신이 너무 한심해. 이번 면접에도 떨어졌어. 자신감도 바닥이고 뭘 해야 하나 싶어. 처음으로 데이트 가는데 부끄러워. 열등감 때문에 괴로워 미쳐버리겠어. 친구는 참 좋은데 내가 문제겠지? 부모님과 친하지 않아서 집에 있으면 혼자 있는 것만 같은 느낌이 들어서 너무 외로워. 직장에서 친구가 없어서 너무 외로워. 직장 다니기 힘들어. 직장 동료들과 잘 어울리지 못하는 내가 한심해. 다음 주에 내가 우리 반 학생들 앞에서 중요한 발표를 하게 됐어. 나는 무대 공포증이 있는데 큰일이야. 내 실수로 직장에 큰 손해를 끼쳤어. 여자친구랑 술을 먹다가 너무 많이 먹어서 토했어. 직장에서 성희롱당했어. 직장 상사가 내가 준비했던 업무를 가로챘어. 그 사람이 그렇게 가로챈 게 한두 번이 아니라서 정말 싫어. 꼭 외국에서 사람을 데려와서라도 결혼을 해야 하는 걸까? 어떻게 하지. 면접관이 나에게 질문하는데 대답을 못 하면? 이 강의에선 조별 과제를 해야 하는데 너무 걱정이야. 나 며칠 뒤면 결혼식인데 좀 걱정이야. 오늘 또 사람들한테 욕을 얻어먹었어. 요즘 친구들도 하나둘씩 다 결혼하고 이러다가 나 혼자만 남겠어. 내 직장 동료들은 왜 그럴까? 지금 결혼을 준비 중인데 문제가 생겼어. 벌써 남자친구랑 헤어진 지 일 년이 넘었어. 나 임신한 것 같아. 어제 면접장에서 여자라서 힘든 일 할 수 있겠냐는 질문을 받아서 너무 기분 상했어. 요즘 연애를 못 하겠어. 비가 너무 심하게 내려서 직장에 출근할 수가 없어. 여자친구 몰래 소개팅하고 여자친구한테 이별 통보했어. 여자친구한테 너무 미안해. 내가 이번에 새로운 사람을 알게 되었는데 알고 보니 우리 오빠 친구였어. 여자친구와 방금 이별했어. 지금 너무나 혼란스러워서 어떻게 해야 할지 모르겠어. 나만 빼고 친구들 모두 결혼을 한다고 해. 정말 외롭다. 나만 취업을 못 했어. 정말 한심해. 오늘 최종면접에서 너무 황당한 질문을 들었어. 서른이 넘으니 주변 친구들이 하나둘씩 결혼을 했어. 난 아직 남자친구도 없는데. 어제 친구의 전화를 받지 못했어. 그런데 그 친구가 나에게 전화한 이후에 자살했어. 오늘 토익 시험을 봤는데 스스로가 한심해 죽겠어. 최근에 알게 된 남자한테 마음이 흔들려서 남자친구한테 죄책감이 들어. 다른 사람들이 소셜 네트워크 서비스에 올린 글이나 사진들을 보면 나만 재미없게 사는 것 같아. 아! 너무 외로워. 나만 혼자 남은 섬 같은 느낌이야. 친구가 자꾸 곤란한 부탁을 해. 이번에 회사가 프로젝트에서 떨어졌어. 내 책임이야. 내 친구가 자꾸 내 자존감을 깎아 먹는 것 같아. 나 남자친구랑 더는 도저히 못 만나겠어! 걔만 보면 이제 너무 혐오스러워! 남자친구랑 결혼하는데 걔한테 빚이 있는 걸 알았어. 너무 당황스러운데 어쩌면 좋지? 이번에 친구가 결혼하는데 새 아파트를 샀대. 난 여자친구에게 모자란 남자친구인 것 같아. 나 이 친구를 어떻게 대해야 할지 모르겠어. 가고 싶던 기업이 있었는데 코로나 때문에 기업의 공채가 취소돼서 정말 당황스러워. 친구는 이번에 주식에서 대박이 났다는데. 부러우면서도 화가 나네. 아내에게 자꾸 안 좋은 소리를 하는 버릇이 든 것 같아. 우연히 아내가 우는 모습을 봤는데 너무 죄책감이 들어. 오랫동안 친구였던 여자 사람 친구가 고백했어. 너무 당황스러워. 요즘 친구들이 좀 멀게 느껴져. 남자친구랑 헤어졌어. 그의 빈자리가 너무 커. 새로운 직장이 낯설어서 힘들어. 나 혼자인 것만 같아. 사람들이 왜 자꾸 나에게 둘째 계획을 묻는 걸까? 조별 과제를 하면서 친구와 싸웠어. 요새 공부가 안돼서 내가 너무 한심하게 느껴져. 더 좋은 학교로 가고 싶어. 어떻게 하면 좋을지 모르겠어. 요즘 대인관계 때문에 너무 힘들어. 결혼은 미친 짓이야! 우리 회사에 기분 나쁜 동료가 있어서 불편해. 오늘 너무 당황스러웠어. 정말 왜 저러나 몰라. 어제는 술을 마시고 고주망태가 돼서는 현관문 앞에서 자는 거 있지? 한심해 죽겠어. 어제 우연히 내 제일 친한 친구가 내 예전 남자친구와 함께 있는 걸 봤어. 고민만 있으면 나한테 전화를 하는 친구가 있어. 며칠 전에 소개팅했는데 정말 잘생긴 남자였어. 먼저 문자 보냈는데 그 남자한테 답장이 없었어. 오늘 회사 여자 화장실에 초소형 카메라가 발견됐어. 우리 아기 혈액형이 오 형이래. 이런 일이 있을 수가 있을까? 주변 친구들은 다 연애하고 결혼하고 각자 짝이 있는데 나만 혼자인 것 같아 외로워. 주변에 집착이 너무 심한 사람이 있는데 정말 힘들어. 이제는 혐오스러운 감정까지 든다니까? 주말에 출근했는데 옆 부서 직원과 마주쳐서 당황했어. 아침에 엄마한테 일방적으로 화를 내서 나 자신에게 부끄러워. 친구랑 대화만 하면 열등감을 느껴서 속상해. 집에서 놀기만 하는 언니를 보는데 너무 한심해. 회사에 청첩장을 돌렸는데 상황이 애매해져서 당황스러워. 아침에 지각해서 부장님께 혼나서 우울해. 여러 사람 앞에서 얘기하기가 너무 부끄럽고 당황스러워. 나는 언제쯤 연애를 하고 결혼을 할 수 있을까? 너무 외로워. 직장 상사와 성격이 너무 안 맞는 것 같아. 요샌 얼굴도 마주치기 싫어. 부장님이 회식에서 여직원을 만지는 것을 봤어. 너무 혐오스러워. 친구들은 다 결혼하고 가족이 있는데 나만 아직도 혼자 살아. 쓸쓸해. 회사 상사가 자꾸 소개팅을 주선하겠다고 해서 어찌할 바를 모르겠어. 나만 아직 취업을 못 했어. 친구들과 이야기할 때 주제가 안 맞아 소외감을 느껴. 친한 후배가 성적도 관리하지 않고 이래저래 놀고만 있어. 볼 때마다 어이가 없어. 갑자기 직장에서 부서 이동을 발령받았어. 벌써 일 년째 취업을 못 하고 집에만 있으니까 부모님께 미안하다. 어제 친구랑 대화하다가 친구가 갑자기 화를 내고 가버렸어. 엄마랑 통화하면서 엄마한테 화내고 끊었어. 기분이 안 좋아. 주위 지인 중에 불륜을 저지르는 사람이 있다는 걸 알게 되었어. 기분이 너무 나빠. 남자친구가 아무런 목표도 없이 게임만 많이 해서 한심해 죽겠어. 뭐든 꾸준히 하지 못하고 일확천금만 노리는 친구가 한심해. 임신 중인데 아무도 도와주지를 않아. 혼자가 된 기분이야. 내 친구가 연애하는 데 정말 보기가 싫어. 오늘 정말 당황스러운 일이 있었어. 오늘 너무나 당황스러운 일이 있었어. 예전에는 이러지 않았는데 자꾸 친구가 나보다 잘나가는 것에 열등감이 생기는 것 같아. 나 이번 면접에서 떨려서 제대로 말을 하지 못했어. 얼마 전에 취업했어. 근데 나는 음악을 전공했는데 전혀 무관한 직업을 갖게 됐어. 친하다고 믿었던 친구에게 배신당했어. 선배 때문에 많이 당황스러워. 오늘 정말 부끄러운 일이 있었어. 요즘 자꾸 죄책감이 들어. 내 사람들이 나한테 해준 것에 비해 내가 준 게 별로 없는 것 같아. 교생 실습을 나갔는데 학생들이 첫사랑 얘기나 마지막 키스 같은 질문을 계속하는 거야. 삼십 년간 여자친구 한 번도 못 사귀어봤네. 한심하다. 오늘 본 면접은 탈락이야. 같이 공부했던 친구가 원하는 회사에 합격했다고 연락이 왔어. 나 취직 때문에 너무 힘들다. 다른 친구들은 다 취직됐는데 나만 안 되었어. 나 오늘도 면접에서 떨어졌는데 창피해서 엄마한테 어떻게 말하지? 벌써 최종에서 떨어진 게 열 번째야. 난 혼자가 좋아 비혼을 선택했는데 나를 이상하게 바라보는 사람들 때문에 요즘 힘들어. 나 또 면접에서 떨어졌어. 부모님 뵙기가 너무 부끄러워. 나는 다른 사람들보다 형편없나 봐. 생각지도 않은 아이가 생겨서 너무 당황스러워. 갑자기 다른 업무로 배치가 됐어. 원하던 직장이었는데 내가 원하던 직무가 아니라서 좀 당황스러워. 이번에 인턴에 뽑혔어. 그런데 좀 열등감 느껴. 축하받고 싶어! 아무 데도 내가 갈 곳이 없는 것 같아. 내가 필요한 곳이 없는 것 같아서 너무 외로워. 어제 동료와 심하게 다툰 걸 이사님께 들켰어. 요즘 사람들에게 너무 공격적으로 대하는 것 같아. 직장 상사가 갑자기 전화로 나를 따로 불렀어. 무슨 이유지? 어제 직장 후배 앞에서 큰 실수를 했어. 나를 어떻게 볼까? 처음 일을 배우는데 상사가 내가 느리다면서 계속 화내서 너무 당황스러웠어. 나 요새 걱정이 있어. 남자는 대체 왜 그러니? 너무 혐오스러워. 내 적성에 맞는 일이 무엇인지 아직도 모르겠어. 오랜만에 친구랑 쇼핑하러 나왔는데 전 남자친구를 만났어. 이번에 지원한 곳에서도 합격 통보를 받지 못했어. 퇴근하고 집에 들어가면 적적한 기분이 들 때가 많아. 내가 업무 지시를 잘못하는 바람에 팀 전체 업무가 날아가 버렸어. 얼마 전에 술자리 모임에 나를 불러 놓고 없는 사람 취급한 거 있지? 너무 당황스러웠어. 나는 친구들보다 연봉도 적고. 결혼할 수 있을까? 나는 솔직히 여자친구를 사귀어 본 적이 없는 말 그대로 모태 솔로야. 정말 내가 한심하다. 사귀던 사람에게 프러포즈를 받았는데 어떻게 해야 할지 모르겠어. 요즘 힘들다. 명품가방 살까? 결혼하고 싶은데 현실적으로 힘들 거 같아. 아이들을 성적 대상으로 생각하는 사람들이 있다니 너무 혐오스러워. 이 결혼을 하는 게 맞는지 모르겠어. 결혼 준비 기간에 낯선 사람 같았어. 다음 달이 공채 시험인데 아직 마무리를 못 했어. 내 계산으론 이 진도면 마무리가 된다고 생각했는데. 결혼을 앞둔 여자친구와 파혼하였어. 나는 뭔가 다른 사람의 눈치를 잘 보는 것 같아. 또 취업에 실패했어. 이번에는 부모님도 많이 기대했는데 그래서 죄책감이 너무 심해. 공무원 시험을 오랫동안 준비하다 보니 매일 혼자 있는 것 같아. 때로는 너무 외로워. 우리 학과는 내가 생각했던 공부를 하는 곳이 아닌 것 같아. 정말 당황스러워. 집에만 오면 나 혼자인 것 같아 외로워. 이번에 면접을 두 군데 붙었는데 어느 회사로 가야 할까? 월급을 많은 곳이랑 퇴근 시간이 보장된 곳 중에? 고등학교 때 나랑 단짝 친구 두 명이 있는데 요즘엔 거의 못 만나. 결혼 준비를 시작하면서 괜히 친구들이 우습게 볼까 봐 예산을 무리해서 잡았어. 연애하는데도 외로워. 남자친구가 이야기를 잘 안 들어주는 것 같고 혼자인 기분이 들어. 오늘 직장에서 너무 나쁜 일을 당했어. 친구들이 다들 연애를 해서 그런가 너무 외로워. 취업 준비 안 하고 놀기만 하는 내가 혐오스러워. 취직을 못 해서 친척들 시선이 부끄러워. 나 요즘 고민이 있어서 친구에게 말했어. 그랬더니 친구가 울길래 나 너무 당황했었어. 얼마 전에 출산했는데 몸이 예전만큼 좋지가 않아. 이런 상황에서 남편이 사소한 것도 잔소리해서 너무 당황스러워. 요즘 친했다고 믿었던 친구가 약속을 자꾸 취소해서 화가 나. 나 대학교를 혼자 다니는데 아는 친구들도 없고 어떻게 해야 할지 모르겠어. 오늘 내 여자친구가 담배 피우는 걸 봤어. 내 여자친구는 담배 안 피울 줄 알았는데 놀랐어. 오늘 여자친구 때문에 당황스러웠어. 오늘 친구와 이야기했는데 열등감에 빠졌어. 후배한테 고백받았는데 갑자기 벌어진 상황이라 당황스럽더라고. 아직 답은 주지 않았어. 회사에서 실수했어. 상사한테 혼났는데 실수한 게 문제가 좀 심각해서 우리 부서에 누가 될까 봐 걱정이야. 사내 식당에서 밥을 먹고 나오다가 발이 꼬여서 넘어지면서 식판을 엎었어. 다른 것보다 시선이 쏠려서 부끄럽고 창피해. 어제 취업한 지 이제 일주일째인데 해고 통보를 받았어. 얼떨떨하고 현실인지 순간 멍해졌어 어제 회식하다가 옆에 앉았던 팀장 맥주를 내 잔인 줄 알고 마셨어. 팀장도 나도 당황했어. 남자친구랑 결혼 생각 중이었는데 모아둔 게 얼마 없다는 거야. 부모님 도움받겠다는 소리에 한심하더라. 이직한 지 아직 일주일째라 친한 사람이 없어서 외로워. 결혼 준비 비용으로 부모님이 모아두셨던 목돈을 주셨는데 집안 사정 뻔히 알면서도 받았던 내가 너무 싫고 슬퍼. 선배가 자꾸 불러내서 돈을 달라고 하는데 어떻게 하지? 오늘이 여자친구와의 백일 기념일이었는데 내가 깜빡해버려서 여자친구를 속상하게 만들었어. 오늘은 내가 정말 한심하게 느껴지는 날이야. 난 세상에서 대인관계가 제일 힘들어. 날 항상 괴롭히는 사람들이 생겨서 미치겠어. 저는 사랑이 식은 것 같아요. 이별을 고하고 싶은데 이 친구가 상처받을까 두려워요. 지금 결혼 준비 중인데 문제가 생겼어. 오늘 임용고시 티오가 발표됐는데 너무 절망적이야. 지금은 몸조리를 잘해야 하는 시기인데 집중이 안 되네. 고질병이야 정말. 갑자기 외국으로 발령 났어. 나 그 나라 언어도 할 줄 모르는데. 지금 다니고 있는 회사가 아예 지방으로 이전해. 최근에 지금 사는 지역에 집 계약을 했는데 어쩌지? 사람들 앞에 서면 늘 긴장되고 부끄러워서 걱정이야. 내가 얼마 전에 팀으로 공모전에 당선되었는데 그걸 주최했던 회사에서 팀원 중에 나만 채용하겠다고 연락이 왔어. 내가 내 친구 중에 제일 안 풀린 편인 거 같아. 나는 여자친구를 많이 아끼고 사랑하는데 여자친구는 그런 것 같지 않아서 같이 있어도 너무 힘들고 외로워. 곧 결혼인데 아내 될 사람이 아주 바빠 다 혼자서 알아봐야 하는 상황이라 매우 버거워. 내가 아내의 분만 과정을 지켜봤는데 그 과정이 너무 징그러워 탯줄도 못 자르고 머뭇거렸어. 오늘도 공부하다가 잤어. 당황스러워. 내가 왜 그 무리에서 왕따가 된 거지? 나는 사회생활을 할수록 외로움이 더 느껴져. 아 부끄러워. 친구들은 은행 공기업 다 잘만 취업하는데 왜 나는 되는 일이 없지? 난 그 사람과의 관계를 끝냈어. 정말 당황스러워. 정말 싫어. 내가 무엇을 얼마나 잘못했다고 그러는 건지 내가 무엇이 부족해서 그 사람보다 더 인정을 못 받는 거지? 나는 지금 소속이 없어서 그런지 상당히 외로워. 나는 그 친구보다는 이기고 싶어. 요즘 주변 친구들 다 취업하고 나만 취업을 못 해서 나만 뒤떨어진 느낌이야. 나는 요즘 남자친구가 생겼는데 친구들한테 말하기가 부끄러워. 친한 친구가 결혼한다고 그래서 너무 당황스러워. 우리 형이랑 아빠랑 매일 거실에서 싸우는 데 정말 한심해. 의예과 진학이 내 성적으론 안 된다고 하네. 나 한심하지? 나 친구랑 대화하다가 엄청나게 놀랐어. 나 요즘 너무 외로워 죽겠어. 이번에 취업했는데 팀장님이 처음부터 나를 맘에 안 들어 하시는 것 같아 당황스러워. 나는 애를 가지고 싶은데 와이프가 아기를 갖기 싫다고 해서 어쩔지 모르겠어. 여자친구와 헤어졌어. 너무 갑작스러워서 당황스러워. 예비 신부와 크게 다퉜는데 아직도 화가 많이 나 있어서 걱정이야. 친한 직장동료가 없어서 외로워. 남자친구가 결혼하자고 해서 너무 당혹스러워. 학교에서 친구들이 한 친구를 괴롭히길래 나도 같이했는데 자꾸 죄책감이 들어. 결혼하는 친구가 나보고 부케를 받아달라는데 당황스러워. 오늘 당황스러운 일이 있었어. 오늘 친하게 지내던 친구를 배신하고 돈을 빼앗아서 죄책감이 들어. 언니가 어제 집에 들어오지 않았어. 우리 반에서 친구가 극단적인 선택을 했어. 보고만 있던 나 때문인 것 같아서 죄책감이 들어. 어제 어머님께 너무 상처 준 거 같아. 일 때문에 바빠서 십 년 된 친구의 생일을 까먹었어. 내가 너무 한심해. 친구한테 빌린 물건을 실수로 망가뜨렸는데 아직 말하지 않아서 죄책감이 들어. 요즘 따라 친구들 사이에서 고립된 것 같은 느낌이 들어. 나 다음 달에 결혼하게 됐어. 원래 결혼할 생각이 없었는데 요즘 따라 결혼을 해야 하나? 하는 생각이 들어. 다음 주에 결혼식을 올려서 다시 한번 골라놨던 웨딩드레스를 입어 보러 갔어. 시어머니가 나 보고 여자는 집에서 애나 보라고 일 그만두래. 정말 화가 나. 회사 사장이 너무 싫은데 그 앞에서는 웃으면서 있어야 한다는 게 정말 싫다. 친구가 옷을 너무 눈에 띄게 입고 다녀서 사람들이 다 쳐다보는 것 같아. 이번에 친구가 결혼해서 이제 결혼 안 한 사람은 나 하나야. 나 진짜 담배 냄새 때문에 사무실에 앉아 일하기가 너무 힘들어. 어제 지인이랑 통화하다 실수한 거 같아서 영 마음이 불편해. 오늘 회사 동료랑 싸워서 기분이 안 좋아. 나 빼고 친구들은 다 직장을 구했어. 계속 취업 못 하면 어쩌지? 새로운 사람과 만나서 이야기를 시작하는 것이 어려울 때가 많아. 요즘 들어 결혼을 꼭 해야 하는지. 남들의 시선이 의식돼. 학교에서 같은 반 아이 한 명을 많이 때리고 따돌리기도 했어. 어제까지만 해도 나랑 잘 지내던 친구들인데 갑자기 날 무시해. 내 언니가 너무 부끄러워. 갑작스러운 임신으로 결혼하게 됐어. 이게 맞는 결정인지 혼란스럽네. 같이 취업 준비를 하는 친구가 있는데 나만 합격을 하고 친구는 떨어졌어요. 회사에서 업무도 제대로 안 하고 개인적인 일을 하느라 미안하기도 하고 좀 부끄럽네. 친한 친구이긴 한데 가끔 화를 내서 당황스러워. 주변 친구들은 다 결혼하는데 나는 연애도 못 하고 너무 한심한 것 같아. 나 요즘 회사 다니는 게 너무 싫어. 나 요즘 연애하고 있다는 게 너무 부끄러워. 오늘 회사에서 엄청 당황스러운 일이 있었어. 오늘 친구들끼리 싸웠는데 왜 싸웠는지 혼란스러워. 어제 너무 부끄러운 일이 있었어. 난 내 친구가 너무 한심한 거 같아. 나만 취업을 못 해서 너무 외로워. 내가 친구를 다치게 한 거 같아. 오늘 회사에서 너무 황당했어. 친구들이 나 때문에 싸운 거 같아. 제일 친한 친구와 사이가 틀어졌어. 가장 붙을 거라 확신했던 면접에서 떨어졌어. 바로 옆자리 후배가 나보다 먼저 승진을 했어. 확신했던 진로가 정말 내 길이 맞는지. 갑자기 혼란스러워. 오늘 당황한 일이 있었어. 오늘 부인이 아이를 낳았는데 당황했어. 가을이 되니 진짜 더 외로운 감정이 생겨. 다른 친구들처럼 빨리 결혼하고 아기도 낳고 싶은데 쉽지 않네. 오늘 기분이 너무 별로야. 쥐구멍에라도 숨고 싶어. 오늘 엄마랑 전화하다 말다툼을 했어. 기분이 너무 안 좋아. 요즘 들어 밖에 나가기가 싫어져. 사람들이 쳐다보는 것 같고 어떻게 보일까 걱정도 되네. 회사생활이 너무 힘들고 재미도 없어. 요즘 내가 바쁘다는 핑계로 힘들어하는 친구에게 연락을 못 했어. 친구가 이번에 급한 일 있다고 돈 빌려 달라고 했는데 결국 거절했어. 친구 사이에 금전 거래는 좋지 않다고 생각했거든. 오랫동안 짝사랑하던 오빠에게 내가 먼저 고백했어. 부끄러워서 심장이 터질 것만 같았어. 우리 팀 직장 동료가 최근에 유산했다고 연락 왔어. 내가 너무 일을 많이 시켜서 유산한 것 같아 죄책감 들어. 어제 친구들 만나서 대화하는 데 낄 틈이 없어서 고립된 느낌이 들었어. 나는 평생 연애를 못 하는 걸까? 기분이 안 좋아. 작은 중소기업에서 일을 하고 있는데 직원이 나 혼자야. 식사도 혼자 해야 하고 대화 상대도 없어. 남자친구가 친구들이랑 여행 가서 편히 놀다 오라고 연락하지 말라고 했는데 몇 시간째 연락이 안 돼. 오 년 만에 친구가 갑자기 결혼한다고 연락이 왔어. 심적으로 너무 힘들다. 이게 정말 옳은 일일까? 이번 달 중학교 동창 모임 있는데 나가야 할지 고민이야. 나 오늘 회사에서 대형 사고 쳤어. 내일 출근하기가 너무 무섭다. 초등학교 때부터 알고 지내던 여자친구한테 고백했다가 거절당했어. 남들은 다 취업하는데 나는 정말 뭔가 부족한 사람인가 봐. 친한 친구가 결혼하는데 축의금을 얼마나 해야 할지 고민이야. 다른 친구한테 물어보니까 백만 원 한다고 하더라고. 어제 친구 지인이랑 술자리같이 했는데 정말 별로였어. 임용고시 또 떨어졌어. 이번이 다섯 번째인데 부모님 볼 면목이 없다. 아기는 처음 가져봐서 혼란스러워. 가끔 회사에서 죄책감을 느끼는 것 같아. 친한 친구가 돈을 빌려달라고 해서 당황스럽네. 자기 말만 하고 복종하길 바라는 상사가 혐오스러워. 나만 연애하지 않는 것 같아서 고립된 기분이야. 자꾸만 남의 시선을 의식하게 돼. 친구들하고 얘기하다가 너무 웃겨서 나도 모르게 바지에 실례했어. 모두 다 낄낄거리고 웃는데 얼굴을 못 들겠어. 우리 반 친구들 앞에서 발표하는 일이 왜 이렇게 부끄러운지 모르겠어. 조별 과제를 해야 하는데 같이 할 친구가 없어. 사실 내가 작년에 괴롭혔던 친구가 한 명 있어. 지금 생각해보면 아주 미련한 행동이면서 죄책감이 들어. 내가 너무 싫어. 나 조금 당황스러운 일이 있어. 나이 들어서 그런지 아니면 내가 내성적인 성격이라서 그런지 요즘 들어서 사람들과의 관계가 너무 힘들어. 남들은 다 연애하는데 나만 연애를 못 하는 것 같아. 친구에게 얼마 전에 거짓말했는데 기분이 좋지 않아. 다른 사람들은 다 취직했는데 나만 백수야. 회사 생활 하면서 도무지 상사에게 배울 것이 없어. 이차면접 통과했던 곳에서 코로나 일구 때문에 채용 자체를 취소한대. 너무 당황스럽네. 지난달에 미혼모임 친구 중 마지막 녀석까지 결혼했어. 이제 나 혼자 남았네. 요즘 너무 외롭다. 코로나로 친구들 만나서 술 한 잔도 못 하고. 결혼 준비하던 친구가 얼마 전에 파혼했대. 이 옷 어때? 나한테 잘 어울려? 동호회 회원 한 명이 이번에 탈퇴하겠데. 내가 지각하지 말라고 했었는데 그것 때문에 그런 거 같아 신경이 쓰여. 업무 중 실수를 해서 혼났어. 오늘 길 가는데 모르는 사람이 인사를 하는 거야. 사람을 겉모습으로 판단하는 버릇을 고치고 싶어. 나 결혼을 안 하니깐 남이 안 좋게 볼까 봐 좀 그래. 나 왜 이리 대인관계를 잘 맺지 못할까? 죄책감 들어. 요즘 대인관계에 있어서 열등감이 느껴져. 직장 상사가 성희롱 발언을 했어. 정말 소름 끼치는 사람이야. 직장 생활 육 개월 차인데 너무 힘들어. 사회생활이 이렇게 외로운 건가라는 생각도 들어. 결혼한 지 두 달이 채 안 되었는데 임신을 해버렸어. 나는 자녀 없이 일을 더 하고 싶었단 말이야. 왜 나는 지원하는 회사마다 다 떨어질까? 나는 참 쓸모없는 것 같아. 결혼을 왜 하지 않는 거야? 나는 비혼주의자들을 보면 이 사회에 도움이 안 되는 사람들처럼 느껴져. 꼴도 보기 싫어져. 나는 이 일이 너무 싫지만 돈을 벌어야 해서 어쩔 수 없이 하고 있어. 회사에 새로 들어온 인턴이 있는데 너무 어리바리해서 뭘 하나 제대로 시킬 수가 없어. 결혼 할 나이가 되었는데 나는 안 하고 싶어. 내 베스트프랜드가 나를 좋아한다고 고백했어. 친구가 어제 지갑을 잃어버렸대. 벌써 세 번째야. 오늘 고백받았어. 취업이 안 돼서 계속 무직 상태로 지내고 있어. 직장 동료가 오늘도 지각했어. 너무 한심해. 이번에 결혼하게 됐는데 시댁에서 원하는 혼수가 우리의 수준과 맞지 않아서 버거워 나는 취업 준비 중인데 친구들은 이미 다 취직한 상태라서 나 혼자 너무 뒤처진 것 같아. 이번 회의 때 괜히 의견 냈다가 팀원들에게 미움받게 됐어. 어제 친구의 남자친구가 꽃다발을 주며 청혼했대. 내 남친은 아직 청혼에 대해 아무 말도 없는데 정말 부럽다. 이번에 지원한 회사에서 합격 통보를 받아서 기분이 좋았는데 돌연 합격을 취소시켰어. 나 자신이 너무 보잘것없게 느껴져. 나 어떡하면 좋지? 지금 너무 당황스러워. 내 친구들 모두 취직했는데 나만 백수여서 슬퍼. 내 실수로 많은 사람이 피해를 보았어. 모두 내 탓이야. 어제 남자친구의 행동을 보고 창피했어. 회사에서 나의 제안서가 자꾸 떨어져서 너무 비참한 기분이 들어. 이번이 열 번째 탈락이야. 출근 복장 때문에 자꾸 남의 시선을 의식하게 되네. 임신하려면 건강한 몸을 만들어야 하거든. 근데 운동도 안 하고 먹기만 하는 나 자신이 너무 한심해. 친한 친구가 나보다 공부를 잘해서 괜히 내가 위축되는 느낌이야. 내신 등급을 한 등급씩 올리려고 노력해봤지만 못했어. 내가 참 한심한 것 같아. 회사에서 일을 잘 못 하겠어. 직장 안에서 왕따를 당하는 것 같아. 당황스럽고 너무 혼자 고립된 것만 같아. 나 면접 보다가 당황했잖아. 추석인데 취업이 잘 되지 않아서 가족 눈치를 볼 것 같아 걱정이야. 내가 가고 싶은 직장이 그리 평판이 좋지 않나 봐. 내가 남을 위해 사는 건 아닌지 요즘 고민하기 시작했어. 남의 시선을 너무 의식하는 것 같아서. 취업할 때 면접관들이 외모를 중요시하는 것 같아서 신경 쓰여. 면접을 봤는데 내 정장이 나한테 잘 맞았는지 모르겠어. 면접관이 옷을 지적했거든. 나 취업이 안 돼서 엄마한테 눈치 보여. 엄마는 우선 아무 회사라도 취업하라는데. 회사 동기보다 나는 너무 부족해. 남편을 어떻게 해야 할까? 정말 너무 화가 나네. 돈 모아서 결혼하는 걸 보면 좀 다른 세계 일인 것만 같아. 난 혼자 살기도 버겁거든. 임산부 배지를 달고 임산부석에 앉아있는데 할아버지가 와서 임신이 벼슬이냐고 한마디 하시더라고. 한심한 짓을 해서 결국 파혼당했어. 동네 아줌마가 남편을 보고 친정 오빠가 놀러 왔냐며 물어보더라. 내 친구는 활발하게 돌아다니는 걸 좋아해. 내 주변에 친구들은 다들 취업을 했는데 나만 취업 준비 중이라 걱정돼. 난 많은 사람들 앞에서 나의 의견을 이야기하는 게 정말 부끄럽고 쑥스러워. 엄마 지인분이 나보고 결혼했냐고 물어보셔서 순간 당황스럽더라. 엄마와 대화 중에 엄마는 유산을 한 번 하셨대. 출산 관련 영상 봤는데 충격적이야. 직장에 내 또래가 없어. 제일 친한 친구가 이번에 좋은 회사에 취직했다고 하더라 난 아직 취업 못 했는데. 얼마 전에 오빠가 오랜 연애 끝에 나한테 결혼하자고 청혼했어! 요즘 고립된 느낌이야. 아직도 친구가 없는 건 많이 외로운 것 같아. 오늘 친구들과 놀면서 아주 부끄러운 일이 있었어. 오늘도 직장 상사에게 혼나버렸어. 나는 왜 이렇게 한심한지 모르겠어. 오늘 학교에서 진로 특강을 들었어. 요즘 진로 문제로 걱정이 많아. 취업할 수 있을까 모르겠어. 출산을 앞두고 있는데 양수가 예정보다 일찍 터져서 너무 당황했어. 남자친구가 너무 잘나서 자꾸 열등감을 느껴. 어떻게 해야 할까? 연애 후 결혼과 출산으로 정신이 없어. 친구랑 싸웠더니 죄책감이 들어. 직장 상사가 내 뒷이야기를 하는 걸 봤어. 정말 끔찍해. 오늘 또 친구한테 별것도 아닌 일로 화내버렸어. 나 정말 한심해. 어제 회식 자리에서 술 먹고 추태를 부렸지 뭐야. 뉴스에서 고위 공직자들의 자녀들이 부정한\\xa0방법으로 취업한\\xa0것을 봤는데 너무 화가 나. 아이가 조산으로 태어났어. 아이한테 정말 미안해. 내 일을 다 했는데 다들 야근하길래 나도 회사에 더\\xa0있다 왔어. 엄마 친구의 아들이 서울대에 간대. 오늘 사람 많은 곳에서 넘어졌어. 창피해 죽는 줄 알았어. 평소에 이성에 관심이 없다더니 어떤 여자랑 같이 다니는 모습을 봤어. 지원하는 일마다 탈락을 하고 있어서 마음이 안 좋아. 취업이 안 되니 부모님에게 손만 벌리는 것 같아서 죄책감이 들어. 오늘 예물을 보고 왔는데 너무 비싸서 당황스러웠어. 우리 결혼식에 남들 시선을 의식하다니 나도 참 답답한 것 같아. 주변 사람들은 다 연애를 하는데 나만 못하니까 너무 외로워. 나 요즘 남자친구랑 헤어질까 고민 중이야. 남자친구가 있는데 몰래 소개팅을 했어. 이 나이 먹도록 연애도 못 해보고 나도 참 한심하지. 오늘 동료들 사이에서 당황스러운 얘기를 들었어. 대학교를 자퇴하고 싶어. 오늘 또 반장이 일등을 할 거 같아. 분명 내가 더 열심히 한 거 같은데 왜 그럴까? 내 동생은 의사 결정을 너무 못해서 답답하고 한심해 보여. 오늘 정말 어이없는 일이 있었어. 동기들이 모두 다른 회사로 이직했어. 연애 안 한 지 오래되니까 너무 외롭다. 주변에 명품 가방을 쓰는 사람이 많던데. 나도 하나 사야 할까? 요즘 친구들 사이에서 너무 외로워. 오늘 학교에 갔는데 어떤 남자애가 이상한 그림을 그렸어. 이번에 취업을 했는데 회사 사람들의 텃세가 너무 심해서 힘들어. 오늘 면접을 보러 갔는데 이상한 질문을 하더라고. 결혼을 준비하는 친구가 있는데 너무 한심해. 마음 편히 연락할 사람이 없다는 게 내 스스로 부끄러워. 사람들은 항상 좋은 직업에 환호해. 나는 내가 원하는 것을 하고 싶은데 말이야. 취업도 안 되고 알바만 전전하니 잘난 녀석들만 보면 나 자신이 초라해져. 몇 년째 취업을 못 해서 걱정이야. 날 기다려주시는 부모님께 죄송해. 우리 오빠가 먹고 놀고 하느라 취업을 전혀 안 하고 있어서 너무 한심해. 남들은 다 쉽게 연애하는데 왜 나는 그러지 못할까? 아이를 가지지 못하니까 남편에게 죄책감이 들어. 내 남자친구는 항상 아무것도 안 하고 게임만 해. 오늘 면접을 봤는데 잘 안 된 거 같아. 친구들과 비교했을 때 내가 멈춰있는 거 같아. 요즘 힘들어서 미칠 것만 같아. 조카를 봐주다가 조카가 다쳐서 상처가 났어. 모두 내 탓이야. 룸메이트가 자꾸 주방에 썩은 음식을 방치해. 역겨워. 어제랑 같은 옷 입고 출근했어. 혼자 임용시험 준비를 하려니 너무 외로워. 회사에서 좀 부끄러운 일이 있었어. 난 아직 결혼 준비가 안 됐는데 남자친구가 프러포즈를 했어. 결혼과 출산으로 살이 급격히 쪘더니 남의 시선이 너무 신경 쓰이네. 몰래 소개팅에 나갔는데 남자친구한테 너무 미안해. 친구들이랑 대화할 때 공감할 수 있는 부분이 많이 없는 느낌이야. 하나뿐인 친구랑 싸웠어. 그래서 어제부터 계속 혼자 밥 먹고 있어. 내 친구가 내가 좋아하는 사람을 좋아한대. 혼란스러워. 나 혼자 우리 부서에서 일하는 느낌이야. 결혼하기로 했던 여자가 트랜스젠더래! 난 아직 결혼할 생각이 없는데 남자친구가 결혼하자고 해서 당혹스러워. 다들 여자친구만 잘 사귀는데 나만 안 될 건 뭐야? 직장에 있는 대리님이 결혼하신다는데 참 웃기기도 하고 기가 차기도 하네. 나도 남들 앞에서 연인과 함께 당당하게 손잡고 다니고 싶어. 어떻게 내 핸드폰은 온종일 한번을 울리지 않는구나. 나보다 못한 친구가 나보다 먼저 취업했어. 난 진짜 잘하는 게 뭘까? 아직까지 취업도 못 하고 있어서 부모님 얼굴 보기가 죄스러워. 내 옆자리 직장 동기 온종일 담배 냄새 풍기는 거 너무 싫어! 부모님이 대학까지 보내주셨는데 취업도 못 하는 내가 너무 한심해. 직장 상사들 때문에 정말 너무 힘들어. 여자 아이돌이나 보며 침 흘리고 있는 내가 한심해. 이 사람과 결혼해도 괜찮을까? 너무 혼란스러워. 친구한테 너무 심한 말을 한 거 같아서 죄책감이 들어. 나 이번에 직장에서 해고되어서 부모님 만나기 좀 부끄러워. 요즘 취업 시장이 참 혼란스러워. 내가 경력 단절 여성이 될 줄이야. 직장 다니는 친구 보면 부럽고 질투가 나. 여자친구가 나보다 키가 훨씬 커서 사람들이 자꾸 쳐다보는 게 불편해. 사실 어제 입은 원피스 친구 따라서 산 건데 우연히 같은 걸 주문했다고 했어. 어디 회사에 지원하는 게 좋을지 고민이야. 내 주변 친구들은 벌써 다 결혼을 했어. 요즘 연애가 하고 싶어. 다른 친구들은 연애하는데 나만 없으니 외로워. 친구가 아이를 셋이나 낳아서 열등감을 느껴. 내가 아이를 키울 능력도 안 되는데 낳은 것 같아. 친구들한테 소외감 느껴. 오늘 소개팅을 받았는데 엄청 부끄럽다. 오늘 내가 정말 싫어하는 친구를 편의점에서 만났어. 미술 쪽으로 가야 할지 운동 쪽으로 가야 할지 너무 고민돼서 괴로워. 한날한시에 같이 입사한 친구가 있는데 그 친구랑 매일 비교되니까 너무 속상해. 남들은 다 취직하는데 나만 못했어. 결혼도 안 했는데 아이가 생겨서 당황스러워. 결혼하고 아이도 낳았는데도 너무 외로워. 결혼 전에 아이를 낳아서 다른 사람들의 시선이 이상한 것 같아. 오늘 웨딩드레스 고르러 다녀왔는데. 너무 부끄러웠어. 전남편이 자꾸 직장에 찾아오는데 날 아직도 자기 부인으로 착각 하나 봐. 소름 끼쳐. 오늘 내 아들을 데리고 모임을 다녀왔는데 정말 부끄러웠어. 어른들을 공경하지 않는 사람과 함께 있는 건 정말 하고 싶지 않아. 업체 측 잘못으로 예식장이 예약이 잘못됐어. 남편을 쳐다도 보기 싫고 혐오스러워. 지금까지 일에만 치여 살아서 주변을 잘 챙기지 못했어. 원하는 곳에 취직했지만 대화가 단절된 느낌이야. 다른 사람들 앞에서 혼나서 너무 부끄러워. 나 요즘 너무 혼란스러워. 남들 다 하는 목걸이를 사달라는 게 그렇게 문제야? 나 이번 달에 그 사람이랑 결혼해. 서울에서 혼자 사는데 너무 외로워. 친구들이랑 만나는데도 혼란스러워. 직장을 생각할 때마다 고립되는 기분이야. 매일 혼자 밥을 먹어서 외로워. 빨리 취업해야 부모님 짐을 덜어드릴 수 있을 텐데. 부모님께 너무 죄송해. 요즘 고립된 기분이 들어. 남자친구는 좋은 직장에 다니는데 나는 백수야. 결혼하는 사람을 보면 이해가 안 가. 어떻게 결혼을 하지? 오늘 직장에 출근하는데 지각할뻔했어. 남자친구가 너무 남들의 시선을 의식해서 허세를 부리는 것 같아 부끄러워. 나 때문에 친구 사이가 틀어진 것 같아. 친구가 다른 건 하나도 안 하고 게임만 해. 내가 직장을 잘 다니고 있는 건지 가끔 당황할 때가 많아. 나보다 어린 애가 이번에 승진했어. 회사에서 일하는 중에 정전이 돼서 당황했어. 열등감이 자꾸 드는 건 내가 못나서겠지? 연애를 못 한 지 오래돼서 너무 외로워. 결혼을 하면 꼭 출산을 해야 하는 걸까? 요새 생각이 많아서 혼란스럽네. 엄마 아빠가 이혼한다고 하셔서 지금 멘탈이 붕괴된 상태야. 수업 듣는데 내가 마시던 음료수를 친구가 입대고 마셔서 당황했어. 요즘 회사에서 나보다 더 인정받는 동료가 있어서 열등감이 느껴져. 작은 기업에 취직한 게 부끄러워. 회사 다니면서 자꾸 변명하는 습관이 생겼어. 비혼을 결정했는데 부모님께 말씀드리기 죄송해. 요즘 튀는 옷을 입어보고 싶은데 다른 사람들이 어떻게 볼지 걱정돼서 못 입겠어. 친구들은 벌써 좋은 직장에 취직했는데 나만 집에 있는 것 같아 불안해. 나의 진로를 어떻게 다시 정해야 할지 모르겠어. 취업은 했는데 기분이 안 좋아. 결혼식은 화려하게 하고 싶어. 남들이 다 부러워했으면 좋겠어. 결혼 상대를 친구에게 소개 시켜주기 싫어. 새 학교에 전학 갔더니 아는 친구가 한 명도 없어서 외로워. 몇 년째 공무원 시험에 합격하지 못해서 부모님께 죄송스러워. 결혼 후 친구들을 많이 못 만나게 되어서 너무 속상해. 나는 연애하고 싶다고 맨날 말하는 친구가 한심해. 너무 화가 나서 부하직원에게 소리쳤는데 죄책감이 들어. 내가 지원하려던 회사의 채용 공고가 갑자기 사라졌어. 직장 상사가 일적인 외에 일도 시켜서 화가 나. 두 곳의 기업에 합격을 했는데 내 마음이 동일해서 선택을 못 하겠어. 결혼식에 많은 이들이 참석하지 않았어. 난 외톨이인가 봐. 여자친구에게 나 말고 다른 남자친구가 있었어. 머릿속이 너무 혼란스러워. 오늘 놀이공원에 갔는데 전 남자친구를 만났어. 주변에 친구도 없고 계속 외롭다. 오늘 뭔지도 모르고 영화 한 편을 봤는데. 정말 충격받았어. 친구가 갑자기 절교를 하자고 해서 너무 당황스러워. 아무래도 친구와 이야기를 나누어봐야겠어. 직장을 구하지 못해서 자꾸 부모님 눈치가 보여. 급하게 출장 가다가 회의 문서가 사라졌어. 이제 어떻게 하지? 나는 빵을 배우고 싶은데 학교를 갈지 취업을 할지 많은 고민이 들어. 여자친구가 미국으로 이민 갔어. 그래서 커플이기는 해도 무인도에 있는 기분이 들어. 아이를 갖지 않겠다고 버티고 있지만 죄책감이 들어. 남자친구 월급이 작은데 자꾸 외제 차를 사려고 해. 정말 한심하단 마음이 들어. 나 동료랑 같이 있는 게 너무 힘들어. 친구의 슬픈 상처를 건드려버렸어. 너무 미안해. 직장 상사의 가발이 갑자기 벗겨져서 당황스러웠어. 친한 친구가 이번에 면접에 붙었어. 근데 나는 떨어졌어. 직장 상사가 애들 괴롭히는 걸 보면 치가 떨려. 남자친구가 프로포즈를 해왔는데 생각도 못 한 거라 당황스러워. 나 아기 낳을 때 너무 외로웠어. 연애하면서 바람피우는 사람들 너무 혐오스러워. 결혼하고 내 시간이 거의 없어서 결혼하는 것이 맞았나 혼란스러워. 이러면 안 되는데 제일 친한 친구한테 열등감 느끼게 돼. 혐오스러운 언행을 서슴지 않는 동기 때문에 너무 당황스러워. 어제 아는 분이 사고를 당했다는 소식을 듣고 엄청 놀랐어. 마스크를 써서 입술 화장을 안 하고 출근했는데 상사가 나한테 뭐라 그랬어. 이번에도 최종 면접에서 떨어졌어. 정말 가족들 볼 면목이 없어. 지하철 반대편 아저씨가 내내 내 다리만 보는 것 같아서 기분 나빠. 선생님이 오늘 성적 올랐다고 안아주셨는데 너무 부끄러웠어. 직장 내에서 적응을 못 하고 있어. 다른 친구들은 취직이 잘 되는데 왜 나만 안 되는 걸까. 이젠 열등감까지 들어. 이제 대학교 삼학년인데 아직도 진로로 고민하고 있어. 나 너무 한심해. 내가 결혼도 안 한 학생인데 어떻게 애 엄마라고 부를 수 있는지 어이가 없네. 왜 나는 여자친구가 안 생기는 걸까. 오래 연애를 안 하다 보니 열등감이 들어. 결혼하는 게 너무 꺼려지고 결혼 생활이 혐오스럽다고 느껴져. 즐겁게 친구들 모여서 술 먹고 있는데도 뭔가 고독한 느낌 알아? 나만 좋은 대학에 못 가서 학벌에 미련이 남아. 내 동생은 너무 한심해. 오늘 부부 모임에 나가는데 입을 옷이 없어. 그래서 그 친구를 만나서 미안했었다고 사과하고 싶어. 진짜 당황해서 무슨 말을 했는지도 모르겠어. 몇 년 전에 취업한 친구는 벌써 직장에서 진급했대. 나는 아직 취업도 못 했어. 길에서 여자 친구인 줄 알고 어떤 여자를 껴안아 버렸어. 나는 연애하기 싫어. 연애는 상상만 해도 끔찍해. 한 번뿐인 결혼식인데 후회 없는 선택 하고 싶은데 여러모로 갈팡질팡하게 되네. 소개받은 사람이 전 여자친구더라고. 강인이 걔는 왜 나랑 비슷한 성적대인데도 기업에 합격한 거지? 직장 상사가 예전에 날 괴롭히던 동기였어. 그런데 그런 사람한테 잘 보여야 한다는 게 너무 혐오스러워. 아니 내가 하고 싶은 일은 다른 사람들이 낮게 평가할 것 같아. 아직 내가 직장이 없어서 부끄러워. 내가 항상 연애를 안 하니까 다들 슬슬 이상하게 보고 있어. 밖이라도 손 정도는 잡아도 되는데 그게 고민이야. 남자친구랑 길을 가다가 넘어졌어. 똑같이 배우고 내가 더 열심히 일하는 것 같은데 실적이 항상 저조해서 자꾸 비교하고 신경 쓰게 돼. 내가 너무 한심한 것 같아. 왜 남자들은 나와 쉽게 헤어지는 걸까? 회사에서 나만 능력이 없는 걸까? 내가 이 시대에 아이를 가지는 게 맞는 걸까? 요즘 참 우울해. 나 회사에서 쪼잔하지만 기분이 나쁜 게 있어. 내가 이번에 회사에서 나쁜 짓을 한 것 같아. 오늘 길거리에서 만난 사이비 종교 사람들에게 끌려갈 뻔했어. 오늘 내가 다니는 대학교에서 선배특강이 있었는데 나한테 질문을 많이 하더라고. 내가 평소에 같이 스터디하는 모임에서 안 좋은 일이 있었어. 도대체 취업은 어떻게 하는 거야? 회사 끝나고 집에 오면 너무 쓸쓸해. 이번 면접은 정말 쉽지 않았어. 난 이러나저러 나 친구들보다 성공을 못 할 것이 뻔해. 결국 친구가 진실을 알아 버렸어. 어쩌면 좋지. 친구에게 시계를 선물 받았어. 근데 좀 그렇네. 남자 친구와 말다툼을 했어. 이번에 동호회를 나오게 됐어. 결혼 준비를 하는데 쉽지 않네. 오늘 면접 스터디를 갔는데 당황한 일이 있었어. 오늘 상사가 나를 너무 화나게 했어. 여자 친구에게 미안한 일이 생겼어. 졸업하고 이제 취업해야 하는데 마땅한 직장이 없어서 힘들어. 주변에 다들 취업하는데 나만 취업을 못 해. 결혼하고 싶은데 부모님이 반대하셔. 나만 진급 못 했어. 아! 정말 너무 괴로워! 아! 정말 힘들어. 나 정말 큰 죄를 저질렀어! 얼마 전에 쌍둥이 동생이 명문 대학에 합격했어. 벌써 부모님이 나를 압박하기 시작했어. 친오빠가 군대에서 돌아왔는데 완전 다른 사람이 된 것 같아. 요즈음 상황도 상황이고 많이 힘드네. 집에 와서 작업해야 할 업무가 있는데 깜빡하고 서류를 회사에 두고 왔어. 직장에서 다른 동료들과 친하게 지내기가 어려워서 힘들어. 내 친구는 노래도 잘하고 운동도 잘하고 뭐든지 잘해. 친한 친구를 의심해서 싸우게 됐어. 내 친구는 항상 자기 남자 친구한테 좋은 선물을 받는데 내 남자 친구는 취업 준비 중이야. 우리 부서 상사가 다른 여직원 성추행을 했대. 같은 공간에 있다는 게 너무 불쾌해. 남자 친구가 있는데 새로운 남자가 자꾸 눈에 들어와. 만난 지 육 개월밖에 안 된 남자 친구가 갑자기 프러포즈했어. 어떡하지? 나는 내 직장이 좋은데 회사 이미지가 좋지 않아서 처음 만난 사람에게 직장을 소개할 때 민망해. 대학교 때 알게 된 동아리 후배가 몇 년 만에 연락이 와서 돈을 빌려 달래. 직장 상사 앞에서 주사를 너무 심하게 해 버렸어. 회사에서 나에게 갑자기 중요한 프로젝트를 맡겨서 너무 당황스러워. 여자 친구와 연애를 하다 처음 싸우게 돼서 당황스러워. 회사에서 일하려고 하면 남의 시선이 신경 쓰여서 일을 잘 못 하겠어. 요즘 취업이 안 돼서 뭔가 문제인지 열등감만 생기네. 요즘 취업을 어디로 해야 할지 고민이야. 자꾸 낙방하게 돼서 당황스러워. 옷차림이 그렇게 중요한가? 나 자신이 너무 부끄럽다. 오늘 아르바이트하다가 너무 당황스러웠어. 지금 일하는 직장이 내 적성에 맞는지 잘 모르겠어. 나 자신이 너무 답답하고 한심해. 회사 동료가 말을 할 때 내가 쏘아붙여서 어제 싸웠어. 이 나이 먹도록 힘들 때 연락할 친구도 많지 않다는 게 너무 한심해. 아직 내가 미혼이어서 결혼이나 출산에 대한 이야기를 나누는 게 좀 부끄러워. 남자 친구가 바람이 났어. 요새 회사 후배에게 못되게 굴어서 미안한 마음이 들어. 사귄 지 십 년 된 남자 친구가 있는데 요즘에는 데이트해도 외롭다는 생각이 계속 들어. 다른 직장 동료들과 비교해 보면 내 능력이 형편없다는 생각이 들어. 어제 회사에서 정말 창피한 일을 경험했어. 출산 후에 살이 십 킬로그램이나 쪘어. 요즘 거울을 보면 나 자신이 징그럽게 느껴져. 요즘 남자 친구 때문에 머리가 너무 복잡해. 친한 친구가 너무 싫어지고 있어. 얘가 내 패션 스타일을 자꾸 따라 하는 것 같아. 정말 사소한 일로 친구에게 화를 냈어. 내가 생각해도 난 참 한심한 사람인 것 같아. 최근에 회사에 후배가 들어왔는데 사회생활 경험이 많아서 그런가 능력이 뛰어난 것 같아. 너무 잘하니까 신경 쓰이네. 요즘 회사에 가면 맨날 눌리고 쪼그라드는 것 같아. 동기들은 이번에 승진했는데 나만 그대로고. 직장 선배가 나한테 버럭 화를 냈어. 어제 여자 친구가 이제 그만 만나자고 했어. 어제 여자 친구와 술을 먹었는데 너무 많이 먹어서 기억이 나지 않아. 친구 중에 취업은 하지 않고 게임만 하면서 노는 친구가 한 명 있어. 이번 중간고사에서 수학 점수를 너무 안 좋게 받았어. 열심히 노력했는데. 여자 친구와 만난 지 몇 개월 되지 않았는데 갑자기 결혼 이야기를 꺼내서 당황스러웠어. 친구들이 나를 피하는 것 같아서 당황스러워. 나는 왜 빨리 공부를 시작하지 않은 걸까. 공부하려는데 아무것도 모르겠어. 나 학교 폭력을 당하고 있어. 그런데 그 이유를 모르겠어. 어떤 친구들이 다른 친구의 돈을 뺏어 가. 정말 한심해. 나 성적이 나왔어. 아무한테도 못 보여 주겠어. 나 이번에 내가 원하는 회사에 취업했어! 시험이 내일인데 공부를 하나도 안 했어. 자꾸 거짓말이 앞서는 친구들을 보고 있자면 안타까운 마음이 들어. 도대체 왜 저러나 하고 말이야. 결혼식에 드는 비용을 보고 있자니 답답하고 어처구니없다는 생각이 들어. 인사를 걸어온 사람의 이름이 생각나지 않아 무척 당황했던 일이 있었어. 오늘 내가 먼저 고백을 했어. 되게 쑥스러운 거 있지. 남자 친구가 고향 집에 일주일 동안 내려가 있게 됐어. 그 빈자리가 허전하네. 나도 문신을 하고 싶긴 해. 진짜 한심하다. 나 아기를 가졌어. 아직 결혼 계획이 없는데. 우리 집 앞에 자꾸 쓰레기를 버리는 사람이 있어. 다들 결혼해서 잘 사는데 나는 왜 이럴까? 사회생활을 하다 보면 대인 관계 문제로 스트레스를 많이 받아. 우리 팀에 자기중심적인 사람이 하나 있는데 너무 신경 쓰이고 보기가 싫어. 친구가 좋아하는 사람이 나를 좋아한다고 고백했어. 어떻게 해야 하지? 요즘 내가 너무 다른 사람들을 의식하면서 산다는 느낌이 들어. 부모님께 남자 친구를 보여 드려야 하는데 걱정이야. 오늘 회사에서 팀장님이 나를 불러서 이유 없이 화를 냈어. 너무 황당하더라. 친구랑 패스트푸드점에서 콜라를 먹다가 트림을 했어. 임신했다고 말하기가 너무 부끄러워. 친구가 다짜고짜 화를 내서 당황스러워. 나 오늘 회사에서 당황스러운 일이 있었어. 공부 말고 창업으로 돈을 벌고 싶은데 사람들 시선이 신경 쓰여. 이번에도 임신에 실패했어. 친구는 취업에 합격했는데 진심으로 축하해 줄 수가 없어. 바로 옆에 있는 후배가 먼저 승진을 했어. 살이 쪘는데 직장 동료들이 수군거리는 것 같아. 여자 친구가 생일 선물로 고가의 가방을 사 달라고 말해서 당황했어. 항상 남 탓만 하는 친구가 너무 한심하게 느껴져. 데이트 폭력 하는 남자 너무 혐오스러워. 직장에서 다른 사람이 나한테 실수를 덮으려고 해서 당황스러웠어. 나 파혼당했는데 너무 어이가 없어. 오랫동안 만나온 이성 친구가 있는데 요즘 나를 대하는 태도가 좀 이상해. 봉사 모임에 처음으로 나가게 됐는데 내가 낯을 많이 가려서 걱정이 커. 아내가 출산했는데 최근에 유독 말 수가 급격히 줄었어. 이유 없이 눈물을 흘릴 때도 있고 폭식할 때도 잦아. 오늘 취업 스터디에서 당황스러운 일이 있었어. 나 오늘 너무 당황스러운 일이 있었어. 오늘 직장에서 부끄러운 일이 있었어. 어제 부장님 때문에 짜증 났어. 입사시험에 계속 떨어져서 부모님께 너무 죄송해. 이제까지 다른 사람 신경을 안 쓰고 살았는데 취업하고 나서 성격이 바뀌는 것 같아. 오늘 회사에서 내가 실수를 하는 바람에 일이 꼬였어. 친구들이 나를 오해하고 있어. 내가 말을 해도 믿어주지 않아. 내가 저지른 실수로 다른 사원이 징계를 받게 됐어. 직장에서 어이없는 실수를 했어. 나 자신에게 너무 화가 나. 어떡하면 좋지? 생리할 주기가 지나버렸어. 직장을 못 구해서 걱정이야. 나 직장에서 실수로 본의 아니게 거짓말을 했는데 다른 사람이 난처해졌어. 회사에서 부장님과 말이 안 통해서 답답해. 내가 너무 한심해. 오늘도 이력서 넣어야지 하면서 못 넣었어. 환승 이직 준비 중인데 이직할 회사에서 갑자기 면접 취소됐다고 연락이 왔어. 사람들이 자꾸 나만 쳐다보는 것 같아서 신경 쓰여. 마음이 불편해. 친구가 헤어진 사실을 말하지 말라고 해서 안 했는데 며칠 뒤에 왜 말했느냐며 화를 냈어. 회사에 팀장이 있는데 정말 자기 말만 하고 사람이 꽉 막혀 있는 것 같아서 싫어. 나는 혼자 살 팔자인가 봐. 전염병 때문에 집에만 있으니 사람이 그리워. 요즘 자존감이 너무 떨어져서 남들과 자꾸 비교하게 돼. 친구한테 토요일에 약속 있다고 거짓말하고 안 만났는데 괜히 미안해지네. 맨날 거절만 해서. 오늘 비행기를 타는데 아는 사람이 옆자리에 탔더라. 친구가 게임만 하고 살아 너무 한심해 보여. 내 친구는 변덕이 너무 심해서 어떻게 맞춰야 할지 모르겠어. 최종 합격한 회사에서 채용 일을 미루겠다고 해서 당황스러워. 나는 직장에서 잘리고 길에서 떡볶이를 팔게 되었어. 난 이번에 대기업에 입사하게 되었어. 일하러 온 사람들이 일은 안 하고 자꾸 커피믹스만 축내네. 나는 피아니스트가 되고 싶어. 연애를 시작해야 하는데 좋은 이성을 만나는 건 참 어려운 일인 것 같아서 외로워. 주위 친구들이 결혼하고 아이도 있는데 나만 혼자여서 주위 시선이 부담스러워. 남들은 다 연애 잘만 하던데. 난 왜 못하는 걸까. 친구 커플이랑 제주도 여행 다녀왔어. 아이를 낳고 아이와 한 번도 여행을 가지 못했어. 아이에게 너무 미안해. 좋아하는 사람 앞에만 부끄러워서 말을 못 하겠어. 나는 비혼주의자야. 결혼하는 사람들을 이해할 수 없어. 애인은 있는데 나이가 점점 들어갈수록 결혼 출산이 너무 걱정돼. 이번에 지방으로 발령 나서 내려왔는데 주변에 아무것도 없어. 밖에 나가면 사람들이 나를 쳐다보는 거 같아. 나랑 같이 회사 다니는 동기를 보면 너무 화가 나. 내가 아내 몰래 대출받아서 투자했다가 손실 봐서 정말 미안하게 생각하고 있어. 밑에 직원이 일은 제대로 하지도 못하면서 자꾸 일은 어디서 가지고 온다니까. 내 친구가 좋아하는 사람이 나한테 관심 있는 것 같아. 갑자기 다른 부서로 이동하게 됐어. 당황스러워. 친구들 다 취업하는데 나만 혼자 백수야. 혼자 취업 준비하려니 너무 힘드네. 직장에서 해고되어 아내를 볼 면목이 없어. 취직한 지 꽤 되었는데 나랑 맞는 일인지 모르겠어. 출산일이 아직 멀었는데 벌써 진통이 오기 시작했어. 나는 연애할 생각도 없는데 주변에서 나보고 자꾸 결혼하라고 해서 눈치가 보여. 다들 결혼하고 연애하는데 나는 뭐 하는지 모르겠어. 외로운 기분이 드네 요즘. 나 이번에 결혼하게 됐어. 친구는 취업했는데 난 백수라 괜히 주눅 드네. 그녀가 나를 쳐다보니 정말 부끄럽네. 내 동생은 아직도 취업을 안 했어. 정말 한심해. 부모님이 나보고 독립하라셔. 회사에서 합격했다고 문자 왔어. 남들은 다 직장이 있는데 나만 없는 것 같은 기분이야. 오늘 회사에서 중요한 문서를 실수로 잃어버렸어. 나 때문에 팀원들까지 곤란해졌어. 취업을 해야 되는데 면접 보는 곳마다 연락이 안 와. 나는 너무 한심한 사람이야. 결혼을 하고 나서 너무 외로워서 집에 나 혼자 고립된 느낌이야. 연애를 하고 있지만 외로워. 일찍 장가가는 게 좋다고 하고 누구는 아니라고 하고 혼란스럽다. 오늘 버스 안에서 다른 사람 발을 밟았지 뭐야. 학교에서 혼자 밥을 먹는데 사람들이 날 어떻게 볼지 의식돼서 그게 창피해. 일을 안 다니니 창피해서 동창 모임에 안 나갈 거야. 동생한테 미안하네. 회사 사람들이랑 잘 못 놀겠어. 수줍고 부끄러워. 오늘 여자친구 생일파티 겸 뭉쳤는데 괜히 기분만 나빠졌네. 오후에 회의가 있는데 회의자료 준비한다는 걸 깜빡했어. 주변에선 다들 취업하는데 나만 못해서 속상해. 직장에 친한 동료 하나 없으니 외로워. 나 때문에 직장 동료가 누명을 쓰게 되었어. 너무 미안해. 내가 다니는 직장에 아부만 하는 사람 있어. 너무 역겨워. 내 동생은 아직도 취업을 못 하고 있어. 보고 있으면 한심해. 코로나로 하반기 공채 채용을 하는 회사가 거의 없어. 어떻게 해야 하지. 연애하다가 결혼하고 아이 낳고 하니 나 혼자만의 시간이 없어서 우울해. 지금 만나고 있는 여자친구랑 결혼하는 게 맞을까? 친구들이 보기에는 어떻게 보일까? 연애하고 있는데도 외로운 것 같아. 아이를 유산했어. 내가 제대로 관리 안 해서 그렇게 된 것 같아. 여동생이 연애도 안 하고 아이돌만 쫓아다녀. 오늘 학교에서 수업 끝나고 학식 먹으러 가는데 좀 어이없었어. 내가 한 말 때문에 친구가 상처를 받았을까 봐 걱정이야. 친구가 세 명 이상 모이면 구설수가 많은 것 같아. 상대가 누구냐에 따라서 배려를 할지 말지 결정해야 하나 봐. 오늘 회사 면접이 있어서 갔는데 면접관이 준비한 거에 없는 질문만 하는 거 있지. 또래 친구들은 모두 취직해서 돈을 벌기 시작하는데 나만 아직도 공부 중인 것 같아서 속상해. 유튜버가 되고 싶다고 하니 주변 사람들이 비웃는 것 같아. 회사에서 같이 밥 먹을 사람 하나 없는 인생이라니 참 외롭다 외로워. 나 당당히 취업할 거라 했는데 서류에서 떨어져서 부끄러워. 육아하느라 힘들어. 도와주는 사람이 아무도 없어. 집에 갔는데 또 결혼은 언제 할 거냐고 묻더라. 난 아직인데 남들 시선이 신경 쓰여. 연애하는데도 외로워. 내가 못생겨서 남자들이 나를 안 좋아해. 남자 친구한테 헤어지자고 했어. 오 년이나 만났는데 죄책감도 들고 힘들어. 나는 내 친구를 욕한 적이 없는데 내가 그 친구를 욕했다고 소문이 안 좋게 나버렸어. 가끔 정말 외로워. 주말인데 같이 게임 할 사람도 없네. 내일은 발표를 해야 해. 나는 사람들 사이에서 항상 겉돌아. 이런 내가 한심해. 친해진 친구가 있는데 그 사람이 전과범이라는 말을 들었어. 드디어 취업할 기회를 얻어서 면접을 봤는데 너무 당황스러웠어. 같은 직장 사람들이 나와 함께 일하는 것을 꺼리는 것 같아. 나는 미술 관련 일을 하고 싶은데 엄마는 공부하길 원하셔. 어떻게 해야 할까? 취업만 보고 살아왔더니 주위에 친구도 애인도 없어. 누구는 취업이 잘 됐는데 힘이 빠져. 오늘 회사에서 사고 쳤어. 직장에서 만난 선배가 나를 너무 괴롭혀. 면접에서 실수한 것 같아. 면접 합격문자가 시스템 오류로 잘못 합격 문자가 온 거였어. 너무 당황스러워. 나는 정말 이 회사에서 열심히 일했는데 갑자기 퇴사를 권고했어. 당황스러워. 내 업무도 아니었는데 이제 나보고 그 업무를 맡으래. 이런 경우가 어딨어 갑자기. 내가 자료를 집에 두고 오는 바람에 우리 조 발표를 망쳤어. 팀원들에게 너무 미안해. 쉽게 처리할 수 있는 일이었는데 내가 실수 하는 바람에 더 복잡해져버렸어. 팀장님께 너무 미안해. 어떤 주제에 대해서 나만 다른 의견을 냈는데 이상하다는 반응이었어. 지금까지 잘못된 방향으로 취업 준비를 해 온 내가 한심하게 느껴져. 취업 준비도 올해로 삼 년째 됐어. 너무 힘들어. 직장에서 아직도 보고서를 제출하지 못했어. 내가 너무 한심해. 에세이 과제에 엄청 애를 쓴 내가 너무 한심하게 느껴진다. 회사에서 나를 빼고 다같이 점심을 먹으러 간 일이 있었어. 나만 빼고 가서 섭섭해. 사람들은 내가 편집장이 된 게 싫나 봐. 다들 나를 아니꼽게 봐. 친구가 내 카카오 톡 메시지를 두 달째 읽지 않아서 슬퍼. 친구가 내 카카오 톡 메신저를 보지도 않고 대답도 안 해. 답장이 없어서 당황스러워. 내가 너무 소심해서 말을 잘 못하니까 모두 나한테 불친절하게 대할 것 같아. 오늘 친구에게 화나는 일이 있었는데 내가 화내면 나를 이상하게 볼까 봐 얘기를 못하겠어. 내가 발표를 하게 됐는데 사람들이 너무 많아서 떨려. 부하 직원들 앞에서 상사한테 혼나니까 너무 부끄럽더라. 내 친구 중의 한 명이 대기업에 들어갔대. 놀고 있는 내 모습이 부끄럽네. 내가 과거에 괴롭혔던 애가 날 때렸어. 부끄러운 과거가 생각 나. 부모님이 내가 따돌림 당한다는 사실을 아셨어. 너무 민망해. 좋아하는 애가 내가 맞는 모습을 보고 있었어. 너무 민망해. 친구가 대학 시절 내가 술을 너무 먹여서 정말 힘들었다는데 미안해. 큰일이야. 직장 동기가 휴게실에서 자기 얘기를 하고 있는 걸 들어버렸어. 이거 큰일이야. 부장님한테 완전 실수한 거 같아. 내가 큰 실수를 했어. 친구가 연락하지 말래. 같이 살고 있는 친구가 너무 괴롭대. 도대체 어디 갔는지 모르겠어. 중요한 유에스비인데. 큰일이야. 도무지 담요의 얼룩이 지워지지 않아. 몰래 건드리지 말았어야 했는데. 내가 왜 그랬을까? 친구가 따돌림 당하고 맞기 까지 했는데 도와주지 못한 내가 너무 부끄러워. 친구랑 싸웠는데 주먹을 피하지 못하고 맞았어. 너무 느려서 한심해. 내가 친구 비밀을 다른 친구에게 말해버려서 그 친구가 따돌림 당했어. 싫어 할 것은 알았지만 진심을 말했더니 애들이 싫어해. 별 것도 아닌 일로 내가 친구를 때렸어. 이제 생각하면 너무 부끄러워. 친구가 가벼운 장난을 쳤는데 나는 홧김에 그 애를 때렸어. 요즘 너무 친구들을 때리는 것 같아. 어제도 친구를 때려버렸어. 친구들한테 거짓말로 내가 한 것보다 부풀려서 말했는데 그런 내가 유치하다고 느껴. 내가 좋아하는 친구가 있는데 나는 왕따라서 너무 부끄러워. 나 유명한 친구를 좋아하는데 고백을 못해서 내가 너무 한심해. 친구를 괴롭히고 약점 잡으면서 놀렸더니 친구가 속상해했어. 내 친구가 폭행당하는 상황에서 나는 어쩔 수 없이 지켜볼 수밖에 없었어. 이런 내가 너무 한심하고 증오감이 커져. 내가 무능하게 맞고 있던 모습을 좋아하는 애가 봐서 내 자신이 너무 하찮게 느껴졌어. 당연히 내 편 일거라고 생각한 친구가 갑자기 나를 배신하고 나에 대한 욕을 하고 다녀서 그 친구가 너무 미워. 오늘 내 친구가 내 비밀을 다른 친구들한테 말해버렸어. 그래서 나는 너무 친구가 미워서 세게 때렸어. 친구가 다른 친구들 앞에서 나에게 모욕감을 줬어. 나는 그 친구를 어떻게든 따돌릴 거야. 오늘 갑자기 내 비밀을 우리 반 교실에서 다 알린 애가 있었어. 나는 그 친구와 다시는 만나기도 싫어. 작년 동안 나를 따돌리던 그 친구가 나를 따돌렸다는 잘못을 인정을 안 해서 오늘 정말 화가 치밀었어. 나는 친구에게 진심으로 이야기 했는데 그 친구는 이해하지 못하더라고. 그래서 나는 그 친구에게는 다시는 말하지 않을 거야. 오늘 그 애가 갑자기 나를 때려서 모욕감을 줬어. 나는 너무 화가 나고 치가 떨려. 내가 그 애를 좋아한다는 것 가지고 놀리는 애들이 있어. 그 놀리는 애들이 너무 미워. 나는 사람의 감정을 함부로 판단하면서 따돌리는 애들이 정말 증오스러워. 내가 좋아하는 그 애를 향한 나의 감정이 친구들에게 이상하게 보일 수 있을 것 같아. 그렇게 생각하니 짜증이 나네. 성적이 이렇게 낮게 나오다니 말이 안되네. 너무 당황스러워. 친한 친구가 나한테 욕을 해서 너무 당황스러웠어. 아빠가 갑자기 화내셔서 너무 놀라고 당황스러웠어. 선생님이 갑자기 내 이름을 부르셔서 너무 놀라고 당황했어. 책을 안 가지고 와버렸는데 어떻게 해야 할지 모르겠고 당황스러워. 선생님께서 갑자기 큰 소리로 화를 내셔서 우리 모두가 당황했어. 선생님께서 내게 장래희망을 물어보셨는데 그 순간 내 머릿속이 하얘지고 당황스러웠어. 어제 숙제 한 거 다 놓고 와서 어떻게 해야 할지 모르겠어. 공부할 거 너무 많은데 잠들어서 큰일 났어. 공부를 하나도 못해서 어떻게 해야 하지? 말도 안 되는 얘기를 그렇게 당당하게 하다니 믿을 수 없이 당황스러워. 내 의지와는 상관없이 갑자기 전학을 가게 되어 당황스러워. 팀원들이 나만 빼놓고 회식을 갔어. 너무 외로워. 나 빼고 모두 그 팀으로 배치되었어. 너무 외로워. 점심시간에 나만 두고 외식을 하러 갔어. 너무 속상해. 친구들이 모두 그 회사에 다닌다는데 나도 거기에 입사하고 싶어. 잘 모르는 업무를 혼자 하려 하니까 막막해. 직장동료들 보다 내가 자꾸 뒤쳐지는 것 같아. 너무 속상해. 혼자 파견 나가서 모르는 사람들과 함께 생활하려니 너무 쓸쓸해. 야근 때문에 회사에 혼자 남아있었는데 너무 외로웠어. 팀 내에서 나를 은근 따돌리는 것 같아. 너무 힘들어 나만 프로젝트에 대해 이해하지 못한 것 같아 서러워. 직원들이 단체 채팅 방을 나에게만 공유하지 않아 너무 서러워. 나를 어떻게든 괴롭히려고 하는 직장 상사 때문에 정말 미칠 것 같아. 매번 구시대적 사고로 부하 직원들을 꾸짖는 상사가 너무 싫어. 말도 안 되는 논리로 자기 아이디어를 강요하는 팀원은 무슨 생각일까? 정말 정이 떨어져. 팀장님이 모든 책임을 나에게 떠넘겨서 너무 화가 나. 직장 동료들이 내가 없는 틈을 타 험담하는 것을 들었어. 자신이 맡은 업무를 나에게 떠넘기는 상사가 있어. 너무 괘씸해. 항상 자신의 뜻대로만 직원들이 움직여주길 바라는 상사가 끔찍하게 싫어. 사전에 예고도 없이 갑자기 해고를 당했어. 상사에게 애교를 부리며 아첨하는 직장 동료가 너무 징그러워 보여. 나를 부당하게 해고시키다니 이 회사는 너무 끔찍해. 회사 사람들 모두 그가 결혼한다는 사실을 알고 있는데 나만 그 사실을 몰랐어서 당황했어. 친구들은 모두 그들이 연인관계라는 걸 알고 있는데 나만 모르고 있었다는 게 당황스럽네. 새로 생긴 애인이 과거 아동을 대상으로 성적 학대했다는 과거가 있다는 걸 알고 화가 치밀었어. 결혼하면 외롭지 않고 행복하게 살줄 알았는데 그렇게 생각했던 내가 어리석었어. 애인은 그동안 내연녀가 있다는 걸 숨기고 날 만났고 주위사람들은 다 그 사실을 아는데 나만 그걸 모르고 있었어. 우리 커플에 대해 미리 생각은 해두었지만 가족 모두가 반대할 거라고는 생각도 못해서 당황스러워. 사람들이 우리를 자연스러운 사랑으로 인정하지 않고 의심부터 하는 게 정말 충격적이더라. 내 남편이 나와 가장 친한 친구와 바람을 피우는 것을 나만 모르고 있었다는 게 충격이야. 그가 아무런 연락도 없이 갑자기 우리 집으로 찾아와서 나에게 헤어지자고 말을 해서 당황스러웠어. 출산 당일 날 내 곁에 아무도 없을 것이라고는 생각도 해보지 못했던 일이라 당황했어. 신랑이 예전에 만났던 애인이 우리 결혼식에 찾아와 난동을 부려서 크게 당황했어. 내 친구가 나를 배신해서 너무 어이없어. 나는 범인이 아닌데 아무도 내말을 안 믿어줘서 너무 충격적이야. 오늘 상상도 못한 학교 폭력을 당해서 너무 황당해. 그 친구가 나를 미워해서 그런 일을 꾸몄을 거라고는 생각을 못했어. 너무 당황스러워. 내 친구가 급식실에서 벌어진 소동이 나 때문이라고 생각하고 있어. 기분이 안 좋아. 나는 악의 없이 그냥 말했는데 그 친구가 나를 발로 차서 너무 당황스러웠어. 나는 상상도 못했던 친구가 내 실내화를 변기통에 담가서 당황스러웠어. 얼마 전에 있던 폭행사건이 내 친한 친구가 했다는 일에 나는 너무 놀랐어. 내 생각에 나는 잘못한 게 없는데 그 애가 나의 뺨을 때려서 당황스러웠어. 그 친구가 선배한테 맞았데. 나는 너무 놀랐어. 내가 예전에 별 뜻 없이 한 말이 지금 내가 따돌림을 당하게 만들었어. 너무 당황스러웠어. 내가 너무 솔직하게 말을 한 걸까? 요즘 학교에 가기 싫어. 오늘 친구들한테 맞아서 코피가 났어. 어제 친구한테 맞았는데 오히려 내가 잘못한 것 같아 미안했어. 어제 친구한테 너무 심하게 화를 냈나 싶어서 걱정이 돼. 어제 친구들한테 맞은 곳이 아파. 상황이 이렇게 나빠지다니. 그 친구가 날 배신할 줄은 몰랐어. 너무 당황스러워. 아까 일을 생각하면 얼굴이 화끈거려. 친구들이 다 나를 빤히 쳐다보면서 수군거렸어. 당황해서 거짓말을 했는데 친구가 갑자기 선생님께 불려가다니 너무 미안해. 다른 회사에서 스카우트 제의를 받았는데 어떻게 해야 할지 모르겠어. 부하직원이 업무를 하다 실수를 했어. 어떻게 대처해야 할지 고민이야. 집에 서류를 두고 왔어. 다녀오면 너무 늦을 것 같은데 어떡하지? 부장님이 나를 크게 오해하고 계셔. 그런데 어떻게 해명을 할지 모르겠어. 팀원들끼리 싸움이 붙었는데 내가 중간에서 어떻게 대처해야 할지 모르겠어. 취업할 만한 곳이 없어. 생각만 해도 골치가 아파. 회사에 입사하기로 결정했는데 더 가고 싶던 곳에서도 연락이 왔어. 어쩌지? 김 대리와 박 대리가 의견 차이로 대립하고 있는데 누구 편을 들어야 할지 모르겠어. 회사에서 갑자기 다들 나와 대화하는 걸 피해서 당황스러워. 오늘 해고를 당했어. 어떻게 새 직장을 구해야 할지 막막해. 갑자기 오늘 해고 통보를 받았어. 이해가 안가. 부모님은 하루도 나를 가만히 두질 않아. 친구들과 수학여행에서 어떻게 놀지 계획을 짜고 있었는데 부모님이 수학여행 가는 걸 허락해주지 않아서 너무 당황스러워. 아빠는 내 친구도 못 만나게 해. 엄마와 단둘이 사는데 엄마의 퇴근이 늦을 때마다 무서운 생각이 들어. 내 부모님은 내가 친구들과 어울려 다니는 걸 마음에 안 들어 하셔. 아빠는 내가 하루 종일 공부만 하기를 원해서 너무 힘들어. 언니가 나보고 나는 부모님한테서 못 벗어날 거라고 말해. 밖에서 억울한 일을 당해서 하소연하고 싶은데 집에 아무도 없어. 엄마가 시킨 집안일을 맨날 해야 해서 너무 짜증 나. 아빠는 내 고민에 대해서 진지하게 들어주지를 않으셔서 너무 답답해. 가족들과 대화하면 혼자 말하고 있는 기분이 들어. 내 꿈에 대해 말해도 우리 가족은 아무도 관심을 주지 않아. 왜 항상 너무 쉬운 문제를 틀릴까? 내 자신한테 너무 화가 나. 아는 공식이었는데 근의 공식을 까먹어서 쉬운 문제를 틀려버렸어. 암산으로도 풀 수 있는 문제를 틀렸어. 내 스스로가 창피해. 모르는 문제가 나왔는데 빈 답안지로 제출했어. 찍기라도 해야 했는데 후회돼 친한 친구한테 상처가 되게 말해놓고 사과하지 못했어. 틀리면 안 되는 맞춤법을 틀렸는데 요즘 한국어 잘하는 외국인인가 의심스러워. 동생이 풀었던 문제를 풀지 못한 내가 너무 한심해. 정답지에 공부했던 내용을 전부 완벽히 쓰지 못해 나한테 화가 나. 어제 필기 열심히 한 공책을 집에 두고 왔어 내 스스로가 어이가 없어. 갑자기 너무 쉬운 단어를 기억이 안 나서 못 적었어. 정말 어이가 없더라. 글자 하나를 잘못보고 다른 답을 써버렸어 난 정말 멍청한 것 같아. 학교 끝나고 집에 돌아가는데 엄마가 다른 남자와 있는 걸 봤어. 언니는 나와 있을 때와 밖에서 하는 행동이 달라. 동생이 게임중독이야. 언니가 나를 좋아해 줄 사람은 없다고 했어. 오빠는 맨날 엄마 아빠께 짜증만 내. 오빠는 자신이 불리할 때 욕을 하며 짜증을 내. 아빠는 내가 조금만 요구하려고 해도 무시해. 언니는 기분이 좋을 때만 친절해. 동생은 필요한 것이 생길 때에만 내게 와. 동생에게 엄마한테 잘 좀 하라고 했지만 오늘도 그러지 않았어. 아빠가 다른 여자와 함께 있는 걸 봤어. 친구가 공부를 잘한다고 잘난 척해서 속상해. 오늘 수학시험을 봤는데 점수가 잘 나오지 않아서 너무 화가 나. 공부를 열심히 하는데 목표가 없어서 왜 이렇게 열심히 하는지 모르겠어. 오늘 애들이 나에 대한 유언비어를 얘기해서 너무 속상했어. 외국에 살 것도 아니고 국어도 있는데 왜 구지 영어를 배워야하는지 모르겠어. 공부를 못해서 나도 속상한데 그 옆에서 깐족대는 친구가 너무 화나. 내가 국어를 잘하는 줄 알았는데 막상 문제를 풀면 너무 어렵게 느껴져. 영어만 배우는 것도 충분한데 꼭 제 이 외국어를 왜 배워야하는지 모르겠어. 매일 매일 같은 공부만 하니까 지루하고 싫어. 길을 가다보면 학생들에게 나쁜 것을 가르치는 어른들을 보며 참 화가 나. 수능이 얼마 남지 않았는데 점점 지치려고 해. 수험생활이 빨리 끝났으면 좋겠어. 애인이 험담 하는 거 남 얘기인줄 알았는데 내가 그럴 줄은 몰랐어. 이제야 깨달은 게 한심하다. 부모님께 나와 애인의 사이를 들켜버린 게 너무 부끄럽고 후회 돼. 임신한 줄고 모르고 평소처럼 술 마시고 담배까지 폈어. 내 자신에게 너무 화가 나. 남자친구가 바람을 피웠지 뭐야? 그것도 모르고 내 스스로가 너무 바보 같아서 화가 나. 내 친구랑 사귀는 사람인 줄 모르고 좋아한다고 고백한 내 자신이 너무 부끄러워. 머릿속으로만 좋아한다고 고백하고 말로 용기 내서 고백 한 번 못한 내 자신이 부끄러워. 남자친구가 내 친한 친구랑 바람이 났어. 둘 사이를 의심해보지 못한 내가 불쌍해. 이제 곧 있으면 결혼식인데 우리 회사에 새로 오신 대리님이 자꾸 눈에 들어와. 나만 바라보던 사람을 버리고 다른 사람을 선택한 내 자신이 너무 부끄러워. 아기 건강이 안 좋다는데 임신하고 몸조리를 잘 못해서 그런 건 아닐까 후회돼. 친구들이 사귀는 줄도 모르고 둘 사이에 관해 함부로 얘기하고 다닌 내가 너무 싫어. 친구들과 있어도 별로 즐거운 기분이 들지 않아. 내게는 하나뿐인 친구인데 그 친구에겐 나 말고도 다른 친구들이 많아. 친구 생일에 깜짝 축하를 해주려고 집 앞에서 갔는데 다른 친구와 놀고 있대. 친구의 취업을 축하해주려고 케이크를 직접 만들었는데 친구가 이게 다냐고 해. 오늘 내가 일 처리를 제대로 하지 못한다는 이야기를 들었어. 친구가 나보다 좋은 기업에 취직을 했다는 이야기를 오늘 들었어. 친구가 취업상담을 받았다는 이야기를 들었어. 친구가 나보다 직무를 훨씬 잘해내는 모습을 봤어. 직장에서 내가 아무런 영향력을 끼치지 못하는 것 같아. 오늘 내가 원하던 기업에 불합격했다는 통보를 받았어. 친구들이 모두 취업에 성공했다는 이야기를 들었어. 내 가장 친한 친구의 승진 소식을 오늘 들었어. 오늘 친구의 연봉이 얼마인지 알게 되었어. 응원하는 팀이 우승하지 못해서 너무 속상해. 최근 창업한 친구가 대박이 났다는 이야기를 들었어. 내가 원하는 회사에 친구가 붙었다는 소식을 듣고 기분이 너무 나빠. 친구들 나를 어떻게 볼지 자꾸 시선을 의식하게 돼. 새로 산 옷을 입고가면 친구들이 나를 좋게 평가해줄 것만 같다는 생각이 들어. 숙제를 다 해가면 선생님께서 예뻐해 줄지 몰라 당황스럽네. 부모님께 자랑스러운 딸이 되고 싶은데 아닌 것 같아서 속상해. 내가 예쁘지 않아서 친구들이 나한테 말을 안 건다고 생각해. 계속 외모를 신경 쓰게 돼. 학교에서 제일 예쁜 애가 나한테 말을 걸어주면 기분이 좋을 것 같아. 친구들에게 인기 있는 사람이 되고 싶은데 안 되니 슬퍼. 내가 날씬해지면 인기가 많아질 것 같아. 최신 유행하는 머리를 해서 친구들에게 인정 받으면 기쁠 것 같아. 일등을 해서 부모님을 기쁘게 하려고 했는데 그러질 못해 속상해. 공부를 잘 해서 모두가 나를 우러러 보게 하고 싶어. 좋은 대학교에 들어가면 다들 나를 부러워할 것 같아. 나는 결혼을 약속한 애인이 있는데 회사 동료가 자꾸 눈에 밟혀. 내 마음을 잘 모르겠어. 회사가 얼마 전 부도를 맞았어. 실업자가 될지도 모르는데 이 상황에서 아이를 가져야 하는지 의문이야. 회사 동료가 나에게 다가와 사귀어 보는 것이 어떠냐고 말했지만 나는 그의 고백을 거절했어. 회사 동료가 우리 결혼식에 와서 난동을 부려서 너무 당황스러웠어. 나한테는 사랑하는 사람이 있는데 부모님이 그 사람을 싫어하셔. 그 사람 집안이 가난해서 싫으신가 봐. 입사 동기는 내가 자신을 대하는 태도가 달라졌다고 생각했는지 언제부터인가 나를 피하기 시작했어. 내가 임신했다는 사실을 알게 됐어. 너무 당황스러워. 부모님이 내 임신 사실을 알지 못할 거라고 생각했는데 알고 있다고 하셔서 당혹스러웠어. 애인과 호프집에서 데이트를 하는데 예전에 만났던 애인과 마주쳤어. 오늘 늦잠을 자버려서 지각할까봐 아빠 차를 타고 학교에 왔는데 친구들이 아빠 차를 보더니 수군거렸어 자꾸 뭐를 나서서 하려고 할 때 마다 사람들 눈치를 보게 되서 너무 당황스러워. 우리 집이 가난한 걸 들키기 싫어서 학교에서 우리 집이 잘 사는 척 했어. 친구들과 놀러 가는 중에 군고구마를 팔고 계시는 우리 아빠를 보고 정말 당황스러웠어. 항상 자신감 있는 오빠랑 같이 있다 보면 나도 모르게 주눅이 들어. 항상 나보다 예쁜 동생을 보고 있으니 나도 모르게 신경이 쓰여. 우리 집은 작고 초라해. 친구들은 자꾸 우리 집에 놀러오고 싶다는데 어떻게 해야 할지 모르겠어. 오늘 친구 집에 놀러 갔는데. 정말 집이 작아서 이런데도 사람이 사는 구나 했어. 오늘 학교에서 부모님에 대한 설명하는 시간이 있었는데 나도 모르게 엄마의 직업을 거짓말하고 말았어. 우리 집은 가난해. 근데 오늘 친구가 우리 집에 놀러온다고 하길래 거짓말을 했어. 난 아빠의 직업이 창피하고 부끄러워서 누가 아빠직업 물을까 봐 늘 겁이 나고 이런 내가 싫어. 며칠 후면 학부모 참관 수업이 있는데 부모님한테 차마 오라는 말을 못하겠어. 오늘 엄마가 학교를 왔는데 친구들과 함께 있어서 모른 척 했어. 몇 년 전 아빠가 크게 다쳐서 거동이 불편하신데 오늘 길을 가다 아빠를 보고 모른 척 했어. 학교에서 갑자기 친구가 아빠는 무슨 일을 하냐고 물어봤는데 사실대로 말하지 못하고 거짓말을 했어. 장애가 있는 동생이 놀이터에서 친구들에게 놀림을 당하고 있었는데 난 모른 척 하고 집으로 왔어. 우리 엄마는 공장에서 일을 하시는데 어제 나보고 공장일 그만두면 좋을 것 같냐고 물어보셔서 당황스러워. 친구들이 나한테 청첩장을 달라고 하는데 난 친구들에게 내 결혼식을 알리고 싶지 않아. 친구들이 내 결혼식장에 오면 우리 부부를 보여주는 게 용기가 나질 않아. 우리 사회는 이성애자에 비해서 동성애자가 겪는 어려움이 너무 많아서 소외감을 많이 느껴. 좋아하는 사람이 있었는데 그 사람도 나를 좋아할 줄 알았는데 고백했다가 거절당해서 많이 당황스러웠어. 좋아하는 사람이 있는데 오늘도 그를 봤는데 고백할 자신이 없어서 인사만 하고 지나쳤어. 내가 동성애자라는 걸 분명히 알게 된 후 너무 당황스럽고 다른 동료들을 보면 열등감이 느껴져. 오늘 내가 좋아하는 사람이 내게 말을 건네 왔는데 너무 당황해서 고백하지 못했는데 지금 너무 후회가 돼. 나는 왜 친구가 없는 걸까? 너무 외롭다. 지금까지 나는 마음이 잘 통하는 친구는 만나지 못한 것 같아서 속상하고 고민이야. 부모님이 바쁘셔서 나한테 무관심한 것 같아. 점심시간에 점심을 같이 먹을 친구가 없어서 너무 외로워. 친구와 싸우고 혼자가 되니까 마음이 텅 빈 것 같고 외로워. 공부만 하다보니까 친구들을 사귈 여유도 없고 그래서 주변에 친구도 없고 너무 외로워. 하루 종일 학교랑 학원에만 있으니까 친구들이랑 만날 여유도 없고 연락도 쉽지가 않아서 외로워. 나는 혼자야 그래서 너무 외롭고 힘들어. 가장 친한 친구가 나랑 다른 진로 분야를 선택해서 너무 속상하고 외로워. 공부만 하다보니까 친구들이랑 지내기가 너무 어려워져서 외롭고 힘들어. 힘들 때마다 너무 외롭고 힘든데 위로해줄 사람도 없어서 더 외롭고 힘들어. 같이 학교에 등교하고 점심을 같이 먹을 친구가 없으니까 외롭고 쓸쓸해. 나 지금 너무 충격적이야. 아빠가 술에 취해선 나보러 입양아라고 소리쳤어. 밥 먹고 있는데 언니가 갑자기 학교를 자퇴하겠다고 선언했어. 나 어떡하지? 내가 그저께 학원 다니기 싫다고 했더니 엄마가 그럼 가지 말라고 하셔서 너무 당황스러워. 아빠가 어젯밤에 갑자기 입양에 대해서 어떻게 생각하는지 물어보셔서 완전 당황했어. 엄마가 자꾸만 나한테 엄마를 얼마나 믿느냐고 물어보시더라? 너무 뜬금없었어. 사실 내가 며칠 전에 아빠 지갑에서 돈 만원을 꺼내 썼어. 몰래 말이야. 엄마가 그러는데 우리 집이 이사를 간다고 하네? 그것도 당장 다음주에. 당분간 우리 집에서 할머니랑 할아버지가 같이 사신대. 너무 당황스럽네. 엄마가 어떤 아저씨를 데려와서는 인사를 시켜줬거든? 근데 너무 당황스러워서 방으로 도망 왔어. 와 이게 무슨 감정인지 잘 모르겠어. 기쁜 건지 당황스러운 건지 도통 모르겠어! 큰일 났어! 우리 가족이 시골로 이사 간대! 내가 좋아하는 일을 해야 할지 부모님이 원하는 일을 해야 할지 모르겠어서 혼란스러워. 내가 올바른 방향으로 공부하고 있는 건지 모르겠어서 혼란스러워. 남자친구 집에서 데이트를 하는데 어머님이 방문하셔서 당황스러워. 결혼식 일주일 전에 식장예약이 취소돼서 많이 당황스러워. 남자친구가 갑자기 연락을 끊고 잠수를 타서 너무 당황스러워. 부모님이 자꾸 주변사람들에게 나를 자랑하시는데 나는 그게 너무 낯 뜨거워. 음악시간에 친구들 앞에서 노래를 부르는데 너무 민망해. 친구들 앞에서 자기소개를 하는데 너무 긴장이 돼. 시험 후에 친구들과 답을 맞춰보는 게 너무 창피해. 혹시라도 내 점수가 안 좋게 나왔으면 어쩌지? 친구가 나보다 좋은 대학에 갔는데 축하는커녕 짜증을 냈어. 당황스러워. 진로가 바뀌었는데 내가 평소 싫어하던 친구랑 같아. 그 애만 잘 될까 봐 걱정이야. 친구가 나랑 같은 계열로 바꿀까 봐 걱정이야. 동생이 나보다 공부를 잘해서 늘 칭찬 받는데 괜히 동생이 미워져. 화장실에서 볼일을 보고 있는데 동생이 노크도 없이 문을 열어서 짜증났어. 내신 성적이 완전 망했어. 엄마에게 너무 미안해. 오빠한테 실수로 내 웃긴 사진을 보냈는데 엄청 놀려서 창피해. 아빠한테 애교를 부렸는데 날 한심하게 쳐다봐서 상처받았어. 걸어가다가 넘어졌는데 동생이 그 장면을 목격했어. 너무 창피해. 아빠가 들어온 줄도 모르고 계속 옷을 갈아입었어. 왠지 창피해. 아빠에게 요즘 유행하는 말을 보냈는데 전혀 모르시더라. 세대 차이가 실감 났어. 엄마한테 웃긴 농담을 했는데 정색하셔서 민망했어. 토할 것 같아. 왜냐면 언니가 남자친구랑 통화하면서 애교를 부리거든. 왜 사람들이 자꾸 나보고 예쁘다고 할까? 너무 부끄러워. 평소에 학교에서 날 때리고 괴롭히는 친구가 있는데 나보다 항상 국어 성적이 더 좋아 너무 짜증나. 학교 선생님이 나보다 날 괴롭히는 뻔뻔한 그 친구를 더 좋아하는 게 티가 나서 속상하네. 학교에서 아무도 나에게 다가오지 않고 난 혼자인거 같아. 내가 못생겨서 그런 걸까? 학교에 괴롭히는 애들이 있어 무섭고 힘든데 내가 저항해봤자 소용없을 것 같아. 아이들에게 괴롭힘을 당하는 것 때문에 난 아마 좋은 대학에도 못 갈 거야. 친구가 내 회사를 알게 될까 봐 명함을 숨겼어. 난 기술직 일을 하는 게 창피해. 그래서 오늘 무슨 일 하냐는 질문에 거짓으로 답했어. 난 내 직업에 자신이 없어. 그래서 맞선자리에서 직업을 확실히 말하지 않았어. 난 사내연애를 하고 있는데 요즘 좀 눈치가 보여. 직장을 그만두어서 시험을 준비하고 있었는데 친구를 만나서 매우 놀랐어. 길거리에서 부모님과 있을 때 친구를 마주쳤는데 당황해서 시선을 돌렸어. 친구들이 무슨 일을 하나 물었는데 나도 모르게 거짓으로 말했어. 직장에서 몰래 쉬고 있었는데 상사가 지나가서 급하게 집중하는 척을 했어. 회사 면접장에 아는 동생이 있어서 무척 당황했어. 동기가 실적을 궁금해 했는데 대답을 해주지 않았어. 내가 동생 신발을 몰래 신어서 미안하다고 했는데도 나를 못 본 척해서 당황스러워. 오늘 아빠 표정이 안 좋아서 내가 매달리고 장난을 쳤는데 정색하고 무시해서 당황스러웠어. 내가 미래의 진로에 대해서 말했는데 엄마는 말이 없으셔서 당황스러웠어. 엄마는 나한테 관심도 없고 외출 준비만 하셔서 당황스러워. 집에는 나만 두고 다들 근사한 맛집에 간 거야? 정말 당황스럽네. 학교에서 성적표를 받았는데 성적이 안 좋아서 당황했어. 친구들이 볼까 봐 엎드려 있었어. 내 표정이 어두우면 성적이 낮다는 게 들통날까 봐 억지로 웃었어. 이런 내가 싫어. 학교에서 쪽지시험 채점을 했는데 오답인데도 정답으로 채점했어. 내 시험지를 채점하는 친구한테 오답을 정답으로 채점해 달라고 부탁했어. 이런 내가 부끄러워. 친해지고 싶은 친구한테 잘 보이고 싶어서 내 성적을 자랑했는데 반응이 좋지 않았어. 당황스러워. 친구가 시험 성적을 물어봤는데 나도 모르게 잘 봤다고 거짓말을 했어. 당황스러워. 나는 다른 사람한테 과시하려고 일부러 시험 성적이 보이도록 펼쳐 놔. 안 그래야지 하면서도 이러니까 당황스러워. 엄마와 길을 걸으면 사람들이 촌스러운 엄마 파마머리를 쳐다보는 것 같아서 창피해. 오늘 학교에 아빠가 작업복을 입고 면담을 오셨는데 옷차림이 신경이 쓰이더라. 형이랑 같이 길을 뛰어가다가 돌에 걸려서 넘어져서 부끄러웠어. 아까 집에 오는 길에 누나를 만났는데 누나가 내 신발이 짝짝이라고 놀려서 창피했어. 저녁 때 가족들이 모여서 식사하는데 엄마가 옷에 밥풀이 묻었다고 해서 부끄러웠어. 누나랑 같이 다닐 때 사람들이 누나와 나를 자꾸 번갈아 쳐다보는 것 같아서 기분 나빠. 부모님이 학교 선생님이니까 눈치가 보여서 학교에서 아무것도 못 하겠어. 옷에 가격표를 떼지 않아서 형한테 놀림을 받았어. 누나는 자기가 정말 예쁜 줄 아나 봐. 형이랑 놀러 나왔는데 웃옷을 거꾸로 입어서 신경 쓰여. 누나가 머리를 짧게 잘랐는데 사람들이 쳐다보는 게 싫은가 봐. 체육시간에 나만 혼자 짝을 못 구했어. 친구들이 나를 미워하는 거 같아. 친구들 사이에서 따돌림 당하는데 학교에서 친구들의 눈치만 보게 돼. 따돌림 당하는 친구를 도와주지 않고 멀리한 것이 후회가 된다. 학교폭력 가해자로 낙인 찍혀서 우리 부모님까지 손가락질을 당했어. 선생님께 말씀드리면 보복할 걸 알아서 얘기 못한 친구에게 미안한 느낌이 들어. 친구에게 괴롭힌 것을 사과하니 친구가 웃으며 사과를 받아줬어 . 미안하면서 고맙더라. 아빠랑 길을 가다가 차에 치인 고양이 사체를 봤는데 너무 혐오스런 느낌이었어. 아빠가 맛있는 별식이라며 메뚜기를 볶아주셨는데 그게 너무 혐오스러웠어. 엄마가 신문을 보시다가 성소수자를 차별하는 발언을 했는데 그 모습이 너무 혐오스러웠어. 지하철 임산부 배려 석에 앉는 누나를 보고 혐오를 느꼈어. 동생이 길을 가다가 들고 있던 쓰레기를 아무데나 버리는 걸 보고 혐오스러웠어. 여자 친구와 과자를 먹는데 친구의 교정기가 갑자기 빠져서 당황스러웠어. 안면도 없는 것 같은 이대리가 나에게 고백을 했는데 어찌해야 할지 혼란스럽네. 내가 수업시간에 필기해놓은 책을 잃어버렸어. 너무 당황스러워. 달리기를 잘한다고 체육대회 때 계주로 뽑혔어. 하지만 나는 주목 받기 싫어. 저번 수업시간에 졸다가 이번 시간에 쪽지 시험이 있는 걸 몰랐어. 출산까지 했는데 너무 외로워. 같이 다니던 친구들이 갑자기 사귄대. 갑자기 마음이 너무 싱숭생숭해. 남자 친구가 가끔 나를 너무 힘들게 해. 남편이 너무 변했어. 헤어지면 괜찮을 것 같았는데 너무 힘들다. 남자친구가 있는데도 너무 외로워. 탕비실에서 스킨십하는 사내 커플을 봤는데 회사에서까지 그러는 게 혐오스럽더라고. 부장이 이번 일에 대해 희생양이 될 팀원을 찾아오래. 회사직원들이 내가 부장님을 성희롱으로 고소했다고 거짓 소문을 냈어. 상사가 뒷돈 받고 비리를 저지르는 걸 봤어. 평소 믿고 따르던 분인데. 유부남인 상사가 신입과 불륜을 저지르는 것을 알고 나니 두 사람 모두 혐오스럽게 느껴져. 취업도 어려운 요즘인데 기업들이 채용 인원을 더 줄이겠대. 임원이 항상 욕하면서 일을 지시해서 혐오스러워. 회사 간부들이 조폭들과 친하게 지냈다는 사실이 밝혀졌는데 당황스럽네. 주변 사람 모두가 취업에 성공하자 나만 홀로 남은 것 같아. 취업한 친구들과 얘기할 때 공감하지 못 하는 부분이 많아지기 시작했어. 꿈에 그리던 회사에 입사했으나 여가시간이 너무 줄어 되레 외로워졌어. 취업에 성공해 행복해하는 친구들을 보면 혼자 시험을 공부하는 내 모습이 초라해지는 것 같아. 지방으로 취업해 가족들과 떨어지게 되어 혼자 사는 것이 외로워. 이번 직장은 전 직장이란 달리 삭막해서 너무 외로워. 프리랜서 생활을 하니 의견을 나눌 상대가 없어서 많이 외로워. 같은 직종에 있던 친구가 그만둬서 업무 관련 고민을 털 사람이 사라졌어. 가장 친한 동기가 갑자기 회사를 그만둬서 너무 외롭고 당황스러워. 상사가 나한테 중요한 프로젝트를 맡겨서 혼자 야근하는데 너무 짜증 난다. 직장에서 큰 실수를 해서 사과를 했는데 아무도 안 받아줘서 너무 외로워. 내 동생이 갑자기 친한 척하는데 좀 당황스럽고 어떻게 해야 할지 모르겠어. 오늘 학교에서 돌아와 내 방을 열었더니 엄마가 계서서 당황했어. 아빠가 회사 동료들이랑 자식 얘기를 하셨는지 성적표 얘기를 하셨어. 아직 기말고사 성적이 나오지도 않았는데 당황해서 뜨끔했어. 오빠가 여자친구가 생겼대서 당황했잖아. 매일 남자친구들만 데려오면서 무슨. 엄마가 엄청 엄하신데 남자친구한테 편지 답장하던 걸 들켜서 당황스러워. 동네 마트에서 아내 생리대를 사는데 시선을 어디다 둘지 모르겠더라고. 그 때 부끄러웠어. 신혼 첫 날 밤에 그녀와 나는 평소와 달리 어색했어. 그래서 당황했어. 바람 피우고 있는 것을 아이에게 들켰어. 그래서 당황했어. 회의시간에 친구들과 장난 치는 영상을 잘못 틀어서 너무 부끄러웠어. 친구가 괜찮은 남자라고 해서 소개를 받았는데 알고 보니 바람둥인 걸 알고 당황했어. 가장 친한 친구가 남자 친구도 없었는데 갑자기 결혼을 한다고 해서 너무 놀랐어. 방금 화장실 청소를 끝내고 나왔는데 친구가 화장실이 급하대. 형의 성적표가 나왔는데 또 전교에서 꼴찌를 했어. 그런 형을 볼 때마다 너무 한심해. 누나는 나이를 먹었는데도 취업이나 일을 할 생각을 하지 않아. 너무 한심해. 우리 아빠는 항상 밤늦게 술에 취해서 들어오셔서 난동을 부리시니까 너무 한심하다고 느껴져. 우리 엄마는 도박을 좋아하셔. 돈을 걸고 항상 따온다며 빚을 지는 모습을 보면 한숨이 나와. 우리 형이 저축하고 있던 큰 금액을 전부 주식에 쏟아 부은 거 있지. 형이 너무 한심해. 누나는 항상 가지고 싶은 물건이 있으면 남의 물건을 훔쳐. 그런 누나가 너무 부끄러워. 동생의 저금통에 동전을 자주 넣는데 일주일이 지나면 다시 빈 깡통이 되어버려. 내 동생이 너무 한심해. 아빠가 하시던 사업이 망했는데 괜히 세상과 엄마의 탓으로 자꾸 돌려. 그런 아빠가 너무 한심해. 누나는 항상 자기가 쓴 물건이나 먹은 음식을 스스로 치울 생각을 안 해서 한심하게 느껴져. 부모님은 우리 형이 전교 꼴찌라는 이유로 서로의 머리가 나쁘다고 싸우는데 그게 한심하게 느껴져. 누나는 항상 다이어트를 하겠다고 말만 늘어놓고 정작 실천하지 않아. 누나가 너무 한심해. 따돌림 당하기 싫어서 한 친구를 같이 괴롭혔어. 내 자신한테 너무 화가 나. 여자 친구가 한 달째 내 연락을 안 받아서 무슨 일이 생긴 건지 걱정 돼. 아내가 아이들을 모두 데리고 친정으로 돌아갔어. 나에게 화가 난 걸까? 아내가 갑자기 이혼을 하자며 자신이 사랑하는 남자를 소개해서 너무 혼란스러워. 여자 친구가 나한테 인사도 없이 고향으로 떠나버려서 너무 슬퍼. 아내와 이혼하고 나니 아이들까지 나를 무시하기 시작해서 너무 당황스러워. 아내가 나랑 싸우고 본가로 돌아갔는데 부모님조차도 나만 타박하셔서 당혹스러워. 딸만 둘을 낳는 바람에 집안에서 나 혼자 남자가 되어서 고립된 기분이야. 아내가 나를 가정폭력으로 신고해서 나 혼자 격리 조치되어서 너무 슬퍼. 내가 꼴 보기 싫다며 같이 살던 집에서 쫓겨나서 너무 혼란스러워. 아내와 싸울 때마다 아이들은 항상 아내 편만 들어서 너무 속상해. 갑작스럽게 회사에서 인사발령이 나서 너무 당황스러워. 요즘 회사에서의 규칙이 바뀌어서 적응하기가 힘들어. 직장 상사에게 성추행을 당해서 너무 무섭고 어떻게 해야 할지 모르겠어. 경쟁회사에서 더 좋은 조건으로 나에게 스카우트 제의를 해서 어떻게 해야 할지 고민돼. 태풍 때문에 공무원 시험 날짜가 변경되어 혼란스러워. 직장 내 괴롭힘 금지법의 기준이 애매해서 회사 전체가 혼란스러워. 내일이 첫 출근인데 어떤 옷을 입어야 할지 모르겠어. 내가 선택한 전공이 나와 맞는 길인지 잘 모르겠어. 곧 결혼을 하는데 직장을 계속 다녀야 할지 고민돼. 지금부터 공무원 시험을 준비해야 할지 재수해서 더 좋은 대학을 가야 할지 모르겠어. 블라인드 채용 확산 때문에 자기소개서를 준비하는 게 너무 혼란스러워졌어. 회사에서 회의 도중 사람들 앞에서 나도 모르게 방귀를 뀌었어. 너무 부끄러웠어. 일하고 있는 도중에 큰 소리로 노래를 따라 불렀어. 나도 모르게 나와서 부끄러웠어. 상사와 이야기하고 있는데 배에서 계속 소리가 나서 너무 당황스러웠어. 친구가 집에 놀러왔다가 제일 웃긴 내 사진을 보고 말았어. 아무한테도 보여주고 싶지 않은 사진이었어. 라디오 프로그램에 내 이별 사연을 보냈는데 친구가 내 얘기 아니냐며 연락이 왔어. 나는 크게 당황했어. 친구랑 퀴즈쇼를 보다 호언장담하며 정답을 말했는데 틀려서 숨고 싶었어. 나에게 경미한 장애가 있다는 걸 친구에게 들켜버렸어. 순간 너무 당황스러웠어. 회사 사람들이 어버이날 선물 얘기를 하다 내가 부모님이 없다는 사실을 알았어. 당황스러웠어. 아침에 과식을 해서 회의 도중 트림을 해버렸어. 쥐구멍으로 숨고 싶었어. 아침을 굶어서 식당에서 혼자 게걸스럽게 먹고 있었는데 회사 사람들이 보고 있었어. 당황스러웠어. 후배에게 태권도를 보여주다가 우스꽝스럽게 넘어져서 너무 부끄러웠어. 후배들 앞에서 직접 작성한 발표 자료에 맞춤법이 너무 많이 틀려서 부끄러웠어. 나만 오늘도 야근이야. 어두운 사무실에서 늦게까지 혼자 일하는 게 힘들어. 내성적이고 숫기가 없는 편이라 첫 수업에 아는 얼굴이 아무도 없어서 당황스러워. 회사에서 옆 자리 생활을 했던 동기가 퇴사를 해서 마음이 허전해. 외로움을 유난히 많이 타서 자취방에 매일 친구를 불렀어. 친구를 초대해 술을 먹고 있는데 친구가 여자 친구를 보러 가야한다며 불쑥 가버렸어. 늦게까지 사무실에서 일을 하다가 문득 주변을 보니 아무도 없어서 울컥했어. 회사에서 워크숍을 간다고 조를 짜고 있는데 아무도 나를 찾아주는 사람이 없어. 이달의 우수사원으로 뽑혔는데 축하받는 게 아직은 쑥스러워. 직원들이 보는 앞에서 부장님께 혼났어. 엄청 부끄럽고 창피해. 회사가 마음에 안 들어서 친척들에게 내 회사를 소개하기가 부끄러워. 친구들은 직장을 다녀서 아직 백수라고 말하는 게 부끄러워. 회사 동료가 회식 자리에서 큰소리로 고백했어. 너무 당황스럽고 부끄러워. 동기랑 사귀는 게 회사에 소문이 나서 부끄러워. 회사 실적이 게시판에 올라왔는데 꼴등을 했어. 부끄럽고 속상해. 나도 모르게 사무실에서 방귀를 뀌었는데 소리가 다 들려서 창피해. 어제 회식자리에서 술에 취해서 기억이 안 나. 술주정을 부린 것 같아서 부끄러워. 동료들에게 이혼했다고 말하는 게 아직 부끄러워. 내가 음주운전 한 게 회사에 소문이 났어. 부끄러워서 고개를 들 수가 없어. 엄마가 아끼는 화분을 깨고 당황해서 동생이 그랬다고 거짓말했어. 하나 남은 과자를 동생이 먹고 싶다고 했는데 나도 모르게 준비물이라고 거짓말 했어. 간식이 많이 남았는데 누나한테 나눠주기 싫어서 없다고 거짓말한 게 미안해. 친구랑 싸운 것 때문에 아빠가 학교에 와서 친구 부모님께 대신 사과하는 모습에 너무 죄송했어. 학교 가기 싫어서 아프다고 꾀병을 부렸는데 엄마가 너무 걱정하셔서 당황스러워. 꾀병을 부렸는데 걱정된다며 죽을 끓여주신 엄마한테 죄책감이 들어. 아빠가 퇴근하는 길에 교통사고를 당하셔서 너무 죄책감이 들어. 엄마한테 혼나는데 형이 한 거라고 떠넘겼어. 생각보다 심하게 혼나서 당황스러워. 어린 동생을 돌보는 게 귀찮아서 부모님이 안 계실 때 동생한테 해코지한 게 너무 미안해. 형이랑 장난치다가 실수로 형의 눈에 상처를 냈어. 피가 너무 많이 나서 당황했어. 아빠 지갑에서 돈을 조금 훔쳤는데 아빠가 나를 대하는 행동이 달라져서 당황스러워. 독서실 다닌다고 받은 돈을 다른 곳에 썼는데 독서실에 잘 다녀오라면서 용돈을 더 주셔서 당황스러워. 내 옆을 지나가던 친구가 실수인 척 내 노트 위에 물을 쏟았어. 너무 놀라서 나도 모르게 표정이 일그러졌어. 성적표가 나왔는데 지난번 보다 떨어졌어. 아빠가 또 혼내실 것 같아. 어제는 시험공부를 해야 하는데 집중이 되지 않아서 결국 만화책만 보다가 하루가 다 지나갔어. 오늘 진학상담을 했는데 내 성적으로는 갈 수 있는 대학이 없다고 하셨어. 내 공부 방법에 대해 친구가 자꾸 효율적이지 못하다고 지적해. 나한테 신경 좀 꺼줬으면 좋겠어. 친구들은 다들 열심히 공부하는데 나만 혼자 뒤처지는 것 같아서 불안하고 초조해. 우리 반 담임선생님은 성적이 떨어진 친구들을 공개적으로 호명하고 앞에 불러내서 때리기까지 해. 너무 싫어. 큰일 났어. 오늘 마지막 시험에서 답안지에 답을 밀려 써서 빵점 맞았어. 내가 다니는 학원 선생님은 학생들을 부모님 직업과 재산으로 구분 지어. 굉장히 속물이야. 인성은 중요하지 않고 오로지 성적으로만 급을 매기는 애들이 있어. 너무 싫어. 우리 가족들은 성적이 떨어지면 나를 너무 무시해. 가출이라도 하고 싶어. 학교에서 폭력을 당하고 있다고 부모님께 말했는데 부모님이 아무 반응이 없어. 오늘 학교에 갔는데 갑자기 친구들이 나를 무시하고 따돌렸어. 내 편이던 친구가 전학 가고 나서 다른 아이들이 나를 다시 괴롭히기 시작했어. 선생님이 내 편이 아닌 가해자들의 편을 들어서 너무 황당해. 반 친구들이 나에게도 잘못이 있다고 얘기해서 너무 속상해. 반 아이들에게 조용히 하라고 했는데 모두가 내 말을 무시했어. 너무 속상해. 갑자기 반 아이들이 나에게서 멀리 떨어졌어. 너무 슬퍼. 가해자 무리가 나를 반장으로 억지로 만들었어. 너무 당황스러워. 내가 급식실에 앉자 모두가 자리에서 떠났어. 너무 슬퍼 체육대회에서 나만 빼고 모두 짝을 만들었어. 너무 당황스러워. 선생님이 나에게 오히려 전학을 권했어. 너무 화가 나. 현실 친구가 필요해. 온라인 친구들만 있으니까 한 번씩 외로워. 회사 구내식당에 왔는데 같이 먹을 사람이 없어서 혼자 밥을 먹고 있어. 너무 어색하다. 회사에 친한 사람도 없고 화장실밖에 마음 편한 곳이 없어. 너무 외로워. 친구들과 놀러 가던 중 버스에서 내가 깜빡 잠들었는데 나를 깨우지 않고 내려버렸어. 너무한 거 아니야? 회사 자리 배치가 바뀌었어. 그런데 나만 혼자 동떨어진 자리에 앉게 돼서 당황스러워. 이번에 부서 이동을 하게 됐는데 여기엔 아는 사람이 하나도 없어서 외롭다. 마음 편히 같이 술 마실 사람이 없어서 혼자 술집에 왔는데 외롭고 술 맛이 없었어. 요즘 동창회 가기가 꺼려져. 취업된 애들이 회사 애기만 잔뜩 꺼내니까 소외감이 느껴져. 공장에 취업했는데 젊은 사람이 나밖에 없어서 다들 세대 차이가 느껴지니 거리감이 느껴져. 동호회에서 등산을 하다가 실수로 코스를 이탈하는 바람에 낙오돼 버렸어. 유학을 갔다 온 친구들이 한 번씩 내 앞에서 영어로 대화를 하는데 그럴 때마다 기분이 별로야. 일 학년 때 잘 지내던 친구가 이학년이 되니 날 피하는 것 같아 서먹서먹해 졌어 우울해. 친구들이 나를 좋아하지 않는 것 같아 친구 사귀는 게 무서워. 차라리 혼자가 편한 것 같아. 친구들과 반이 나눠져서 나만 다른 반이 되어서 속상해 시험 끝나고 답을 맞춰보고 싶었는데 내가 공부를 못한다고 친구들이 나를 끼워주지 않아서 속상했어. 선생님이 조별 과제를 위해 팀을 짜라고 하셨는데 아무도 나에게 같이 하자고 하지 않아서 불안해. 요리사가 되고 싶은데 부모님도 친구들도 아무도 응원해 주지 않아 화가 나. 부모님은 내가 좋아하는 건 관심이 없고 오직 내 성적만 중요하게 생각하셔. 프로게이머가 되고 싶은데 선생님은 그런 나를 한심하게 생각하는 것 같아서 속상해. 학교에서 안 좋은 일이 있어서 방에 혼자 있어도 가족들이 물어봐 주지 않아서 속상해. 부모님이랑 싸워서 기분이 우울하니 세상에 나 혼자 있는 것 처럼 느껴져서 외로워 부모님 몰래 남자친구를 사귀고 있는데 거짓말 하는 게 너무 죄책감이 들어. 기분이 안 좋아서 친구에게 쌀쌀맞게 대했어. 지금 생각해보니까 너무 미안하네. 남자친구 몰래 클럽에 간 적 있는데 남자친구한테는 간적 없다고 거짓말했어. 남자친구 말고 다른 사람이 좋아져. 남편에게 거짓말을 했어. 남자친구와 싸우다 흥분해서 남자친구 얼굴을 때렸어. 결혼 전에 잠시 외도를 했어. 그게 자꾸 떠올라서 마음에 걸려. 산부인과 검진을 하러 갔는데 내가 먹은 음식 때문에 아이가 위험하대. 결혼 전날에 전 남자친구에게 연락이 와서 맘이 흔들렸어. 난 남자친구가 있는데 선배가 사귀자는 말에 흔들렸어. 얼마 전 아이를 유산한 것이 모두 내 잘못인 것 같아. 언니는 나보다 다재 다능해서 부모님의 사랑을 독차지하는 중이야. 너무 외로워. 나는 말을 잘 듣고 동생은 사고만 치는데 엄마는 나만 혼내. 너무 외롭고 속상해. 집에 아무도 없을 때 혼자 밥을 먹으면 외로울 때가 종종 있어. 나보다 좋은 곳에서 많은 연봉을 받는 친구들을 보면 자존감이 떨어져. 지금 갑자기 경찰서에서 연락이 왔는데 내 여자 친구가 거기 있대. 이게 무슨 일이야. 출산 예정일도 아닌데 진통이 와서 혼자 출산하게 되었어. 겨우 결혼한 지 일주일 밖에 안됐는데 남편이 벌써부터 술 먹고 외박을 했어. 남편하고 이혼하고 당장 잘 곳이 없어서 너무 곤란해. 난 사실 부모님도 안계시고 친구도 없어서 결혼식에 초대할 사람이 없어. 남편이랑 이혼을 하려고 하는데 아이들이 다 내가 아닌 아빠를 따라가겠다고 하네. 다른 사람들 시선 때문에 여자친구가 회사에서 스킨쉽을 못하게 했더니 서운해해. 거리에서 아내에게 화가 나서 손찌검을 할 뻔했는데 사람들 때문에 당황스러워서 자리를 피했어. 아내와 소리 지르며 싸우는데 아이들이 깨서 방에서 나오는데 어떻게 생각할까 싶어 참았어. 여자친구랑 길을 걷다가 전 여자친구를 보고 방향을 틀었어. 둘 다 눈치채지 못했겠지? 전 여자친구의 친구라는 이유로 호감이 있던 여자의 고백을 당황스러운 마음에 거절했어. 친구들 모임 자리에 이혼한 아내가 왔는데 사람들 시선 때문에 아무렇지 않은척 했어. 남편에게 출산하는 모습을 보이는 게 부끄러워. 처음 남자를 사귀는데 남자 친구의 스킨십에 어떻게 해야 할지 모르겠어. 부끄럽게 남편은 애들 있는 데에서 뽀뽀를 하려고 해. 남자 친구가 사람이 많은 길거리에서 결혼 프러포즈를 해서 많이 부끄러웠어. 신랑과의 결혼 첫 날 밤을 어떻게 보내야 할지 걱정이야. 학교에서 남자 친구가 계속 애정 표현하는데 누가 지나갈까 봐 부끄러워. 어리게만 보았던 과 후배가 오늘 갑자기 많은 사람들 앞에서 나에게 고백했어. 너무 놀랐어. 술김에 오래 알고 지낸 친구에게 고백해 버려서 많이 부끄러워. 새신부인 내가 어제 신랑 앞에서 방귀를 뀌고 말아서 부끄러워. 친구가 매일 술을 마셔서 취해 있어. 만날 때마다 취해 있으니까 얘가 왜 이러나 싶어서 좀 당황스러워. 정 팀장은 항상 지각해. 내가 당황스러울 정도야. 윤 과장이 자꾸 여자를 소개해 달래. 당황스러워. 친구는 항상 위조품 들고 다니면서 자랑해. 당황스러워. 내가 지각하는 실수로 팀플레이 프로젝트는 완전히 엎어졌어. 내가 돈을 받고 범인을 풀어준 비리가 들통나면서 유가족들에게 죄책감이 들었어. 이번 연도 마지막 남은 회사 면접까지 떨어지자 부모님께 죄송한 마음이 들었어. 나보다 일을 더 잘하는 친한 동기의 업무 일지를 훔쳐 가려다 들켜 미안한 마음이 들었어. 나와 함께 중요한 업무를 하고 있는 대리의 노트북에 모르고 커피를 쏟아 사과드렸어. 처음 하는 발표라 긴장한 나머지 중요한 데이터를 빠뜨려 오랫동안 준비했던 발표를 망쳤어. 어제 뉴스에 나온 사건에 대해 내가 얘기했던 말이 맞다며 신입을 혼냈으나 알고 보니 신입이 얘기한 것이 맞았어. 경기 악화로 위에서 내려온 압박 때문에 어쩔 수 없이 팀원 중 한 사람을 정리해야 한다는 사실이 미안해. 여자 친구네 집에 처음 가봤는데 고급 빌라여서 괜히 열등감이 들어서 당황스럽네. 아내가 돈 많은 남자에게 시집간 자기 친구를 자꾸 내 앞에서 자랑해서 기분이 나빠. 나 고백 받았는데 당황스럽네. 나 어이없는 얘기를 들었어. 어이없네. 아내랑 싸웠어. 기분이 안 좋네. 엄마랑 싸우고 집을 나왔는데 엄마가 온종일 나를 찾으러 돌아다니셨어. 너무 죄송스러워. 나도 공부를 잘하는데 부모님이 일등인 형만 칭찬해서 서운해. 형은 뭐든지 나보다 잘해서 형이 미워. 내가 잘해도 소용이 없어. 형이 없으면 나도 가족들에게 인정받을 수 있을 거야. 나도 잘하는 게 있는데 형한테 묻혀. 요즘 먹기 싫은 우유를 억지로 마시고 있는데 괴로워. 엄마는 맨날 형을 본 받으래. 난 형이 아닌데. 할머니는 맨날 형한테만 용돈을 많이 줘서 섭섭해. 형이 지나치게 머리가 좋아서 내가 머리가 나쁜 것 같이 보일 때가 있어. 학교 폭력 가해자는 왜 피해자에게 사과하지 않는 걸까? 그런 걸 보고 있자니 가해자의 태도가 너무 한심해. 애들이 나를 따돌리고 있어. 내가 학교폭력 피해자라는 게 한심하게 느껴져. 회식자리가 불편해서 회식을 할 때마다 나는 혼자 겉돌아. 친한 친구들이 갑자기 나를 따돌려서 많이 당황스러워. 학교에서 따돌림 당해서 괴로웠어. 학교에서 나를 괴롭히던 친구가 오늘은 갑자기 사과를 하더라고. 아빠가 내게 주신 용돈을 다시 가져가셨는데 안 돌려주시니 황당해. 담임선생님이 내가 지원하는 과에 안 어울린다고 하셔서 고민이야. 닌 지금 남자친구가 너무 좋아. 그런데 나만 그 사람을 좋아하는 것 같아 당황스러울 때가 있어. 내가 어릴 때 아빠가 돌아가셔서 엄마가 생활전선에 뛰어 드셨어. 그런데 요즘 엄마의 뒷모습이 외로워 보여. 남자친구와 헤어진 지 꽤 오래 되었는데 요즘 들어 종종 전 남자 친구가 그리워. 엄마가 돌아가신 후로 아빠는 쭉 혼자 생활하셨는데 갑자기 재혼을 하시겠다고 하셔서 당황스러워. 지갑이 땅에 떨어져 있길래 주웠는데 주변에 사람이 많아서 내 지갑인 척 했어. 분명 잘 지내던 동료들인데 하루아침에 쌀쌀 맞게 바뀐 동료들의 태도가 당황스러워. 체육시간 끝나고 쉬는 시간에 남자애들이 반에서 옷을 갈아입어서 황당했어. 수업시간에 선생님께서 학생들을 차별하시는 게 너무 역겨워. 융통성이 없는 선생님들 수업을 계속 들어야하는 것은 너무 혐오스러워. 내가 혼자 있으면 날보고 수군거리는 친구들의 시선이 너무 싫어. 방학동안에 실컷 놀아놓고 내 숙제를 보여 달라는 애들이 미워. 학교에서 무리지어 다니면서 친구 한명을 따돌리는 애들을 보고 너무 혐오스럽다고 느꼈어. 회사에서 허세 가득하고 잘난 척만 하는 선배가 한심해보여. 김 대리가 어제 회식에서 술을 너무 마셔서 실수를 저질렀는데 참 한심해보였어. 요즘 취업이 안돼서 며칠 집에서 뒹굴 거렸더니 부모님이 한심하게 보시는 것 같아. 항상 나를 믿어주셨던 상사 분인 중요한 프로젝트에서 실수를 해서 죄책감이 들었어. 친구의 남자친구를 좋아해서 결국 뺏어버렸어. 자꾸 나를 언니랑 비교해서 죄 없는 언니에게 화풀이를 해버렸어 내가 버튼을 눌렀는데 갑자기 복사기가 고장나버렸어. 너무 당황스럽다. 일을 하고있는데 갑자기 내 등 뒤로 과장님이 다가와서 당황했어. 내가 제안한 프로젝트가 정말로 승인되었다는 말에 당황했어. 항상 친절했던 사수가 나한테 화를 내면서 한 마디 했는데 깜짝 놀랐어. 새로운 회사에서 한 사람이 따돌림 당하고 있는 현장을 발견해서 당황스러워. 퇴근 후 늦게 잠이 들었는데 일어나보니 회사 점심시간이었어. 얼마 전에 나를 믿어주는 여자친구에게 나쁜 거짓말을 해서 계속 마음에 걸려. 어제 친구와 육아 얘기를 나눴는데 친구 아기용품이 모두 비싼 것 뿐이라 부러웠어. 잘사는 집 친구가 나는 어느 산후조리원에서 지낼 건지 물어보는데 대답해주기가 싫었어. 나보다 늦게 결혼했던 동서네가 또 임신했다는 소식을 들어서 당황스러워. 직장을 옮겼는데 겉돌고 있는 기분이야. 어떻게 해야 할지 모르겠어. 점심시간에 우르르 몰려가는 직원들 사이에서 혼자 밥을 먹었어. 속상하고 당황스러워. 친구들 사이에서 따돌림 당하는 기분이었는데 느낌 탓이 아니었어. 친척동생이 예상보다 빨리 취업을 해 집안에 백수는 나밖에 없어. 오빠는 새 컴퓨터 사주고 나한테는 오빠가 쓰던 낡은 컴퓨터를 줬어. 부모님은 착한 나보다 똑똑한 오빠를 더 좋아하는 것 같아. 아빠가 자꾸 옆집애는 공부 잘한다고 그 집 아이 이야기만 해. 언니는 학급임원도 하고 재미있어 보이던데 엄마가 나는 못하게 해. 언니는 좋은 학교 보내주고 나는 돈 없어서 일반학교에 갔어. 가족들이 나한테 언니처럼 공부하라고 자꾸 구박해. 동생 낳고 나서부터 엄마가 나를 소홀히 하는 것 같아. 언니는 항상 예쁜 옷만 입고 내 옷은 촌스럽기만 해. 아빠가 만날 아들이 집의 기둥이라면서 동생만 챙겨. 다 같이 공부하는 게 좋은데 그렇게 못 하게 해서 외로워. 급식 실에서 혼자 밥 먹을 때 사람들이 나를 쳐다보는 게 너무 싫어. 폭행당하는 친구를 보았는데 나도 피해를 볼까봐 도와주지 못했어. 오늘 체육시간에 나만 짝이 없는 게 창피해서 선생님께 아프다고 하고 수업에 빠졌어. 날 괴롭히는 친구들이 내 체육복을 더럽혀 놔서 도저히 입고 나갈 수가 없었어. 우리 언니는 요즘 밖에 나갈 때마다 엄청 화려하게 꾸미고 다녀서 좀 당황스러워. 명절 때마다 엄마는 친척들에게 내 자랑을 엄청 해서 당황스러워. 언니는 학교에서 성적 우수한 문학소녀인 척 해서 당황스러워. 오늘 반에서 다같이 이야기하고 있었는데 상위권 친구들만 따로 매점을 갔어. 오늘 시험점수가 나왔는데 내 성적이 너무 부끄러워서 친구들한테 말을 못 했어. 아빠가 내 컴퓨터를 쓴 이후로 컴퓨터가 작동이 안 돼. 동생이 너무나도 자기 방을 지저분하게 사용해서 큰일이야. 동생이 갑자기 나한테 이상한 메시지를 보냈어. 왜 이런 걸 보냈을지 너무 궁금해. 우리 집이 곧 이사를 가게 됐다고 하네. 지금 너무 머리가 아파. 남자친구가 내 친구와 바람을 피우고 있다는 걸 알게 되었어. 성폭행 당해 아이를 임신 했다는 사실이 나를 미치게 해. 돈 때문에 사랑하지 않는 남자와 결혼을 해야 해. 자꾸 살이 쪄서 뚱뚱해진 남자친구와의 스킨십이 끔찍해. 누나가 갑자기 샤워하고 있는데 들어왔어. 누나가 샤워하고 나왔는데 알몸인 상태로 나와 마주쳤어. 엄마가 샤워하는데 화장실을 들어가 버렸어. 친구에게 야한 책을 빌려왔는데 누나에게 걸렸어. 형이 운동하는 게 멋있어서 따라했는데 나는 한 개도 못 했어. 아빠가 친척들에게 내 칭찬을 계속하셨어. 좋아하는 여자애한테 고백편지를 쓰는데 형이 뺏어갔어. 가족여행 가는데 차안에서 소변이 너무 마려워 울어버렸어. 방에서 성인 영화를 보는데 엄마한테 들켰어. 가족끼리 텔레비전을 보는데 야한 장면이 나왔어. 아빠랑 나들이를 왔는데 내 바지가 찢어졌어. 학교 폭력 피해자의 어머니를 보고 죄책감의 휩싸여 사과했어. 내가 괴롭히던 아이가 자살을 해서 장례식장에 찾아갔어. 지금이라도 사과하면 모든 걸 용서하겠단 피해자의 말에 멈칫했어. 사진첩을 둘러보다가 내가 괴롭히던 아이와 친했을 때 찍은 사진을 보고 미안해졌어. 엉망이 돼서 혼자 울고 있는 친구를 보고 도와주지 못하고 방관했어. 내가 한 폭력 때문에 힘들어하는 친구를 보고 자퇴를 했어. 나 때문에 다쳐서 병원에 입원한 아이를 보고 말을 못 했어. 내게 괴롭힘 당하면서 나쁜 길로 빠지지 않도록 노력하는 친구에게 미안한 감정이 들었어. 친구들에게 강제로 뺏은 물건들을 돌려줬어. 내가 괴롭혔던 친구가 엄마 친구의 아들이었어. 담임선생님께 친구를 괴롭혀 곤란하게 했던 것이 너무 죄송해. 내가 친구를 따돌려서 담임 선생님께서 그만두셔서 너무 죄송해. 선생님께서 가해자들에게 합의금을 받고 조용히 넘어가라고 말씀하셨어. 가해자들이 벌레를 가져와 내 옷 속으로 집어넣었어! 가해자들과 반 친구들이 모두 합심해 나를 전학 가도록 만들었어. 학폭위가 열리기 직전 가해자들로부터 성의 없는 사과 문자를 받았어. 수업이 시작되자 내 친구가 피투성이가 된 꼴로 교실에 들어왔어. 가해자들이 내가 자신들의 말을 듣지 않았다는 이유로 때리고 조롱했어. 가해자들이 내 친구를 때린 것도 모자라 친구 엄마 욕까지 하는 걸 보고 화가 치밀었어! 가해자들이 선생님 앞에서 나를 잘 챙기는 척 눈을 마주치며 웃었어. 학교폭력 건으로 재판에 넘기겠다고 선포하자 가해자들이 내 손을 붙잡고 빌기 시작했어. 내가 무슨 짓을 당하든 아무도 신경 쓰지 않는 학교에 신물이 나. 내가 변기에서 볼 일을 보고 있는데 누군가 위에서 물을 부었어. 친구들이랑 옷 사느라 이번 달 통장잔고도 마이너스네. 상사가 이번에 외제차 사서 자랑하듯 차키를 자꾸 꺼내놓는 거 보니 웃겨. 나 오늘 출근길에 나랑 똑같은 옷 입은 사람 봤는데 같은 회사 사람인 거 있지! 나 요즘 일할 때 다른 직원 눈치 엄청 보게 돼. 나 요즘 능력 있는 직원으로 보이고 싶어서 무리하게 일 처리한다. 나 정시 퇴근하고 싶은데 눈치 보여서 매일 십분 뒤에 퇴근해. 남자친구 친구들이랑 만났을 때는 욱하지 않으려고 조심하는 편이야. 요즘 갑자기 깨달았는데 어느 샌가 유행하고 있는 패션을 따라하고 있는 거 있지? 난 나보다 키 작은 남자친구 사귄 적 없어. 절대. 나 면접 볼 때마다 합격하고 싶어서 면접관에게 과장되게 말한 적 엄청 많아. 전에 친구가 남자친구랑 통화하는 거 들었는데 나랑 얘기할 때랑 말투가 너무 달라서 놀랬어. 학교에서 따돌림을 당해 짜증이나 나도 모르게 가족들에게 큰 소리를 치게 돼. 많이 부끄럽고 마음이 좋지 않아. 친구가 공부한다고 내 노트를 빌려가 놓고는 한 번도 안 본다? 너무 한심해. 열심히 하면 할수록 성적이 떨어지는걸 보니 내 자신이 한심하게 느껴져. 아무리 열심히 해도 되지 않는걸 보니 나는 머리가 나쁜가봐. 여자 친구 몰래 다른 여자와 연락하던 사실을 들켰어. 가족이랑 놀러 왔는데 길을 잃어서 당황스럽네. 아빠와 쇼핑을 왔는데 아빠가 인파 속으로 사라지셔서 당황스러워. 누나가 나랑 놀자며 근처 공원에 왔는데 해가 저물고 나니 나 혼자였어. 가족끼리 바다에 놀러 왔는데 내가 파도에 휩쓸려 가족을 잃어버렸어. 형과 반딧불이를 따라가다 길을 잃어버렸는데 당황스럽고 무서워. 동생이랑 다투다가 자리를 비웠는데 가족들이 나를 찾지 않아. 누나랑 싸우고 누나랑 같이 울었는데 아빠는 누나만 달래줬어! 누나가 먼저 잘못했는데 억울해! 누나가 집에 피를 잔뜩 묻히고 왔어 무서워. 꼴찌였다가 일 등 하니까 선생님들이 갑자기 잘해줘. 너무 당황스러워. 친구가 내 답안지를 베낀 것 같아 당황스러워. 볼펜으로 쓴 답을 수정해야 하는데 필통에 화이트가 없어서 당황스러웠어. 시험을 보고 있는데 갑자기 볼펜 잉크가 나오지 않아서 당황했어. 시험 점수가 공개되고 친구를 보았는데 갑자기 나를 모른 척해서 당혹스러워. 오답노트 숙제가 있었는데 깜빡해서 몰래 친구 걸 베꼈어. 죄책감이 들어. 조별 과제에서 내가 한 건 아무것도 없는데 점수를 잘 받았어. 조원들에게 미안해. 집에 있을 땐 움직이기가 싫어서 동생에게 이것저것 심부름을 자주 시켰어. 어렸을 때 엄마가 없는 사이에 자주 동생을 몰래 때렸었어. 다 거짓말인데 엄마는 내가 엄청 착한 앤 줄 알아. 어제 엄마가 게임을 못하게 해서 이럴 거면 왜 낳았냐고 화를 냈어. 오빠랑 언니랑 나중에 내가 제일 못난 것 같아. 나 때문에 우리 가족이 화목하지 않은 분위기로 바뀌었어. 엄마가 엄마 친구 딸과 나를 자꾸 비교해서 너무 싫어. 오늘 동생이 볼일을 보고 변기 물을 내리지 않았어. 아침부터 정말 기분이 나빠! 이상하게 아빠가 화장실을 다녀오시면 바로 화장실에 가기가 어려워. 나는 채소가 정말 싫어. 그런데 어머니께선 계속 채소 반찬만 만드셔. 나를 무시하는 언니를 볼 때마다 역겨워. 엄마가 매번 오빠 방에 빨래를 가져오라고 하는데 너무 짜증 나. 아빠가 술 먹고 온 다음날에는 화장실이 너무 지저분해서 당황스러워. 동생은 보기에도 징그러운 곤충 장난감을 가지고 놀아. 너무 혐오스러워. 언니는 꼭 벌레를 나보고 치워달라고 해. 나도 벌레는 싫은데 말이야. 가끔 오빠 입에서 나는 입 냄새가 굉장히 역할 때가 있어. 그럴 때 너무 당황스러워. 건강에 좋다며 아침마다 엄마가 주는 정체 모를 한약을 마셔야 해. 너무 곤욕스러워. 시험이 얼마 안 남았는데 공부는 안하고 게임만 하고 있는 동생이 너무 한심해. 언니는 알바도 해서 돈도 많으면서 엄마한테 툭하면 용돈을 받아가서 불공평해. 공부도 안 할 거면서 동생이 괜히 비싼 컴퓨터 사달라고 부모님한테 졸라서 짜증나. 동생에게 공부를 가르쳐 주려고 했는데 문제가 너무 어려워서 당황스러웠어. 공부는 안중에도 없고 외모만 신경 쓰는 언니가 너무 한심해. 대학 대신에 프로게이머가 된다는 오빠가 답답하고 화가 나. 아빠가 가끔 엄마한테 야단을 맞는데 철이 없어 보여 한심해. 늘 계획만 세우고 실행에 옮기지 않는 언니가 한심해. 다이어트를 한다면서 계속 못 참고 먹는 언니가 한심해. 동생이 티브이를 보고 따라 하다가 아빠 물건을 부셨어. 너무 한심해. 스터디 그룹에서 공부를 해도 성적이 오르지 않아서 친구들 몰래 과외를 받는 것에 미안해. 난 문과가 적성에 맞는데 부모님은 이과를 선택하라고 하셔. 나는 대학에 가기 싫지만 부모님은 대학에 가기를 원하셔. 선생님이 나에게 거는 기대가 부담스러워. 나는 예쁘지 않고 날씬하지 않아. 내가 화장을 진하게 하는데 화장을 학교에 하고 가지 않으면 너무 불안해. 발표를 해야 하는데 친구들 앞에서 발표를 하기가 너무 부끄러워. 요즘 살찌는 게 너무 무서워. 뚱뚱하다고 놀림 받을 거 같아서 밥도 잘 못 먹고 있어. 항상 친구들이 나를 어떻게 생각하고 있을지 궁금하고 안 좋게 생각할거 같아서 너무 불안해. 부담스러워서 앞자리에 앉기 싫은데 앞자리에 앉아서 고민이야. 고래 싸움에 새우등 터지는 것처럼 친구들 사이에서 눈치만 보는 내가 너무 싫어. 친구가 나보다 수행평가 점수가 높다는 게 말이 안 돼. 열등감이 느껴져. 나도 그 친구처럼 부모님한테 지원받으면 훨씬 더 잘할 수 있는데 그렇지 못해서 속상해. 내가 내 친구보다 못생겨서 우울하고 속상해. 친구가 나보다 시험 잘 봤는데 질투가 나서 당황스러워. 나는 친구보다 좋은 대학에 못 갈 줄 몰랐는데 너무 당황스러워. 왜 우리 집은 친구네만큼 잘 살지 못하는 걸까 생각해봤어. 열등감 느껴져. 친구들은 특기가 한두 개씩은 있는데 난 한 개도 없는 것 같아서 속상해. 내 친구는 그림을 정말 잘 그리는데 난 미술 실력이 형편없을까? 부모님은 항상 언니와 내 성적을 비교하면서 잔소리를 하시는데 억울하고 속상해. 선생님과 상담하면서 적성에 맞는 진로를 찾아보려 하는데 내 적성에 맞는 게 뭔지 모르겠어. 세상에 나 혼자 밖에 없는 거 같아. 이번 학년도 나는 혼자일 것 같아. 아무도 나와 가까워지고 싶지 않은 것 같아. 반에서 나랑 친하게 지내고 싶어 하는 친구가 없어서 속상해. 친구들이 나한테만 이야기를 안 해서 기분이 나빠. 정말 학교 가기 싫어. 오늘도 교실 밖으로 불려나가 여러 명에게 폭행을 당했어. 너무 힘들어. 지속되는 따돌림에 지쳐서 선생님께 도움을 요청했지만 내 말을 믿어주지 않으셨어. 체육시간에 짝을 지어서 하는 운동인데 나만 빼서 짝이 없어서 당황했어. 내가 학교폭력에 가담했다는 사실이 알려질까 봐 두려워. 내가 따돌림당한다는 것이 반 전체에 알려지고야 말았어. 죽고 싶은 심정이야. 제일 친한 친구가 알고 보니 괴롭힘을 당하고 있었는데 그걸 몰랐다는 게 너무 부끄러워. 학교폭력위원회가 열려 내가 괴롭힌 애의 부모님이 하는 이야기를 들었는데 내 행동이 창피해. 내 친구가 죽었어. 아무것도 할 수 없었던 내가 너무 싫어. 따돌림을 당하는 친구를 목격하고도 신고하지 못했어. 가해자 애들이 선생님 앞에서는 뻔뻔하게 친한 척하는 게 너무 구역질이 나. 날 때리고 따돌리기까지 한 애들의 부모님들이 걔네의 잘못이 없다고 감싸는데 토할 것 같더라. 과장님이 일 처리를 잘 못하셔서 너무 답답해. 내가 더 잘하는데 왜 난 주임인지 모르겠네. 내 친구는 잘생긴 것은 아닌데 잘생겼다는 얘기를 자주 들어. 그럴 때마다 열등감이 느껴져. 예전에 함께 공부하던 친구가 텔레비전에 나왔어. 나도 데려가 주면 좋을 텐데. 내 친구들 중에 내가 제일 실패한 것 같아서 열등감을 느껴. 나는 아직 운전면허도 없는데 잘 사는 집 친구가 외제차를 타는 걸 보니 배가 아파. 내 룸메이트가 볼 일을 보고 변기 물을 안 내려서 정말 짜증 나. 우리 집 근처에 사는 작은 이모는 틈만 나면 엄마에게 돈을 빌려가고 안 갚아서 당황스러워. 동료가 술에 잔뜩 취해서 내 옷에 구토를 했어. 기분이 너무 불쾌해. 부장이 부하 직원들에게 음담패설을 서슴없이 던져서 당황스러워. 직원들 월급은 밀리고 있는데 사장이 여행 갔다고 자랑해서 짜증나. 내 친구는 툭하면 지나가는 여자에 대해 평가를 해. 정말 혐오스러워. 사촌 동생이 학교에서 다른 학생을 괴롭혀서 또 경찰서에 다녀왔대. 피해학생이 안타깝고 불쌍해. 방귀 낀 놈이 성낸다더니 내 돈을 빌려간 친구가 되려 성질을 내는 상황이 당황스러워. 삼촌이 또 다단계 회사에 들어가 부모님께 물건을 팔려고 해서 매번 당황스러워. 대리 때문에 항상 당황스러워. 왜 꼭 새로 들어온 여사원들에게만 관심이 많은지. 여자 친구가 시험에 네 번이나 떨어졌어. 이제 뒷바라지하기도 지쳐. 방금까지 여자 친구를 욕하던 친구가 여자 친구에게 전화가 오자마자 달려갔지 뭐야 당황스럽게. 나는 왜 한 여자에 정착하지 못할까 내가 너무 한심해. 여자 친구가 헤어지자고 해서 당황스러워 울고불고 매달렸더니 너무 창피해. 오늘도 나는 한심한 짓인 줄 알면서도 그녀를 만나러 갔어. 난 정말 한심해. 정말 힘들게 그 친구를 만났는데 이번에도 좋아한다는 말을 못하고 돌아와서 정말 속상해. 친구들 모두 결혼해서 행복한 가정을 이룬걸 보니 스스로가 너무 한심해. 오늘 우연히 그녀를 봤는데 또 남자가 바뀌어서 당황하고 놀랐어. 내 동기가 나보다 먼저 승진한다니 도저히 인정할 수 없어. 너무 당황스러워. 이번에 들어온 신입이 실수했는데도 상사와 동문이란 이유로 아무도 문책을 안 해서 화가 나. 나는 저 동기보다 일을 훨씬 잘하는데도 상사는 그걸 몰라주니 서운하고 화가 나. 나보다 못하던 친구가 좋은 회사에 들어갔다는데 당황스러워. 친구가 나보다 좋은 회사에 들어갔다는 말을 들었어. 나보다 못하던 녀석이었는데 당황스러워. 사실 내가 없었으면 못 했을 일인데 동기가 큰 활약으로 주목을 받아서 기분이 좋지 않아. 아는 사람 중에 짜증이 나면서도 부러운 이상한 애가 있어. 오늘 내가 해결하지 못한 것을 마무리한 동기를 보고 너무 화가 났어. 출근하자마자 갑자기 축하를 해주는데 무슨 상황인지 혼란스럽더라. 내가 제안한 프로젝트가 통과되어서 이게 현실인지 믿기지 않아. 부장의 출장 기간에 지시한 업무가 이해가 안 돼서 혼란스러워. 알려준 지시사항대로 수정한 건데 기안서를 다시 올리라는 말에 크게 당황했어. 이번에 지원한 회사는 무조건 붙을 거라고 자신했는데 떨어져서 혼란스러워. 이번에 코로나로 내가 해고할 사람 한 명을 정해야 한대서 많이 혼란스러워. 이력서에 내용이 너무 부족한데 이렇게 수준 높은 회사에 붙었을 리가 없어. 혼란스러워. 갑자기 더 높은 연봉을 제시하는 회사에서 스카웃 제의가 들어왔어. 너무 당황스러워. 우리 팀원 중 한 명이 곧 해고당할 거란 소식을 들었어. 너무 당황스러워. 내가 제출한 서류와 상사가 받은 서류를 누가 중간에서 바꿔치기 했어. 너무 당황스럽다. 타 지역으로 대학을 오니 아는 친구가 하나도 없어서 외로워. 홀로 먼 곳에 버려진 느낌이야. 회사에서 친한 남자 직원과 이상한 소문이 나서 너무 당황스러워. 난 보지도 못한 복학생 선배가 밥을 먹자고 했어. 너무 당황스러운 거 있지? 야유회에서 강제로 장기자랑을 하게 되었어 너무 당황스러워. 친구가 가지고 싶어 하던 물건을 선물해 주었는데 다른 친구한테 방금 똑같은 걸 받았다고 해. 술에 취해 주사를 하는 친구의 모습을 처음 보니 당황스러워. 헤어진 지 오래된 전 남자 친구한테 전화가 와서 너무 당황스러워. 친구보다 공부를 열심히 해도 친구가 항상 성적이 잘 나와. 여자 연예인들을 보면 나보다 예쁘고 몸매도 좋은 것 같아서 부러워. 회사에서 똑같이 일을 잘해도 남자 직원들이 나보다 더 승진이 빨라. 친구들이 이야기를 잘 들어주는 나보다 돈을 잘 쓰는 친구를 좋아해. 나는 왜 돈이 없을까? 이번 시험에서도 내가 싫어하는 동기가 나보다 좋은 학점을 받아서 기분 나빠. 오늘 동생이 늦어서 부모님한테 혼났는데 동생이 왜 자기한테만 통금이 있냐고 그랬어. 짜증 나. 친구가 성형을 하고 엄청 예뻐졌어. 나도 성형하면 친구보다 예뻐질 것 같아서 질투가 나. 술을 마시고 구토를 하던 친구 대신 내가 뒤처리를 하니까 너무 곤욕이었어. 아르바이트 하는 곳에서 연락처를 달라고 하는 손님 때문에 힘들어 죽겠어. 우리 사장님은 큰일부터 사소한 일까지 본인이 모두 결정해야 직성이 풀리는 것 같아. 내가 방금 술집에서 일을 하고 왔는데 진상을 부리는 손님이 있었는데 너무 짜증이 나. 지금 일하는 곳이 좋았는데 갑자기 근무지 이동이라니 혼란스러워. 상사가 자꾸 자신의 아들을 만나보라며 소개해 주려고 해서 당황스러워. 버스를 탑승한 뒤 친구의 집에 지갑을 두고 온 것을 알게 돼서 당황스러워. 남자 친구가 너무 자주 직장을 그만둬서 한심해. 다음 달에 결혼을 하는데 생각보다 하객이 너무 적을 것 같아서 당황스러워. 아기 돌잔치를 호텔에서 할 거라고 말했는데 예약이 꽉 차서 당황스러워. 사람들에게 청첩장을 다 돌렸는데 파혼하게 돼서 창피해. 오늘 대학 축제 이벤트에서 그냥 친구로 생각했던 사람한테 공개 고백을 받아서 당황스러워. 이번에 남자친구가 생겼는데 친구들의 남자 친구들에 비해 외모가 떨어져서 조금 부끄러워. 부부 동반 모임 중에 남편과 다퉈버렸어. 당황스럽고 민망해. 싫어하는 선배가 자꾸 다른 사람들에게 나를 좋아한다고 말하고 다녀. 당황스러워. 속도위반으로 결혼식을 앞당기게 됐어. 다들 눈치 챘을 텐데 어떻게 생각할지 신경 쓰여. 남자 친구가 길거리에서 크게 화를 내서 너무 속상해. 남자 친구가 여러 사람 있는 곳에서 갑자기 뽀뽀를 해서 너무 당황스러웠어. 헤어진 걸 모르는 친구들이 남자친구 데려오라고 난리야. 백수인 남자친구가 데이트 할 때 절대 계산을 안 하는 점이 당황스러워. 내게 잘해주지도 않는 남자친구에게 매달릴 때마다 솔직히 당황스러워. 실직했던 남편이 다시 일을 찾을 생각이 없어 보여서 당황스러워. 출산일에 남편이 무섭다면서 분만실에 같이 들어와주지 않아서 정말 당황했어. 전자레인지 하나 고를 때도 엄마한테 전화하는 남자 친구가 너무 한심해. 어휴. 우리 남편은 일이 이렇게나 밀렸는데도 어찌나 게으른지 아침부터 지금까지 누워만 있어. 한심한 줄 알지만 그렇게 모질게 나를 버렸던 전 남자 친구가 너무 보고 싶어. 있을 때나 잘하지 이제 와서 돌아와 달라는 남자 친구가 정말 한심해. 남편이 잘 다니던 회사를 그만두고 준비도 없이 가게를 차리겠다 하는 말에 한숨만 나와. 남편이 다 큰 아들이랑 서로 게임하겠다고 싸우는 걸 보니 기가 차. 남자 친구가 동성애자인 걸 숨기려고 나랑 사귀었대. 그래서 너무 슬퍼. 오늘 병원에 다녀왔는데 내가 임신을 했다고 해서 혼란스러워. 남자 친구가 술이 취하니까 난폭해져. 너무 놀라고 무서웠어. 남편이 결혼하더니 완전히 변했어. 정말 화가 나! 지금 남자친구와 사귈수록 나를 좋아해서 사귀는 건지 매우 헷갈려. 남자친구와 결혼하기로 했는데 집안에 빚이 있다는 걸 오늘 알았어. 매우 혼란스러워. 요즘 결혼 준비를 하느라 바쁜데 남자친구가 내 뒷조사를 한다는 걸 듣고 매우 당황했어. 남편 퇴근을 기다리는 중에 남편이 다른 여자와 손잡고 가는 걸 봤어. 매우 혼란스럽고 충격적이야. 교수님께서 내가 선택한 전공이 나와 맞지 않다고 해서 혼란스러워. 예전에 근무하던 곳에 재취업을 했는데 직장 분위기가 이전과는 많이 달라져서 당황스러워. 왜 직장 동료들이 나를 멀리하는 걸까? 갑자기 따돌림을 당하니까 너무 당황스럽고 외로워. 나는 취업 준비 중인데 내 친구들은 다 취업을 해서 요즘 만나기가 싫어져. 마음이 불편해. 이 길은 내 길이 아닌 것 같아서 진로를 좀 변경하고 싶은데 조언을 구할 사람이 없네. 만날 취업에 실패하니 이제 집에서 가족들 얼굴 보기도 불편한 걸 어쩌지? 첫 출근을 했는데 아무도 나를 상대 안 해주네. 혼자 앉아있는데 너무 민망해. 친구들이 다들 취직하고 있는데 나만 아직 준비 중이야. 나는 언제쯤 할 수 있을까 걱정돼. 작은 기업에 입사하다 보니 맡은 업무가 너무 많아. 그리고 일이 너무 낯설어서 어려워. 다들 퇴근하고 혼자 야근을 하고 있는데 너무 외롭고 당황스러워. 동기들이 다 퇴사하고 회사에 나만 남게 되었어. 동기들이 보고 싶고 회사에 가는 게 재미없어. 나한테 불만이 많던 여자 선배가 다른 직원들 앞에서 나에게 시비를 걸어서 당황스러웠어. 평소에 나를 무시하던 내 동생이 대기업에 취직했대. 내가 동생보다 진짜 부족한 사람이 된 것 같아. 나랑 같이 입사한 동기들이 이번에 모두 승진을 해서 너무 당황스러워. 나만 승진 못 했어. 요새 회사에 대한 고민이 많아. 이번에 회사에서 새 프로젝트를 시작할 것 같아. 일머리가 없어서 부장님께 미움받는 것은 익숙하지만 동료들에게 열등감이 생겨. 동기가 승진을 하면서 회사 다니는 동안 내 연봉이 오르지 않을 것 같아서 열등감 느껴. 내 실적 부진으로 동기가 실적을 나누어 주었으면 좋겠다는 생각이 들어서 당황스러워. 항상 업무적으로 칭찬을 받았는데 나보다 뛰어난 사람들이 많아서 당황스러워. 결혼까지 하신 부장님이 나한테 호감을 드러낼 때가 있어. 오늘 윙크를 날리던데 너무 혐오스럽더라. 상사에게 탕비실에서 성추행을 당했는데 온몸에 벌레가 기어 다니는 기분이었어. 팀장님이 커피는 여자 직원이 타야 한다고 말하더라. 팀장님의 그런 사고방식이 역겨워. 최근에 이직을 했는데 새로운 직장의 직원들이 나에게 텃세 아닌 텃세를 부려서 당황스러워. 회사에서 바로 옆 직원에게서 담배 냄새가 너무 심해 일에 집중하기가 힘들고 불쾌해. 회사 단톡방에서 남직원들이 여직원들의 얼굴 평가를 서슴지 않는데 너무 혐오스러워. 부모님이 지금 전공이 취업이 잘 된다고 하셔서 선택했는데 내 적성에 맞지 않아 당황스러워. 면접에서 계속 탈락하다 보니 취업 준비가 혐오스러워. 요즘 회사가 싫으니까 직장 동료도 싫어지는 것 같아 당황스럽네. 점심시간마다 모여서 동료 험담을 하는 사람들을 봤는데 정말 몸서리 쳐져. 오랜만에 만난 친구가 갑자기 나보고 살 좀 빼라고 하지 뭐야. 당황스러웠어. 신기하게도 요즘은 특별히 아픈 데가 없더라도 누군가가 내 걱정을 해줬으면 좋겠어. 나 혼자 집에서 밥 먹기가 너무 서럽고 외로워. 그냥 배 채우려고 먹는 거야. 친한 친구가 우울증이라는 소식 듣고 바로 달려가면서도 내가 여태 못 챙겨준 거 같아 미안해. 오래 만난 남자친구가 결혼 생각이 없다 해서 당황스러워. 직장에서 나만 겉도는 것 같아. 동기에 비해 나는 많이 모자란 것 같아. 남자친구랑 또 싸워서 기분이 안좋아. 내 직업을 말하기가 꺼려져. 만나고 있는 사람이 있는데 다른 사람한테 자꾸 마음이 가서 혼란스러워. 나 오늘 남자친구에게 결혼 프러포즈를 받았어. 그런데 잘 모르겠어. 요즘 취업준비한다고 집에만 박혀있으니까 너무 힘들다. 불편한 모임에 참석하기 싫어서 급한 일이 있다고 거짓말 한 게 마음에 걸리네. 요즘 코로나 때문에 독서실도 문 닫고 학원도 못 가니까 당황스러워. 내 계획이 계속 어그러지고 있거든. 망했어. 과 애들 어떻게 보지? 예기치 못한 임신을 하게 되서 당황스러워. 요즘 자꾸 자격지심이 들어. 나 요즘 내가 너무 한심해. 이번 중간고사에서 수학 점수를 너무 낮게 받아서 부끄러워. 나 학교폭력을 당하고 있어. 그런데 그 이유를 모르겠어. 오늘 회사에서 나만 빼고 점심을 먹으러 갔어. 오늘 친구를 만나기로 했는데 바람 맞았어. 내 비밀을 내 친구가 다른 친구한테 이야기해서 당황스러웠어. 요즘 자꾸 사람 대하는게 너무 힘들게 느껴져. 대학교 입학해서 설렜는데 요즘 자꾸 친구들을 의식하게 돼. 어제 취미 동호회 모임에 처음 참석했는데 조금 마음이 편하지 않았어. 나는 남을 시선에 의식하는 성향이 있는 것 같아. 요즘 주름살이 생겨서 신경 쓰이네. 친하지 않은 친구가 결혼식에 오라고 해서 당황스럽네. 친구가 돈을 천만원 빌려달라는데 어떻게 해야 할지 모르겠어. 어려서부터 친한 친구와 오해가 생겨 서먹해졌어. 친구 때문에 너무 당황스러워서 어떻게 해야 할지 모르겠어. 어제가 친구 생일이었어. 잊어버리고 있었는데 당황했어. 오늘 이야기하다 상대방이 나한테 트림을 했어. 오늘 선을 보고 왔어. 메신저를 열어놓고 자리를 비웠는데 다른 사람이 나 대신 메신저 답을 보내서 너무 당황스럽더라고. 어제 동호회 모임에 갔는데 짝사랑하던 남자가 왔더라고. 쑥스러웠어. 친한 친구는 이번에 대기업에 취업했대. 나는 중소기업에 들어갔는데 열등감이 느껴져. 친구들은 다 좋은 직장에 다니는데 나만 뒤처지는 것 같아서 비참해. 난 아직 구직 중인데 대학 동기는 좋은 곳에 취업했더라고. 왠지 열등감 느껴. 지금 내 마음이 너무 불편해. 요즘 마음에 드는 사람이 생겼어. 그 사람 생각이 온종일 머릿속을 떠나질 않아. 학교 다닐 때가 참 좋았는데. 다들 직장에 다니고 자기 돈 벌면서 살고 있는데 친구 한 명만 아직도 백수야. 동창회만 하면 나 자신이 한심해. 오늘은 진짜 내가 너무 싫다. 나 오늘 실수했어. 얼마 전에 헤어진 친구한테 남자 친구 자랑을 했지 뭐야. 내 지인들은 경제 관념이 너무 없어서 한심스러워 보여. 난 신랑과 아이를 가지지 않기로 약속했어. 그런데 자꾸 주변에서 호들갑이야. 결혼하고 싶을 정도로 너무 좋아하는 사람이 생겼어. 어쩌지. 이게 무슨 일이야. 여자친구가 생일선물로 고가의 가방을 말해서 당황했어. 오늘 시어머님이 출산 후엔 직장을 그만두고 집에서 아이만 보라고 하셔서 당황스러웠어. 아이를 가진 것 같아. 남자친구가 갑자기 결혼 얘기를 했어. 그래서 당황스러워. 아직 미혼이어서 그런지 결혼이나 출산 이야기를 나누는 게 아직은 부끄러워. 요즘 시대에 결혼을 부모님께 의지하는 친구들이 많아. 남자친구와 나도 경제적으로 전폭적인 지원을 받기로 했어. 나는 내 남자친구가 부끄러워. 외모도 직업도 다. 혼전 임신을 하게 됐어. 주변에 어떻게 이야기하지? 친구들은 다 연애하고 결혼하는데 나는 뒤쳐지는 것 같아. 나는 사회초년생인데 연애를 한 번도 못 해 봤어. 내가 다른 사람보다 별로인가? 도저히 결혼하는 게 자신이 없어. 그냥 혼자 살아야 할 것 같아. 시어머님이 남자아이를 원하셨는데 여자아이를 출산하게 되어서 죄책감이 많이 들어. 조건만 보고 결혼하는 것은 너무 한심해. 다른 친구들은 다 결혼했는데 나는 왜 결혼을 못할까? 나는 결혼하고 싶은데 내 남자 친구는 아직 결혼 생각이 없어서 속상해. 오래 사귄 남자친구가 편하게만 느껴지고 연애 감정이 안 들어서 어떻게 해야 할지 모르겠어. 오늘 아침에 내가 임신했다는 사실을 알게 됐어. 기쁜 마음이 드는 동시에 내가 엄마가 된다니 당황스럽고 혼란스러워. 새로운 부서로 발령이 났는데 혼자 자료 정리를 하게 되었어. 처음 해보는 일인데 혼자라 걱정이 돼. 최근에 직장을 하나 구해는데 기분이 좋지 않아. 결혼 예물을 준비하는데 여자 친구 어머님께서 예물이 너무 작다는 의도로 말씀을 하셔서 마음이 좋지 않아. 우리 집 형편이 부족한데 말이야. 나 어떡해. 너무 부끄럽다. 나이 서른 살에 아직 취업 못한 내가 너무 한심해 보여. 내가 하고 싶은 일이 뭔지 모르겠어. 내가 한 실수도 아닌데 나를 혼내니까 너무 당황스러워. 내가 회사에서 구매를 담당하고 있는데 실수로 숫자를 잘못 기재했어. 그런데 우리 팀 부장님이 나 대신 모든 책임을 뒤집어썼어. 죄송해서 어떡하지. 다른 사람들은 다 연애를 하는데 나만 아직도 연애를 못 해봤어. 다른 사람이 부러워할 만큼 좋은 연봉의 회사에 취직하려고 해. 다른 친구들은 다 취업했는데 나는 아직이야. 자꾸 친구들을 의식하게 되네. 다른 친구들은 여자친구랑 사이가 좋다는데 나만 사이가 안 좋은 것 같아. 괜히 열등감이 느껴져. 다음 달에 졸업식이 있는데 막상 졸업하려니 어떻게 해야 할지 모르겠고 당황스럽네. 다음 주에 최종 면접인데 피부과를 가서 관리를 받을까 고민이야. 요즘 사람들은 정확히 의사 표현을 안 하고 그냥 잠적을 해버리네. 한심하게 생각돼. 이번에 취업했는데 직원의 복지가 생각보다 너무 적어서 당황했어. 이상한 사람을 다 봤네. 웃겨 정말. 임신이 너무 되지 않아서 이번에 병원으로 검사를 받으러 갔었어. 직장 상사랑 출장 가게 되었는데 갑자기 나 혼자 가라고 하셔서 당황스러워. 처음 사귄 여자친구라 모든 게 어색하고 쑥스러워. 취업에 자꾸 실패하다 보니까 남의 시선을 의식하게 돼. 취업에 자꾸만 실패하니까 당황스럽네.\\xa0 요새 계속 취직에 실패하니까 당황스러워. 친구 중에 내가 연봉이 제일 낮아. 대화할 때마다 위축되는 느낌이 들어. 친구가 일방적으로 약속을 취소해서 너무 당황스러워. 친구가 일방적으로 약속을 취소해서 지금 당황스러워. 친구가 파혼을 당해서 당황스러워. 친구는 이번에 승진했데. 나는 몇 년째 제자리에 있어서 비교되는 것 같아. 친구들은 다 취직해서 잘 살고 있는데 나는 왜 이럴까. 열등감을 느끼게 돼. 친구들은 다 취직해서 잘살고 있는데 나는 왜 이럴까. 열등감을 느끼게 돼. 친구들은 모두 취업을 했는데 나는 아직 취직을 못 해서 소외된 거 같아. 친구들이 나를 좋아하지 않는 것 같아. 친구들이 다 군대를 가버리고 나 혼자 남았어. 허전하고 쓸쓸해. 친구들이 하나둘씩 결혼을 해서 주변에 친구가 많이 남아 있지 않아서 외로워. 친구랑 대화하다가 다른 친구에 비밀을 말했어. 내가 왜 그랬는지 너무 한심해. 동생이 갑자기 나한테 이상한 메세지를 보냈어. 왜 이런 걸 보냈을까 너무 궁금해. 학교 끝나고 가는 길인데 갑자기 엄마가 집에 빨리 오라고 전화해서 너무 걱정이 돼. 요즘 아빠와 엄마가 서로 대화를 안 해. 답답하고 혼란스러워. 우리 집이 곧 이사를 가게 됐다고 하네. 갑자기 두려워. 회사에 취직을 했는데 대학 동기가 과장이었어. 너무 당황스러워. 업무 때문에 직장동료에게 전화를 했는데 직장동료 애인이 나를 내연녀로 오해했대. 내가 자취를 하고 있는데 내 친구가 같이 살면 안되겠냐고 해서 너무 혼란스러워 엄마 아빠가 재혼을 해서 나를 낳았대. 갑작스러운 사실에 불안하고 혼란스러워. 거래처에 계약하러 갔는데 거기 사장님이 내가 중학생때 괴롭힌 친구더라고. 얼마나 당황했는지 몰라. 성사된 계약이 무산됐다는 연락을 받았어. 너무 혼란스러워. 엄마가 교사인데 학부모에게 신고를 당했대. 너무 당황스러워. 회사에서 상사가 나한테 남자친구 있냐고 물어봤는데 너무 당황스러웠어. 사람들이 혹시라도 내 애인에 대해 물어보면 난 당당하게 대답할 자신이 없어. 친구들이 내 결혼식장에 오면 우리 부부를 보여주는 게 용기가 나지 않아. 두려워. 오늘 같은 반 친구가 고백했는데 너무 당황스러웠어. 우리 사회는 이성애자에 비해서 동성애자가 겪는 어려움이 너무 많아. 그래서 소외감을 많이 느껴. 나 혼자 일 년 동안 짝사랑했던 사람이 나를 좋아한다고 고백해서 너무 당황스러웠어. 나 학교에서 같이 급식을 먹을 친구가 없어. 회사 사람들이 내가 안 씻은 걸 알고 나를 쳐다보는 것 같더라고 너무 민망했어. 친구랑 다닐 때 친구가 큰 소리로 말하면 모르는 사람인 것처럼 떨어져 걷게 되더라고. 학교에서 같이 급식을 먹을 친구가 없어. 친한 친구하고 크게 싸우고 서로 아는 척도 안하고 있어. 회사 사람들이 내가 안 씻은 걸 알고 나를 쳐다보는 것 같더라고. 친구와 다닐 때 친구가 큰 소리로 말하면 모르는 사람인 것처럼 떨어져 걷게 되더라고. 친구들 앞에 서서 발표를 할 때면 부끄러워서 얼굴이 빨개져. 평소에는 괜찮은데 남자애들 옆에만 가면 어색하고 심장이 뛰어. 나와 결혼을 하겠다던 여자 친구가 나에게 헤어지자고 했어. 아내가 갑자기 나에게 이혼 서류를 줬어. 여자 친구에게 청혼을 했는데 생각해 보겠다고 했어. 동기가 자신을 좋아하냐고 해서 아니라고 둘러댔어. 그 남자가 회사 동료일 뿐이라는 아내의 말을 믿어야 할지 모르겠어. 그 친구는 늘 나보다 성적이 좋은데 난 공부를 열심히 해도 성적이 안 올라. 내가 제일 잘나고 싶어서 나보다 성적 좋은 얘랑은 친해지고 싶지 않아. 반 얘들은 반장이 공부도 잘 하고 착한 줄 알아. 반장보다 내가 착하고 공부도 잘 하는데. 내가 공부를 더 많이 했는데 친구가 성적이 더 높아. 인정을 못하겠어. 친구가 나보다 성적이 잘 나왔는데 나도 모르게 내가 더 성적이 높다고 거짓말 했어. 그 애만 없으면 내가 일등인데 걔 때문에 늘 이등이야. 반에서 공부를 잘 하는 애가 있는데 다 비싼 과외를 받아서 그래. 언니가 내 옷보고 누더기 같대. 집에서도 격식을 차려야 하나? 나는 언니를 사랑해서 말한 건데 언니는 나랑 눈도 마주치지를 않아. 너무 답답해. 오빠가 사춘기가 왔는지 자꾸 이상한 데서 감정을 폭발시켜. 할머니를 모시는 문제로 부모님이 싸우셨는데 식탁에 찬바람이 부네. 오늘 진짜 오랜만에 여행 가는데 엄마 아빠가 자꾸 싸워서 속상해. 동생은 오늘 또 삐졌는지 나랑 대화할 때 내 눈을 안 보고 있어. 동생이 유리를 깨 먹었는데 내가 치워야 해. 정말 속상해. 방에서 자고 있는 엄마는 내가 어제 몇 시에 들어왔는지도 모르는 것 같아. 정말 서러워. 오늘 선생님이 나보고 앞에 나와 문제를 풀어보라고 했는데 답을 외워서 문제를 풀었어. 친구가 시험 준비 많이 했냐고 물어봤는데 별로 안 했다고 거짓말했어. 나는 학교 마치고 집에 오는 게 너무 싫어. 기말고사 점수가 나왔어. 진로 때문에 너무 답답해서 요즘 매일 눈물을 흘리고 있어. 동기가 사실 자기는 회장님의 숨겨진 아들이라고 나하테 고백했어. 남자친구를 사랑하지도 않으면서 돈 때문에 결혼하기로 결심했어. 아빠랑 대화를 하다 보면 코드가 안 맞아서 대화가 안 통해. 나는 친구를 괴롭히지 않았지만 학폭위에 불려가게 되었어. 친척들 올라올 때마다 어른들이 자꾸 나랑 성적 비교해. 임신한 아내가 순대를 먹고 싶다고 하는데 근처에 파는 곳이 없어서 급히 차를 몰고 나왔어. 아내처럼 임신 체험을 해봤거든? 아내가 말했던 입덧이라는 걸 처음 해봤어. 이번 시험에 선생님이 말씀하신 부분에서 문제가 나왔는데 그 부분을 하나도 안 들었지 뭐야. 오늘 우리 반 친구의 물건이 없어졌는데 다들 나를 도둑으로 몰고 아무도 내 말을 안 들어줬어. 잘못된 종류의 빵을 사 가서 폭력을 당하는 모습을 좋아하던 아이한테 들켰어. 반 애들이 친절하게 굴다가 뒤에서는 같이 나를 따돌리고 있다는 것을 알고 있어. 반에서 따돌림당하는 데 선생님이 도와준다더니 걔네 부모님한테 돈 받고는 내 잘못이래 역겨워. 친구와 해외여행을 왔는데 심하게 다퉈서 아무것도 할 수 없었어. 요즘 아내가 자꾸 용돈을 달래. 나 혼자 벌어서 생활이 너무 빠듯해. 바람 피워서 헤어진 전 여자 친구가 한 달 만에 연락했어. 여자 친구가 지금 당장 달려오지 않으면 죽어버리겠다고 나를 협박하는 거야. 나보다 못한 동기가 먼저 승진한다기에 당황해서 동기의 잘못을 인사과에 고발했어. 상사에게서 동기의 반만이라도 하라는 말을 들었어. 신입이 들어오고 나서 사람들이 다들 그 녀석만 찾아. 일을 맡기려고 내게 오던 팀장님이 동기를 보더니 그 동기에게 일을 부탁하더라. 부모님께서 평생 의대를 고집하셨는데 갑작스럽게 하고 싶은 일을 하라고 허락해 주셨어. 나 성적이 나왔어. 아무한테도 못 보여주겠어. 친구들과 같이 있으면 자꾸 눈치를 보게 돼. 나는 회사만 다녀오면 너무 피곤해. 내 친구는 항상 명품만 입는데 카드빚도 많아. 그런 걸 보면 좀 한심해. 소개팅을 다녀왔는데 나의 첫인상을 안 좋게 본 것 같아. 아르바이트 중 진상 손님이 찾아오는 경우가 많아 심적으로 힘들어요. 회사 대리님이 그런 사람인 줄은 몰랐어. 친구는 고급 차를 샀던데 나는 차가 없어서 슬퍼. 다른 사람의 기회를 내가 뺏은 것 같아. 요즘 친구 관계 때문에 힘들어. 친구와 같이 있으면 사실은 불편한데 즐거운 척하려니 죄책감이 들어. 나는 친구들한테 너무 소홀하게 대하는 경향이 강해. 요즘들어 스스로에게 실망하는 일이 많아지는 듯 해요. 다른 사람들 의견에 항상 휘둘리고 내 의견을 관철하지 못해서 속상해. 부장님한테 성추행을 당한 것 같아. 친구와 다퉜어. 그 친구가 맞는 건지 내가 맞는 건지 잘 모르겠어. 애 키우기 너무 힘들다. 남자친구와 결혼을 하고 싶은데 부모님이 허락하실지 모르겠어. 남자친구랑 결혼하려고 하는 데 고민이 있어. 난 주변 사람들의 시선을 의식하며 결혼을 서두르고 싶지는 않아. 남자친구가 생일 기념 선물을 줬는데 주변에서 볼 수 있는 싸구려 제품이었어. 오늘 고백 받았어. 난 아직 누굴 만나고 연애하는 게 부끄러워. 내가 좋아하는 사람이 있는데 어떻게 하면 그 사람에게 다가갈 수 있을까? 난 내가 우리 과에서 제일 똑똑하다고 생각하는데 이번 학기 과 일등은 친구가 돼서 너무 짜증 나. 다른 사람들은 다 연애를 하는데 나만 아직도 연애를 못했어. 어제 부부 동반 모임에서 와이프가 큰 말실수를 했지 뭐야. 그런데 집에 돌아오는 길에 내가 핀잔을 주었더니 되레 나에게 화를 냈어. 어제 회사 동료들과 술을 마셨는데 내가 취해서 주사 부린 게 소문났나 봐. 여자친구가 갑자기 이유도 말해주지 않고 이별 통보를 해왔어. 요새 내 진로에 대해서 심각하게 고민 중이야. 당황스러워 요즘 대인 관계에서 의사 표현을 정확히 안 하고 잠적해 버리는 모습들이 한심하더라고. 요즘 대인 관계에서 의사 표현을 정확히 안 하고 잠적해 버리는 모습들이 한심하네. 요즘 인터넷 기사를 보면 연애나 결혼을 하고 싶지 않아. 별로 행복해 보이지도 않고 갈등이나 문제도 많이 생겨서 혐오스럽기도 해. 우리 부장님 너무 싫어. 오늘은 무슨 일이 있었던 줄 알아? 우리가 결국 임신에 성공했어. 양가 부모님께 어떻게 말씀드려야 할지 너무 부끄러워. 이번에 들어온 신입이 타 부서에서 온 공문을 인수인계하지 않아서 업무 처리가 엄청나게 지연됐어. 이번에 취업 비리가 우리 회사에서도 일어났어. 부장님 입김으로 신입사원이 낙하산으로 들어오게 됐지. 이제 곧 청혼하려고 하는데 너무 긴장되고 부끄러워 임신이 너무 되지 않아서 이번에 병원으로 검사 받으러 갔었어. 저녁에 친구들 커플 모임에 다녀왔는데 나만 여자친구가 없어서 나 자신에게 한심하다는 생각이 들었어! 전공 선택을 앞두고 고민이야. 머리가 지끈지끈 아파. 점심을 제대로 먹지 못해서 배가 많이 고프군. 점심을 제대로 먹지 못해서 배가 고파. 정치가 혐오스러운데 대인관계를 똑같이 하는 사람이 있어. 지방대 출신이라 그런지 매번 이력서를 넣을 때마다 떨어져서 너무 화가 나. 직장 갈 때마다 내 외모적인 면을 어떻게 생각할지 신경 쓰여. 출근 할 때마다 내 외모를 어떻게 생각할지 신경 쓰여. 직장에 출근 할 때마 외모를 어떻게 생각할지 신경 쓰여. 직장 동료들이 내 뒤에서 수군거리는 것 같아. 직장 동료들이 내 뒤에서 수군거리는 것 같은 기분이야. 회사 동료들이 내 뒤에서 수군거리는 것 같은데. 직장 상사가 자기 잇속만 챙기려 들어. 회사 상사가 자기 잇속만 챙기려 들어. 직장 상사랑 출장 가게 되었는데 갑자기 나 혼자 가라고 하시네. 직장에서 온몸에 문신이 그려진 직원이 있어. 먼저 다가가기가 쉽지 않아. 친구들 앞에 서서 발표를 할 때면 나도 모르게 얼굴이 빨개져. 친구는 늘 나보다 성적이 좋은데 난 공부를 열심히 해도 성적이 안 올라. 걔는 공부를 못하는 것 같은데 잘하는 척 해. 내가 제일 잘나고 싶어서 나보다 성적 좋은 얘랑은 친해지고 싶지 않게 되었어. 반 친구들은 반장이 공부도 잘 하고 착한 줄 알아. 반장보다 내가 착하고 공부도 잘 하는데 기분이 나빠. 내가 공부를 더 많이 했는데 친구가 성적이 더 높아서 인정을 못하겠어. 친구가 나보다 성적이 잘 나왔는데 나도 모르게 내가 더 성적이 높다고 거짓말을 했어. 그 애만 없으면 내가 일등인데 걔 때문에 항상 이등이야. 반에서 공부를 잘 하는 애가 있는데 비싼 과외를 받아서 그래. 친구들은 다 인문계인데 나만 체대 입시해서 외로워. 요즘 학업 때문에 친구들이랑 못 만나서 외톨이가 된 기분이야. 최근 들어서 열등감을 느끼게 된 일이 있는 것 같아. 오늘 조금 당황스러운 일이 있었어. 오늘 친구들이 나를 화장실에 가뒀어. 나 혼자 새벽까지 울었어. 내가 같이 다니던 친구를 왕따시켰는데 너무 후회돼. 오늘 학교에서 친구가 맞았는데 나는 보고만 있었어. 내가 너무 한심해. 자꾸 좋은 대학에 가라는 부모님 때문에 스트레스가 쌓여. 언니가 대학 다 떨어진게 부끄러워. 나는 의대를 가고 싶은데 다들 나랑 어울리지 않는데. 친한 친구들 중에 내가 제일 공부를 못해. 너무 열등감 느껴. 이번 기말고사에서 꼴등했어. 이번에 선생님에게 성적이 좋지 않아 혼났어. 오늘 엄마에게 상처 되는 이야기를 했어. 너무 죄책감이 들어 내 동생이 너무 부끄러워. 아버지가 매일 술에 빠져 계셔서 너무 한심스러워. 내가 첫째인데 집안에 대졸자가 없어서 정보를 얻을 곳이 없네. 경영학을 전공하고 싶었는데 부정적인 키워드를 보니까 가기 싫어졌어. 진로를 공부로 갈 지 체육으로 가야할지 혼란스러워. 우리 엄마는 성적이 좋은 누나만 이뻐해. 우리 오빠는 취직도 안하고 밤새 게임만 해. 정말 한심해. 반친구들이 내 옆자리 친구를 괴롭히는데 난 도와주지 못하고 그냥 책만 보고 있었어. 왕따 당하는 애가 불쌍하면서도 한심해. 왕따 같이 시키던 애들이 나를 고자질해서 혼란스러워. 학교 과제로 가족사진을 찍어오라는데 부모님이 나이가 많아서 부끄러워. 친구들이 놀릴 것 같아. 친구들이 나를 따돌려. 세상에 나 혼자인 기분이야. 학원을 빼먹어서 부모님께 죄책감이 느껴져. 학교에서 왕따를 당하고 있어서 너무 외로워. 학교 친구들은 벌써 장래희망이 있더라. 나는 아직도 모르겠는데. 나 혼자 고립된 느낌이야. 나는 무엇을 잘하는지 모르겠어. 학업에 열중하다보니 가족들과 대화가 없어. 공부를 해도 성적이 안나오니 너무 혼란스러워. 따돌림을 왜 하는 걸까? 진짜 한심해. 독서실에서 내내 잠만 잤어. 엄마가 힘들게 보내주시는데 공부가 잘 안돼서 엄마에게 죄송해. 반 아이들이 나만 따돌림을 시키는 것 같아. 난 대학 말고 취업하는 게 맞다고 보는데 부모님은 반대만 계속 하셔. 아무도 내 편이 없어. 가족 관계에 지칭 용어들이 너무 많아서 당황했어. 가족 구성원이 없다고 누가 나를 무시하지 않겠지? 난 왜 언니보다 못할까. 엄마한테 거짓말한 게 계속 신경쓰이네. 내가 공부를 못해서 우리 엄마가 부끄럽대. 아버지는 일도 안 하고 매일 술만 먹어. 진저리가 나. 일 안 하는 누나가 너무 한심해. 나 우리 엄마가 바람피는 걸 봐버렸어. 학교에서 내 친구가 반장한테 두들겨 맞았어. 반 아이들이 나를 따돌리는 것 같아. 아무도 나랑 말을 하지않아. 친한 친구들과 다퉜는데 그 후로 다들 날 피해서 학교 생활이 너무 외로워. 학교에서 애들이 날 은근히 따돌리는 것 같아. 내가 빈약해서 만만해 보이나 봐. 나 오늘 학교에서 죄책감이 많이 들었어. 고등학교에 올라오니 작년에 했던 내 행동이 너무 부끄러워. 더 이상 학교가기 싫다. 공부를 친구랑 같이 하면 좋을텐데. 공부를 어떻게 할 때마다 열등감이 들지? 나 성적을 보면 죄책감이 들어. 내일 학교 진로상담이 있거든. 의대를 지원할까 고민이 되네. 친구들은 뚜렷한 목표가 있는데 나는 잘 하는 것도 없고 너무 한심해. 나 오늘 학교 갔다 왔는데 혼란스러운 일이 생겼어. 매일 나를 괴롭히던 누나가 있는데 갑자기 잘해주는거야. 너무 당황스럽고 황당해. 자주 가족 회의를 하는데 꼭 나만 어리다고 빼고 대화를 해. 나는 왜 언니와 비교가 되는 걸까? 부모님한테 죄책감이 들어. 우리 언니는 고 삼 수험생인데 공부는 안하고 맨날 놀 생각만 하는 게 진짜 한심스러워. 어렸을 때 부모님 이혼으로 얼굴도 기억 안나는 엄마가 날 찾아왔는데 좀 혼란스러워. 오늘 친구에게 맞았어. 친구가 하나도 없어. 저 친구는 일등을 한번도 놓친적이 없어. 짜증나! 난 그냥 다른 애들이 하길래 장난삼아 한건데 그 아이가 그렇게 다칠 줄은 몰랐어. 그렇게 까지 상처줄지 몰랐어. 잠시나마 그 친구들과 어울려 친구에게 그런 짓을 했다는게 너무나도 창피해. 난 남들보다 더 나은 사람이라 생각했는데. 고등학교에서 내가 너무 혐오스러웠어. 아직도 학생들끼리 싸우기나 하고 한심하고 걱정돼. 아이들끼리 싸우는 것도 그렇고 따돌리는 것도 그렇고. 학교 다니면서 이렇게 혼란스러운 건 처음이야. 집에서 내 꿈을 아무도 지지해주지 않아서 외로워. 남들보다 성적이 안좋아. 내가 더 열심히 하는 거 같은데 잘 안되네. 성적이 떨어져 부모님께 정말 죄송해. 내가 적성보다 인기있는 학과를 선택해야 되는게 너무 짜증나. 고등학교 이 학년이 되도록 진로 하나 못정했다니 내가 생각해도 참 내 자신이 한심하다. 엄마가 기말고사 성적 때문에 화를 냈어. 가족들과 대화가 없으니 자꾸 눈치가 보여. 가족한테 죄책감이 들어. 오늘 너무 부끄러운일이 있었어. 이번 추석에 본 사촌 오빠 얼굴에 여드름이 난게 너무 징그러웠어. 형과 누나가 사소한 문제로 서로 싸우고 있는 모습이 너무 한심하게 느껴져. 학교에서 친구들끼리 싸움이 났어. 이번에 전학 간 학교에서 친구들이 따돌려서 난 늘 혼자야. 나 왜 계속 맞으면서 학교에 다녀야하지? 내가 친하게 지낸 친구가 지금은 나랑 다른 반인데 자기 반 애를 왕따시켰대. 왜 그랬을까? 정말 난 내가 뭐가 되고 싶은지 잘 모르겠어. 내가 너무 한심해서 견딜수가 없어. 재수를 할지 그냥 점수대로 대학을 갈지 혼란스러워. 가족이 나만 소외시키는 느낌이 자꾸 들어. 최근에 우리 부모님이 이혼을 하셨어. 우리 가족은 정말 대화가 없어. 나도 이제 다 컸는데 자꾸 엄마가 애취급 하니까 부끄럽고 민망해. 언니가 올해 성인이 되었다고 매일 술 마시고 다니는데 보고 있으면 너무 한심해. 내가 따돌림 당할 뻔해서 당황스러웠어. 친구들이 나랑 어울리지 않으려고 하는 것 같아. 어제 친구들이 내 짝을 괴롭혔는데 난 보고만 있었어. 학교에서 따돌림을 당하고있어. 학교에서 끝나고 집에 돌아오는 길에 같은 반 친구를 괴롭히는 아이들을 봤어. 이번 수업에 제출하려고 준비했는데 과제를 집에 두고 온 것 같아! 가방에 없어! 어제 가족들이랑 크게 다퉜어. 내가 예고 가고 싶다고 했더니 헛바람 들었다고 안 된다고 하더라고. 내 성적을 보여주기 부끄러워. 학업이 혐오스러워. 고등학교 진학을 어디로 할지 모르겠어. 갑작스런 부모님의 간섭이 너무 당황스러워. 부모님이 요즘 너무 싸우셔서 이웃집 눈치가 보여. 집에 혼자야. 너무 외롭다. 약속을 어기고 외박을 했어. 집에 어떻게 들어가지? 부모님이 내 동생을 가지셨대. 자기는 맨날 핸드폰 보면서 나보고는 보지 말라는 어른들이 한심해 보여. 중학교 와서 지속적으로 괴롭힘을 당하고 있는데 도움을 청할 곳이 없어서 괴로워. 친구들이 나만 따돌리는거 같아서 속상해. 내가 그 친구를 왜 때렸는지 지금도 후회가 돼. 사과를 하고 싶어. 내 친구가 갑자기 내일 결혼한다는 소식을 들으니 당황스러워. 꿈도 정해지지 않았는데 공부를 해가는 과정이 너무 외롭고 힘든 것 같아. 우리 가족은 매일 싸워서 창피해. 밖에서도 싸운다니까? 우리집은 엄청 가난해서 갈 곳이 없는데 이런 집이 이젠 부끄러운 것 같아. 오늘 내가 회사의 프로젝트 하나를 망쳤어. 우리 팀에게 너무 미안해. 우리 회사 사람들한테 정말 지긋지긋해. 아내랑 싸웠어! 엄마는 항상 내가 친 사고 수습하러 다니시느라 바쁘셔. 나는 왜 이럴까. 엄마 말을 안 듣고 반항하기만 했는데 엄마가 우니까 나도 속상하고 눈물이 나. 먹기 싫은 우유를 억지로 마시려니 너무 괴로워! 할머니는 맨날 형한테만 용돈을 많이 줘서 섭섭해! 아침부터 엄마랑 아빠랑 싸워서 너무 당황스러웠어. 언니가 내 옷보고 누더기 같대. 집에서도 격식을 차려야 하나 부끄러워. 나는 언니를 사랑해서 말한 건데 언니는 나랑 눈을 마주치지를 않아서 너무 답답해. 우리 오빠가 사춘기가 왔는지 자꾸 이상한 데서 감정을 폭발시키더라 이상하게. 할머니를 모시는 문제로 어제 부모님이 싸우셨고 오늘도 우리 식탁은 찬바람이 불어. 동생은 오늘 또 삐졌는지 나랑 대화할 때 내 눈을 안 보더라 글쎄. 동생이 유리를 박살내서 내가 치워야 해. 정말 속상해. 요즘 내 몸이 너무 보기 싫어. 일이 너무 바뻐서 힘들고 지치고 외로워. 동기가 회장님의 숨겨진 아들이라고 나에게 고백했어. 혼자 매일 도서실에서 공부를 하니깐 외롭다. 난 다른 친구들보다 공부는 잘했는데 막상 진로를 정하려니 쉽지 않네 다른 친구들은 다 정해진 것 같은데 나만 이러고 있으니 한심스럽네. 가족이 있어도 가끔씩 외로울 때가 있어. 엄마한테 낳아주셔서 감사한 마음을 전하고 싶은데 뭔가 부끄러워. 나 아무래도 친구들한테 따돌림 당하는 것 같아 당황스러워. 혼자 있는 건 너무 비참하다고 느껴져. 학교폭력 가해자 애들을 보면 정말 사람이 아닌 것 같아. 이번 시험을 망쳐서 성적을 부모님께 보여드리기 부끄러워. 오늘도 학교 수업 내내 잤어. 난 진짜 뭐가 될 놈인지 모르겠어. 요새 너무 혼란스러워. 예절교육 때문에 방학때 성당캠프에 와있는데 가족이 너무 그리워. 혼자 떨어져서 있으니까 외롭다. 우리 집도 친구들 집처럼 행복했으면 좋겠어. 부모님이 나를 좋아하는지 혼란스러워. 교복에 김치국물이 튄 줄 모르고 학교에 가서 애들이 놀렸어. 우리반 애들 왜 이러는 걸까? 이번에 성적이 많이 떨어졌어. 부모님 눈치가 보여. 방학 때 집에서 공부만 하니까 친구들하고 멀어진 느낌이야. 아무리 공부해도 성적이 오르지 않는 것 같아. 죄책감이 많이 들어. 같은 고등학생인 동생하고 싸워서 엄마가 많이 속상해했어. 아빠는 일을 쉬고 여전히 집에서 놀고 있어. 내 사촌 동생이 나의 친동생이래. 친구들에게 괴롭힘을 당하고 나니 열등감이 느껴져. 친구가 학원에 다니는데 우리 엄마 아빠는 학원에 안 보내주셔. 학교에서 선생님이 친구를 편애하는 거야. 우리 집은 진짜 가난해. 우리 엄마는 언니만 좋아해. 오늘 친구가 나에게 고백했어. 부모님께서 남자친구를 데려오래. 실은 나 남자친구 없어. 나 오늘 친구들이 나를 바람 맞혔어. 나는 회식에 가기 싫은데 부장님께서 또 회식 가자고 하셔. 부장님이 자기 아들을 소개해주려고 해. 나 친구 집에 지갑 두고왔다. 길에서 고등학생 여럿이 중학생 때리는 걸 봤는데 무서워서 그냥 지나쳤어. 학원에서 쉬는 시간마다 애들이 날 괴롭혀서 너무 지쳐. 같은 반 친구들에게 따돌림을 당하는 것 같은데 선생님께 말씀을 못 드리겠어. 반에서 친구가 따돌림당하는걸 보고도 나도 따돌림 당할까 봐 모른 척한 내가 한심해. 왜 학교 폭력 가해자는 피해자에게 사과하지 않는 걸까? 그런걸 보면 가해자의 태도가 너무 한심해. 학교폭력 가해자를 자식이라고 감싸고만 도는 부모들을 보면 너무 한심해서 참을 수 없어. 내가 친구를 따돌리는 주동자인데 그걸 모르고 친구는 고민을 털어놔서 당황스러워. 동생은 학교에서 따돌림을 당하면서도 부모님께는 상담하려고 하지 않아. 그래서 너무 한심해. 같이 조별 과제하기로 한 사람들이 약속 시간이 됐는데도 도착하지 않아 당황스러워. 친한 친구들이 나를 따돌려. 내가 분명 선생님 가정방문 하는 날이라고 얘기했는데 엄마가 왜 얘기 안 했냐면서 나한테 화를 내. 너무 억울해! 친구랑 놀려고 새벽에 나가다가 집 앞에서 아빠와 마주쳤어. 내 눈이 휘둥그레졌어. 갑자기 부모님이 나의 학업에 신경을 쓰기 시작했어. 새로운 반에 친한 친구들이 한 명도 없어. 아는 친구도 한 명도 없어서 외로워. 이번에 정한 진로를 부모님께 말했는데 아무도 응원해 주시지 않아. 부모님에게 너무 죄송스러워. 내일 음악 가창 시험이 있는데 생각만 해도 창피해. 왜 다들 똑같은 진로 방향만 가지고 있는 걸까? 난 꿈이 있는데 아무 것도 노력하고 있지 않아서 스스로가 답답해. 너무 혼란스럽다. 우리 가족은 남 신경을 많이 써. 요즘 내 가족이 나한테 관심이 없어. 내가 언니한테 거짓말을 했어. 너무 부끄럽다. 내가 돈 때문에 한순간에 친한 친구를 배신했어. 너무 후회스러워. 내게 먼저 데이트하자고 했던 사람한테 애프터를 신청했는데 거절당했어. 친구와 함께 공모전에 나갔는데 나는 떨어지고 친구만 합격했어. 내가 친구보다 못한 사람인 것 같은 기분이 들어. 오랜만에 만난 친구들과 이야기하는데 나만 모르는 이야기를 해서 당황했어. 아직도 나만 진로를 정하지 못한 것 같아서 스스로가 너무 한심하게 느껴져. 오늘 직장에서 발표를 하는데 자꾸 기억이 나질 않아서 당황스럽고 나 스스로가 한심했어. 휴가를 다녀왔는데 직장에서 나만 모르는 일이 진행되고 있어서 당황스러웠어. 백수로 지낸 지도 벌써 일 년이 넘었어. 부모님 얼굴 보기가 미안해. 면접 또 떨어졌어. 나에게 실망했어. 언니는 얼굴도 예쁜데 매번 장학금까지 받고 정말 좋은 유전자는 모조리 언니만 물려받았나 봐. 너무 질투나. 내가 약속을 계속 어겨서 남자친구랑 헤어졌어. 남자친구한테 너무 미안해. 이번에 결혼을 하게 됐어. 근데 기분이 마냥 좋지만은 않네. 나는 왜 매번 내가 더 좋아해서 마음고생을 하는지 모르겠어. 출장을 왔는데 날씨 때문에 오늘 항공기가 결항해서 돌아갈 수가 없어. 숙소에 혼자 덩그러니 있으려니 당황스러워. 자꾸 작아지는 생각이 들어. 나도 연애할 수 있을까? 소개해줄 사람도 없고 직장은 남자만 있어. 오늘 회사서 발표를 잘 못 해서 너무 창피했어. 휴대폰에 있는 연락 목록에 누구 한 명 연락할 사람이 없어. 너무 후회 돼. 갑자기 인사 이동이 있었어. 내일부터 새로운 부서로 출근해야 해. 소개 받은 여자에게 연애 하는데 부끄러움이 많아서 좋은 감정을 잘 표현 못 하고 있어. 가끔 친구를 못 챙길 때 미안할 때가 있는 것 같아. 어제 거래처 외근 나갔는데 알고 보니 그쪽 팀장이 같은 과 선배더라고. 같은 동료 흠을 다른 직원에게 얘기하다가 그 직원이 왔어. 너무 죄책감이 들어. 나 이번에도 취업 못 해서 당황스러워. 동생이 갑자기 나에게 욕을 해서 당황스러워. 결혼을 왜 하는 걸까? 혼자 살아도 벅찰 지경인데 결혼까지 해서 같이 고생한다고 생각하니 이게 인생인가 싶어. 내 남자친구에게 너무 미안해. 오늘 친구 딸 돌잔치에 다녀왔어. 딸이 친구를 닮아서 아주 이쁘더라고. 친구들은 번듯한 직장에서 자기가 하는 업무를 인스타그램에 올리는데 나는 그럴 수가 없어. 요번에 여러 군데 회사에 지원했는데 다 떨어졌어. 부모님께 너무나 죄송해. 남편 때문에 너무 속상해. 이번에 대학교를 졸업하고 취직을 했어. 오랫동안 연락을 하지 않고 지내던 고등학교 동창에게 연락이 왔어. 전공을 더 살리고 싶어서 두 달 전에 미국으로 유학을 왔어. 내가 취업 사기를 당할 줄은 몰랐어. 조별 과제를 하는데 내 분량을 다 못 해서 아프다고 거짓말했어. 조원들이 알면 날 어떻게 볼까. 아르바이트하는데 진상 고객 때문에 힘이 빠져. 우리 부서 부장이 법인카드를 함부로 사용하다가 걸려서 징계를 받게 됐어. 이걸 알고 있었는데 그때 왜 나는 아무 말도 안 했을까 후회 돼. 친구에게 구멍 난 양말을 들켜버려서 얼굴을 못 들겠어. 친구들은 취업을 다 했는데 나만 혼자서 준비 중이야. 취직을 준비 중인데 넣을 곳이 없는 것 같아서 너무 기분이 가라앉는 것 같아. 이번 명절에 친척들 보기 부끄러워. 취업이 아직이어서. 이번에 취업 지원서를 쓰는 데 갑질하는 회사가 있어서 화가 났어. 취업 준비 하면서 후회 되는 일이 많이 있어. 다른 친구들은 다 결혼했는데 나는 연애도 못 하고 내가 한심해. 친구가 결혼한다는데 당황스러워. 나 지금 다른 동료들에 비해 연봉이 낮아서 열등감을 느껴. 친구 생일날 비싼 선물을 해줬는데 그 친구가 내 생일날 만 원짜리 화장품을 선물해서 당황스러웠어. 오랫동안 취직 준비를 하다 보니 주변에 친구가 아무도 없어. 지방 공기업으로 취업을 하니까 친구가 없어서 외로워. 아내가 고생하는 게 내가 돈을 많이 못 벌어서 그런 것 같아 미안해. 아이가 엄마 없는 설움을 안 당하게 하려고 부지런히 노력해도 안 되는 게 있네. 친구와 대화할 때마다 친구는 잘났는데 나는 왜 이렇게 살 수밖에 없는 건지 힘들어. 나는 왜 이렇게 상대방에게 말을 함부로 할까. 나는 왜 이렇게 힘들게 살까? 다른 친구들은 결혼하며 다 잘 살던데 말이야. 이번에 신규 입사했는데 대체 뭘 해야 할지 잘 모르겠어. 직장 상사가 금연 구역에서 담배를 피우는데 어처구니가 없었어. 나는 앞으로 결혼 안 할 거라고 부모님께 말씀드리니 속상해하셨어. 여자친구가 나에게 관심을 두지 않아 외로워. 자식이 세 명이나 있는데 남편이 또 애를 낳자고 해서 당황했어. 친구들과 오해가 생겼어. 어떻게 하면 좋을지 모르겠어. 나 오늘 남자친구와 헤어졌어. 사람들 많은 곳에서 헤어지자고 하는 거 있지? 진짜 당황스러웠어. 새로 교제를 시작한 남자친구는 나보다 키가 작고 얼굴도 못 생겨서 너무 신경 쓰여. 얼마 전에 유산을 했어. 오늘 친구들과 다퉜어. 출산 예정일이 아직 많이 남았는데 상태가 좋지 않아 앞당겨질 수도 있다고 하네. 취업 면접을 보고 왔는데 말을 횡설수설해서 이번에도 떨어질 거 같아. 오늘 너무 불쾌한 일이 있었어. 친구가 없어서 학교에서 밥을 혼자 먹는 게 너무 부끄러워. 나는 쓸모없는 인간이야. 너무 외롭다. 공백이 몇 년인데 아직도 취업을 못 하고 있는 내가 너무 한심해. 같이 스터디하던 친구들이 모두 취업이 되고 나만 남았어. 나만 취업을 못하니까 당황스러워. 같이 입사한 사람들은 하나둘씩 승진을 하는데 난 아직도 그대로야. 사귀던 사람한테 돈을 빌려줬는데 전혀 갚을 생각을 안 해. 요새 점심시간마다 기분이 되게 묘하고 황당한 경험을 해. 지금 너무 당황한 상태야. 게다가 정신이 혼미해질 정도로 혼란스러워. 예전 남자친구를 새로 입사한 회사에서 만났어. 교수님이 추천서를 다른 친구에게 써주셨대. 너무 혼란스러워. 고등학생 시절의 친구들과 전부 싸웠어. 나 혼자 남아서 너무 속상하고 이 상황이 너무 당황스러워. 결혼도 해야 하는데 나이는 먹어가고 연애도 못하고 있어서 걱정이야. 어제 친한 친구랑 약속이 있었는데 남자친구 만나야 해서 거짓말을 했어. 그냥 사실대로 말할 걸 그랬나 봐. 축구 시합에서 한 골도 못 넣어서 부끄러워. 예전에 내가 했던 일이 자꾸 떠올라서 스스로가 혐오스러워. 팀원 중에 나만 연애를 하고 있는데 이것 때문에 난감해. 여자친구랑 싸워서 속상하고 후회가 돼. 엄마가 내 남자친구와 언니 남자친구를 계속 비교해서 기분이 안 좋아. 친한 친구와 갑자기 사이가 어색해진 것 같아. 결혼 준비를 하면서 요즘 여자친구와 많이 싸우게 돼. 얼마 전에 친구에게 어쩔 수 없이 거짓말을 했어. 내 주변에는 친구가 별로 없는 것 같아서 많이 외로워. 여자친구에게 어제 크게 화를 냈는데 마음이 안 좋고 죄책감이 들어. 나는 별로 잘못한 것도 없는데 친구가 화를 내서 많이 당황스러워. 여자친구에게 어제 거짓말을 했는데 정말 죄책감이 들어. 대학 동기들이 날 슬슬 피하는 거 같길래 무슨 일인가 했더니 어떤 녀석이 맨날 내 욕을 하고 다닌다네. 회사에 종일 일은 안 하고 상사들에게 아부만 하는 직원이 한 명 있어. 정말 가식적이라 웃음이 나. 결혼 준비를 하다 보니 여태 모아둔 돈이 별로 없어. 이 정도 돈 가지고는 결혼하기도 버겁겠어. 친구 중에 유일하게 나만 결혼한 아기 엄마야. 그런데 친구들이 내가 아기 엄마라서 날 빼놓고 모여 놀았대. 결혼 때문에 남편을 따라 외국으로 이민을 왔어. 남편이 외도했는데 미안한 기색도 없이 나한테 이혼 요구를 했어. 어쩜 그렇게 인간이 뻔뻔한지 너무 혐오스러워서 치가 떨려. 내 친구가 남자 친구가 다른 여자와 다정하게 식사하고 있는 걸 봤대. 근데 남자친구는 나한테 그런 얘길 한 적이 없어. 내가 작성하던 문서가 다 삭제되었어. 친구들 모두 행복하게 연애 중인데 나는 연애를 하고 싶어도 좋은 인연을 만나지 못하고 있어. 같이 모임을 해도 모두 애인과 함께 오고 나만 혼자니까 열등감이 들어서 피하게 돼. 이웃집 할머니가 볼 때마다 항상 눈을 빤히 마주 보고 인사말을 거는데 부끄러워서 말을 잘 못 하겠어. 사람 눈 보는 것이 왜 이렇게 힘든 건지 모르겠어. 친구가 빌려준 옷을 망쳐버렸어. 아끼느라 아직 한 번도 입지 않은 옷인데 내가 우겨서 어렵게 빌린 거야. 그런데 엉망이 돼서 정말 미안하고 죄책감이 들어. 사과하고 싶어. 가까운 친구들이 모두 결혼을 했어. 전처럼 자주 볼 수 없다 보니 쓸쓸하고 외로운 기분이 들어. 나도 새로운 인연을 만나 연애하고 싶어도 주변에서는 어쩐지 힘드네. 그분도 나를 좋아하는 줄 알았어. 분명 나에게 잘해줬단 말이야. 백수 생활 삼 년째인데 놀다 보니 적응했어. 다시 취업할 수 있을까? 내가 뚱뚱해서 사람들 앞에 있으면 창피하다는 생각이 들어. 이번에 중소기업에 합격했는데 다른 사람들한테 말하기 좀 창피하다. 직장에서 사람들 때문에 힘들고 외로워. 연애하는데 상대방에게 열등감이 생겨. 다들 진로를 이미 정했는데 나는 정하지 못해서 부끄러워. 나 직장 동료가 회사에서 구토하는 것을 봐서 그런지 굉장히 속이 안 좋아. 나 출산하고 나서 살이 많이 쪄서 부끄러워. 연애를 안 한 지 삼 년이 되어서 그런지 너무 외로워. 나 대인관계가 너무 좁은 것 같아서 고민이야. 남의 시선을 의식하게 돼. 나 곧 결혼식 하는데 부를 하객이 없어서 걱정이야. 남들이 나를 어떻게 생각하겠어? 결혼하고 남편 직장 때문에 타지에 와있어. 생각도 못 했는데 갑자기 타지에 고립되서 너무 당황스러워. 내가 출산하는 모습을 남편이 보게 되어 부끄러워. 직장에 어렵게 입사했는데 나보다 일찍 들어온 동기가 자기 진로를 다시 찾는다고 퇴사했어. 나도 어렸을 적부터 꿈꿨던 진로가 있었는데 그게 맴돌아서 혼란스러워. 나 자꾸만 남의 시선을 의식하게 돼. 의견이 다 같을 수는 없는데 눈초리 받는 것 같은 기분이 들어. 연애한 지 한 달 됐는데 자꾸 남자친구가 내 몸을 함부로 만져. 오늘따라 남의 시선을 의식하는 내가 너무 슬퍼. 나 예비 신랑이랑 웨딩드레스를 입어보러 갔는데 너무 부끄러웠어. 내일 학교에서 발표하는데 못해서 친구들이 놀릴까 봐 걱정되네. 내가 오늘 부하 직원을 심하게 혼냈는데 미안하네. 나이는 들어가는데 아직 취업 못 한 나 자신이 너무 부끄러워. 오늘 학교에서 부끄러운 일이 있었어. 오늘 너무 혼란스러운 일이 있었어. 내 고민을 들어줬으면 해. 수학 선생님이 이번 기말고사 시험 서술형 백 퍼센트로 내신대. 너무 혐오스러워. 동생이 나보다 공부랑 운동 등 모든 면에서 뛰어난 것 같아서 눈치 보이고 열등감 들어. 오늘 하루 정말 우울했어. 친구 중에 나만 대학교에 가지 못했어. 친한 친구가 갑자기 연락이 안 되서 당황스러워. 진로 찾기부터 너무 어렵네. 첫 연애를 시작했는데 아직 상대와 손잡기도 포옹도 부끄러워. 연애 상대가 처음이다 보니 주변 시선에도 신경 쓰게 돼. 외할머니가 그렇게 아들을 바라셔. 임신 초기임에도 아들 노래를 불러서 솔직하게 보고 싶지도 않아. 성격이 내성적이다 보니 친구를 만들기도 어려워서 별로 없는데 문득 외로움이 들어. 자기소개서를 엉뚱한 곳에 보낸 것을 알았어! 결혼 준비하는데 처가댁이 싫어지기 시작했어. 이제는 내 여자친구까지 싫어질 것 같아. 엊그제 마트에서 산 물건을 교환하러 갔는데 직원의 불친절한 응대에 너무 당황스러웠어. 아랫집 아저씨가 얼마 전부터 집에서 담배를 피우기 시작했어. 어제 저녁 갑자기 다른 부서로 인사발령을 받았어. 내가 다리를 다쳤다고 친구들이 날 그냥 버리고 운동장으로 가서 외로웠어. 친구한테 말을 걸었는데 나를 피해서 다른 친구들이랑 나갔어. 친구들이 요즘 나를 따돌리고 있어. 혼자인 게 너무 슬퍼. 반 친구를 좋아한다고 고백했는데 그 이후로 다들 나를 이상한 애 취급해서 너무 당황스러워. 학교에서 따돌림 당하는데 부모님이 신경을 안 써서 너무 당황스러워. 거짓말 한 친구가 내가 그랬다고 소문 내고 다녀서 너무 당황스러워. 내가 솔직하게 말하면 이해할 줄 알았는데 친구들이 오히려 나를 따돌려서 외로워. 믿었던 친구에게 솔직한 생각을 얘기했는데 그 친구도 날 이해하지 못하고 떠나서 외로워. 친구들 사이에서 한마디 했더니 다들 나를 이상한 사람 취급하더니 가버렸어. 제일 믿는 친구에게 비밀을 말했는데 그걸 학교 애들이 다 알고 있어서 당황했어. 친구들에게 속마음을 고백했는데 갑자기 그 이후로 친구들이 나를 따돌렸어. 선생님은 그래도 나를 이해해줄 줄 알았는데 정말 실망했어. 직장에서 실수를 했는데 팀원들이 나를 욕할 것 같아. 친구들이 나 빼고 다 취업을 해서 보기가 너무 부끄러워. 내가 직장에서 실수를 했는데 직원들이 나를 비웃을 것 같아. 문서 하나 제대로 못 쓰는 나를 보고 팀장님께서 어떻게 생각하실까 걱정이야. 프로젝트가 무산돼서 팀원들이 속상해할 것 같아. 내가 자료를 잘못 보내서 대표님께서 화내실 것 같아. 다들 승진을 했는데 나만 못 해서 가족들에게 너무 미안해. 나만 무시하는데 난 내가 뭘 잘못한 건지 모르겠어. 이번에도 취업에 실패했는데 가족들이 나를 어떻게 생각할까 걱정돼. 내가 해고 당했다는 걸 다른 직원들이 알게 되면 나를 어떻게 생각할까? 면접에서 떨어졌는데 면접관이 나를 어떻게 봤었는지 너무 궁금해. 직장에서 따돌림을 당하는데 대체 직원들이 나를 어떻게 보는 걸까. 대표님이 당장 내일부터 회사에 나오지 말라고 하셨어. 오늘 출근했는데 분위기가 이상해서 당황스러웠어. 팀장님께서 갑자기 나를 부르셔서 무슨 일인지 당황스러워. 그가 조금 전까지 내게 욕을 하더니 팀장님이 오시니 아무렇지 않은 척해서 당황스러워. 면접 합격 문자가 시스템 오류로 잘못 합격 문자가 온 거였어. 너무 당황스러워. 사무실에 공동 경비가 사라졌는데 직장 동료들이 나를 범인으로 의심하고 있어 어이없게. 나 정말 열심히 면접 봐서 붙을 줄 알았는데 이 회사에서 떨어져서 너무 당황스러워. 친구가 나의 진로에 대해 그렇게 비하하다니 너무 당황스러웠어. 프로젝트를 정말 열심히 준비했는데 무산됐어. 너무 당황스러워. 오늘 처음 출근했는데 어떻게 이렇게 많은 업무를 줄 수 있지? 당황스러워. 오늘 발표 준비를 하기로 했는데 내가 자료를 잘못 가져와서 우리 팀이 모두 고생했어. 너무 당황스러웠어. 오늘 팀 발표가 있는 날이었는데 나 때문에 발표를 망쳤어. 너무 당황스러워. 이번에 팀장님이 간단한 조사 업무를 부탁하셨는데 내가 잘못 처리했어. 너무 절망적이야. 중요한 보고서 제출일이 오늘까지였는데 이제 알게 됐어. 어떡하지? 너무 당황스러워. 오늘 제출해야 하는 자료를 열심히 준비해놓고 집에 두고 왔어. 나 스스로가 너무 한심하고 어떻게 해야 하는지 당황스러워. 내가 먼저 취업을 해서 친구가 나에게 조언을 구했었는데 친구가 이번에도 취직이 되지 않았어. 너무 죄책감이 들어. 부장님께서 일주일 전에 부탁하신 일이 있었는데 잊어먹고 있다가 이제야 생각이 나서 너무 당혹스러워. 이번에 인턴으로 들어가 있던 회사에서 정규직 전환과 관련되어 있는 업무에서 실수를 해버렸어. 너무 자괴감이 들고 당황스러워. 쉽게 처리할 수 있는 일이 있었는데 내가 실수 하는 바람에 더 복잡해져버렸어. 팀장님께 혼났는데 너무 당황스러웠어. 오늘 내가 지각하는 바람에 함께 외근을 나가야하는 팀원들이 모두 나가지 못하고 대기했어. 너무 당황스러웠어. 팀장님께서 나한테 부탁하신 서류를 잃어버렸어. 오늘 회의 자료라고 하셨는데 너무 당황스러워. 어떤 주제에 대해서 친구들과 다른 의견을 냈더니 이상하다는 말을 들었어. 내가 친구들이랑 다른 점이 있는 거 같단 생각에 자신감이 떨어져서 친구들에게 다가가지 못하고 있어. 오늘 친구가 날 때려서 많이 놀랐어. 근데 나는 그 애에 비해서 너무 부족한 사람인 것 같아. 늦잠을 자는 바람에 중요한 자료를 집에 놓고 왔어. 당황스러워. 중요한 프레젠테이션 준비를 하나도 안 한 나 자신에게 화가 나. 지금까지 엉뚱한 방향으로 취업 준비를 해온 내가 한심해. 친구가 중요한 날에 지각해서 너무 실망했어. 직장 동료를 너무 안이하게 대했던 거 같아 마음이 좋지 않아. 프로젝트를 망칠 때까지 아무것도 하지 않은 내가 너무 한심해. 취업 일정을 잘못 알아서 제출일을 못 맞췄어. 내가 너무 한심해 취업 준비도 올해로 삼 년째야. 너무 힘들어. 팀원들이 퇴사했는데 그동안 잘 챙겨주지 못한 거 같아 마음이 불편해. 발표 자료가 끝이 안 보여. 내가 너무 한심해. 교수님께서 내주신 에세이에 엄청 애쓴 내가 너무 한심해. 잘사는 친구가 부모님만 믿고 내 앞에서 공부를 안 해도 된다고 해서 어이가 없었어. 친구들을 만났는데 나만 모르는 얘기를 친구들끼리 나눠서 기분이 우울해. 회사 후배들은 내 말을 안 들으려 해. 솔직히 진짜 섭섭해. 회사에서 나를 빼고 다 같이 점심을 먹으러 간 일이 있었어. 나만 빼고 가서 섭섭해. 직장동료들이 아무도 내 인사를 받아주지 않아. 그래서 슬퍼. 회사에서 나만 간식을 못 먹어서 화가나. 친구가 내 카카오톡 메시지를 두 달째 읽지 않아서 슬퍼. 직장에서 동료들과 예전 같지 않아. 나 혼자인 느낌이야. 나 요즘 회사에서 동료들한테 따돌림 당하는 것 같은 느낌이 들어. 친구가 내 카카오톡 메신저를 보지도 않고 대답도 안 해. 답장이 없어서 당황스러워. 나 오늘 회사에서 회의하다가 볼펜을 떨어트렸는데 다 나만 쳐다보고 있었을까 봐 너무 부끄러웠어. 오늘 사람들이 많은 카페에 갔었는데 다 나만 쳐다보는 것 같았어. 내가 너무 소심해서 말을 잘 못 하니까 모두 나에게 불친절하게 대할 것만 같아. 궁금한 게 있는데 이것도 모른다고 무시당할까 봐 못 물어보겠어. 오늘 불친절한 사람을 만났는데 어떻게 해야 할지 모르겠어서 너무 힘들었어. 오늘 친구에게 화나는 일이 있었는데 내가 화내면 나를 이상하게 볼까 봐 얘기를 못 하겠어. 친구들에게 말하고 싶은 게 있었는데 아무도 공감해 주지 않을까 봐 말을 못 했어. 사람들이 내가 말하는 거에 아무 반응을 안 해 주면 너무 뻘쭘해. 오늘 발표에서 긴장을 했는데 이 모습을 누군가에게 들켰을까 봐 겁나. 내가 말을 하고 있을 때 사람들이 나에게만 집중하는 게 두려워. 일하는 중에 휴대폰이 울려서 너무 창피하네. 나는 취직을 못 했는데 친구들이 내 직장이 어디인지 물어봐서 조금 부끄러웠어. 미치겠네. 팀장님이 보고서 달라고 하는데 아직 하나도 안 했어. 회의 시간 때 내가 한 말실수로 분위기가 싸해져서 창피했어. 요즘 나보다 어린 친구들이 더 성과를 잘 내는 것 같아서 나 자신이 부끄러워. 막내 직원이 나보다 더 좋은 아이디어를 내서 내가 조금은 부끄러워졌어. 나보다 별로인 동기가 부장님한테 칭찬을 받았어! 사내 연애를 하는 걸 부장님께 들켜버렸어. 화장실에서 신나게 상사 뒷담화를 했었는데 상사가 다 들었대. 정말 창피하다. 친구한테 나도 모르게 좋아한다고 해버렸는데 애들이 놀릴 거 같아. 친구들이 놀리는 바람에 부끄러워서 얼굴이 빨개졌어. 친구가 내 비밀을 말해버려서 그 자리를 도망쳤어. 그 친구를 좋아한다고 놀려서 얼굴을 못 들고 다니겠어. 너무 부끄러워. 내 비밀이 알려졌어. 친구들이 어떻게 생각할지 무서워. 부모님이 내가 따돌림당한다는 사실을 아셨어. 너무 민망해. 내가 좋아하는 아이가 내가 맞는 부끄러운 모습을 보고 말았어. 친구들이 놀리는 바람에 얼굴이 빨개졌어. 부끄러워. 내가 걔를 좋아한다는 사실 때문에 교실이 시끄러울 지경이야. 벗어나고 싶어. 내가 그 애를 좋아한다고 하니까 옆 반 애가 날 비웃고 때렸어. 너무 당황스럽고 부끄러워. 나는 밤을 새면서 공부했는데 나랑 성적이 비슷한 친구는 세 시간만 공부했다고 해. 가끔 회사에서 내가 존재감이 없는 것 같아 외로웠어. 직원들이 자신의 소유물이라고 생각하는 상사의 행동이 너무 당황스러워. 프로젝트를 진행하는데 문제가 너무 많아서 당황스러워. 남자 친구가 카톡으로 갑자기 헤어지자 그랬어. 너무 슬퍼. 종종 가족들과 함께 있는데도 나 혼자인 거 같아. 너무 외로워 학년이 바뀌고 반이 바뀌면서 친한 친구들과 관계가 서먹해져서 외로워. 새로운 반에서 적응을 잘 못 하겠어. 나만 혼자가 된 거 같아서 외로워. 반에서 친구들이 나에게 말을 안 걸어줘서 너무 외로워. 나의 고민을 말할 친구가 없어서 너무 외로워. 날 응원해주는 가족이 없어서 외롭다. 집에 있으면 외로워서 나도 동생이 있었으면 좋겠어. 새로운 학교로 전학을 가니 전 학교에서 친했던 친구들이 너무 보고 싶어. 늦잠 때문에 급하게 나오느라 신발을 짝짝이로 신고 왔어 사람들의 시선이 신경 쓰였어. 넥타이가 엄마가 사준 것뿐인데 면접 때마다 똑같은 넥타이를 하고 있으면 시선이 신경 쓰여. 친구들과 노래방에 왔는데 내 차례만 되면 옆방이 조용해서 긴장되더라고. 친구들보다 앞에서 걸으면 괜히 내 뒷모습이 별로일까 봐 신경쓰여. 친구들과 목욕탕에 왔는데 눈이 마주칠 때마다 수건으로 몸을 가리게 되더라고. 식사하는데 맞은 편에 앉은 사람이 자꾸 나를 쳐다보는 것 같아서 신경 쓰였어. 카페에서 노트북으로 작업하는데 소리로 다른 사람을 방해하는 건 아닌지 의식하게 되더라고. 회사에서 발표하는데 다 나만 보는 게 진짜 너무 부끄러워서 말이 잘 안 나오더라. 공부가 꼭 성공의 지름길인지 모르겠어. 마음이 혼란스러워. 공부가 적성에 맞는 줄 알았는데 하고 싶은 다른 일이 생겨서 혼란스러워. 요즘 이유 없이 우울하고 감정 기복이 심해져서 혼란스러워. 내가 좋아하는 일을 해야 할지 부모님이 원하는 일을 해야 할지 알 수 없어서 혼란스러워. 열심히 공부했다고 생각했는데 생각만큼 성적이 안 올라서 혼란스러워. 문과와 이과 중에서 내 적성에 맞는 게 뭔지 모르겠어서 혼란스러워. 수시랑 정시 중 어떤 걸 준비해야 할지 몰라서 너무 혼란스러워. 대학을 갈지 공무원 준비를 할지 너무 혼란스러워서 고민이야. 학교가 적성에 안 맞는데 자퇴해야 할지 그냥 다녀야 할지 혼란스러워. 결혼식 당일에 축가를 불러주기로 한 친구가 오지 않아서 너무 당황스러웠어. 사귄 지 한 달 만에 남자친구가 결혼 이야기를 꺼내서 당황스러워. 남자친구 집에서 데이트하는데 어머님이 방문하셔서 당황스러워. 결혼식 일주일 전에 식장 예약이 취소돼서 매우 당황스러워. 친구로만 생각했던 사람이 고백을 해와서 당황스러워. 남자친구가 갑자기 연락을 끊고 잠적을 하여서 너무 당황스러워. 남자친구의 어머니가 찾아오셔서 아들과 헤어져달라고 부탁하셨어. 이런 일 처음이라 당황스러워. 출산 후 시작된 탈모 때문에 당황스러워. 아기가 예정일보다 빨리 나올 것 같다는 이야기를 들어서 당황스러워. 시험을 쳤는데 이번 시험에서 우리 반 꼴등을 하게 되어 너무 속상해. 시험을 쳤는데 성적이 나빠 부모님께 성적표를 보여드리기 부끄러워. 반에서 나 혼자만 수학 오 등급을 받아서 너무 부끄럽고 속상해. 부모님이 자꾸 주변 사람들에게 나를 자랑하시는데 나는 그게 너무 낯 뜨거워. 음악 시간에 친구들 앞에서 노래를 부르는데 너무 민망해. 친구들 앞에서 자기소개하는데 너무 긴장돼. 새로운 친구들이 말을 걸어오면 나도 모르게 낯을 가리게 되네. 시험 후에 친구들과 답을 맞혀보는 게 너무 창피해. 혹시라도 내 점수가 안 좋게 나왔으면 어쩌지? 선생님께서 부르셨는데 교무실에 들어가는 게 너무 쑥스러워. 나를 좋아한다고 했던 사람이 갑자기 쌀쌀맞게 굴어. 여자 친구를 좋아하지 않는데 헤어지자고 말할 용기가 나지 않아. 아내가 출산을 원하지 않았는데 임신을 하고 울었어. 내가 좋아하던 아이가 있는데 다른 아이를 보고 설레는 감정이 느껴졌어. 여자 친구가 제대로 된 청혼을 기다리겠다는데 어떻게 해야 할지 모르겠어. 새 여자 친구가 생겼는데 전 여자 친구에게 연락이 오니까 신경 쓰여. 아내가 낳은 아이와 내 유전자 검사 결과가 일치하지 않대서 당황스러워. 상사에게 혼이 나고 있는데 싫어하는 동기가 와서 시선을 돌렸어. 저녁때 가족들이 모여서 식사하는데 엄마가 옷에 밥풀이 묻었다고 해서 부끄러웠어. 우리 형은 옷을 왜 그렇게 입고 다니는가 몰라. 학교에서 아무도 말을 걸어주지 않아. 모두 나에게 등을 돌린 기분이야. 체육 시간에 나만 혼자 짝을 못 구했어. 오늘 나 때문에 내 짝이 울었어. 친구들이 나만 빼고 놀러 다녀서 너무 속상해 내가 싫어진 걸까? 내 친구가 내 말을 듣고도 모른 척해. 나한테 화가 난 거 같아. 친구들이 나에 대한 이야기를 나만 빼고 하는 거 같아. 친구들이 내 험담을 했다는 걸 알았어. 친구들이 나를 불편해하는 거 같아. 친구들 사이에서 따돌림당하는데 학교에서 친구들의 눈치만 보게 돼. 내가 수업 시간에 필기해놓은 책을 잃어버렸어. 너무 당황스러워. 친구에게 빌린 교과서에 물을 쏟아버렸어. 친구가 많이 화낼 것 같아. 반에서 내가 관심 없던 남자애가 나한테 고백을 해 왔어. 너무 당황스러워. 친하게 지내던 친구들과 사이가 멀어졌어. 갑자기 일어난 일이라 너무 당황스러워. 달리기를 잘한다고 체육대회 때 계주로 뽑혔어. 하지만 나는 주목받기 싫어. 반에서 수학여행 때 장기자랑을 할 팀을 뽑았는데 내가 되었어. 너무 당황스러워. 시험을 보는데 갑자기 배가 아파서 큰일이야. 저번 수업 시간에 졸다가 이번 시간에 쪽지 시험이 있는 걸 몰랐어. 학교에서 모르는 후배가 나한테 인사를 했어. 처음 보는 후배라 당황스러웠어. 내가 학교에서 가장 좋아하던 선생님께서 다른 학교로 전근 가신대. 나는 남자애들이랑 친하지 않은데 자꾸 말을 걸어서 당황스러워. 고등학교에 올라오니 중학교 때보다 수업이 갑자기 어려워져서 당황스러워. 형이 아빠 지갑을 훔치고 나한테 뒤집어씌워. 내가 한 게 아닌데. 여자 친구가 내게 먼저 키스했어. 그래서 당황했어. 두 달 동안 준비한 프러포즈를 거절당했어. 그래서 부끄러워. 여자 친구가 공개적으로 프러포즈를 했어. 예상하지 못해서 당황했어. 그 아이와 사귀냐고 주변에서 놀렸는데 볼이 빨개져서 부끄러웠어. 동네 마트에서 아내 생리대를 사는데 시선을 어디다 둘지 모르겠더라고. 그때 부끄러웠어. 여자 친구 생일 선물로 속옷을 사려는데 부끄러워. 내가 우물쭈물 거리고 있는데 여자 친구가 먼저 다가와 사귀자고 고백했어. 내가 먼저 말 못해서 부끄러웠어. 신혼 첫날 밤에 그녀와 나는 평소와 달리 어색함에 어쩔 줄을 몰랐어. 그래서 당황했어. 대뜸 많은 사람들 앞에서 사랑한다고 고백하는 여자 친구 때문에 당황했어. 젊었을 적 아내에게 썼던 연애편지를 발견해서 당황했어. 내가 너무 귀엽다고 얘기하는 여자 친구 말이 부끄러워서 귀가 빨개졌어.  내 친구는 한의학과에 입학하는데 나는 못 들어가는게 심술이 나고 괜시리 짜증도 나고 그러네. 올해 고등학교 일학년에 입학했는데 이제 진로를 작성해서 제출하래. 근데 내가 하고 싶은 걸 써서 내도 될까? 안 맞는다고 생각하면 어떡하지? 다른 주변 친구들은 모두 꿈이 있고 그 꿈을 위해 노력하고 있어. 나만 뒤쳐지는 것은 아닐까? 옛날에 나를 괴롭혔던 벗이 나보다 스터디를 더 잘해. 열등감을 느끼는 것 같다. 나는 청소부가 되고 싶은데 사람들이 이상하게 보지 않을까 무서워. 내 친구가 따돌림 당한 게 나 때문이라고 이야기해서 당황스러웠어. 가진 게 없으니까 계속 주눅이 들고 움추러 드는 것 같아. 반 동무들은 인문계 고등학교를 가는데 난 무용 특별 전형으로 예술고등학교에 붙었어. 친한 친구가 없어서 외로울 것 같아. 나와 같은 학원을 통학하고 비슷하게 학습한 친구가 있는데 나보다 공부를 더 잘해서 열등감이 느껴져. 요즘 수능 공부한다고 친구들이랑 놀지도 못하고 외로워.  난 학교에서 친구가 없어. 그런데 학부모 면담에 부모님이 나를 보면 어떻게 여기실지 걱정돼. 오늘도 애썼지만 친구를 한 명도 만들지 못했어. 왜 이렇게 용기가 없을까? 너무 한심해. 작년에 날 괴롭혔던 아이가 같은 반이 됐어. 내가 원하는 학과로 진학하려면 공부를 해야만 하는데 자주 놀기만 하는 것 같아서 너무 한심해. 우리 언니는 고삼 수험생인데 스터디는 안 하고 맨날 놀 궁리만 하는게 진짜 한심스러워. 언니가 이번 해에 성인이 되었다고 매일 술마시고 다니는데 보고 있으면 매우 한심해. 어릴 때부터 가난해서 소풍 때 소고기 김밥 먹고 싶다고 보챘는데 지금 생각해보니 엄마한테 미안하네. 친하게 지내던 친구들이랑 느닷없이 멀어진 것 같아. 분명 어제까지만 해도 모두 같이 친했는데. 다른 친구들은 점점 본인의 꿈을 찾고 바라는 대학교를 생각하고 있는데 나는 전혀 생각이 안 난다. 오빠가 공부도 안 하고 매일 밖으로 다녀. 오늘도 학교를 가지 않았다고 들었어. 너무 한심해. 난 늘 벗들이 많았는데 올해에 친구들이 날 피하는 것 같아 외롭고 속상해. 오해가 있어서 동생이랑 심하게 다퉜어. 내가 너무 몰아 붙여서 동생이 눈물을 흘렸는데 마음이 좋지 않아. 내가 중학생 시절에 나보다 약한 아이를 괴롭힌 적이 있어 그 동료를 생각 할 때마다 미안하고 부끄러워. 어렸을때 부모님 이혼으로 얼굴도 기억 안 나는 어머니가 날 방문해 왔는데 좀 혼란스러워. 진로 발표 시간에 공부도 못하는 내가 목표가 의사라고 하면 모두가 비웃을 것 같아서 창피해. 내가 청각장애인이라고 남들 시선 신경쓰면서 가족들이 나를 피해. 우리 학급에 엄청 한심한 아이가 있어. 반 친구들 모두 오늘 쪽지시험 보는걸 알고 있었는데 나에게만 아무도 얘기를 해주지 않았어. 학교에서 친구들이 나를 은근히 피하는데 동생이 나에게 친구 없냐고 묻더라. 많이 부끄러웠어. 우리 형은 어떤 거든 모두 잘하는데 나는 능력이 하나도 없어. 나 오늘 점심 시간에 같은반 친구가 다른 반 애들한테 괴롭힘 당하는 걸 봤어. 진짜 당황해서 그 자리를 피해버렸어. 나는 아직도 모르겠는데 학교 친구들은 벌써 미래희망이 있더라. 나 혼자 고립된 느낌이야. 나는 친구들 험담을 하고 다닌 적이 없는데 내가 그런 얘길 했다고 소문이 났어. 나는 실수한 게 없는데 아무도 나하고 상종하려고 하지 않아 아마 내가 못 생겨서 그런 거겠지. 나랑 좀 가깝게 지내던 벗이 갑자기 학교폭력때문에 전학가겠다고 해서 당황했어. 내 벗들은 모여 다니며 후배들을 괴롭히고 금전도 뺏고 다니는데 정말 한심하기 짝이 없어. 수학 시험을 반도 못 맞았어. 스터디를 안 하긴 했지만 진짜 부끄러워. 고등학교 이 학년이 되도록 꿈 하나 못 정했다니 내가 생각해도 정말 내 자신이 한심하다. 부모님께 사랑을 받는데도 고독감이 느껴져. 우리집이 어려워서 나한테는 공부할 기회가 없는 거야. 나 정말 엄청난 진실을 알아버린 것 같아. 아빠가 옷을 너무 이상하게 입으셔서 창피해. 함께 다니고 싶지 않을 정도야. 금일 내 친구가 다른 반 친구에게 욕을 퍼붓고 폭행을 했다면서 내게 와서 말을 하더라. 자랑처럼 이야기 하는데 너무 한심했어. 내가 일본에서 와서인지 아이들이 은근히 따돌리는거 같아. 나를 보는 눈이 왠지 그런거 같아. 난 다른 친구들보다 공부는 잘했는데 막상 진로를 결정하려니 쉽지가 않네 다른 친구들은 모두 목표가 있는것 같은데 나만 이러고 있으니 한심스럽네. 최근 학업 때문에 친구들이랑 못만나서 아웃사이더가 된 기분이야. 우리 할머니께서 별세하셨어. 오늘도 맞았어. 이번이 벌써 몇 번째인지 모르겠다. 나는 가족들이 모두 있는데도 화목하지 않고 외로워. 오늘 너무 급해서 벗의 숙제를 따라했는데 선생님께 둘다 꾸중을 들어 너무 미안해. 내 생각에 지금 길을 잃은 것 같아. 친구의 보고서를 몰래 베꼈어. 기한을 맞추려면 어쩔 수 없었지만 계속 마음이 편치 않아. 예절교육 때문에 방학때 성당캠프에 와있는데 식구가 정말 그리워. 혼자 떨어져서 있으니까 외롭다. 입학하고 싶은 대학이 있는데 내 점수로는 택도 없다네. 당연히 갈 수 있을줄 알았는데 지금 머리가 하얗게 되어 버렸어. 진로 문제로 부모님과 대화해봐야 하는데 부모님이 모두 바쁘셔서 혼자 선택해야 해. 학업에 집중해야 할 때 놀기만 하는 동생이 참 한심해. 엄마는 계속 나랑 누나를 비교해. 누나는 학교에서 일 이등 하거든. 내방에 사놨던 블라우스가 사라졌어. 분명 동생짓인데 증거가 없어서 혼랴스럽네. 나는 의대를 가고 싶지 않은데 자꾸 주변 사람들은 의대를 쓰라고하네. 부모님은 대학에 입학하길 희망하시는데 난 입사를 먼저 하고싶어서 말씀을 드려야하는데 너무 부끄러워. 우리 부모님은 늘 다퉈 혹시 친구들이 알게될까봐 걱정이야. 함께 다니던 친구들이 날 멀리해서 요즘 외로워. 내 점수로는 갈 수 있는 대학교가 많이 있을 줄 알았는데 거의 없어서 당황스러워. 오빠가 며칠째 안 씻고 있어. 너무 더러워. 금번에 대학교 원서 쓰는데 부모님 의사에 따르지 않고 내뜻대로 써버렸어. 독서실에서 계속 잠만 잤어. 엄마가 어렵게 보내주시는데 공부가 잘 안 되서 엄마에게 송구해. 난 그냥 다른아이들이 하길래 장난 삼아 한건데 그 애가 그렇게 다칠 줄은 몰랐어. 그렇게까지 상처줄 지 몰랐어. 어제 식구들이랑 크게 싸웠어. 내가 예고 가고 싶다고 했더니 헛바람 들었다고 안 된다고 하더라고. 가족들이 내 말을 믿어주지 않아서 소외된 기분이야. 친구가 교내 폭력을 당하고 있는데 겁나서 도와주지 못했어. 미안한 감정이 들어. 우리 반 반장은 겉으로는 모범생 이지만 뒤로는 약한 벗들만 괴롭히는 진짜 악랄한 애야. 반 동료들 행동이 혼란스러워. 이게 학교 폭력인가? 친한 친구들과 싸웠는데 그 뒤로 다들 날 피해서 학교 생활이 무척 외로워. 학교에서 그누구도 나한테 말 걸어주는 사람이 없어. 항상 혼자있으려니 너무 외로워. 어머니가 할머니께서 우리 집에서 살게 되셨으니 앞으로 아우랑 같이 방 쓰래. 싫은건 아닌데 당황스러워. 난 우리 아빠가 정말 싫어 내 어릴 때 벗이 이번에 시험을 잘 봤대. 요즘 친구들 반응이 이상해. 내가 가면 하던 말을 스탑한다던지. 학교폭력을 당하는데 혼자 도망나오지 못하는 내가 정말 한심해. 어머니가 일주일동안 외가에 가신대. 너무 갑작스러워서 당황스러워. 요즘 걱정이 좀 있는데 말이지. 고등학교에 입학했는데 반에서 친구를 괴롭히는 아이가 있어. 고등학생이나 돼서도 그러다니 납득이 안되고 한심해. 친우들이 나만 빼놓고 민지 생일파티를 해서 속상해. 요새 공부에 집중하느라 친구들과 멀어진거 같아. 진로를 결정해야할 때인데 난 내가 무엇을 해야할지 잘 모르겠어. 나 아무래도 우리 학급 일진에게 찍힌 것 같아. 쉬는 시간마다 매번 시비를 걸면서 때려. 내일이 모의고사인데 학교에서 봉사활동을 하라네 정말 당황스럽다. 학교에서 혼자 있으니까 주변에 친구들이 모두 나를 이상하게 보는 것 같아. 우리 엄마가 외국인인데 밖에 돌아다닐때 시선이 신경쓰여. 우리 반에서 어느 한 명을 왕따 시키는 일이 진짜 옳은 일인가 싶어. 우리는 엄마가 엄마가 안계시는데 힘들었을 아버지에게 투정부린 내가 많이 한심해. 따돌림을 당하면서 친구와 대화해본지 오래된 것 같아 매우 외롭다. 고등학생이 되어서 생각해 보니 그전에 같은 반 친구를 따돌렸던 게 많이 부끄러워. 이번에 건강검진을 받았는데 병원에서 별도로 자세히검사를 받아봐야 될 것 같다고 해서 놀랐어. 오늘도 같은 반 학우를 때렸어. 날 업신여기는 애들은 맞아도 싸 나는 의대를 가길 원하는데 다들 나랑 어울리지 않는데. 난 다른아이들 처럼 잘하는게 하나도 없는거 같아이런 내 자신도 내가 싫은데 동료들이 어떻게 날 좋아하겠어.너무 울적해. 선생님께 내가 돈 뻇긴거 여쭤볼까 고민도 해봤는데 도저히 말 못하겠더라. 내가 학교에서 따돌림을 겪는다는걸 애인이 알게 돼서 굉장히 창피하고 부끄러워. 저희반에 왕따 당하는 친구가 있는데 내가 어떻게 해야할지 모르겠어. 이번에 대학 입학을 그만하고 요리를 정식으로 배우기로 허락 받았어. 내가 가깝게 지낸 친구가 이제는 나랑 다른 반인데 자기 반 애를 따돌렸대. 왜 그랬을까? 금일 모의고사 점수가 나왔는데 부모님께 못 보여주겠더라. 모친이 알고보니 새엄마였어. 고등학교 삼학년인데 무척 당황스럽고 충격적이라 공부에 집중이 안 돼. 나 오늘 학교에서 같은 학급 친구에게 맞았어. 앞으로 내가 진심 이 전공으로 가야할지 잘 모르겠어. 나는 아우가 영악하고 다 아는데 모르는 척 해서 진짜 아주 싫어. 아버지는 술만 먹으면 비속어를 마구 해. 매우 보기 싫고 끔찍해. 요즘 학교에서 왕따 당하고 있어. 내 편이 하나도 없어서 매우 외로워. 이번에 성적이 한 등급이나 낮아졌어. 공부를 하지 못한 내 스스로가 한심해. 엄마가 자꾸 나랑 팔짱을 끼고 걷고 싶어해. 팔짱을 끼고 걸어다니면 주위 시선들이 불편한데 어쩌면 좋을까? 내 벗을 괴롭히는 아이들이 있는데 내가보기엔 열등감 때문이야. 친구들이 나를 꺼리는 기분이 들어. 내 성격 때문일까? 친구들이랑 수업 끝나고 집에 가는 길에 낡은 자동차를 타고 아빠가 태워주러 오셨는데 괜찮다고 하고 나 혼자 집까지 뛰어왔어. 매번 동일한 성적에 머물고 있어서 속상해. 난 외동인데 언니나 오빠가 있는 벗들이 부러워. 혼자는 좀 고독하거든. 오빠가 오늘 엄마한테 욕하면서 심하게 반항하지 뭐야. 나이도 있으면서 왜저러는지 정말 이해할 수가 없어. 금일 학교에서 친구가 맞았는데 나는 보고만 있었어. 내가 진짜 한심해. 우리 집안은 무엇이든 잘 하는데 나만 공부도 못하고 아무것도 못해. 이번 중간고사를 너무 못봐서 부모님께 죄책감이 들어. 새로운 반에 친한 동료들이 한명도 없어. 아는 것도 한명도 없어서 외로워. 가족들하고 상의 하고 싶지 않아. 내가 왕따를 당해서 친구가 없다는 사실이 부모님께 매우 부끄러워. 우리 반에 따돌림 당하는 친구가 있는데 도와주질 못하는 내가 진짜 한심해. 요번 성젹표는 엄마에게 보여 줄 수 없을 것만 같아. 반친구들이 내 옆자리 친구를 괴롭히는데 난 도와주지 못하고 단지 책만 읽고 있었어. 요번 모의고사 때 마킹을 전부 밀려서 해 버렸지 뭐야. 진짜 나는 한심해. 내게 화만 내는 아버지가 정말 싫어서 일기장에 심한 욕을 썼어. 괴롭힘 당하는 친구가 있는데 그릇된 걸 알면서도 감싸주지 못했어. 진로를 정했는데 내성적으로는 갈수없는곳이야 그래서 그동안 내가 공부를 안해온것에 대해 수치스러워. 금일 학교에서 수행평가 결과가 나왔는데 내 느낌보다 점수가 많이 낮아. 이게 어떻게 된 것이지? 내게 화만 내는 부친이 정말 싫어서 일기장에 온통 심한 욕을 썼어. 이번 테스트를 망쳐서 성적을 부모님께 보여드리기 민망해. 친한 친구가 학교폭력을 당하는 거 같은데 내가 저지하면 나도 학교폭력 피해자가 되진 않을까? 난 분명 열심히 공부했는데 점수가 안 나와 진짜 당황스럽다. 형과 누나가 사소한 문제로 서로 다투고 있는 모습이 몹시 한심하게 느껴져. 공부도 안하면서 수업 시간에 선생님께 까불고 분위기 흐리는 애들이 너무 짜증나. 쪽지시험이 있다는 것을 까먹었어. 사실 알고 있었는데 너무 졸려서 곯아 떨어져 버렸어. 나 꼭 가고 싶었던 대학에 불합격했어. 우리집은 매우 궁핍해서 갈 곳이 없는데 이런 집이 이젠 부끄러운 것 같아. 요즘 들어서 열등감을 느끼게 된 사건이 있는 것 같아. 금일 조금 당황스러운 일이 있었어. 아빠랑 엄마가 또 다투고 있어. 내일 음악 가창시험이 있는데 생각만 해도 부끄러워. 엄마 지갑에서 만 원 빼냈는데 미안하게 동생이 뒤집어썼어. 오늘 아빠 지갑에서 돈을 훔치다가 발각됐어. 후회되고 부끄러워. 이번 테스트의 성적이 무척 안 좋아 내가 공부를 너무 안 했어. 내가 공부를 잘 해서 따돌림 당한거래. 그게 어떻게 사유가 되지? 학교에서 나를 괴롭히는 애가 있는데 정말 마주보기도 싫어. 집에 있어도 고독한 느낌이네. 금일 같은 반 친구가 왕따 당하는 것을 지켜볼 수 밖에 없었어. 부모님이 맞벌이여서 낮이랑 저녁에 나 홀로 있을 때가 허다해. 구월에 본 중간고사 테스트 성적이 나빠서 엄마아빠께 죄송하고 부끄러워. 학교폭력을 주도하는 무리가 너무 경멸스러워. 왜 그런 일을 하는지 모르겠어. 잠시나마 그 친구들과 어울려 친구에게 그런짓을 했다는게 너무나도 수치스러워. 난 남들보다 더 괜찮은 사람이라 생각했는데. 엄마가 겉옷을 사준다는데도 거절했어. 괜히 누가 보며 뺏을게 분명해 따돌림 당한 뒤로 혼자서 밥먹어야 해서 너무 외로워. 오늘도 학업 안 하고 놀기만 했어. 시험이 코앞인데. 어제 언니한테 심한 얘기를 한 후로 언니가 방에서 안 나와. 이후에 내가 무엇을 해야할 지 고민이야. 많이 힘드셔도 그 날이 빨리 오길 바래요. 나 걱정이 있어. 주변에 정시 준비하는 사람이 나밖에 없어서 쓸쓸해. 갑자기 부모님이 나의 학업에 관심을 가지기 시작했어. 난 꿈이 있는데 아무것도 노력하고 있지 않아서 스스로가 갑갑해. 친구는 잘 하던데 나는 어째서 이러는지 모르겠어. 학교폭행을 당했어서 주동자들을 신고했는데 나를 다시 은근슬쩍 괴롭히더라. 이번 시험에서 만점을 받지 못했어. 자율학습 하고 왔는데 자가에 아무도 없어. 수능 시험이 얼마 안 남았는데 공부를 많이 못했어. 어떤 대학을 진학해야할지도 모르겠어. 오늘 학교폭력을 한 학생들의 재판 영상을 봤어. 그 인간들 다 뻔뻔하더라? 엄마가 느닷없이 방문을 열고 서랍에 숨겨놓은 성적표를 가지고 갔어 정말 당혹스러워. 오늘 모의고사에서 다시 등급이 떨어졌어. 나는 대체 왜 이럴까. 새아빠가 생겼는데 식구같지 않아서 혼동스러워. 여러사람이 몰려다니면서 한사람을 못살게하는 아이들을 보면 이해를 못하겠어. 친구들은 다 인문계 고등학교를 진학하는데 나만 특성화 고등학교로 진학하니 뭔가 쓸쓸한 느낌이야. 친구가 계속 한 아이를 왕따 시키는 데 동참하라고 해 어떻게 할지 모르겠어. 마음에 안드는 친구를 따돌림시켰어 그 친구의 무거운 표정이 마음에 걸려. 교내에서 아이들이 날 은근히 따돌리는 것 같아. 내가 빈약해서 만만해 보이나 봐. 내 동무들은 왜 다 한껏 놀고선 성적은 잘 나올까? 이제 내 진로를 결정해야 하는데 아직 길을 모르겠어. 많이 부족한 것 같은 생각이 들어. 벗들이 내 짝하고 친하게 지내지 말라고 했어. 좀 무섭게 이야기를 해서 싫다고 얘기를 못하겠더라구. 이번 시험 서술형 문제 검토하는 때에 잘못 썼는데 맞았다고 채점된 문제가 존재했어. 중학교 때 친구가 교내에서 따돌림당하고 있는 걸 봤어. 그런데 겁이 나서 도피해버렸지 뭐야. 우리 형은 공부를 무청 잘해서 의대를 갔어. 나는 왜 그러냐고 식구들이 엄청 뭐라 그러네. 친구를 다치게해서 금일 학교에 부모님이 불려왔어. 근데 부모님도 내 이야기를 안 들어주셔. 친구들은 모두 다니는데 나만 학원을 못 다니고 있는 것 같아서 공부에서 뒤쳐질까 고민이야. 오늘 나 제외하고 가족들이 다 외식하러 나갔어. 그러고보니 금년 수능 원서 접수가 언제지? 전부 열심히 공부를 하니까 나도 같이 하게 돼 자택에서 나 홀로 외딴섬에 있는듯한 기분이야. 요새 정말 걱정이 많아. 나는 조부모님과 사는데 졸업식날 부모님이 안오시니까 보는눈이 신경쓰여. 내 아들 대학을 보내 줄 돈이 없어. 요새 학교에서 왕따 당하고 있는데 그 이유를 몰라서 혼란스러워. 갑자기 왜 이렇게 된 걸까? 우리 가족은 외출만 하면 꼭 친한 척 해. 친구들이 어떤 약한 아이를 괴롭히는데 도와주지 못하고 같이 괴롭혔어. 마음이 매우 불편해. 혼자 있는 건 몹시 비참해. 엄마랑 아빠랑 나 때문에 다투는거 같아. 아빠는 일도 안 하고 매일 술만 먹어. 진저리가 나. 친구들은 확실한 목표가 있는데 나는 잘 하는 것도 없고 엄청 한심해. 동무들은 다 진로를 정했는데 나만 아직 못 정했어. 나도 이제 다 컸는데 계속 어머니가 애취급 하니까 부끄럽고 민망해. 하교하고 집에 돌아오는 중에 같은 반 친구를 괴롭히는 아이들을 봤어. 형이 나보다 공부를 너무 잘해서 자꾸 나랑 비교돼 점수가 하락하면 다른 사람들이 이상하게 생각할거야. 그렇기 때문에 열심히 공부해야 돼. 부모님은 늘 바쁘셔서 학교 갔다 오면 늘 혼자야. 여자애들 앞에서 따돌림을 못 참고 울어버렸어. 불쌍하게 바라보는데 너무 창피했어. 나만 성적이 안나와서 가고싶은 대학에 못갈 것 같아. 즐거움도 없고 맨날 숙제만 하다가 하루가 끝나. 부모님께서 정말 기분이 좋으셨겠어요. 오늘 애들이 날 화장실에 가뒀어. 나 홀로 새벽까지 울었어. 누군가 따돌림을 당하는 광경을 본 적이 있어. 금일 수업시간에 발표를 했는데 실수를 해서 부끄러웠어. 최근 어머니가 언니만 너무 편애해서 언니가 부러워. 오늘 진로검색 하느라 정말 아는 여자애가 혐오스럽게 느껴지더라. 나는 형님이랑 나이 차이가 많이나. 오늘 학교끝나고 날 괴롭히는 애가 교문앞에서 날 큰소리로 욕했어. 우리 가족은 다른사람 신경을 많이 써. 나도 형제가 있었으면 좋겠어. 부모님은 바쁘시고 늘 홀로있으니까 외로워. 전에 왕따를 한 적이 있는데 현재 생각해보니 부끄러워. 난 이 등인데도 외고 입학하고싶은데 일 등은 의견이 다른가봐. 내가 개의치 않고 하던 발언이 친구에게 상처가 된 것 같아 공부도 안하면서 성적 안나온다는 애들보면 정말 한심해. 우리 가족들은 왜 언제나 나에게 관심이 없는걸까? 학교에서 친구들이 날 발로 차서 너무 힘겨워 가족들이 나 때문에 너무 힘들어하는 것 같아. 장학금을 내가 못 타서 친구를 때렸어. 공부하느라 방 안에만 박혀있다보니 너무 쓸쓸하네. 아직도 정확한 진로를 정하지 못한 내가 너무 못나보여. 요새 반에서 남자애들이 한 여자애를 괴롭히고 있어. 학교 성적이 나빠서 걱정이야. 어째서 나보다 쟤가 더 이쁨받는거지? 학교에서 내가 동성애자라고 소문이 퍼졌어. 우리 식구에 대해서 묻지 않았으면 좋겠어. 엄마가 재혼을 하신대. 나는 앞으로 어떻게 되는거지? 혼란스러워. 부모님한테 고민상담도 하고 친구처럼 편하고 살고싶다. 우린 쌍둥이 형제인데 왜 이렇게 차이나는걸까? 오늘 학교 끝나고 집에 가다가 아주 불편한 장면을 봤어. 나에 대해 그런 처리를 하다니 속상해. 어떡하면 좋지. 벗에게 실수했어. 주변 사람들이 날 어떤 시선으로 바라볼까 매일 고민 돼. 나보다 못 하는 아이였는데 어떻게 등수가 올랐지? 학교 다녀오면 집에 매일 나 혼자야. 내가 첫째인데 가족 중에 대졸자가 없어서 나를 도와줄 사람이 없네. 내일 학교에서 발표수업이 있는데 앞에 나가는게 부끄러워 잘해야지 높은점수를 받을텐데. 아무리 생각해봐도 내가 한 행동이 정말 부끄러워. 형이 나보다 공부를 잘해서 성이 나. 형은 나보다 공부를 잘해. 난 어째서 이렇게 공부를 못할까? 내가 첫째인데 가족중에 대졸자가 없어서 정보를 받을 곳이 없네. 내 친구 경미는 이번에 수학 무척 잘 봤던데 나는 더 하락했어. 친구들이 나한테 점수 올랐냐고 물을 텐데. 나를 따돌렸던 친구들이 정말 증오스러워. 어머니도 아버지도 키가 백칠십이 넘는데 나만 키가 작아. 난 입양아가 아닐까? 아 내가 고른 학업과 진로가 아니 다른곳에 가버리게 되서 황당해버려네. 이번에 같은 반 친구가 점심시간에 맞는 모습을 목격했어. 나는 유미만큼 예쁘지도 똑똑하지도 않아. 그러니 선생님이 나에게 관심이 없는 거야. 어제 점수표가 나왔는데 엄마에겐 아직 안나왔다고 거짓말을 했어.석차가 엄청 낮아졌거든. 어제 뉴스에 매우 화나는 내용 나온 거 있지. 과학고등학교는 입학하기 힘들게 됐어. 친구랑 식구들 시선이 비난하는거 같아. 반 친구들이 내가 명품이 없다고 무시해. 난 왜 공부를 해도 점수가 안 나올까? 나 자신이 매우 한심해. 장래를 정해야되는데 내가 뭘 하고싶은지 모르겠어. 나 어쩌면 좋아? 오늘 언니가 친구한테 물건을 구입했대. 요즘 나 자신이 약간 한심하게 느껴져. 오늘 많이 혼란스러운 것 같아. 우리 부모님은 타인 시선을 너무 의식해. 문과를 가는 게 맞는 걸까? 아직도 내 꿈이 정해지지 않아 혼란스러워. 나도 언니같이 공부를 잘 하고 싶어. 내일은 머리 짧게 커트하고 염색도 해야지. 최근 왕따를 당하느라 학교에서 고립된 기분이 들어. 중학교 때 내가 따돌림시켰던 친구가 자꾸 떠올라 죄책감이 들어. 오늘 학교에서 폭력을 행사하는 친구를 봤는데 혐오스러웠어. 요즘 내 진로가 잘 안 풀리는 것 같아. 내가 너무 한심하게 느껴져. 내가 어렸을때 아버지가 나 구하다가 다치셨어. 나 지금부터 누구랑 살아야 되는거야? 친구의 희망 직업 이유가 정말 혐오 그 자체야. 이제 조만간 수능인데 점수가 생각만큼 안 나와 이대로라면 재수해야 할 것 같아. 내년이면 고등학생인데 부모님은 여태 내가 어리다고 하셔. 매일 독서실만 가니까 혼자서 고독하게 공부하는 기분이야. 집 들어가기 싫다. 한숨밖에 나오지 않아. 아무리 공부해도 점수가 오르지 않는 것 같다. 전학을 간 학교에서 집단 괴롭힘을 당하고 있어. 잘못한 게 없는데 너무 당혹스러워. 친구가 없어서 급식실에서 홀로 밥을 먹고 있는데 다른 친구들이 주위에서 수근거리는 것 같아. 내가 그애보다 못한 게 뭔데. 왜 다들 나만 싫어하지? 우리 학급에 조용한 여학생이 있는데 계속 아이들이 따돌려. 같은 반 동무들이 그 동무를 괴롭히는 걸 보면 정말 한심해. 동생이 아주 싫고 혐오스러워서 스트레스 받아. 요즘 내가 바빠서 부모님이랑 대화를 많이 못 했어. 아빠엄마가 이혼 하신데. 누구랑 살고 싶냐고 물어 보시더라구. 벌써 고등학생인데 남들보다 공부 속도가 많이 뒤처져. 친구가 없어서 매일 혼자 다녀. 나 요즘 무척 힘들어. 내가 함께 다니던 친구를 왕따시켰는데 너무 후회돼. 어머니가 나 때문에 우셨어. 오늘 졸업앨범 촬영하러 현장학습갔는데 결국 혼자 밥 먹었어. 종종 아빠가 나보다 강아지를 더 좋아하시는 것 같아 헷갈려. 학교폭력을 당하면서 힘들기도 했지만 외로운게 가장 힘들어. 나 걱정이 있어. 나 요즘 쓸쓸한 거 같아. 난 형제가 존재하는 친구들이 부러워. 나 공부시키느라 공부 안한 첫 째 누나에게 정말 미안해. 나는 동료들처럼 진로 상담할 언니가 없어. 다른 애들이 공부도 안하고 노는 모습을 보니 참 한심해. 요새 대학 지원하느라 다들 바빠. 나는 반에서 왕따를 당하는데 제일 싫은 게 그 당하는 모습을 다른 벗들이 보는 거야. 어쩌면 좋지? 시험 답안을 밀려 작성한 거 같아. 서울대 가겠다는 동생이 시험기간에 줄곧 놀고만 있어. 공부를 안하고 놀기만 하는 친구들이 가장 한심해. 공부해야 하는 걸 알아. 알면서도 그냥 자버린 스스로가 원망스러워. 금일도 학교 수업 내내 잤어. 난 정말 뭐가 될 사람인지 모르겠어. 금일 학교에서 스승님과 진로상담을 했는데 나한테 독설을 퍼부어서 증오스러워. 난 시시한 대학은 입학하기 싫어. 다른 사람들이 알아주는 대학에 들어가서 대기업에 취직하고 싶어. 양친은 나한테 요구하는 게 많아. 우리 반에 따돌림 당하는 애가 있는 것 같아. 약속을 지키지 않고 외박을 했어. 집에 어떻게 들어가지? 나보다 더욱 지원받으면서 아무것도 안하는 오빠가 한심해. 오빠가 갑자기 나한테 잘해 줘서 어안이 벙벙해. 나 스스로가 너무 한심해. 난 왜 살까? 나는 혼자 다니는 게 좋아. 따라서 친구들과 어울리지 않아. 근데 사람들은 내가 왕따를 당한다고 생각해. 금일도 부모님께서 나랑 동생을 비교하셨어. 요새 조금 외로운 것 같아. 금일 친구의 시험지를 몰래 봤어. 근데 너무 후회해. 나는 학교 친구를 따돌림 시킨 게 챙피해. 친구들은 모두 잘 하고 있는데 나는 왜 이리 못난걸까? 진로를 선택하는데 도움을 받을 곳이 없어 고립된 느낌이야. 이제 학생이 되니까 주위 시선이 신경쓰여. 내가 무엇이 되면 좋을까? 오늘 성적이 발표되었는데 좀 이상해. 레스토랑 같은 데에 아빠랑 가기싫은데. 내가 무엇을 잘못한 걸까? 남의 시선이 신경쓰여서 이 옷을 입어야할지 고민돼. 머지않아 졸업인데 아직까지 진로를 결정하지 못해서 혼란스러워. 내 친구가 나만 빼고 반친구들을 초청해서 생일잔치를 했어. 내가 뭘 잘못한 걸까? 벗들이 나를 은근히 따돌리고 있는거 같아. 나 오늘 학교에서 다른반 친구들한테 폭행 당했어. 아버지의 외도때문에 가정이 망가지게 생겼어. 아바지의 이중적인 모습에 소름돋아. 학교 과제로 가족 사진을 찍어 오라는데 많은 나이가 많아서 수치스러워. 벗들이 놀릴 것 같아요. 혼자 매일 도서실에서 학습을 하니깐 외롭다. 가족이 있어도 가끔씩 쓸쓸할 때가 있어. 아버지는 일을 쉬고 여전히 집에서 놀고 있어. 나 아직도 진로선택을 못 했어. 내가 쟤보다 공부를 못 하니까 내 삶 망한거지? 다른 집 아빠는 원하는 대로 뭐든 해주는데 우리집 아빠는 안해줘. 뭐든 다 잘하는 오빠한테 몹시 열등감이 들어. 직업을 상정할 때 남의 시선을 많이 의식하는 것 같아. 반 친구들이 나를 이상하게 생각할 것 같아서 근심돼. 진짜 난 내가 뭐가 되고싶은지 잘 모르겠어. 학교에 가면 누구도 나랑 이야기 하지 않으려고 해 진짜 외로워. 부모님이 요즘 너무 다투셔서 이웃집 눈치가 보여. 최근 진로 계획 때문에 매우 혼란스러워. 엄마가 장터에서 생선장사를 하는 것을 우리 반 애들이 본것 같아. 나 금일 너무 당황스런 일이 있어. 오늘 엄마아빠와 싸웠어. 친구들은 다 인문계인데 나만 체대 입시해서 쓸쓸해. 수능이 얼마 남지 않았는데 정말 후회가 돼. 아버지가 한심해 왕따 당하는 친구가 있는데 나까지 괴롭힐까봐 도울 수가 없어. 내 진로에 우리 식구는 관심이 없어. 학교폭력의 주동자들이 너무 싫어. 금일 수업시간에 너무 창피했어. 아버지가 어떤 아이를 데리고 오셨는데 우리 집에서 살거래. 요새 아이들 옷 다들 잘 입는데 나만 못 입는 거 같아. 아우와 다투다가 부모님께 혼났어. 아우와 싸운 게 후회되고 부끄러워. 아무도 나랑 밥을 안먹으려고 해. 이제 내 주위엔 아무도 없어. 이번에도 시험 점수가 안 좋아 이번 수학 테스트도 망했어. 나는 삼 수생인데 동생은 명문대에 한 번에 합격했네. 아우는 텔레비전 끄자고 했는데 나 때문에 혼나고 있어. 엊그제 중학교 벗을 만났어. 벗이 학교폭력을 당하는 것을 보니 당황스러워. 우리 반 한 학생이 따돌림를 당하는데 도와줬다가 나도 따돌림를 당할까봐 못 도와주겠어. 따돌림 당하는 애가 불쌍하면서도 한심해. 왕따 같이 시키던 애들이 나를 선생님께 일러서 혼란스러워. 나는 커서 뭐가 될까? 진짜 모르겠어. 공부하기가 정말 어려운데 도움을 청할 사람이 없어. 내가 가족을 나두고 전학을 와서 쓸쓸하다. 학교 수업 못 따라가겠어서 과외를 받은 건데 이런 불상사가 발생하다니. 대학을 간호학과로 가고 싶은데 친구들이 놀릴까 봐 창피해. 음악을 하고 싶은데 부모님은 반대를 하셔서 걱정이 많아. 나만 우리 학급에서 대학교 못 갈 거 같아. 공부를 못해서 부모님에 바라는 대학을 갈 수가 없어. 소영이네 가족은 참 화목해 보이던데 우리 집은 그렇지 않아. 기숙학원에서 공부하니까 무척 외롭고 답답하다. 고삼이라도 그렇지 너무한데. 학교 수업 못 따라가서 과외 받은 건데 이런 불상사가 발생하다니. 요새 스스로가 한심해서 살기가 싫어져. 몇 년 동안 학교에서 따돌림을 당해서 나는 친구가 하나도 없어. 난 대학 말고 취업하는 게 낫다고 보는데 부모님은 반대만 계속하셔. 누구도 내 편이 없어. 내가 대학 안가고 취직할려고 하는데 다른 사람들 시선에는 안 좋게 보일까? 집에서 내 꿈을 아무도 지지해 주지 않아서 쓸쓸해. 내가 가고 싶은 학과에 가고 싶은데 인간들이 좋아하는 학과를 가야 될까? 어제 동무들이 내 짝을 괴롭혔는데 난 보고만 있었어. 요즘 자기혐오가 지나치게 드는것 같아. 스스로가 정말 한심해서 살기 힘들어. 학업을 어떻게 해야 할지 모르겠어. 엄마랑 아빠가 나 때문에 빈번히 싸우시네. 날 괴롭히는 학교 아이들이 싫고 혐오스러워. 꿈도 정해지지 않았는데 공부를 해가는 과정이 정말 쓸쓸하고 힘든 것 같아. 우리 엄마아빠는 형만 좋아해. 날 쳐다보지도 않아. 따돌림을 당하는 애들이 되게 한심해. 테스트 보다가 컨닝을 했는데 너무 죄책감이 들어. 아빠가 돌아가셨어. 기말시험에서 만점을 받았어! 정말 슬퍼. 친구가 날 떠났어. 나의 부모님은 이혼하셨는데 이야기하기 부끄러워. 친구들을 따돌리는 반 아이들이 너무 혐오스러워. 진짜 우리 형은 너무 한심해. 내 진로는 디자이너인데 선생님이 웹툰 작가라고 작성해 주셔서 당황했어. 내가 공부를 안하고 있는 것 같아서 죄책감이 생겨. 여태까지도 공부에 흥미가 없는 내가 한심해. 아까 학교에 모친이 오셨는데 일부러 부끄러워서 모른척했어. 매우 외로워. 식구들에게서 소외된 느낌이야. 친구들이 내 별명을 대놓고 불러서 창피해. 근래 성적이 자꾸 떨어져서 혼란스러워. 가족들 모임 자리만 가면 머리를 못 들겠어. 우리 친어머니가 아닌 것 같애. 앞으로 어떻게 살아야 할 지 답답하네. 돈이라는 게 어찌 보면 모두 가짜 같아. 난 음악 외에는 생각해 본 적이 없어. 무언가 이상한 거 같애. 난 잘못한 게 없는 것 같은데 무엇이 문제일까? 학교에만 가면 혼자 고립된 기분이 들어. 학교 갈 때마다 반에서 흡연하는 애들을 볼 때면 너무 혐오스러워. 나 아우 생겼어. 난 학교 폭력을 당했어. 괴롭히는 그 벗에게 열등감이 들어. 내가 다니려는 의대가 폐교한다는데 진짜 어이없다. 경영학을 전공하고 싶었는데 나쁜 얘기를 들으니까 가기 싫어졌어. 우리 부모님은 내가 명문대 가기를 원하고 계셔. 명일까지 해야하는 과제가 정말 많아. 나는 공부가 너무 싫어. 내가 학교에서 지저분한 애로 소문나서 혼자서 밥을 먹어. 스터디를 못해서 친구들에게 열등감을 느끼고 있어. 우리 집도 친구들 집처럼 화목했으면 좋겠어. 여자친구가 보는 앞에서 날 치는데 그 자식이 진짜 역겹다는 생각이 들었어. 내가 대학에 안가면 인간들이 고졸이라고 날 무시할까? 내가 아무리 공부를 해도 따라가지 못하는 애가 있어. 체대 목표로 체력 단련을 해왔는데 느닷없이 그만두게 됐어. 진로를 정하지 못한 친구들이 한심해. 일 안 하는 누나가 정말 한심해. 반 애들이 나를 따돌리는 것 같아. 아무도 나랑 얘기를 하지않아. 늘 엄마는 나와 언니를 저울질해 나는 그런 엄마와 언니가 싫어. 이번에 전학 간 학교에서 친구들이 따돌려서 난 언제나 외톨이야. 식구들이 나만 따돌리는 느낌이 자꾸 들어. 친했던 친구가 다른 친구들이랑 놀아. 오늘 아버지가 외도하는 걸 목격했어. 이해 할 수 없어. 모의고사 점수가 너무 낮게 나와서 부끄러워. 내가 글을 잘 못써. 학교에서 쓰기 숙제가 있으면 하기 싫어. 오늘 반 친구들이 괴롭혀서 담임 선생님을 찾아갔어. 새엄마가 학부모 간담회에 오셔서 조금 부끄러웠어. 내가 봐도 진짜 끔찍해. 담임선생님이 왜 그 애를 보호하는 건지 이해가 안 되네. 학교에서 성적이 높다는 이유로 학교폭력을 당하는데 이게 내 잘못인가 자책하게 돼. 친구와 갈등이 생겼는데 나 때문이라서 죄를 지은 기분이야. 자존감이 낮아서 나 자신을 낮게 평가하는데 이런 나 자신에게 너무 미안해. 취직했는데 월급이 많지 않아서 부모님께 죄송한 마음이야. 내가 학원을 안 다녀서 친구들이 그걸로 따돌리는 것 같은데 너무 괴로워. 부모님의 지나친 간섭이 내 탓인 거 같아. 게임 중독 때문에 성적이 떨어졌는데 부모님께 죄책감이 들어. 정신장애 때문에 여자친구와 갈등이 생겼는데 거기서 화를 내버린 게 너무 후회돼. 내가 신체 질환이 있어서 부모님께서 나를 지나치게 신경 쓰셔. 짐이 되는 것 같아 죄송해. 나보다 공부를 못하는 친구를 무시하고 따돌렸어. 너무 죄책감이 들어. 내 친구들은 좋은 과외를 받고 있지만 나만 그렇지 않아서 눈치를 보게 돼. 속상해. 나 사실 다리가 불편해. 어서 취업해야 하는데 이런 나를 받아줄 곳이 있을지 걱정이야. 부모님은 내가 아직도 어린아이 같나 봐. 그동안 부모님 말씀을 너무 잘 들은 게 후회돼. 어제 부모님이 크게 싸우셨어. 다 나 때문인 것 같아서 너무 죄책감이 들어. 자꾸 취업에 실패하다 보니 자신감이 바닥났어. 부모님 보기에도 정말 미안하고 죄책감이 들어. 엄마가 게임을 많이 한다고 뭐라고 해서 슬퍼. 내가 태어나지만 않았다면 엄마는 일찍이 좋은 짝을 만나 행복을 누리실 텐데. 성형수술 예약 날짜가 다가오는데 너무도 망설여져. 집중하지 못하는 성격 탓에 성적이 좋지 않아서 부모님 기대에 못 미치는 게 죄책감 들어. 바빠서 장염으로 입원한 여자친구 문병을 못 가서 미안한 마음이야. 한쪽 팔을 못쓰게 된 이후로 모든 일이 자신 없어. 그때의 실수만 아니었다면 뉘우치게 돼. 매일 온라인 축구게임을 해서 엄마가 이번 달 전기세를 많이 내야 한대. 나 때문이야. 여자친구한테 저번에 내가 너무 심하게 화를 냈나 봐. 아직도 연락이 없어. 분노조절 장애로 학교에서 문제를 많이 일으켜 엄마가 오셔서 맨날 사죄드려. 너무 죄송해. 어머니가 너무 공부하는 것에 시시콜콜 간섭하셔. 엄마가 우울증 때문에 늘 아버지와 싸우시니 집안이 조용할 날이 없어서 괴롭고 힘들어. 음주운전 사고로 사람을 다치게 해서 앞으로 어떻게 살아갈지 두렵고 후회돼. 나는 불의의 사고로 다리를 잃고 휠체어를 타고 다녀. 가족들에게 피해가 될까 봐 두려워. 나는 얼마 전에 사고로 청력을 잃어버렸어. 그로 인해 다니던 회사에서도 해고당했어. 내가 아내 몰래 바람 피워서 아내가 나에게 매우 화가 났어. 후회되고 죄책감이 들어. 내가 다른 친구에게 지민이에 대해 말한 게 지민이의 귀에 들어갔나 봐. 어떡하지? 지난 학기 장학금을 놓쳐서 아르바이트를 해야 할 것 같아. 모든 게 내 탓이야. 친구랑 성적 얘기를 하다가 크게 다퉜어. 너무 미안해. 남자 친구랑 사귄 후에 성적이 크게 떨어져서 헤어지자고 했어. 너무 후회돼. 동생이 부모님에게 학대받고 있어. 이 와중에 난 내 진로를 생각하고 있는 게 너무 미안해. 내 불안장애 때문인지 가족들이 예민해졌어. 가족들이 싸우는 게 전부 나 때문인 것만 같아. 결혼한 뒤로 친구들과의 자리에 참석하지 않았어. 결국 서로 멀어졌는데 나 때문인 것 같아. 요즘에 내가 너무 핸드폰을 많이 하는 거 같아서 부모님께 미안해. 또 부모님께 손을 벌리고 말았어. 진짜 난 구제 불능인 거 같아. 다른 친구들과 달리 나만 꿈이 없는 거 같아서 너무 소외감이 들어. 내가 다른 사람들보다 정신적으로 부족해서 부모님이 이혼하신 거 같아서 힘들어. 한부모 가정인 친한 친구에게 말실수를 한 것 같아. 자꾸 죄책감이 들어. 게임 중독 때문에 성적이 크게 떨어져서 부모님 얼굴을 못 보겠어. 벌 받는 기분이야. 독립해야 할 나이에 부모님에게 계속 의존하고 있는 게 맞는지 혼란스러워. 대학교 등록금 때문에 공부가 손에 안 잡혀. 부모님께 손을 벌리는 것이 너무 죄송스러워. 요즘 게임에 빠져서 학원을 빠지고 피시방에 갔어. 학원비를 내주시는 부모님께 너무 죄송해. 처음 보는 사람들에게 명문대학교에 다녔다고 거짓말하는 나 자신에게 양심의 가책을 느껴. 시험공부 하느라 친구들의 연락을 다 거절해서 미안하고 친구들이 날 싫어할까 봐 두려워. 결혼할 때 부모님이 돈을 보태주신다는데 죄송해서 받아야 할지 모르겠어. 선천적으로 나는 한쪽 귀가 들리지 않았는데 여자친구에게 비밀로 하던 것이 들켜버렸어. 스터디 모이는데 내가 제일 못해서 친구들에게 눈치가 보여. 부모님이 내가 공부하는 것에 너무 간섭이 지나치셔서 어떨 때에는 너무 힘들어. 전교 일 등 하는 애가 거슬려서 애들이랑 놀렸는데 그 친구가 학교에 나오지 않고 있어. 친구가 내 우울증에 대해 조언을 해주는 게 너무 어이없어서 심한 말을 했어. 취직도 못 하는데 가족들 돈만 쓰게 하고. 모든 게 내 불안장애 때문 같아서 힘들다. 내신 성적이 나빠서 부모님이 또 싸우셨어. 다 내 잘못이야. 혼자 좋은 점수를 받기 위해 친구들을 돕지 않았어. 친구들이 욕할 것 같아서 눈치 보여. 엄마의 재혼 때문에 혼란스러워서 새아빠한테 못된 말을 했어. 지금은 너무 죄송해. 내 딸이 친구의 딸 때문에 다쳐서 친구에게 심하게 화를 냈어. 친구에게 너무 미안해. 나는 정신질환이 있어서 이번에 성적이 좋지 않게 나와서 반성하는 중이야. 부모님이 재혼가정이신데 내가 그동안 부모님을 미워해서 미안하다는 감정이 들어. 나의 이상적인 생각들은 지금 현실과 너무 동떨어져 있어서 괴리감을 느껴서 혼란이 와. 몇 해 전 어머니가 재혼해서 새로운 가정이 생겼어. 그런데 나는 새아버지가 너무 싫다. 처음 입사한 회사에서 자꾸 실수해. 난 이 회사에 도움이 안 되나 봐. 다른 형제들과 다르게 어버이날 아무런 선물도 준비 못 한 내가 초라했어. 취업 준비 중이라 돈이 없는데 무조건 생활비를 내라는 언니랑 싸웠어. 요즘 독립을 해야 하나 하고 생각하고 있는데 난 아무런 능력이 없어서 고민이 돼. 친한 친구들 사이에서 자꾸 눈치를 보게 돼서 괴로워. 여자친구가 내가 너무 집착해서 헤어지자고 했어. 내가 사소한 걸로 의심하고 뭐라고 해서 힘들대. 답이 없는 미래 때문에 요즘 불면증약을 먹고 있는데 너무 불안하고 스트레스받아. 게임중독이라 최근에 성적이 떨어졌어. 과외까지 시켜준 부모님께 죄송하고 죄책감이 들어. 대기업에 다니다 관두고 창업을 하며 빚을 졌어. 엄마말씀을 들을 걸 뒤늦게 죄책감이 들어. 엄마가 학교생활은 어떠냐고 물으셨는데 짜증을 내고 말았어. 엄마한테 너무 죄송해. 이번에 취업해서 독립을 하려고 하는데 보증금이 부족해. 부모님께 손 벌리기엔 너무 죄송해. 난 아기들을 좋아해서 보육교사가 되었는데 일이 너무 힘들어. 이 직업을 선택한 게 후회돼. 새어머니가 생겼는데 내가 정신장애가 있어 신경 써 주시는데 미안하더라. 석사까지 마쳐서 대기업에 들어갈 줄 알았는데 현실은 중소기업 사무직이야. 나는 육상선수가 꿈인데 파킨슨병이 있어서 아빠가 반대했어. 나 정말 열심히 할 자신 있는데 내 휠체어를 끌어 주느라 지각한 친구가 나 때문에 선생님에게 혼났어. 너무 미안해. 회사에 지원했는데 이번에도 경쟁률이 너무 세서 떨어지고 말았어. 이런 내가 너무 미워. 엄마가 나를 위해 애쓰는 건 알지만 가끔 견디기 힘들면 엄마한테 짜증을 내게 돼. 내 미래는 전망이 없는 것 같아서 나 자신에게 죄책감이 들어. 오늘 시험 결과가 나왔는데 성적이 떨어졌어. 내 미래가 너무 두려워. 나는 항상 왜 이럴까? 잘하는 것도 없고 하고 싶은 것도 없어. 무슨 직업을 가져야 할까? 내가 공부를 잘했다면 내가 원하는 걸 할 수 있었겠지. 새아빠랑 엄마한테 장애가 있는데 내가 이 집에 아무 도움이 안 되는 거 같아. 면접장에만 가면 긴장해서 말을 제대로 못 해. 자신감이 없어서 그런가 봐. 시험을 잘 못 보고 나서 엄마한테 화풀이를 해버렸어. 회사에서 팀 프로젝트를 내일 발표에서 내가 다 망칠 것 같아. 어떡하지? 동생들이 하고 싶어 하는 걸 시켜주고 부모님을 돕고 싶은데 돈을 많이 벌지 못해. 말을 어눌하게 하는 친구를 따돌렸는데 알고 보니 정신이 아픈 친구여서 양심에 찔려. 남자 친구랑 결혼을 결심해서 부모님께 소개해 드렸어. 잘 살아야겠다는 책임이 강해진 것 같아. 기말고사 성적이 중간고사 때보다 떨어졌어. 부모님이 실망하실 거야. 피시방에서 게임을 많이 해서 그런지 성적이 계속 떨어지는 것 같아 걱정이야. 직장에서 배척당하고 있는 것 같아서 마음이 안 좋고 죄책감이 들어. 허리디스크가 심해서 직장을 구하기 어려운 상황이야. 부모님께 너무 죄송해. 내가 학교 선생님과 친해서 혼자 시험 정보를 얻게 되어 죄책감이 들어. 아내랑 다투다가 집을 나가버려서 집에 혼자만 남으니 벌 받는 것 같은 기분이야. 이 나이에 친구들에게 배신을 당해서 부모님을 걱정시키는 이 상황이 한심해. 다리를 다쳐서 배구를 그만두게 된 게 벌 받는 기분이야. 사고로 오른손을 다쳐서 준비하던 고시 공부를 못하고 있어서 불안하고 두려워. 성적으로 선생님이 나와 친구를 차별해서 친구와 싸웠어. 친구에게 너무 미안해. 다리가 불편해서 항상 친구들이 나를 도와줘야 하는데 그런 상황에서 너무 눈치가 보여. 또래 중에는 대기업 다니며 집도 있고 차도 있는 사람도 있는데 난 아무것도 없어서 우울해. 또 시험 망쳤어. 친구들은 다 잘 본 것 같아서 좀 부끄럽고 친구들 눈치가 보여. 오늘 처음으로 학교에서 실습을 하러 갔어. 내가 생각한 건 이게 아닌데 정말 후회된다. 한쪽 팔이 좋지 않아서 무슨 일을 해야 할지 모르겠어. 세상에 태어난 게 잘못인가 봐. 다리가 안 움직여서 아무것도 하고 싶지 않아. 그때 조심하지 않은 게 바보 같아. 친구랑 싸워서 기분이 나빠 걔 입양한 애라고 소문냈는데 애들이 걔를 놀려. 내가 상처를 줬나 봐. 사람들이 나만 보면 뒤에서 속닥속닥해. 신체장애라고 비웃어서 무슨 내가 죄지은 거 같아. 친한 친구 둘이 싸웠는데 공부를 더 잘하는 친구 편을 들어줬어. 다른 친구에게 미안해. 친구들이 지적장애를 앓는 친구를 놀리는 걸 보고만 있었어. 죄책감이 들어. 아버지는 변호사가 되라고 하시는데 나는 작가가 되고 싶은 걸 숨기고 있어 죄송한 마음이야. 디스크로 운동 강사의 꿈을 포기했어. 치료를 일찍이 받지 못한 내 잘못이 커. 오늘 여자 친구랑 싸웠는데 걔가 울어서 너무 미안했어. 회사 일로 독립해야 할 거 같은데 독립을 하자니 홀로 남은 부모님께 너무 죄송해서 고민이 돼. 이번 시험도 다 망쳤어. 너무 후회돼. 매일 밤 핸드폰 게임을 하느라 시험을 잘 못 봐서 죄책감이 들어. 원하는 대학에 못 들어갈 것 같아서 내가 너무 한심스러워. 몇 시간 동안 연락이 안 된 여자 친구한테 순간 너무 화가 나서 심하게 화내버렸어. 취업 준비를 하고 있는데 연락 오는 곳이 없어서 걱정이야. 다른 사람들은 돈도 잘 벌어서 저축도 하고 집도 사는데 나는 왜 이렇게 사는 걸까? 청각 장애로 보청기가 필요한데 경제적으로 부담이 커서 고민이야. 게임에 빠져서 성적이 떨어졌어. 나 자신한테 죄책감이 들어 이번 시험 완전히 망쳤어. 가수가 될 수 있었는데 폐가 안 좋아서 포기했어. 사실 폐 질환이 있지만 그 정도는 아니야. 부모님이 간섭이 심하셔서 여자친구와 전화도 못 하게 해. 여자친구 생겼다고 말씀드린 게 후회돼. 우리 부모님의 이혼 사실을 말하면 수민이가 날 이상하게 보지 않을까? 내가 저번에 친구를 험담한 것 때문에 다른 친구들이 나를 따돌려. 내 병 때문에 너무 예민해져 있어서 아까 아빠한테 너무 심하게 짜증 낸 것 같아. 아빠가 학교 선생님께 연락했어! 자꾸 학교에 찾아온다고 하시는데 너무 짜증나고 곤란해. 내가 정신장애를 겪고 있어서 여자 친구랑 만남을 이어가는 것이 쉽지 않아. 너무 미안해. 나는 엄마만 계셔. 엄마 혼자 내 교육비를 감당하기 어려워서 또래보다 교육 수준이 낮아. 난 아직 직장을 구하지 못해서 부모님의 도움을 받고 있어. 너무 부끄러워서 죄책감이 들어. 오늘 경찰 체력시험을 보던 중에 옆에 있던 친구와 다리가 엉켜 같이 넘어졌어. 학교에서 함께 어울리던 친구들에게 왕따를 당하는 것 같아. 너무 힘들어. 내가 정신장애가 있어서 아빠가 우리를 떠난 거야. 엄마에게 너무 죄송해. 난 분노조절장애가 있는데 그것 때문에 어머니께 자꾸 화를 내서 죄책감이 들어. 시험공부 때문에 친구들과 놀지 못해서 눈치가 보이고 친구들에게 미안해. 요즘 학교에서 친구들과 있을 때 눈치가 보여. 부모님이 내 생활에 너무 간섭해서 싸웠어. 공무원 시험에서 또 떨어졌어. 이번엔 꼭 붙겠다는 부모님과의 약속을 못 지켜서 죄책감이 들어. 앞으로 뭘 하고 살아야 할지 모르겠어. 그동안 나를 키워주신 부모님께 너무 죄송스러워. 부모님께서 내 대학 등록금 문제로 싸우셨는데 나 때문인 것 같아서 두려워. 친구와 싸운 걸 부모님이 알아서 혼났어. 학교에서 전화가 왔나 봐. 엄마는 왜 내 친구들을 통제할까. 친구를 물건처럼 골라서 사귀라고 해. 이번에 이력서 넣은 회사에서 연락이 안 와. 경쟁률이 엄청 높았대. 또 자해를 했어. 왜 그랬을까 나 자신이 너무 싫어. 오늘 남자 친구와 싸웠는데 해서는 안 되는 말을 해버려서 후회 중이야. 나 때문에 가정에 불화가 생겼어. 요즘 인스타그램이 너무 재밌어서 큰일이야. 친구가 원하던 대기업에 취업해서 자랑했어. 무직인 나는 초라하게 느껴졌어. 회사에서 승진을 하려면 학력조건이 더 좋아야 해서 너무 좌절스러워. 언제까지고 아르바이트만 하며 살 순 없을 텐데 취업이 너무 어려워. 이런 내가 너무 원망스러워. 오늘도 탈락이야. 나는 취직을 못할 것 같아. 홧김에 엄마한테 해서는 안 될 말을 했어. 엄마한테 너무 미안해. 인기도 많고 잘 사는 친구가 부러워서 나도 모르게 친구의 물건을 훔치고 말았어. 학교에서 친구들과 싸우지 않기로 부모님과 약속했는데 싸웠어. 죄책감이 들어. 부모님이 너무 걱정하셔서 학교에서 다양한 활동에 적극적으로 참여하지 못해서 후회돼. 요즘 부모님이 다투셨는데 학업에만 집중했다가 부모님께서 이혼하시게 됐어. 친구가 아버지가 안 계신다고 놀려서 홧김에 그 친구를 때리고 말았어. 너무 미안해. 최근에 놀다가 팔을 다쳤는데 어머니께서 걱정이 크셔서 너무 죄송한 마음이 들어. 선천적으로 귀가 안 좋은데 회사에서 실수할까 봐 너무 두려워. 정신질환 때문에 여자친구와 갈등이 생겼는데 다 나 때문인 것 같아서 죄 지은 것 같고 죄책감이 들어. 내가 한부모 가정이라 돈이 없어서 학원을 못 다녀. 이거 때문에 엄마한테 화를 내서 너무 죄책감 들어. 좋은 직업을 찾지 못해서 내 미래는 전망이 없어. 나에게 문제가 있는 거 같아서 죄책감까지 들어. 신체 질환 때문에 내가 원하는 진로를 선택하기 힘들어. 부모님께 힘이 되지 못해 죄책감 들어. 친구들이 진로를 선택하는데 힘들어하는데 도움을 줄 수 없어서 너무 미안해. 항상 부모님께서 보호해주셔서 나 혼자 무슨 일을 해나가기가 너무 두려워. 이제 취업하여 독립해야 하는데 부모님 떨어져서 살고 싶지 않아. 부모님께 너무 죄송해. 이제 삼십 대가 다 돼 가는데 취직도 못 하고 부모님 집에 얹혀사는 것이 죄송스러워. 남자친구와 말다툼을 하다가 남자친구가 졸업한 대학교를 무시하는 말을 해버렸어. 친구들이 나 빼고는 공부를 잘해서 내가 오면 괜히 공부 얘기를 안 하는 것 같아서 미안해. 이혼한 아버지가 힘들어하시는데 내가 정신질환도 있어서 죄책감이 들어. 어제도 직장 문제 때문에 아버지와 다퉜어. 전공을 잘못 선택한 것 같아. 이 과를 선택한 것이 후회가 돼. 내가 정신 질환이 있어서 제대로 일을 못 하고 있어. 회사원분들께 너무 미안해. 시험에 필요한 문제집 때문에 강압적으로 친구에게 돈을 빌렸어 내가 너무 어리석었던 것 같아. 독립을 중에 부모님께 지원을 계속 받았는데 나 때문에 부모님이 힘드시다는 걸 알게 되었어. 회사에 거짓말을 한 것이 들통나서 마음에 너무 걸려. 어떤 가게에서 나도 모르게 도둑질을 해서 너무 죄책감이 들어. 부모님이 많이 싸우시는 것 같아. 전부 나 때문이라는 죄책감이 들어. 나 오늘 친구랑 싸웠어. 그런데 내가 말을 너무 심하게 한 것 같아서 미안한 마음이 들어. 오늘 시험을 봤는데 점수가 마음에 들지 않아서 속상해. 오늘 회사 사람들과의 회식 자리에서 약간의 말다툼을 해서 마음이 좋지 않아. 나는 아직 부모님의 곁이 필요한데 돌아가셨어. 너무 힘들어서 우울증도 걸렸어. 요즘 아무리 이력서를 넣어도 취업이 안 돼서 힘들고 부모님께 죄송해. 오늘도 회사에서 실수했어. 나는 정말 한심하고 바보 같아. 여자 친구랑 놀다가 늦은 시간에 집에 데려다줬는데 부모님께 혼났대. 다 내 잘못인 것 같아. 아빠가 곤란한 친구를 도우라고 하셨는데 따돌림당한 친구를 외면했어. 너무 죄책감이 들어. 친구와 몸싸움을 한 걸 엄마가 아셨어. 친구와 싸우지 않기로 엄마와 약속했는데 죄책감이 들어. 자폐증이 있는 날 과잉보호로 키우셨는데 고마움을 느끼지 못해서 부모님께 죄책감이 들어. 친구들과 같이 놀면서 공부했는데 나만 성적이 잘 나와서 눈치 보여. 코로나로 인해 직장을 잃고 아내와 사이가 안 좋아졌어. 친구들과 같은 고등학교에 가기로 했는데 못 가게 돼서 미안하고 죄책감이 들어. 이번 시험도 못 봐서 죄책감이 들고 부모님께 너무 잘못한 것 같아. 나는 이 회사에 들어온 것을 후회하고 있어. 내가 좋아하는 남자애랑 싸웠어. 근데 내 잘못이야. 결국 학교에서 유급 처리됐어. 결석하지 말 걸 후회돼. 학교에서 친구를 괴롭힌 걸 부모님이 알게 됐어. 내 행동을 돌아보니 후회돼. 내가 다리를 다친 뒤 부모님의 사이가 나빠졌어. 다 나 때문인 것 같아. 마음이 너무 괴로워. 별거 아닌 게임에 빠져서 이제 건강까지 망쳤어. 나는 왜 이렇게 바보 같을까? 열심히 한다고 했는데 학점이 오히려 떨어졌어. 몸이 너무 아파서 이번 취업 시험도 떨어졌어. 조금만 더 참았으면 되는 건데 잘못했지. 요즘 공부 잘하는 친구들 눈치가 보여. 난 공부를 못해서 모여 있으면 벌 받는 것 같아. 친구들하고 술 마시는데 나는 돈을 못 번다고 하더라. 나 진짜 지금까지 뭐 했냐. 학교에서 친구와 다투다가 홧김에 밀쳤는데 넘어져서 다쳤대. 죄책감 들고 두려워. 난청이 있는데 아르바이트를 하면서 잘 못 알아들으니 손님들이 불쾌해했어. 다 나 때문이야. 벌써 고등학교 삼학년인데 부모님 간섭이 너무 심하셔. 괜히 죄책감 드네. 내 우울증 때문에 취업이 늦어지고 있는데 동생은 취직을 해서 동생한테 자격지심이 생겨. 친구들이랑 게임을 했는데 나 때문에 져서 눈치 보이고 죄책감이 들어. 이번 기말고사에서 오 등급을 맞았어. 학교 교육 수준이 너무 높은 곳으로 잘못 온 것 같아. 부모님은 내게 변호사가 되라고 집착하시는데 내 꿈은 요리사라 부모님께 죄송해. 내가 앓고 있는 지병이 있는데 아빠랑 곧 재혼하실 새엄마께 부담이 될까 봐 걱정이야. 나보다 공부를 잘하는 친구에게 열등감을 느껴서 못되게 대했어. 너무 죄책감이 들어. 내 친구들은 모두 공부를 잘하는데 나만 그렇지 않아서 친구들 사이에서 눈치가 보여. 속상해. 내가 몸이 안 좋아 부모님께서 나를 많이 걱정하셔. 그래서 늘 죄책감을 느껴. 우울증을 앓고 있는데 나 빼고 모두가 행복해 보여. 열등감이 많은 것 같아. 친구들과 축구를 했는데 다리가 아파서 축구에서 져서 죄의식을 느꼈어. 어제 퇴사한 동기에게 일 못 한다고 화만 내고 비하한 게 맘에 걸려. 먼저 입사해 돈을 벌고 있는 오래된 친구한테 열등감을 느껴 화를 냈어. 아빠가 또 엄마를 때렸어. 이게 다 나 때문인 것 같아서 마음이 너무 아프고 힘들어. 회사에서 프레젠테이션을 하는데 자신감이 없어 말을 더듬고 망쳐서 속상해. 회사에서 같은 프로젝트를 성공적으로 해도 나에 대한 사람들의 신뢰도 자체가 낮아서 우울해. 오늘 내 우울증 때문에 이미 아빠에게 상처받아 이혼한 엄마에게 또 상처를 줬어. 서른 살이 넘으니까 이제 곧 결혼을 서둘러서 부모님의 집에서 독립해야 할지 고민이야. 무슨 일을 해도 내가 죄를 지은 것만 같아. 부모님이 결혼을 반대하셔. 반대하셔도 이 결혼은 꼭 할 거지만 한편으로는 죄책감이 들어. 진로가 심리상담사인데 괴롭힘당하는 친구를 방관한 적이 있어. 내가 상담사 자격이 있을까. 내가 아내에게 거짓말하고 외도를 한 적이 있어. 그래서 지금 사이가 안 좋은데 벌 받는 기분이야. 이번 시험을 망쳤어. 내 시험 점수를 알면 친구들이 놀릴까 봐 걱정돼. 아빠에게 학대받은 이야기를 친구들에게 한 게 너무 죄책감이 들어. 부모님은 내 맘대로는 아무것도 못 하게 하셔. 내가 아직도 어린애인 줄 아시는 거 같아. 여자친구가 전화를 안 받아. 내가 피시방에서 게임 하다가 여자친구와의 약속 시각에 늦었거든. 기말 성적 오르면 용돈 올려주신다 해서 커닝을 했어. 그런데 그걸 친구가 본 거 같아. 공부해야 하는데 게임 중독으로 공부를 안 하는 나에게 죄책감이 들어. 여자친구와 싸우면서 화를 많이 낸 것 같아 죄책감이 들어. 친구랑 삼각관계 때문에 싸웠는데 내가 너무한 거 같아. 이번 기말고사 성적표를 보고 부모님이 싸워. 이게 다  공부 못하는 내 잘못이겠지? 나는 아는 게 왜 이렇게 없는 걸까? 친구들 사이에서 말을 거의 다 못 알아들어. 나는 왜 목표가 없을까? 목표가 없으니 다가올 미래가 두렵고 무서워. 공부를 잘하는 친구가 질투 나서 친구에게 해서는 안 되는 행동을 했어. 전망 없는 미래 때문에 스트레스받고 불안감을 느껴. 내가 학교 수업을 잘 못 따라가서 부모님이 싸우시는 것 같아. 매일 벌 받는 거 같아. 축제 때 무대에 나가 춤을 추고 싶었어. 근데 다리를 다치게 돼서 나갈 수 없게 되었어. 내가 공부를 너무 못해서 조별 과제 하는데 친구들 눈치가 너무 보이고 벌 받는 것 같아. 정신질환 때문에 스트레스가 큰데 나 자신을 낮게 평가하고 자꾸 죄책감이 들어. 학교에서 친구들을 따라 같이 한 친구를 괴롭히게 되어 죄의식을 참을 수 없어. 아내랑 얘기하면 항상 내가 벌을 받고 있는 것 같아. 하루하루 살아가는 목표가 없어서 낳아주신 부모님께 양심의 가책을 느끼게 돼. 대학 입시 때문에 걱정인데 부모님이 옆에서 잔소리하시니 너무 힘들다. 나는 지방으로 대학교에 가고 싶은데 내가 없으면 아빠가 엄마를 더 때릴까 봐 걱정이야. 내가 존재가 가족들에게 피해가 가는 거 같아. 가족들에게 미안해. 나에게 미래는 없어. 미래에 뭘 해야 될지 모르겠어. 나에게는 어린 동생들이 있어. 그 아이들을 내가 먹여 살려야 하는데 난 너무 지쳤어. 친구들에게 같은 학교에 지원하겠다고 거짓말을 했어. 친구들에게 눈치가 보여. 나는 정신장애를 가진 엄마랑 둘이 사는데 엄마를 나 몰라라 하고 있어. 죄책감이 들어. 남편과의 미래가 걱정이야. 요즘 더 능력 있는 회사 상사에게 자꾸 마음이 가서 죄책감이 들어. 나 이제 곧 결혼하는데 사실 결혼보다 공부가 더 하고 싶어. 그래서 결혼을 좀 미루고 싶어. 나는 배우가 꿈인데 장래가 너무 어두워. 돈도 못 벌고 집에서 받아쓰고 있어. 친구에게 큰 실수를 해서 괴로워. 부모님이 이혼하셔서 성격이 그러냐는 말을 해버렸어. 친구에게 해서는 안 되는 말을 해서 너무 미안하고 후회돼. 배우가 되겠다고 무작정 시작했는데 앞길이 너무 막막해. 모델이 되고 싶어서 죽어라 노력해서 꿈을 이뤘는데 요즘 너무 후회돼. 어떤 전공으로 진학할지에 대해 새아빠와 다툼이 있었어. 새아빠에게 화낸 게 미안해. 친구가 당연한 걸 물어서 친구에게 넌 왜 이렇게 애가 멍청하다고 말했더니 죄책감이 느껴져. 두 명의 친구 사이에서 곤란한 상황이야. 둘에게 상처를 준 것 같아. 몸이 불편하다는 핑계로 공부에 집중하지 못하고 자꾸 핸드폰만 해서 괴로워. 고등학교 때 섣불리 자퇴해서 대학진학이 어려울 것 같아. 큰 잘못한 거 같아. 최근에 몸이 안 좋아서 친구에게 소홀했더니 사이가 멀어져서 두려워. 내가 원하는 성적이 안 나와서 죄책감이 들어. 남자친구와의 갈등이 있었는데 내가 잘못한 것 같아 죄책감이 들어. 남자친구랑 싸웠는데 내가 잘못한 거여서 죄책감이 들어. 간호사가 되고 싶어 됐는데 내가 생각했던 거랑 현실이 너무 달라. 몸이 불편해서 사람들과 사귐에 있어 힘들어. 장애인인 내가 이렇게 예쁘고 착한 여자친구를 만나도 되는 걸까? 이상하게 죄책감이 들어. 대학 졸업만 하면 취직이 될 줄 알았는데 집에서만 있으니 죄책감이 들어. 내 의견은 하나도 들어가지 않는 작업이 너무 지긋지긋해. 대학교 학비가 아깝다. 아빠가 과음하시고 엄마를 때렸어. 아무것도 하지 못하고 울면서 지켜보기만 해서 미안해. 일 때문에 가족들 사이에 갈등이 생긴 걸 알지 못했어. 내 잘못인 것 같아 죄책감이 들어. 게임을 많이 하면 안 되는 걸 알면서도 계속 게임을 하게 돼. 엄마 아빠에게 왜 학원을 안 보내주냐고 화를 내버렸어. 대학에서 펑펑 노는 게 아니었어. 일하는 것도 힘들고 돈도 별로 못 벌어. 성적은 점점 떨어지는데 아무것도 하기 싫어. 매일 무기력하고 짜증나는 기분이야. 남자친구와 헤어졌는데 그 애가 자살 시도를 했어. 전부 내 탓인 것 같고 너무 무서워. 나는 미혼부야. 혼자 아들을 키우고 있어. 자꾸 아이에게 미안한 마음만 들어서 괴로워. 요즘 주변에서 부모님들과 여행 다녀온 아이들을 보면 너무 부러워. 결혼해서 독립하여 나간다고 생각하니 부모님께 너무 죄송해. 아빠는 공부 못하는 친구와 어울리지 말라고 하셨어. 그래서 속상해. 입원 기간 공부를 제대로 하지 못해 이번 시험 성적이 크게 떨어졌어. 정말 후회돼. 수능에 떨어진 지 벌써 세 번째야 그래도 여전히 부모님은 나를 대학에 보내기 위해 지극정성이야. 군대에 있을 때 후임병이 괴롭힘을 당하는 걸 그냥 지켜보았어. 내가 할 수 있는 게 없었어. 하반신 마비로 인해 취업할 수 있는 길이 좁아. 빨리 취직을 해야 부모님께 효도할 텐데. 취업해서 일을 시작한 지 벌써 오 년차인데 월급은 아직도 쥐꼬리만 해. 너무 속상해. 작년 사고 이후로 온종일 핸드폰 게임밖에 안 해. 부모님께 너무 죄송해. 내가 아프다는 이유로 동생한테 함부로 대했어. 내 행동이 너무 후회돼. 이 나이까지 먹고 부모님께 손을 벌리고 있어. 부모님께 너무 죄송스러워. 어제 친구랑 다투었는데 알고 보니 내가 오해를 한 거라 친구에게 미안해. 내가 말 못 할 병을 가지고 있는 데 그거 때문에 친구 관계가 고민이 돼. 아버지가 재혼하셨는데 새엄마가 신체적으로 불편하신 거 같아. 나는 열심히 일하는 데 생각만큼 돈을 못 벌어서 가족들에게 미안해. 이번 모의고사 성적이 좋지 않아 고민이야. 나에 대한 부모님의 간섭이 너무 괴로워서 오히려 부모님께 죄책감이 들어. 요즘 온종일 유튜브에 빠져있어서 공부에 소홀했더니 성적이 많이 하락했어. 내가 우리 집 살림에 보탬이 되어야 하는데 내 월급 수준이 그렇지 못해서 가족에게 미안해. 인스타그램 좋아요 수가 낮으면 불안해. 계속 인스타그램만 보게 되면서 공부 집중도 안 돼. 아빠가 재혼했는데 우리 집이 이렇게 된 건 나 때문인 것 같아. 아빠한테 미안해. 아토피로 친구가 날 피하는 것 같아서 다퉜는데 화해하지 못할까 봐 두려워. 취업했는데 월급도 적고 앞으로 어떻게 살아야 할지 막막해. 기술이라도 배워놓을걸. 나는 너무 못생긴 것 같아. 이런 생김새로 태어난 것에 죄책감이 들어. 젊은 나이에 아기 아빠가 됐어. 나 자신이 혐오스럽고 아이에게 죄책감이 들어. 남자친구랑 싸웠는데 헤어지자고 해서 너무 우울해. 벌써 꿈을 이룬 친구들을 보면 스스로 한없이 작게 느껴져 믿고 지원해준 부모님께 죄책감이 커. 내가 돈이 없어 가정에 불화가 생긴 것 같아 죄책감이 들고 가족들에게 미안해. 다른 사람들에게 열등감을 느끼는 나 자신에게 죄책감이 들고 힘들어. 새로운 아르바이트를 하는데 내가 일도 잘 못 하는 것 같고 민폐인 것 같아. 친구의 비밀을 다른 친구들에게 말하고 다녔는데 너무 후회돼. 나는 공황장애를 앓고 있어. 우리 부모님은 내가 이렇게 된 게 서로의 탓이라며 항상 싸워. 여자친구랑 싸우다가 나도 모르게 심한 말을 하고 말았어. 그게 너무 후회돼. 오늘도 밤새 채팅하는 바람에 지각 안 하려고 막 챙기다가 엄마한테 소리 지르고 말았어. 전역도 대학 졸업도 했는데 면접에서 계속 떨어져. 영영 취직이 안 될 것 같아서 불안해. 친구랑 싸운 거로 나도 모르게 부모님께 화풀이를 내고 말았어. 어릴 때 공부 좀 잘해둘걸. 지금 와서 하려니 막막해 오늘 장애가 있는 친구와 놀다 장애를 놀리는 말을 해서 죄책감이 들어. 엄마를 대신해 동생들에게 내가 엄마 노릇을 해야 하는데 생각대로 잘 안 돼서 슬퍼. 진로 스트레스로 인해 너무 스트레스받아. 우울증 걸릴 것 같아. 오늘도 따돌림을 당하는 친구를 지켜볼 수 밖에 없었어. 너무 죄책감이 들어. 피부질환 때문에 취업이 안 돼서 부모님께 너무 죄책감이 들어. 내가 친구한테 성적으로 내리까는 말을 무심코 해서 친구가 울었어. 시간이 지나니 미안해져. 게임에 너무 빠져서 성적도 바닥이고 눈도 너무 안 좋아졌어. 지금에서야 깨달아버렸어. 친구가 아빠한테 학대를 당하며 살고 있는데 내가 해줄 수 있는 게 없어서 죄책감이 들어. 얼마 전에 다친 다리 때문에 오늘 여자 친구를 집에 데려다주지 못해 속상해. 대학을 졸업하고 대학원을 안 간 게 너무 후회돼서 다시 대학원을 알아보고 있어. 아빠는 왜 매일 나를 때릴까? 아빠의 폭력 때문에 너무 힘들어. 내가 장애가 있는데 이렇게 여자 친구와 계속 만나는 게 너무 미안해. 내가 우울증이 있는데 앞으로 뭘 해야 할지 모르겠어. 나는 쓸모없는 사람이야. 친구가 자꾸 나를 놀려서 대판 싸우고 왔어. 그런데 그 친구를 잃을까 봐 두려워. 내가 가고 싶은 학교를 부모님께서 반대하셔서 부모님과 다퉜어. 마음이 너무 무거워. 혼자 있는 게 너무 불안해서 또 자해를 했어. 엄마가 아시면 슬퍼하실 거야. 시험공부를 안 하고 밤새 게임을 하다가 결국 시험을 망쳐서 부모님께 혼났어. 친구들은 다 취업했는데 나만 못하고 있어. 부모님께 너무 죄송해. 이런 비공개로 올렸어야 하는데 내가 한 욕을 분명 그 친구가 봤을 거야. 미안하네. 내가 다른 애들과는 다르다는 게 창피해. 나는 저주받은 사람인가 봐. 갑작스러운 사고로 다리를 못 쓰게 된 내가 뭘 할 수 있겠어. 어떻게 살아야 할지 혼란스러워. 아버지가 집을 나가신 게 내 잘못 같고 남은 가족에게 너무 죄책감이 들어. 성인이 되니까 독립을 하자니 두렵고 집에서 부모님께 의존하는 건 너무 죄책감이 들어. 언니가 아빠한테 맞고 있는 걸 말리지 못하고 보기만 했어. 너무 미안해. 언니랑 먹는 거 때문에 싸웠어. 근데 내가 먼저 사과해야 할지 고민이야. 우리 부모님이 나보고 이번에 시험 평균 팔십 점 넘으래. 나는 열심히 해도 힘든데. 회사에서 주는 월급이 적어서 우리 부모님 결혼기념일 선물도 못 해 드렸어. 너무 죄송스러워. 어머니 혼자 일하시며 나를 키우셔서 바쁘신데 오늘 학예회에 못 오신 대서 화를 냈어. 회사 면접에서 너무 붙고 싶어서 나도 모르게 신체적 결함에 대한 이야기를 하지 않았어. 가족들이 또 나만 두고 외식하러 갔어. 전동휠체어 탄내가 창피하고 불편하대. 생리불순이 계속되고 있어서 검사를 받았어. 자궁 수술을 하게 될지도 몰라서 엄청 불안해. 내가 여자 친구가 있는데 부모님이 자꾸 간섭하시고 헤어지라고 하셔. 내가 분노조절장애가 있어서 가족들과 사소한 일로 많이 싸워. 너무 죄책감이 들어. 난 월급이 너무 적어. 내가 학창 시절에 공부 안 한 게 너무 후회돼. 친구에게 수학 문제를 알려주다가 답답해서 나도 모르게 왜 이것도 모르냐고 화를 내버렸어. 내가 저 사람보다 돈을 못 버는 것은 내가 저 사람보다 더 부족해서야. 반성하고 있어. 초등학생일 때부터 지금 고등학생을 졸업할 때까지 공부해왔지만 아직도 내 꿈을 찾지 못했어. 이번에 생물학과에서 디자인과로 편입을 했는데 이게 과연 잘한 선택인지 모르겠어. 사회봉사자가 되고 싶은데 예전에 친구를 괴롭힌 적이 있어서 후회돼. 오늘 내가 친구에게 좋지 못한 말을 해서 싸웠어. 너무 죄책감이 들어. 내가 계속 진로를 바꿔서 부모님이 더 나의 말을 들어주지 않아. 부모님께 너무 미안해. 오 년 째 사업 실패를 겪고 있어. 아빠에게 빌린 돈만 삼억인데 너무 죄책감이 들어. 대인기피증 때문에 병원에 내원하고 있는데 엄마 혼자 고생하시는 걸 보니 너무 죄책감이 들어. 나는 의대가 너무 힘들어 의대를 포기하고 지금은 알바하며 살아가고 있어. 너무 후회돼. 학교폭력을 당하고 있어. 혼자 학교 가기도 싫고 성적도 너무 많이 떨어졌어. 공부해도 항상 내 질병 때문에 쓰려져. 이러다가는 취직도 못 하고 매일 이러고 살 것 같아. 친구가 치질 수술을 한 것을 비밀로 해달라고 했는데 다른 친구에게 말해버렸어. 미안해서 어쩌지? 현재 내 직업은 월급도 적고 발전이 없어. 열심히 뒷바라지해 주신 부모님께 죄송할 따름이야. 내 병원비가 요새 너무 많이 들어서 부모님 싸움이 잦아. 이러다 이혼 할까 봐 무서워. 성적이 너무 저조하다며 공부 잘하는 누나와 똑같이 생활하라고 간섭하셔. 생리 전 증후군인 줄 알았는데 우울증이라고 하네. 괜히 친구들한테 짜증을 냈지 뭐람. 면접을 계속 봤는데 나만 다 떨어져. 부모님께 너무 죄송해. 미혼모인 엄마가 날 위해 대학 등록금을 벌어다 주시는데 성적이 잘 안 나와. 죄책감 느껴져. 내가 친구에게 상처를 주게 되었어. 정말 미안하게 되어서 어떡하지? 요즘 게임에 빠져서 잠도 못 자고 학교 수업도 집중하지 못해서 선생님과 부모님께 지적을 받아. 어머니가 나 때문에 재혼하셨다는 것을 알게 되었어. 난 그런 것도 모르고 어머니를 원망했어. 내 직업을 내가 원해서 얻었다고 생각했는데 내가 생각한 나의 모습과는 사뭇 달라서 후회돼. 친구와 심하게 싸웠어. 다 나 때문인 것 같아. 친구랑 싸우다가 친구에게 못할 말을 해버렸어. 난 진짜 왜 이럴까? 친구가 학교폭력을 당하는 것을 그냥 보고 지나쳐버렸어. 너무 괴롭다. 이번 면접도 떨어졌어. 일자리 구하는 게 이렇게 힘들지 몰랐어. 엄마가 무릎 수술을 하셨대. 난 일하느라 뵙지도 못하고 수술하신 것도 모르고 있었어. 어쩌다 여자친구가 임신해서 수술했어. 수술비 때문에 부모님께 거짓말도 하고 혼란스럽다. 핸드폰 게임에 푹 빠져 학원을 한 달 빠졌더니 죄책감 들어. 맞벌이하며 애써 보내주신 곳인데. 아는 애랑 내 절친 얘기하다 나도 모르게 험담을 했는데 걔가 딱 와서 들어버렸어. 너무 미안해. 우리 집은 이혼해서 엄마가 나 키워주시는데 남자친구가 생겨서 공부를 소홀히 했더니 양심에 찔려. 툭하면 인터넷 뉴스에 악플 달았는데 기사에 나온 사람이 이번에 고소한대. 내 인생 어떡하지? 여자친구가 결혼하자는데 자꾸 피하게 돼. 장래가 어두운 나한테 엮여 평생 고생시키기 싫어서 그런가? 이번 시험에서 아버지와 약속한 성적을 내지 못해서 아빠에게 맞았어. 후회스러워. 부모님이 내 감기에 대해 너무 걱정하셔서 죄송한 마음이 들어. 몸이 불편해서 부모님의 도움을 받을 때마다 스스로 할 수 있는 일이 없는 것 같아서 슬퍼. 면접에서 계속 떨어지니 의욕이 안 생기네. 세상이 나를 필요로 하지 않는 것 같아. 난 디자인을 전공하고 싶은데 디자인 학과는 돈이 너무 많이 들어서 걱정이야. 이번 성적도 하위권이야. 시험 전에 왜 열심히 하지 않고 매번 시험 끝나면 후회할까? 동기는 입사 삼 개월 만에 포상도 받았는데 나는 아직 업무 적응도 못 하고 있어. 이제 나이도 있는데 매일 매일 아르바이트나 하면서 살아가는 게 한심스러워. 시험 성적이 자꾸 떨어지는데 어떡해야 할지 모르겠어. 어렸을 때는 하고 싶었던 일도 많았는데 지금은 그저 하루하루 사는 것도 버거워. 내가 우울증이 있는 친구에게 화풀이하며 심한 말을 했어. 정말 미안하고 마음에 걸려. 새아버지께 아직 거리감을 느끼다 보니 투정을 부리게 됐어. 죄송스러워. 친구들과 밥 먹는데 입시에 실패한 친구 앞에서 대학 얘기를 해버렸어. 미안한 마음이야. 수능까지 얼마 안 남았는데 모의고사를 또 망쳤어. 부모님께 너무 죄송하고 내가 한심해. 오늘도 친구들이 나에게 심한 말을 했어. 오늘도 병원에 갔다 왔어. 엄마가 속상해하셨어. 오늘도 남자친구와 싸웠어. 내가 잘못한 거였는데 사과를 안 해서 너무 후회돼. 오늘 상사에게 거짓말을 했는데 애꿎은 이 팀장이 잘렸어. 오늘 지팡이를 잃어버렸어. 눈도 안 보이는데 지팡이까지 없으니 너무 힘들었어. 친구들은 다들 진로를 정했는데 나는 아직도 정하지 못했어. 나는 왜 이럴까. 우리 엄마는 나를 너무 과잉보호하는 것 같아. 나 좀 내버려 두면 좋겠어. 부모님께서 교육에 너무 신경 쓰셔서 홧김에 대들었는데 너무 후회돼. 친구들이 열심히 공부하고 아르바이트하는 동안 나는 놀기만 해서 앞이 막막해. 취업준비생이어서 소득이 없어. 부모님께서 지원해주시니 감사하면서도 죄송해. 내일 시험인데 애들이 놀자고 해. 근데 내일 시험 망하면 엄마한테 혼날까 봐 두려워. 아빠가 술을 마시고 엄마를 때리고 욕을 했어. 나는 너무 무서워서 방에 숨어 있었어. 직장에서 해고를 당해서 앞으로 어떻게 살아가야 할지 모르겠어. 내가 거짓말을 해서 친구가 화났어. 나 때문이라 양심의 가책을 느껴. 학점 좀 열심히 챙기지 않았던 게 후회돼. 지금 내가 알바하고 있을 때가 아닌데. 나는 왜 이렇게 태어났을까? 나 때문에 늘 가족끼리 싸우는 것 같아서 모두에게 미안해. 학교에서 따돌림을 당하고 있는데 그것 때문에 공부할 수도 없어. 우리 엄마는 내가 싫어서 날 떠난 거야. 다 내 잘못이야. 남자친구한테 너무 심하게 화를 냈나 봐. 나를 싫어하면 어떻게 하지? 나는 어렸을 때 소아마비가 와서 제대로 된 일도 못 해. 부모님께 짐만 되는 것 같아. 나는 청각장애가 있어서 일자리를 구하기 어려워. 장애가 있는 내 탓이야. 컴퓨터 게임을 너무 많이 해서 시력이 나빠졌어. 엄마가 새아빠랑 다투셔서 속상해. 동생에게 공부 못한다고 잔소리한 게 너무 후회돼. 교통사고로 입원해서 중간고사를 못 봤더니 부모님께 크게 혼났어. 어릴 때 아빠에게 맞을뻔한 나 대신 엄마가 맞았어. 그때 다치신 엄마에게 늘 죄책감이 들어. 오늘 시험을 망쳐서 아버지에게 맞았어. 그래서 정말 죄책감이 들어. 엄마가 재혼하셔서 나에게 동생이 두 명이나 생겼어. 그런데 동생들이 나를 못 믿는 것 같아서 미안해져. 어릴 때부터 가지고 있는 병 때문에 부모님이 나를 너무 챙기시면서 부모님의 일자리도 잃었어. 나는 허리가 좋지 않아서 공부할 때 힘든데 미래에 어떻게 해야 할지 모르겠어. 나는 정신장애가 있어서 다른 사람이 잘되면 너무 불안해. 내 친구 중에 나와 성격이 맞지 않는 애가 있어 고민이야. 나는 공부보다는 미디어에 더 흥미를 느껴. 이로 인해 부모님과의 관계가 좋지 않아. 아빠가 술만 마시면 폭력적으로 돌변해. 아빠가 이렇게 될 때까지 난 뭘 한 걸까. 아무도 나를 응원해 주지 않아. 내가 무언가를 잘못했나 봐. 나는 왜 이 정도로 일하는데 얻는 게 이렇게 없는 걸까. 내가 잘못하고 있는 걸까 두려워. 평생 부모님을 책임지고 살아가겠다고 다짐했었는데 결혼 후 그러지 못할 것 같아 죄책감이 들어. 엄마랑 아빠가 이혼하신대. 내 탓인 것 같아서 양심의 가책이 느껴져. 축구선수를 하고 싶은데 심한 장난으로 인대가 파열돼서 자책감이 들어. 내가 발에 무좀이 있는데 언니가 더럽다고 욕해서 나도 같이 소리치면서 욕을 해버렸어. 국회의원 선거에 출마하려고 했는데 주민들이 나에 대해 안 좋은 인식을 가지고 있어. 허리디스크가 너무 심해져서 결국 수술을 결정했어. 부모님께 너무 죄송해. 동생과 싸웠는데 부모님께서 그 모습을 보시고 나와 동생을 때렸어. 요즘 새아빠랑 사이가 좀 어색해졌는데 어제 결국 그 문제로 부모님까지 크게 다투셨어. 어제 홧김에 엄마에게 왜 아버지 없이 나를 낳았냐고 큰 소리 쳐버렸어. 너무 후회돼. 이 정도 스펙이면 남들만큼은 되는 줄 알았는데 착각인가 봐. 현실은 서류에서부터 탈락이야. 친구들이랑 지내는 게 힘들어 여자애들이라 다들 민감해서 말도 잘 못 붙이겠어. 연봉이 최저임금 수준이야. 내가 뭘 잘하는지도 모르겠어. 결혼할 사람도 생겼고 이제 나도 따로 가정을 꾸려야 하는데 겁이 나네. 우리 반 여자애가 다리를 다쳐서 장애인이라고 놀렸는데 여자애가 울었어. 요즘 게임에 너무 빠져 살아 걱정이야. 어제 친구들이랑 밥을 먹다가 말실수를 한 것 같아. 애들이 태도가 달라진 것 같아. 나 오늘 우리 반에 뚱뚱한 남학생한테 나쁜 소리를 해서 너무 죄책감이 들어. 부모님이 이혼해서 나는 아빠랑 사는데 우울증에 걸렸어. 내가 뭐든 될 줄 알고 공부를 안 했는데 현실은 그렇지 않아서 지금 뭐해야 할지 모르겠어. 요즘 게임에 빠져서 지내다 보니 성적뿐만 아니라 허리하고 목에 문제가 생겨서 죄책감을 느껴. 아빠가 재혼했는데 장애를 갖고 계신 새엄마께 화가 나서 막말을 한 것을 뉘우치고 있어. 휠체어를 타고 다니는데 내가 할 수 있는 것도 없고 마음대로 못 움직여서 벌 받는 기분이야. 부모님이 나를 걱정하셔서 학교 수련회를 가지 못했어. 너무 후회돼. 나 부모님이 싸우고 이혼하신 후에 아빠가 재혼하시고 나서 계속해서 우울증에 시달리고 있어. 어렸을 때부터 많이 아팠는데 엄마한테 못되게 굴었었어. 후회가 되고 속상해. 내가 대학교에 가고 싶다고 하니까 가족들이 날 자꾸 때리고 무시해. 가족이 날 때리고 학대해서 한 쪽 귀가 잘 들리지 않아. 너무 힘들어. 경쟁 사회에서 살아남기 너무 힘들어. 믿어준 사람들한테 좋은 결과를 못 줘서 죄책감이 들어. 우리 반에서 나보다 성적 좋은 친구를 질투가 나서 내가 괴롭히고 따돌림을 시켰어. 엄마는 내 성적에 대해서 지나칠 정도로 간섭이 심해. 이번에도 그래서 내가 소리를 질렀어. 우리 집이 경제적으로 어려운데 내가 하는 예술 활동이 전혀 보탬이 되지 못해서 앞이 캄캄해. 내가 담배를 피웠다는 사실을 알고 엄마가 날 때리셨어. 너무 슬퍼. 아빠가 또 엄마를 때리셨어. 너무 마음이 아프고 힘들어. 결혼도 했지만 돈이 필요하면 부모님께 도움을 받는 게 너무 죄송스러워. 오늘도 게임을 열 시간이나 해버렸어. 공부해야 하는데 내가 미쳤지. 내 군대 동기들은 잘 나가는데 난 돈도 없어. 난 왜 열심히 벌지 못했을까? 우리 언니는 이미 직장에 다니는데 나만 아프다는 핑계로 집에 있어.  괜히 부모님께 미안해. 아버지의 가정폭력으로 집을 나왔어. 엄마를 두고 온 게 마음에 걸려. 내 불안장애로 예민해져서  여자친구에게 괜히 화를 냈어. 후회돼. 엄마 아빠의 이혼 후 처음 보는 시험에서 성적이 낮게 나왔어. 내가 정말 바보 같아. 친구에게 시험 범위를 다 알려주지 않았어. 남자친구가 성적이 크게 떨어져서 싫은 소리를 했어. 근데 너무 후회돼. 발목 부상으로 축구를 계속할 수 없는데 이제 무엇을 해야 할지 모르겠어. 여자친구에게 또 화를 내고 말았어. 내 잘못이야. 나는 동영상을 보느라 숙제를 하지 못할 때가 있어. 알면서도 멈추지 못하겠어. 변비라 예민해서 친구들한테 짜증을 내고 있어. 내 마음은 그게 아닌데. 학교 다닐 때부터 제대로 공부하지 않아서 지금의 내가 무능력한 것 같아. 내 피부병 치료비 때문에 부모님이 매일 싸우시는 것 같아서 속상해. 내가 장애가 있어서 공부하기가 너무 어려워. 부모님한테도 죄송하고 그래. 공부하기 싫어 중학교 때 자퇴했는데 학력 때문에 취업에 실패하니 부모님께 죄송하네. 교통사고로 걸을 수가 없으니 앞으로 어떤 인생을 살아야 할지 모르겠어. 앞으로가 두렵다. 부모님께서 최근에 계속 싸우시는데 아무래도 내 장애로 인한 것 같아 너무 죄송해. 얼마 전에 친한 여대 동기가 우울증으로 자살했대. 무관심했던 거 같아 죄책감이 들어. 지금 성적으로는 원하는 대학에 진학하지 못할 것 같아서 고민이야. 같은 반 친구가 며칠째 결석 중이야. 혹시 나 때문일까 걱정이야. 부모님이 내 우울증 때문에 매번 싸우시는데 죄책감이 느껴져. 이렇게 일해서 언제 집을 사지. 집값 오르는 거 보면 너무 허무해. 내가 한 거짓말로 인해 남자 친구와 싸우게 됐어. 나 자신이 왜 그랬을까 싶어. 내가 하고 싶은 일을 반대하시는 부모님과 싸우다가 심한 말을 해 버렸어. 나 정말 한심해. 오늘 시험을 보다가 커닝을 해버렸어. 그런데 이건 내 점수가 아니라는 생각이 들어서 후회돼. 친구랑 크게 다퉜는데 통화 소리가 거실까지 들려서 엄마가 스트레스를 크게 받으신 것 같아. 아무리 노력해도 취업이 안 되니 내가 뭘 할 수 있을지 모르겠어. 남자친구에게 임대아파트에 사는 친구와 사귀지 말라는 엄마의 말을 전했다가 싸워서 후회돼. 내가 그때 왜 그런 행동을 했는지 모르겠어. 너무 혼란스럽고 후회돼. 내가 남고에 온 뒤로 축구가 너무 재밌어져서 이번 시험 때도 축구만 했더니 시험을 망쳤어. 오늘 동생과 싸우다가 동생한테 말을 너무 심하게 해버렸어. 어제 엄마가 요즘 내가 집에 늦게 들어와서 스트레스를 받는다고 하길래 나도 모르게 짜증냈어. 내가 어릴 때 손가락을 다쳐서 지금 손가락을 하나 못쓰는데 청년이 되어서 일을 하자니 두려워. 나는 카페를 하고 싶어서 했는데 소득이 너무 낮아서 후회돼. 요새 친구랑 사이가 좋지 않아서 스트레스를 받아. 오늘 학교에서 친구랑 싸웠어. 나는 방탄소년단이 좋은데 친구는 별로래. 성적이 올랐는데 친구들은 다 떨어졌대 괜히 나 혼자 눈치가 보여. 벌 받는 것 같은 기분이야. 음악을 하겠다고 무리해서 시작했는데 재능이 없나 봐. 부모님께 너무 미안해. 가정형편이 좋지 못해 가족 간 관계가 안 좋아. 내가 능력이 없어서 그런 것 같아. 일을 늦게까지 하다가 부모님하고 싸웠어. 안정적인 곳을 찾아 퇴사했지만 얼어붙은 취업난으로 하여금 죄책감을 느껴. 친구 중에 내가 제일 공부를 안 하는 것 같아서 애들이 나랑 멀어질까 봐 눈치가 보여. 내가 동생을 때리는 걸 친구가 봤어. 동생한테 미안했어. 엄마가 용돈을 안 줘서 대신 반 친구 돈을 빼앗아 버렸어. 죄책감이 들어. 병원에서 암 진단을 받아서 너무 무서워. 앞으로 시한부 인생을 살아야 해. 엄마가 올해 재혼해서 새아빠와 남동생이 생겼는데 남동생이 몸도 불편하고 괜히 얄미워. 난 에이디에이치디가 있어서 공부를 잘 못 해. 공부를 잘하고 싶은데 속상해. 하반신 마비가 왔어. 앞으로 어떻게 살아야 할지 막막해. 나는 화가 많아서 주위 사람들과 좋은 관계를 맺지 못해. 그런 뜻이 아닌데 너무 미안해. 부모님이 사사건건 간섭이 너무 심하셔. 내가 믿을만하지 못하는가 봐. 시험을 못 봐서 아빠가 오늘 나를 때렸어. 속상해. 엄마가 술 먹고 또 때렸어. 나도 엄마를 때렸고 지금 후회하고 있어. 나보다 공부 잘하는 친구가 부러워서 다른 친구들이랑 그 친구를 따돌렸어. 내 진로를 뭐로 정해야 할지 취업은 어떻게 해야 할지 걱정돼. 오늘 우울증 때문에 큰 업무 실수를 해버렸어. 재혼을 하게 되었는데 전 아이들을 어떻게 책임져야 할지 잘 모르겠어. 이번에는 좋은 성적을 받겠다고 부모님과 약속했는데 과학 시험을 망친 것 같아. 또 서류전형에서 탈락했어. 난 왜 전망도 없는 과를 나와서 이러고 있지? 동생이 좀 공부를 못해서 심한 말을 했는데 너무 심했나 싶어. 새로 전학 온 애가 자꾸 같이 다녀 달라고 해서 친한 친구에게 소홀해져서 미안해. 겨우 취업한 회사마저 잘릴 것 같아 불안해. 친한 친구가 요점 정리한 노트를 보여 달랬는데 안 보여 줬어. 미안한 마음이 들어. 얼마 전 새엄마가 우는 모습을 봤어. 나 때문인 것 같아 죄책감이 들었어. 직장 동료가 들어왔는데 고졸 출신인데도 나랑 월급이 같아서 기분이 나빴어. 요즘 인스타그램에 빠져서 공부를 소홀히 했더니 성적이 곤두박질쳤어. 죄책감에 미칠 것 같아. 친구들은 이차성징을 시작하는 데 나는 아직 그럴 기미도 안 보여서 두려워. 부모님께 늘 자신감 없고 주눅 든 아들인 것 같아 마음이 무겁고 항상 죄송스러워. 공부를 못 해서 죄책감이 들고 친구들 사이에서도 괜히 눈치를 보게 돼. 미대에 떨어진 엄마는 딸인 내가 미대를 가길 원해서 가족 간의 불화가 있어. 새엄마는 내가 돈 벌기를 원하고 아버지는 내가 대학에 가길 원해서 두 분이 매일 싸우셔. 어릴 때부터 심장 질환으로 사회생활을 못 해서 진로 문제 때문에 많이 고민이야. 초등학교 소아마비로 엄마가 나를 업어서 등교 시켜 주셨는데 그때는 그게 과잉보호라고 생각했어. 부모님이 취업하면 독립하라고 하시는데 어떻게 해야 할지 모르겠어. 요즘 친구들이랑 만나면 자기 연봉이 얼마인지 이 얘기만 해서 스트레스야. 형의 시험성적이 안 좋아서 아빠한테 맞았어. 형이 공부할 때 방해한 걸 후회해. 내가 질병이 있는데 엄마가 나 때문에 재혼한 것 같아서 죄책감이 들어. 동생이 아픈데 상태가 더 심각해졌어. 언니인 나 때문인 것 같아서 죄책감이 들어. 오늘 아이가 가출했어. 아무리 화가 나도 심한 말을 해선 안 되는 거였는데 왜 그랬을까? 나 사실 학교에서 장애가 있는 친구를 괴롭혀왔어. 늦었지만 사과를 하고 싶은데 어떡하지? 요즘 들어 내가 게임을 너무 많이 하는 바람에 학업에 집중하지 못하는 것 같아 힘들어. 나와 같이 입사한 동기가 먼저 승진을 했어. 정말 부러워. 성적이 안 좋아서 아빠한테 맞았어. 근데 가만히 맞고만 있었던 게 후회돼. 내가 전생에 무슨 죄를 지어서 청각장애로 태어났을까? 너무 힘들어. 친구들이랑 멀어진 이유가 내가 독립한 뒤인 것 같아서 내 탓 같아. 학교에서 친구를 때려서 친구 부모님께 엄마가 고개 숙이며 사과하시는데 너무 죄송했어. 난 발이 하나 없어. 밖에 나가기 너무 창피해 매일 게임을 하며 지내. 여자 친구와 작은 다툼이 커졌고 결국 내가 화를 내서 후회가 돼. 경제력이 없는 엄마를 만나서 고생하는 자식에게 미안해. 다 내 탓인 것 같아. 나름대로 직업에 자부심을 느꼈는데 점점 자신 없어지는 내 꿈에 후회가 돼. 엄마가 고생하시는데 나는 성적이 점점 떨어져서 엄마에게 죄책감을 느껴. 결혼하고 바빠서 아내와 제대로 대화를 나누지 못했어. 난 정말 나쁜 사람이야. 엄마가 나랑 가장 친한 친구가 불량하다고 같이 놀지 말래. 속상해. 친구는 아들과 매우 사이가 좋은데 나는 아들과 사이가 좋지 않아서 스트레스를 받아. 나는 조울증 때문에 사회생활이 너무 어려워. 앞으로 어떻게 살아갈지 두렵네. 공부를 열심히 안 해서 대학에 다 떨어졌어. 부모님께 너무 죄송해. 취업이 잘 안 되어 부모님께 너무 죄송스러워. 내 정신질환 때문에 부모님이 맨날 싸우는데 너무 죄책감이 들고 매일 벌 받는 것 같아. 내 친구가 나의 장애가 안쓰러워서 항상 나를 도와주고 있었다는 걸 꿈에도 몰랐어. 좋아요를 많이 받으려고 페이스북에 친구의 웃긴 사진을 올려서 친구가 화가 많이 난 것 같아. 부모님이 너무 보호가 심하셔서 나도 모르게 죄의식을 느끼게 돼. 나이가 너무 차이 나는 아내와 결혼해서 너무 양심의 가책을 느껴. 과연 내가 그래도 될까? 경제적인 어려움 때문에 내가 원하는 공부를 하지 못해 스트레스를 받아. 공부를 열심히 하는데 성적이 안 올라서 너무 죄책감이 들어. 내가 공부를 못해서 우리 가족에게 불화가 생긴 거 같아. 벌 받는 걸까? 내 친구와 월급이 두 배 차이가 나더라고. 좀 더 열심히 공부할 걸 그랬어. 몸이 불편해서 무슨 일을 해야 할지 정말 모르겠어. 난 아무것도 할 수 없을 거야. 친구들이 요새 나를 잘 안 챙겨주고 자기들끼리 게임을 하는데 내가 거기에 끼기 눈치가 보여. 내가 게임에 빠져서 친구들과 잘 지내지 못하는 것 같아서 미안해. 엄마 혼자서 나를 열심히 지원해 주셨는데 기대에 부응하지 못한 거 같아서 엄마에게 미안해. 내가 학원에 다니고 싶은 부모님이 도움을 주지 않아. 어차피 지난번과 같을 거라고 하셔. 오랜만에 친구들을 만났는데 급여 수준이 너무 차이 나서 자괴감이 들었어. 내일 소개팅하는 남자에게 내가 다리를 전다는 사실을 숨겼는데 너무 괴로워. 내가 오늘 정신 질환이 있는 친구를 놀렸는데 너무 미안해. 나는 엄마랑만 살아. 그래서 그런지 많이 우울하다. 군대를 제대하고 사회에 나왔지만 어떤 일을 해야 하는지 모르겠어. 나에게 미래는 없는 걸까? 나는 수의사가 되고 싶은데 손가락이 불편해서 평범한 직장인이 되었어. 우리 반 여자애가 날 싫어한다고 생각해. 나도 그래서 그 애한테 나쁘게 대하게 돼. 난 정신분열증이 있어. 어머니가 재혼을 하셨는데 나 때문에 눈치를 보셔서 죄송해. 우리 집은 모두 학력이 좋아. 근데 나는 너무 평범해서 가족에게 누를 끼치는 기분이야. 엄마가 성적에 너무 집착하셔서 나도 모르게 소리치고 밖에 나왔어. 마음이 무거워. 친구 중 나만 통금이 다섯 시야. 늦으면 매를 맞아야 해서 너무 무서워. 지금 내 학점으로 졸업해서 먹고살 수나 있을까? 열심히 안 한 내가 밉다. 아버지가 재혼하신 후로 너무 힘들어. 하지만 내가 짐이 되고 싶지 않아. 내가 친구에게 상처를 주게 된 것 같아 죄책감이 들어. 요즘 내 감정 기복이 심해서 엄마가 엄청 신경 쓰셔. 병원까지 매번 데려간다니까. 엄마 아빠는 항상 내 공부에 투자해주고 신경 써주시는데 너무 미안한 마음이야. 내 몸이 불편해서 가족들에게 부담감을 주는 것 같아. 부모님께 성적 올리겠다고 약속했는데. 내가 한 말에 책임을 지지 않았어. 오늘 친구들 앞이라 창피해서 아버지를 못 본 척했어. 후회가 돼. 오늘 나 때문에 친구 부부가 싸웠어. 죄책감 들어. 형편이 넉넉하지 못해 동생도 학원을 못 다니는데 부모님께 대학 등록금을 달라고 하기 죄송해. 허리가 아파서 오래 서서 일하는 게 너무 힘들어. 그런데 사람들이 몰라주니 꼭 벌 받는 기분이야. 기말고사 열심히 준비했는데 성적이 더 떨어졌어. 난 왜 이 모양인지 모르겠어. 부모님이 어제도 많이 다투셨어. 내 학원비 때문에 싸운 것 같아서 너무 속상해. 학교 친구를 왕따 시킨 것 같아서 기분이 좋지 않아. 나는 옆에서 친구 따라서 살짝 때린 게 다인데 그 친구가 다쳤어. 너무 미안하고 후회돼. 내가 어릴 때부터 앓던 병 때문에 친구들과 놀기 눈치 보이고 내가 죄인이 된 것만 같아. 학교 성적에 신경 쓸 겨를도 없이 항상 부모님께 맞고 욕먹느라 시간을 너무 허비한 게 후회돼. 나는 억지로 공부하는 것이 어렵고 내가 하고 싶은 일도 아니라서 나 스스로가 미워. 여자친구가 임신을 해서 내가 부모님으로부터 독립해야 할 것 같은데 너무 혼란스러워. 나는 신체적으로 장애를 가지고 있어서 사람들의 시선이 너무 두렵고 내 스스로에게 자신감이 없어. 부모님한테 손 벌리는 것이 너무 죄책감 들어서 내가 미술 전공한 것이 너무 후회돼. 내가 학원 가지 말자고 친구를 꾀었는데 어른들한테는 친구가 가지 말자고 했다고 거짓말했어. 죄책감이 들어. 같이 대기업 준비하던 내 친구는 떨어지고 나만 합격해서 미안한 마음이야. 엄마 혼자 우릴 키운다고 학원에 과외에 남들과 비교 안 되게 해 주시는데 시험을 또 망쳤어. 나에게 가족은 엄마 하나인데 정신질환이 있어서 병원비가 많이 나와 엄마한테 너무 미안해. 나는 그냥 쓰레긴가 봐. 그렇게 과외를 받아도 점수는 바닥이야. 엄마한테 너무 미안하다. 우리 집은 아빠가 안 계셔. 나 때문에 엄마가 슬프신 거 같아 너무 죄송해. 전에 사고로 다리를 다쳐 장애가 생겨 제 몫을 못 하니 가족들에게 너무 미안해. 내 열등감 때문에 괜히 다른 사람들에게 피해를 준 것 같아 죄책감이 들어. 엄마가 계속 공부하라고  지나치게 간섭하시는 게 너무 부담스러워. 소아마비로 몸이 불편하다 보니 삶에 의욕이 잘 생기지 않고 목표가 없어. 사고로 인해 전신 마비가 되었어. 가족에게 의지하게 되어 죄책감이 들어. 요새 핸드폰 게임에 빠져서 그런지 성적도 떨어지고 너무 후회돼. 내가 다운증후군으로 태어나서 부모님이 과잉보호하셔. 부모님의 시간을 뺏는 거 같아서 죄송해. 어려운 형편에서도 부모님은 나를 대학까지 교육시켜 주셨는데 취직을 못 해서 죄송스러워. 이번 시험도 망쳐서 부모님께 너무 죄송하고 우울해. 내가 조장을 맡은 팀 과제에서 발표 성적이 좋지 못했던 거 같아서 팀원들에게 너무 미안해. 일찍부터 경제활동 시작한 친구들은 이미 돈도 모으며 한참 앞서 나갔는데 난 뭐한 건지 모르겠어. 신체장애 때문에 뭐든 손쉽게 할 수 없으니 자신감이 많이 떨어져. 어제 내 친구 상민이에게 거짓말한 것이 들통났어. 너무 미안해. 나는 아빠가 없는데 친구들이 이런 내 가정사를 알게 되면 나랑 멀어질까 봐 두려워. 평소 괴롭힘당하던 친구가 오늘 학교를 빠졌는데 너무 불안하고 죄책감이 들어. 남자친구한테 우울증을 핑계로 화풀이를 해버렸는데 너무 미안해서 어떻게 해야 할지 모르겠어. 여태 뭐 하고 산 건지 모르겠어. 아직까지 꿈도 없고 잘하는 것도 없는데 내가 너무 한심해. 잠을 못 잤더니 피곤해 죽겠어. 어제도 밤새 핸드폰 게임을 했거든. 요즘은 모든 게 다 내 탓 같고 사람들이 다 나를 비난하는 것 같아서 자신감이 없어. 한부모 가정이라는 것이 너무 창피해. 그걸 창피해하는 나 자신도 미워. 나는 왜 사는 걸까? 삶의 목표가 없어. 나는 앞으로 무슨 일을 하게 될까? 미래가 너무 불확실해. 페이스북에 우리 학교 인기 많은 애 사진을 도용해서 올렸는데 걔가 알게 돼서 너무 미안해. 나는 자존감이 낮아. 자존감이 부족한 이런 나라서 스스로에게 미안해. 허리디스크가 심해지고 나서 아무것도 안 하고 누워만 있어. 집에 도움이 못 되어 죄책감이 들어. 내가 피부가 많이 안 좋아서 친구들 얼굴을 똑바로 보기가 힘들어. 이렇게 부모님과 계속 함께 사는 게 맞는지 잘 모르겠어. 이 일이 좋아서 시작했는데 경쟁이 너무 심한 구조라 스트레스받아. 앞으로 어떤 일을 하고 살아가야 할지 모르겠어. 내 미래가 너무 불안해. 부모님은 내 공부하는 방식에 너무 간섭하시려고 해서 힘들어. 어릴 때 당한 사고 때문에 부모님은 내가 걱정되시나 봐. 보호가 심하셔서 친구들과 놀지도 못해. 이제 나도 부모님으로부터 독립을 해야 할 나이가 되었어. 하지만 너무 두려워. 우울증 때문에 앞으로의 진로나 취업에 어려움이 많아. 오늘도 난 신체장애를 핑계로 목표 없이 하루를 허송세월하며 보냈어. 이런 날들이 괴로워. 나는 왜 게임을 시작하면 멈출 수가 없을까? 성적이 너무 떨어져서 어머니께 죄책감이 느껴져. 같은 직장에서 근무하는 친구가 내 실수 때문에 대신 해고됐어. 정말 미안하고 죄책감이 들어. 사실 나는 도벽이 있는데 친구의 이어폰을 훔쳤어. 너무 죄책감이 들어. 아무리 공부해도 성적이 안 나와. 부모님은 나를 믿고 공부하라는 말도 안 하시는데. 엄마 친구네 자식들은 다 취업했는데 나만 못했어. 엄마에게 미안해. 내 소득이 너무 낮아서 고민이야 미래도 없어. 남자친구한테 매일 얻어먹는 것도 미안해. 성적이 떨어지고 컴퓨터 게임에 중독됐어. 내가 점점 잘못되어 가는 걸 느껴. 아빠가 엄마를 때리셔서 갈비뼈가 부러지셨어. 아빠가 제발 잘못을 뉘우치셨으면 좋겠어. 아빠가 재혼하셔서 생긴 동생이 다리를 저는데 내가 심한 말을 해버려서 반성하고 있어. 아빠의 폭언으로 엄마가 우울증약을 드셨어. 아빠를 말리지 못했던 내가 벌 받는 기분이야. 이번 시험도 전보다 성적이 떨어졌어. 이럴수록 부모님께서 간섭하셔서 너무 신경 쓰여. 여자친구가 내가 자기 말을 제대로 안 듣는다고 화를 냈어. 너무 미안해. 내 우울증이 심해지면서 친구는 날 도와주려 했는데 내가 신경 쓰지 말라고 소리를 질렀어. 친구 중에 내가 제일 연봉도 낮고 모아둔 재산도 없어. 이럴 줄 알았으면 저축해놓는 건데. 우리 가족은 내가 우울증이 있어서 매일 싸우는 거 같아. 나 때문에 이런 일이 벌어진 거겠지? 신장 질환으로 화장실을 자주 가는데 기다리는 친구들한테 미안하고 죄의식을 갖게 되는 것 같아. 팔이 불편한데 부모님이 나를 아기처럼 대해서 크게 화를 냈어. 마음이 안 좋아. 학교에서 친구들과 같이 학급 친구를 집단으로 따돌렸어. 내 행동이 죄책감이 들고 후회돼. 내가 무슨 행동을 할 때마다 부모님이 하나하나 간섭해서 이젠 무섭기까지 해. 채용 시장에 전부 남자만 뽑아. 여자로 태어난 게 너무 자괴감이 들어. 실수할 때마다 스트레스가 심해. 정신 장애까지 찾아오는 것 같아. 전학 오기 전 학교에서 왕따를 당해서 부모님이 과도하게 걱정하셔서 괜히 죄책감이 들어. 친구와 감정이 격해져 서로 때리며 심하게 싸워서 부모님이 알게 되셔서 죄책감이 들어. 어릴 때 부모님이 이혼하시고 엄마가 날 혼자 키우시느라 고생하셔서 죄책감이 들어. 어제 친구와 심하게 싸우다 그 친구 다리뼈가 부러져버려서 양심의 가책이 느껴져. 면접을 볼 때마다 대인 기피증 때문에 떨어지고 말아. 육상선수가 꿈이었는데 다리가 다치고 나서 포기할 수밖에 없게 됐어. 아빠가 돌아가셔서 엄마가 재혼했는데 나는 돌아가신 아빠한테 너무 미안해. 형편이 안 좋은데 아무것도 하기 싫어하는 내 모습 때문에 죄책감이 들어. 경제적 형편이 어려워서 나도 모르게 가족들에게 심한 말을 했어. 죄책감이 들어. 부모님이 매일 싸우시는 게 나 때문인 것 같아서 너무 힘들다. 친구들이 지수를 왕따시키니까 나도 동참하는 것처럼 되어버렸어. 요즘 학교에도 안 가고 방에만 틀어박혀 있어서 엄마한테 죄송해. 남자 친구와 내 사소한 오해로 다투고 말 안 한 지 오래되었어. 내 잘못이야. 평소 가지고 있던 조울증으로 괜한 친구를 오해해서 싸우고 상처를 줬어. 양심의 가책을 느껴. 매일 흘러가는 대로 살아서 스트레스받고 미래가 어떨지 불안해. 이제 책임감 있게 살고 싶어. 내가 생각했던 직업은 이런 게 아니야. 꿈꾸던 직업과 현실 차이로 인해 괴롭고 후회돼. 강박증을 앓고 있는데 자꾸 나를 혐오하고 비하하게 되는데 진작 치료받을 걸 후회가 돼. 사고로 장애가 생긴 후 핸드폰만 보고 살아서 문제야. 나한텐 미래가 없어서 여태까지 뭘 했나 싶어. 죄책감이 들어. 조별 과제를 하는데 내가 서투른 것 같아서 조원들에게 정말 미안하고 눈치 보여. 내가 종종 동생을 때려. 양심의 가책이 느껴져. 집에서 독립하고 싶어서 부모님과 얘기했는데 싸움만 났어. 마음이 불편해. 회사에서 동기한테 지기 싫어서 남의 의견을 가로채서 내 걸로 만들었어. 그런데 마음이 괴로워. 부모님이 나를 과잉보호하셔서 죄책감이 느껴져. 공부를 해야 하는데 인터넷이 너무 재미있어서 공부를 못하고 있어. 요즘 가족들이 자주 다퉈. 이게 모두 내 탓인 것 같고 관계가 좋아지지 않을까 두려워. 몸이 아파서 너무 힘들고 인생의 목표가 없어서 괴로워. 어렸을 적 부모님의 과잉보호로 오랫동안 죄책감에 시달렸는데 정신장애가 올 것 같아. 매우 힘들어. 요즘 학교 담임선생님 크게 혼이 났는데 죄책감이 들 정도야. 요즘 고등학교 진로로 고민 중인데 그동안 시험성적이 좋지 못해서 너무 죄책감이 들어. 공부를 별로 열심히 하지도 않았는데 일 등을 해서 친구들한테 눈치가 보여. 내가 실수를 해서 임신을 했는데 상황이 안돼서 입양 보내고 싶어. 대학교에 안 가겠다고 한 내가 이제 와서 너무 한심스러워. 친구들과 잘 지내라는 부모님과의 약속을 못 지키는 것 같아 죄송스러워. 부모님은 시집을 가라고 하시는데 나는 결혼하고 싶은 마음이 없으니 죄송하고 괴로워. 대학에 들어가지 않은 게 너무 후회돼. 이러다간 부모님에게 의존하고 말겠어. 몸이 너무 아파서 할 일이 없어. 솔직히 미래가 보이지 않아. 아빠가 집을 나갔는데 엄마가 우울증에 걸린 탓이라고 화를 냈어. 후회돼. 대학 졸업장도 없이 사회에 나가려니 불안해서 자꾸 부모님께 의존하게 돼. 죄책감이 들어. 지병이 생겨서 앞으로의 미래가 걱정되고 불안해. 계속 인터넷만 보고 있는 내게 엄마가 뭐라 해서 화를 내버렸어. 미안한 마음이야. 또 취업에 실패했어. 나는 앞으로 계속 직장을 가지지 못할 거야. 동생이 나와 성적을 비교당하며 매일 부모님께 맞아. 나 때문인 것 같아서 죄책감이 들어. 같은 반 친구가 학교폭력에 시달리는데 나는 방관하고만 있어. 양심에 가책을 느껴. 엄마가 재혼해서 동생이 생겼어. 근데 내가 다치게 해서 죄책감이 들어. 난 앞으로 무슨 일을 하며 살아가야 할지 모르겠어. 저녁 식사 중에 진로 얘기를 하다가 새아빠께 심한 말을 해서 너무 죄송해. 시험 점수가 안 좋은데 친구가 놀려 나도 모르게 친구를 때렸어. 내가 왜 그랬을까. 진로를 정하지 못하고 새아빠한테 걱정만 끼쳐드려서 미안해. 내가 가장이라 가족들을 책임져야 하는데 지금 일을 못 구해서 죄책감이 들어. 같은 반 친구를 때리고 괴롭혔었는데 내가 정말 잘못한 일이란 걸 깨달았어. 나는 술을 마시다 부모님께 걸려 혼이 많이 났고 내 행동에 반성하고 있어. 나는 친구들이랑 함께 있으면 너무 눈치를 보게 돼. 엄마는 내 모든 일에 간섭하셔. 그만큼 내가 부족한 것 같아서 죄송해. 요즘 아버지께서 학원 선생님이랑 연락을 자주 하시고 내 학원 공부를 지나치게 체크하셔서 힘들어. 아무리 공부를 해도 성적이 오르지 않아서 부모님께 죄책감이 들어. 아빠의 폭력이 내가 공부를 못해서인 것 같아서 너무 후회돼. 오늘도 회사에서 나 때문에 프로젝트를 망쳤어. 모두 부족한 나 때문이야. 취업에 또 실패했어. 계속 취업에 실패하니 내 인생이 너무 절망적이라는 생각이 들어. 조현병 때문에 취업이 안 되고 있어. 너무 절망적이야. 아들이 자꾸 나쁜 짓을 저지르고 다녀. 회사 다니는 것도 벅차 죽겠는데 너무 힘들어. 오늘 친구한테 본의 아니게 막말을 해서 너무 죄책감 느껴. 부모님이 나를 너무 과잉보호해서 이제는 두려워. 앞으로 먹고살 걱정이 너무 커서 걱정이야. 난 신체질환이 있어서 일하기가 쉽지 않아. 시험 성적이 항상 낮게 나와서 부모님께 죄송해. 틱 장애로 아무 것도 할 수 없는 현실이 미래는 꿈도 꿀 수 없게 해서 두려워. 일찍 결혼해서 가정도 있는데 아이에게 너무 미안해. 월급은 늘어나지 않는 현 상황으로 인해 너무 스트레스받아. 취업 문제로 인해 부모님과 싸워서 부모님에게 미안해. 요즘 나의 학업문제로 부모님과 사이가 안 좋아져서 너무 힘들어. 이제 취업해야 할 나이가 되었는데 다리가 불편해서 그것도 쉽지 않아. 절망적이야. 내가 어렸을 때 엄마가 집을 나갔는데 그게 내 탓인 것 같아서 너무 괴로워. 엄마 혼자 힘들게 뒷바라지해 주셨는데 성적이 안 나와서 너무 죄송해. 친구가 달리기를 잘 못 하길래 장난으로 놀렸는데 천식 때문이래. 너무 미안해. 동생이 다리가 많이 불편한데 아버지가 동생에게 심한 말을 너무 많이 하셔서 힘들어. 이번 시험도 망쳐서 대학을 갈 수는 있을까? 부모님께 너무 죄송해. 나는 가난해서 가정을 꾸리고 살 자신도 없어. 못난 내가 싫어. 좋아하는 애한테 고백했는데 내 성적이 너무 안 좋아서 만나기 어려울 것 같대. 너무 슬퍼. 이번 모의고사에서 성적이 많이 떨어졌어. 부모님께 너무 죄송해. 취업 준비만 벌써 몇 년째인데 계속 실패하고 있어. 뒷바라지해주시는 부모님께 너무 죄송해. 남들 말을 따라서 좋다는 회사에 취직했는데 나랑 업무가 너무 안 맞아. 우리 반 남자애한테 공부를 못한다며 놀렸는데 지금 너무 후회돼. 회사 야근이 잦아서 힘들었는지 아빠한테 괜히 화를 냈어. 너무 미안해. 내가 생각해도 열등감이 이젠 너무 지나쳐서 모든 게 내가 잘못한 것이라는 생각이 들어. 현실에서 남을 밟고 일어나야 하는 상황에 스트레스가 쌓이고 다른 사람에게 죄책감을 느껴. 동창들은 다들 좋은 회사 취업했는데 난 아직도 백수라 비교돼. 다 내 잘못이야. 친구가 내 가족에 대해 안 좋게 말해서 기분이 상했어. 같은 반 친구와 싸웠어. 말다툼하다가 결국 내가 때렸는데 너무 후회되고 미안해. 얼마 전에 이직하면서 부모님과 심한 갈등이 있었어. 내가 원하는 직장을 선택한 것뿐인데. 사람들과 잘 섞이지 못하고 잘하는 것도 없고 모두가 나를 무시하는 것 같아. 이제 곧 졸업하고 취업해야 하는데 여드름때문에  대인기피증이 너무 심해져서 걱정이야. 학생 때 공부할걸. 그때 공부하지 않고 지금 지방대 다니는 내가 한심하고 후회돼. 요즘 인스타그램에 중독돼서 공부에 집중할 수가 없어. 틱톡을 너무 많이 해서 고민이야. 친구들에게도 안 좋은 소리를 들었어. 가족의 학대 때문에 학업에 지장이 가. 내 탓인 것만 같아. 장애도 가지고 있으면서 인터넷 중독이라니 벌 받는 것 같아. 부모님이 내 학업에 간섭이 심해 싸웠어. 그러다 심한 말까지 해버려서 죄책감이 들어. 내가 잔병에 잘 걸려서 부모님이 과잉보호해. 그게 싫어 부모님께 화냈는데 죄책감이 들어. 못 걷게 되었는데 병문안 오는 사람 하나 없어. 내가 이기적으로 산 벌인 것 같아. 몇 주 동안 게임만 하고 학원은 가지도 않았어. 부모님께 정말 미안한데 멈출 수가 없어. 코로나 문제 때문에 취직도 못하고 부모님 손 빌리는 게 너무 미안해. 장애 때문에 커서도 부모님 돈을 쓰고 사는 내가 싫어. 난 왜 이런 짐 덩이인 걸까. 우울증 때문에 남자 친구를 괴롭게 하는 내가 싫어. 난 왜 다른 사람을 괴롭게 하는 걸까? 우리 딸도 다른 집 애들처럼 좋은 유치원에 보내고 싶어. 유치원 알아보느라 스트레스야. 어릴 적 가정폭력을 보고 자라서 그런가? 나도 아내에게 똑같은 짓을 해서 힘들어. 상사에게 영업 능력을 인정 받으려고 불법적인 행위를 해서 죄책감이 들어. 나만 이름 없는 대학교에 나와서 너무 스트레스받아. 성적 때문에 학원 가야 하는데 친구들이 눈치를 줘서 오늘 학원을 빠졌어. 우리 반에 왕따가 있는데 나는 말리지 못했어. 심한 우울증을 앓고 있어서 집 밖에 못 나가는데 부모님께 너무 죄책감이 들어. 나는 다리에 보조기를 차고 다녀. 그로 인해 사람들이 나를 피하는 것 같아 우리 부모님은 내 걱정을 지나치게 많이 해. 나 스스로한테 문제가 있는 거 같아. 엄마는 혼자서 나를 힘들게 키우시는데 나는 공부도 못해서 나 자신에게 실망했어. 최근에 많은 회사에 면접을 봤는데 계속 떨어지고 있어서 힘들어. 나는 일주일이면 퇴원할 줄 알았는데 벌써 한 달 동안 입원하고 있어서 너무 괴로워. 나는 왜 장애를 가지고 태어난 걸까? 내가 왜 이런 고통을 갖고 살아야 하는지 모르겠어. 여자친구를 더 이상 좋아하지 않는데 헤어지자고 말을 못하겠어. 게임을 하다가 흥분해서 홧김에 친구랑 싸웠는데 어떻게 사과해야 할지 모르겠어. 잘 걷지 못하는 친구에게 심한 말을 했어. 엄마가 밖에서 뭘 하든지 다 얘기하랬는데 오늘은 그러지 못했어. 내가 잘못한 것 같아. 나 때문에 우리 집의 분위기가 안 좋은 것 같아서 죄책감이 들어. 이번에 학교에서 진로 조사를 하는데 나와 엄마의 의견이 달라서 속상해. 엄마를 실망시키고 싶지 않은데 이번 시험을 또 망쳤어. 이번 기말고사 성적이 떨어졌어. 부모님께 너무 죄송스럽네. 나는 왜 공부를 엄청 못할까? 공부를 못해서 부모님을 볼 면목이 없네. 어렸을 때부터 틱장애가 있어서 남들 앞에 서기가 두려워. 나는 왜 틱장애가 생긴 걸까? 공황장애가 있어서 남들 앞에서 말하는 게 두려워. 나는 왜 이런 걸까? 우울증으로 인한 가족들과의 불화가 내 탓인 거 마냥 계속 죄책감이 들어. 얼마 전 회사에 친한 친구와 면접을 봤는데 나만 붙고 친구는 떨어졌어. 며칠 전 아빠한테 또 맞았어. 아프고 속상해. 어린 나이에 덜컥 아기를 가져서 낳았는데 하루하루가 걱정돼. 내가 잘살 수 있을까. 같은 반 친구를 내가 이유 없이 괴롭히고 때려서 부모님께 얘기해야 하는데 두려워. 사회생활 오 년이 지나니 나도 독립하고 싶은데 부모님 생각하면 죄송한 마음이 들어. 몇 년을 일해도 최저시급을 못 벗어나는 내 미래가 걱정돼. 취업이 안되는 이유를 두고 언제부터인가 남 탓을 하는 내가 싫고 짜증이 나. 대학을 못 들어갈까 봐 걱정이야. 내가 공부를 못해서 그런 거 같아. 친구네 자식들은 사랑을 듬뿍 받으며 자라는데 우리 애들은 그러지 못해 죄책감이 들어. 다른 사람들이 나를 싫어할 것 같아서 밖에 나가기가 두려워. 자신감이 없어. 취업이 안 되는 게 내가 준비를 열심히 하지 않은 이유 때문인 것 같아 죄책감이 들어. 내가 반 친구를 때려서 부모님이 학교에 불려 가셔서 대신 사과를 하셔서 많이 당황스러웠어. 공부는 안 하고 매일 핸드폰만 만지작거리고 게임만 한다고 엄마한테 혼났더니 기분이 안 좋아. 요즘 학교 가는 게 너무 괴로워. 친구들과 있으면 자꾸 눈치를 보게 돼. 내 미래가 너무 암울하게 느껴져서 두려워. 오랜 우울증 때문에 아무 일도 못 하고 있어서 가족에게 미안하고 죄책감이 들어. 학교 성적 때문에 매일 죄책감이 들어. 전망 없는 내 미래 때문에 자꾸 자책하게 되어서 너무 힘들어. 신체장애 때문에 자신감이 없고 마음이 힘들어. 공부할 때 계속 뒤처지는 나 때문에 친구들에게 지장을 주는 것 같아서 미안해. 다른 사람들보다 내 자녀들에게 못 해주는 것 같아서 죄책감이 들어. 어울려 놀던 친구가 따돌림을 당하는데 나도 괜히 눈치가 보여서 죄책감이 들어. 요즘 컴퓨터 게임에 빠져서 친구들을 소홀히 한 것 같아 죄책감이 들어. 딸은 미국으로 유학가기를 바라는데 형편이 뒷받침되지 못해서 미안하고 죄책감이 들어. 진로를 위해 학원비가 많이 드는데 새아버지께 말씀드리기가 죄송해서 못 말하겠어. 내 오해로 제일 친한 친구와 다투었는데 미안한 마음이 들어. 발이 불편하니 미래에 어떤 일을 할 수 있을지 모르겠어. 인생에 목표가 없어서 혼란스러워. 우울증이 더 심해져서 친하던 친구들에게서도 괜히 열등감이 느껴져서 말이 잘못 나갔어. 내가 공부에 집중하지 않고 사고만 쳐서 부모님끼리 심하게 다투셨어. 죄책감이 들어. 아내와 어제 크게 다퉜는데 말을 심하게 해서 상처를 준 것 같아 죄책감이 들어. 부모님께서 내 사생활을 너무 간섭하셔. 애초에 그러지 말아 달라고 당부할 걸 후회돼. 이번 시험에는 성적을 잘 받아야 해. 근데 가끔 우울해서 공부하기 힘들어. 미래에 의사가 되고 싶은데 중학교 중퇴 결정을 한 것이 잘못한 일이라는 생각이 들어. 현재 내 성적으로는 원하는 대학에 가지 못할 것 같아. 방법이 잘못됐나 봐. 내 친구랑 갈등이 생겼는데 부모님이 내 잘못도 있다고 하셨어. 우리 집은 재혼 가정인데 나는 몸에 질환이 있고 그래서 엄마가 더 힘들어해. 내가 다니는 직장이 이번에 엄청난 프로젝트가 있는데 경쟁률이 너무 심해. 내 직업에 대해서 너무 적응이 안 돼 현실과 이상이 너무 달라. 나는 신체 질환을 가지고 있어 근데 지금 내 인생에 목표가 없어. 내가 자꾸 왜 이러는지 모르겠어. 약한 애를 계속 괴롭히게 되네. 부모님께 간섭하지 말라고 화낸 게 후회돼. 수진이한테 틱이 있다고 반 친구들한테 크게 얘기해서 상처받았나 봐. 수진이랑 멀어질까 봐 두려워. 어릴 때부터 대장이 약해서 부모님은 나를 아기처럼 다뤄. 나는 그게 부담스럽고 죄송스러워. 내가 어릴 때 큰 사고를 당해 다리를 저는데 괜히 벌 받는 것 같아 마음이 슬퍼. 나보다 잘살고 공부도 잘하는 친구를 오늘 괴롭혔어. 마음이 안 좋아. 얼마 전에 친구 펜이 좋아 보여서 훔쳐버렸어. 죄책감이 들어. 이번 시험을 망쳐서 학점이 잘 안 나왔어. 내가 노력을 제대로 안 했나 봐. 동성친구와 갈등이 생겨서 좀 다퉜는데 미안하네. 부모님이 항상 연락에 집착해. 잘못한 행동을 하지는 않지만 왠지 모를 죄책감에 시달려. 친구와 자녀교육에 관해 이야기하다 크게 싸우게 됐어. 왜 그랬을까 후회돼. 게임에 빠져 친구의 생일을 까먹어버렸어. 대학교에 다니면서부터 부모님께서 독립해야 할지 아직 의존해야 할지 고민이야. 내가 담당하는 영업일은 너무 경쟁이 심한 직종이라 힘들어. 고등학교를 졸업하면 뭘 해야 할지 모르겠어. 잘못 살아온 것 같아. 죄책감이 느껴진다. 공부 잘한다고 엄마한테 거짓말 했거든. 내가 딸로써의 역할을 제대로 못했나 봐. 마음이 안 좋아. 곧 수능인데 이번 모의고사가 생각보다 잘 안 나왔어. 속상해. 아빠한테 맞고 속상해서 친구한테 화풀이를 했어. 내가 너무 심했던 것 같아. 나 때문에 엄마와 아빠 사이가 좋지 않아. 차라리 대학을 가지 말고 취직을 할 걸 후회돼. 내 친한 친구가 좋아하는 남자와 사귀게 되어서 정말 미안하고 죄책감이 들어. 같은 반 친구를 따돌려서 부모님께 많이 혼났어. 지금 내가 하는 일은 내 미래에 도움이 안 되는 일이라 스트레스가 쌓이고 불안해. 신체적 장애로 진로의 폭이 많이 줄어들어서 스트레스를 받고 불안해. 나는 신체장애가 있는데 진로 고민으로 생각이 많아. 너무 불안해. 학창시절에 힘들어서 공부를 못 했더니 지금 진로를 정하기 힘드네. 친구들이랑 말을 할 때 계속 눈치를 봐. 집이 경제적으로 어려운데 대학은 계속 다니고 싶어. 귀가 안 좋아서 취직도 안 되고 따로 잘하는 것도 없어서 미래가 너무 불안해. 친구와 싸우다가 친구의 아픈 기억을 건드려서 친구가 울었어. 아빠가 없어서 엄마 혼자 열심히 일하시는데 나는 공부도 안 하고 놀고만 있어. 소아마비가 있는 나를 부모님이 과잉보호해서 부모님께 화를 냈어. 남들은 다 대학교에 갔는데 나는 백수인 채로 집에서 아무것도 안 하고 있어. 가지고 있는 정신질환 때문에 일자리도 못 구하고 부모님께 신세 지고 있는 게 너무 죄송해. 학원에 안 가면 엄마한테 혼날 게 무서워서 선배들에게 괴롭힘당하는 친구를 모른 척했어. 직업군인으로 지낸 지 일 년이 다 되어가는데 아직도 난 너무 부족한 것 같아서 죄책감을 느껴. 내가 몸이 아프다고 부모님이 너무 과하게 신경 쓰시는 게 너무 죄송스러워. 아빠가 재혼하셔서 새어머니가 생겼는데 내 다리가 불편해서 죄송스러워. 내가 공황장애가 있어서 부모님이 나를 과잉보호하는 것 같아 죄송스러워. 원래 시력도 마이너스인데 요즘 게임 중독 때문에 성적까지 많이 떨어져서 죄책감이 들어. 회사에서 동료와 경쟁하다 동료가 회사를 그만뒀어. 나 때문인 것 같아. 내 팔에 있던 장애 때문에 오늘 조별과제를 망쳤어. 몸도 아프고 모든 게 내 탓인 거 같고 부모님께 걱정 끼쳐드려서 양심의 가책도 느껴. 우리 부모님이 나를 너무 과잉보호해서 너무 걱정이고 이젠 두려워. 내가 아내한테 너무 막 나가고 이기적인 거 같아서 죄책감이 들어. 공부하는데도 성적이 잘 나오지 않아 너무 힘들어. 친구에게 학교폭력으로 상처를 줬어. 너무 미안해. 남자친구에게 말실수를 해버렸어. 진심이 아니어서 나도 너무 속상해. 이번 중간고사는 스스로 공부하고 싶지만 또 부모님이 학습에 관여하실 것 같아 위축되네. 친구가 괴롭힘당하는데 말리지 못해서 양심에 가책을 느껴. 내 미래에는 전망이 없고 어둡기만 해. 그래서 죄책감이 커져. 우울증 때문에 친구를 예민하게 대해서 크게 싸웠어. 내가 너무 미안하네. 우리 부모님은 공부를 잘하셨는데 나는 못해서 나 자신이 너무 부끄러워. 강박증이 있어서 무조건 시험 전날에는 잠을 푹 자야 하는데 잠이 안 와서 밤을 새워 버렸어. 동아리 발표 시간에 너무 떨리고 불안해서 공황장애가 왔어. 그래서 발표를 망쳤어. 오늘 학교에서 같은 반 애가 우리 부모님 이혼이 나 때문이냐고 물었어. 정말 그랬을까? 새로운 프로젝트에서 또 난 허드렛일만 맡았어. 부장님은 왜 날 못 믿어주시는 걸까? 일에 계속 치여 사는데 미래는 가망이 없는 것만 같아 너무 슬퍼. 시간은 계속 흘러가는데 아직도 진로를 결정하지 못해 불안해. 내가 무엇을 하든 엄마가 다 도와줘. 나는 벌써 고등학생인데 말이야! 그동안 부모님이 내 병 때문에 나만 신경 쓰느라 많이 힘드셨을 것 같아서 죄송해. 내 딸이 친구와 싸워서 학교에 안 갔대. 그것도 모르고 아이를 몰아세웠어. 시험 끝나자마자 엄마가 학원을 늘리라고 하셔서 싸웠어. 나는 공부하는 기계가 아닌데. 싫었던 친구가 있는데 막상 그 친구가 왕따가 되니까 미안해. 매일 게임을 하느라 성적이 떨어졌어. 이렇게까지 떨어질 줄은 몰랐는데. 남편이 내 친정에서 떨어진 곳으로 이사하자는데 친정에서 떨어져도 제대로 살 수 있을까? 내 우울증 때문에 주변에 너무 막 대한 것 같아. 왜 그랬는지 후회돼. 성적이 오른 큰 딸과 비교되는 작은 딸이 스트레스를 받는 것 같아 속상해. 내가 다른 사람보다 몸무게가 많이 나가서 자신감도 떨어지고 매사에 자신이 없어. 오늘 고교 동창과 심하게 다투고 다시 만나지 말자며 헤어졌는데 죄책감이 들어. 부모님이 주말마다 취업은 어떻게 됐는지 전화하시는데 부담스러워. 친한 친구가 사정이 급해서 부모님께 말씀드리고 돈을 빌려줬는데 친구가 돈을 안 갚아. 아들에게 상처되는 말을 해버렸어. 너무 죄책감이 들어. 앞으로 자녀들이 점점 암울해져 가는 취업 시장에 뛰어들게 할 생각을 하니 막막해. 딸이 더 잘난 사람들에게 상대적 열등감이 생긴대. 그렇게 내버려 둔 나에게 죄책감이 들어. 딸이 친구와의 갈등이 생겼대. 도움을 줄 수 없는 나에게 죄책감이 들어. 부모님이 내 친구 관계에 지나치게 신경을 쓰셔. 걱정이 되시나 봐. 취업 이력서 열 개를 회사에 보냈는데 아무 데서도 연락이 안 왔어. 진짜 스트레스받는다. 요즘 자꾸 다른 사람들과 나를 비교하게 되고 괜히 비교해서 스트레스받아. 친구에게 내가 잘못한 일도 없는데 자꾸 눈치를 보게 돼. 내가 뭘 잘못했을까? 어제 아빠가 엄마를 때린 것을 친구에게 이야기하니까 친구가 나보고 왜 가만히 있었냐고 화냈어. 요즘 취업이 너무 어려워서 스트레스 받아. 과거에 게을렀던 삶 때문에 벌 받는 걸까? 친구와 자꾸 의견이 맞지 않아 충돌이 생겨. 내가 자꾸 시비를 거는 걸까. 아빠가 술만 마시면 엄마를 때리고 집을 엉망으로 만들어서 너무 무섭고 힘들어. 친구 딸은 비싼 유치원에 다니는데 나는 그런 유치원에 못 보내서 스트레스야. 친구가 잘 알지도 못하면서 우리 집 문제에 대해 말하는 것이 너무 싫어. 친구들과 모여 있을 때 친구들 사이에서 눈치를 보는 내가 너무 싫어. 부모님께서 지나친 간섭을 하시는 것이 짜증 나. 나는 못생기고 무능력해. 아무것도 해내지 못할 것 같아 두려워. 부모님의 지나친 간섭으로 친구와 자유롭게 만나지 못했던 게 지금 너무 후회가 되. 친구가 가족으로 부터 학대를 받는 것 같은데 모른 척 해서 양심에 가책을 느껴. 지금 내가 내 자녀한테 해줄 수 있는 게 뭐가 있는지 참 어려워. 아들이 습관처럼 자기 탓을 하는데 내가 잘못한 거 같아서 죄책감이 들고 너무 두려워. 실수로 아이가 생겨 그 아이를 낳고 키워야 한다고 생각하니 점점 두려워져. 아들이 아직 어린데 자기 자신을 혐오하고 비하하는 것 같아서 무섭고 두려워. 결혼을 앞두고 부모님 지원을 받았는데 너무 죄책감이 느껴져. 독립해야 하는데 아직도 부모님이랑 같이 살고 있어. 죄책감이 들어. 여자친구가 임신을 했어. 나는 아직 누군가를 책임질 수 없어. 너무 두려워. 남동생만 잘해주는 부모님께 짜증을 냈는데 죄책감과 미안한 감정이 들어. 학교에서 맞고 다니는 걸 부모님이 아셔서 걱정하시고 고생도 하셔. 부모님께 너무 미안해. 친구들과 조별 과제를 하는데 내 실수로 인해 우리 조 전체가 점수를 낮게 받았어. 후회돼. 결혼을 하면 담배를 끊기로 했는데 아직 끊지를 못했어. 나 자신에게 실망했어. 결혼을 해서 남편과 돈을 벌기로 했는데 내가 직업이 없어. 나 자신에게 실망했어. 아내가 나와 결혼한 것을 후회한다고 했어. 나는 정말 한심한 남편이야. 내가 친구에게 학교폭력을 해서 죄책감이 들어. 자꾸 왠지 모르게 나 자신을 혐오하게 되고 비하하게 돼. 이 감정이 계속될까 봐 두려워. 요즘 결혼 생활에서 미래에 전망이 없는 거 같아. 양심의 가책이 느껴져. 친구와 다투면서 친구에게 심한 욕설을 한 것에 대해 죄의식을 느껴. 부모님이 용돈을 안 주셔서 친구의 돈을 뺏었어. 이 일이 너무 죄책감이 들고 후회돼. 부모님에게 혼이 나는데 화나가서 욕을 해버렸어. 이 일로 너무 죄책감이 들고 죄송해. 아내가 있는데 친구에게 호감이 생겨서 죄책감과 죄의식을 느끼고 있어. 백수 친구가 결혼한다고 하는데 능력도 없으면서 결혼한다고 막말했더니 죄의식이 느껴져. 석사 마지막 학기인데 결혼생활이랑 학업이랑 병행하다 보니 책임감이 너무 과중해. 부모님이 내 학업 문제로 크게 다투셨어. 나 때문인 것 같아서 죄책감이 들어. 이제 나랑 아내도 우리 부모님으로부터 독립해야 되는데 그러지 못해서 죄책감이 들어. 친구들이 술 마시자고 계속 불러내서 밤늦게 나갔는데 아내에게 미안해. 부모님 때문에 친구들 사이에서 눈치가 너무 보여. 우리 부모님은 왜 그런지 모르겠어. 부모님과 또 싸웠는데 말이 예쁘게 안 나오네. 조금 미안한 느낌도 들어. 초등학교 때부터 친구인데 크게 다퉜어. 내가 너무 모질게 대한 것 같아. 남편한테 미안하네. 그렇게 지원해 주었는데도 더 이상 좋아질 전망이 보이지 않아. 남편이 학자금도 내주는데 공부가 잘 안 돼. 이번에도 시험을 망쳤어. 제일 친한 친구들인데 서로의 부모님 얘기를 하다가 싸워서 눈치를 보고 있어. 부모님이 나의 일거수일투족을 다 간섭해서 너무 괴로워. 난 왜 이렇게 못났을까 여자 친구가 파혼하재. 내가 돈이 없어서. 이 남자와 결혼하면 미래가 불투명해서 불안해. 나도 돈이 없어서 미안하고. 얼마 전에 친구한테 너무 강압적으로 말한 거 같아 후회가 돼. 친구랑 놀다 들어왔는데 엄마가 지나치게 간섭해서 마치 내가 뭘 잘못한 기분이 들어. 결혼생활을 하면서 점점 나 자신을 잃어가는 기분이야. 그래서 아내에게 미안해. 친구를 괴롭혀서 오늘  엄마가 학교에 오셨어. 너무 후회돼. 아빠가 지나치게 간섭해서 심하게 짜증 냈는데 많이 상처받았나 봐. 내가 말이 심했어. 이번 시험에 반드시 합격하기로 남편과 약속했는데 공부할 시간이 없어서 스트레스야. 부모님께 학교 폭력을 당한 친구에 대해 말했는데 신경 끄라고 하셔서 마음이 더 무거워. 나를 이십사 시간 감시하려는 엄마의 바뀐 태도를 보니 내 잘못이 큰 것 같아. 결혼 후에도 대학원에서 박사과정을 밟고 있는 게 무거운 책임감으로 다가와. 반 친구가 학교폭력을 당해서 무서워. 내가 학교에서 문제를 일으켰는데 엄마가 알게 됐어. 결혼하면 경제적으로 독립하는 줄 알았는데 아내가 지원을 받자고 하네. 부모님께 죄송해. 그 사람이 너무 좋아서 결혼하고 싶은데 미래가 너무 불투명해. 친구가 학교폭력을 당하고 있는데 도움이 되지 못해서 죄책감이 들어. 부모님이 같이 살자고 하신 걸 거절했는데 죄책감이 들어. 미래를 위해 박사 과정을 준비하고 있는데 금전과 시간적인 문제로 남편에게 죄책감이 들어. 얼마 전 결혼을 해서 분가를 해야 하나 부모님을 계속 모시고 살아야 하나 고민 중이야. 당구를 좋아해서 매일 당구장에 가는데 내가 남편으로서 좋은 남편인지 모르겠어. 결혼하고 애 키우느라 집에만 있다 보니 경력도 못 쌓고 앞으로 무엇을 해야 할지 모르겠어. 학교폭력에 시달리는 친구가 있다는 걸 부모님이 아셨어. 친구에게 책임감을 느껴. 엄마가 항상 친구를 도와주라고 했는데 왕따당하는 친구를 돕지 못했어. 너무 후회돼. 아빠가 내가 스마트폰을 너무 많이 한다고 혼내서 말대꾸했어. 버릇없었던 나 자신이 부끄러워. 결혼했는데도 독립을 못 하고 부모님 댁에 살고 있어. 독립해서 책임감 있는 모습을 보여드리고 싶어. 일찍 결혼하고 가족이 생기니까 나 혼자만의 삶이 없어져서 내 존재가 하찮게 느껴졌어. 결혼하고 집안일 때문에 야간대학 공부할 시간이 부족해서 스트레스야. 작은 잘못을 해도 부모님께 죄책감이 들어. 다 내 잘못인 것만 같아. 아내와 나는 우리 아버지의 재력에 의존해서 지내고 있어. 아직도 독립하지 못해서 죄송하고 혼란스러워. 내 직업은 전망이 없어. 남편에게 너무 미안해. 학교에서 친구를 때려서 부모님이 그 친구에게 사과했어. 내가 책임감 있게 사과했어야 했어. 엄마가 내 학교생활까지 간섭하고 있어서 매번 싸워. 아내가 내가 그린 그림을 보고 칭찬했는데 나는 네가 뭘 아냐며 화를 내버렸어. 남편의 사업이 망했어. 남은 자금도 없어서 생계에 문제가 생길까 봐 두려워. 부모님이 내가 밖에 나가려고만 하면 간섭을 하셔. 속상해. 결혼 후 독립에 대한 양가 부모님의 생각이 달라. 어떻게 하면 좋을지 모르겠어. 내가 아내한테 정말 잘해주고 있는 게 맞는지 의문이 들어. 속상해. 내가 다리를 다쳤는데 친구들이 날 그냥 두고 운동장으로 가서 외로웠어. 친구한테 말을 걸었는데 대꾸도 안 하고 다른 친구들이랑 나가더라. 친구들이 요즘 나를 따돌려. 내가 혼자라는 게 너무 슬퍼. 반 친구에게 좋아한다고 고백했는데 그 후로 다들 나를 이상한 애 취급해서 너무 당황스러워. 학교에서 따돌림 당하는데 엄마 아빠가 너무 신경을 안 써 주니까 너무 당황스럽다. 거짓말 한 친구가 내가 그랬다고 헛소문을 내고 다녀서 너무 당황스러워. 내가 솔직하게 말하면 이해할 줄 알았는데 친구들이 나를 따돌려서 외로워. 믿었던 친구에게 솔직한 내 생각을 전부 얘기했는데 그 친구도 날 떠나버렸어. 외로워. 친구들이랑 있을 때 한마디 했는데 다들 나를 이상한 사람 취급하면서 가 버렸어. 내가 제일 믿는 친구에게 비밀을 말했는데 학교 애들이 비밀에 대해서 다 알고 있어서 당황했어. 친구들에게 큰맘 먹고 속마음을 고백했는데 갑자기 그 이후로 친구들이 나를 따돌렸어. 선생님은 그래도 나를 이해해주실 줄 알았는데 정말 실망했어. 직장에서 실수를 했는데 팀원들이 이거 가지고 욕할 것 같아. 친구들이 나 빼고 다 취업을 해서 애들 만나는 게 좀 부끄럽다. 내가 직장에서 업무 실수를 했는데 그걸로 직원들이 나를 비웃을 것 같아. 문서 하나 제대로 못 쓰는 날 팀장님이 어떻게 생각하실까 걱정이야. 프로젝트가 무산돼서 팀원들이 너무 속상해할 것 같아. 내가 자료를 잘못 보내서 대표님이 많이 화내실 것 같아. 다들 승진했는데 나만 못 해서 가족들에게 참 미안해. 나만 무시하는데 난 내가 뭘 잘못했는지 모르겠어. 이번에도 취업에 실패했는데 가족들이 나를 어떻게 생각할지 걱정이 된다. 내가 해고를 당했는데 남은 다른 직원들이 나를 어떻게 생각할까? 면접에서 떨어졌는데 면접관이 나를 어떻게 봤을지 너무 궁금해. 직장에서 따돌림을 당하고 있는데 대체 직원들이 나를 어떻게 보고 있길래 그러는 걸까? 대표님께서 내일부터 당장 회사에 나오지 말라고 하셨어. 출근했는데 분위기가 너무 이상해서 당황스러웠어. 팀장님께서 갑자기 따로 부르셨는데 무슨 일인지 감이 안 잡혀서 좀 당황스러워. 그가 조금 전까지 내게 욕을 하다가 팀장님 오니까 아무렇지 않은 척해서 당황스러워. 면접 합격 문자가 시스템 오류로 잘못 온 거였어. 너무 당황스러워. 사무실에 있던 공동 경비가 없어졌는데 직장 동료들이 나를 범인으로 의심하고 있어 어이없게. 나 정말 열심히 면접 봐서 합격할 줄 알았는데 이 회사에서 떨어져서 너무 당황스러워. 친구가 내 진로에 대해 비하하다니 너무 당황스럽다. 프로젝트 진짜 정말 열심히 준비했는데 무산돼서 너무 당황스러워. 오늘 처음 출근한 사람한테 어떻게 이렇게 많은 업무를 줄 수 있지? 당황스러워. 발표 준비 때문에 모였는데 내가 자료를 잘못 가져와서 우리 팀이 모두 고생했어. 나도 너무 당황스러웠어. 오늘 나 때문에 팀발표를 망쳤어. 너무 당황스러워. 팀장님이 간단한 조사 업무를 부탁하셨는데 내가 잘못 처리했어. 절망적이야. 중요한 보고서 제출일이 오늘까지였는데 이제 알게 됐어. 너무 당황스러워. 오늘 제출해야 하는 자료를 집에 두고 왔어. 나 스스로가 너무 한심하고 어떻게 해야 할지 모르겠고 너무 당황스러워. 내가 먼저 취업을 해서 친구가 나를 많이 도와줬는데 이번에도 취직이 되지 않았어. 너무 죄책감이 들어. 부장님께서 일주일 전에 부탁하신 일이 있었는데 까먹고 있다가 이제야 생각이 나서 너무 당혹스러워. 이번에 인턴으로 들어가 있던 회사에서 정규직 전환과 관련되어 있는 업무가 있었는데 실수를 해버렸어. 너무 자괴감이 든다. 쉽게 처리할 수 있는 일이 있었는데 내가 실수로 일이 더 복잡해져 버렸어. 팀장님께 혼났는데 너무 당황스러웠어. 내가 어제 처리한 업무가 잘못 되었다는 이야기를 동료에게 전해 들었어. 너무 괴로워. 내가 지각하는 바람에 같이 외근 나가야하는 팀원들이 대기했어. 너무 당황스러웠어. 팀장님이 나한테 부탁하신 서류를 잃어버렸어. 오늘 회의 자료라고 하셨는데 진짜 너무 당황스럽다. 친구들이 내가 본인들보다 공부를 못한다는 이유로 따돌리고 있었어. 진짜 충격이야. 친구들이랑 다른 지향점을 가진 걸 알게 됐는데 나보고 이상하고 잘못된 거라 그래서 속상해. 저 친구보다 친화력이 부족하다고 생각하고 있었는데 알고 보니 친구들이 나를 피했던 거라 속상해. 내가 친구들이랑 다르다는 생각에 자신감이 떨어져서 친구들에게 다가가지 못하고 있어. 친구들이 날 이상한 사람으로 보는 것 같은데 기분이 아주 구려. 내가 좋아하는 사람이 있는데 그 사람을 좋아하는 내가 잘못된 거라고 그래서 속상해. 친구들과 잘 지내고 싶어서 솔직하게 얘기한 건데 다들 나보고 이상하다고 해서 속상해. 오늘 친구가 날 때려서 많이 놀랐어. 근데 나는 그 친구 비해 너무 부족한 것 같아. 나는 다른 친구들과 다른 것뿐인데 나랑 제일 친한 친구마저 날 이상하다고 표현해서 속상해. 친한 친구가 내가 소심한 것 때문에 따돌린 것 같아서 너무 속상하다. 내 성격이 이상하다고 옆 반 애가 아무 이유 없이 갑자기 나를 치고 간 거 같아 속상해. 내 실수 때문에 친구가 나한테 화가 많이 나서 날 때리기까지 했어. 속상하고 무서워. 점심 시간때마다 외로움을 느끼고 있어. 늦잠을 자는 바람에 중요한 자료를 깜빡하고 집에 놓고 왔어. 당황스러워. 중요한 프레젠테이션인데 준비를 하나도 안한 나 자신에게 화가 나네. 지금까지 정석이 아니라 잘못된 방향으로 취업 준비를 해온 내가 한심해. 친구가 중요한 날에 지각을 했는데 내 친구지만 너무 실망했어. 내가 직장 동료를 너무 안일하게 대했던 거 같아. 마음이 안 좋다. 프로젝트 망칠 때까지 아무것도 하지 않은 내가 너무 한심하게 느껴져. 취업 일정을 잘못 알아서 제출일을 못 맞췄어. 이런 내가 너무 한심해 취업 준비만 벌써 삼 년째야. 너무 힘들어. 팀원들이 퇴사했는데 그동안 잘 챙겨주지 못한 것 같아 괜히 마음이 불편하네. 발표 자료 준비가 끝이 안 보여. 내가 너무 한심해. 교수님께서 과제로 내주신 에세이에 엄청 애쓴 내가 너무 한심해. 오랜만에 친구들을 만났는데 계속해서 대화를 이어 나가기가 너무 힘들었어. 친구가 내 카톡 메신저를 보지도 않고 답도 안 해. 그럴 애가 아닌데 그러니까 좀 당황스러워. 나 오늘 회사에서 회의하다가 실수로 볼펜을 떨어트렸는데 다 나만 쳐다보고 있었을까 봐 너무 부끄러웠어. 오늘 사람 많은 카페에 갔었는데 다 나만 쳐다보는 것 같았어. 내가 너무 소심해서 말을 잘 못 하니까 모두 나한테 불친절하게 대할 것 같아. 궁금한 걸 질문하고 싶은데 이것도 모른다고 무시당할까 봐 못 물어보겠어. 불친절한 사람을 만났는데 이런 사람을 어떻게 대해야 할지 모르겠어서 너무 힘들었어. 오늘 친구한테 화나는 일이 있었거든? 근데 내가 화내면 나를 이상하게 볼까 봐 얘기를 못 하겠어. 친구들에게 말하고 싶은 게 있었는데 혹여나 아무도 공감해 주지 않을까 봐 말을 못 했어. 사람들이 내가 말하는 거에 반응이 없으면 너무 뻘쭘해. 오늘 발표에서 긴장을 했는데 이 모습이 누군가에게 들켰을까 봐 겁나. 내가 말을 하고 있을 때 사람들이 나를 주목하는 게 두려워. 버스에서 하차 버튼을 잘못 눌러서 한 정거장 앞이었지만 그냥 내렸어. 누가 이상하게 생각할까 봐. 일하는데 휴대폰이 울려서 너무 창피하네. 나는 아직 직장을 못 구했는데 친구들이 내 직장이 어디인지 물어봐서 조금 부끄러웠어. 미치겠네. 팀장님이 보고서를 달라고 하는데 하나도 못 했어. 회의 시간에 내가 말실수를 했는데 분위기가 싸해져서 민망했어. 요즘 어린 친구들이 나보다 성과를 잘 내는 것 같아서 좀 부끄러워. 막내 직원이 나보다 더 좋은 아이디어를 제안해서 내가 조금은 부끄러워졌어. 옆에 직원들도 있는데 팀장님이 창피하게 계속 나한테 뭐라고 그러네. 나보다 별로라고 생각한 동기가 부장님한테 칭찬을 받았어! 사내 연애 중인 걸 부장님께 들켜버렸어. 내가 화장실에서 상사 뒷담화를 신나게 했는데 그걸 상사가 다 들었다네. 진짜 창피하다. 친구한테 나도 모르게 좋아한다고 해버렸어. 친구들이 놀릴 거 같아. 친구들이 놀리니까 부끄러워서 얼굴이 빨개졌어. 친구가 내 비밀을 말해버리는 바람에 순간 그 자리를 도망쳤어. 그 친구를 좋아한다고 놀려 대는 바람에 얼굴을 못 들고 다니겠어. 너무 부끄러워. 내 비밀이 알려졌어. 친구들이 나를 어떻게 생각할지 무서워. 부모님이 내가 따돌림당한다는 사실을 알게 되셨어. 너무 민망해. 내가 좋아하는 얘가 내 부끄러운 모습을 보고 말았어. 애들이 놀려서 얼굴이 빨개졌는데 너무 부끄러워. 내가 걔를 좋아한다는 사실 때문에 강의실이 시끄러울 지경이야. 벗어나고 싶어. 내가 그 애를 좋아한다고 하니까 옆 반 애가 날 비웃고 때렸어. 그 애의 반응이 너무 당황스럽고 부끄러워. 나는 밤을 새워가며 공부했는데 나와 성적이 비슷한 친구는 세 시간만 공부했다고 해. 가끔 회사에서 내가 존재감이 없는 것만 같아 외로웠어. 직원들이 자기 소유물이라도 되는 것처럼 생각하는 상사의 행동이 너무 당황스러워. 프로젝트 진행하는데 생각보다 문제가 너무 많아서 당황스러워. 남자 친구가 카톡으로 갑자기 그만 헤어지쟤. 너무 슬퍼. 종종 가족들과 함께 있는데도 나 혼자인 거 같아. 정말 너무 외로워. 학년 올라가면서 반이 바뀌니까 친한 친구들과 관계가 서먹해져서 너무 외로워. 새로운 반에 적응을 잘 못 하겠어. 나만 혼자가 된 거 같아 외롭네. 반에서 친구들이 나한테 아무도 말을 안 걸어줘서 너무 외로워. 나의 고민을 털어놓을 친구가 없어서 너무 외로워. 날 응원해 줄 수 있는 가족이 없어서 외롭다. 새로운 학교에 전학을 오니 전 학교에서 친했던 친구들이 너무 보고 싶어. 나 혼자 집에 있는 시간이 많다 보니 외로움을 많이 느끼는 것 같아. 축제 무대에 오르니까 너무 긴장됐어. 진짜 당황스러웠어. 늦잠으로 학교에 급히 오느라 신발을 짝짝이로 신었는데 사람들의 시선이 신경 쓰였어. 넥타이가 엄마가 사준 것뿐인데 면접 때마다 하고 있으면 시선이 신경 쓰여. 친구들이랑 노래방에 갔는데 내 차례만 되면 옆방이 너무 조용해서 긴장되더라고. 친구들보다 앞에서 걸으면 내 뒷모습이 신경이 쓰여. 친구들이랑 목욕탕에 갔는데 눈이 마주칠 때마다 수건으로 몸을 가리게 되더라. 식사하고 있는데 맞은 편에 있는 사람이 자꾸 나를 쳐다보는 것 같아서 신경 쓰였어. 카페에서 노트북으로 작업하는데 혹시 다른 사람을 방해하는 건 아닌지 의식하게 되더라고. 회사에서 발표하는데 모두 나만 보는 것이 부끄러워서 말이 잘 안 나왔어. 공부가 꼭 성공의 유일한 지름길인지 모르겠어. 마음이 혼란스러워. 공부가 내 적성에 딱인 줄 알았는데 하고 싶은 다른 일이 생겨서 혼란스러워. 요즘 이유도 없이 우울하고 감정 기복이 심해져서 좀 혼란스러워. 내가 좋아하는 일을 해야 할지 부모님이 원하는 일을 해야 할지 정할 수 없어서 혼란스러워. 열심히했다고 생각했는데 생각만큼 성적이 안 오르니까 혼란스러워. 문과와 이과 중에서 내 적성에 맞는 게 무엇인지 모르겠고 혼란스러워. 수시랑 정시 중 어떤 걸 준비해야 할지 잘 모르겠어서 너무 혼란스러워. 내가 바른 방향으로 공부하고 있는 건지 모르겠어서 혼란스러워. 대학을 갈지 공무원 준비를 할지 잘 모르겠어. 너무 혼란스러워서 고민이야. 학교가 적성에 안 맞는데 진지하게 자퇴를 해야 할지 그냥 다녀야 할지 혼란스러워. 결혼식 당일에 축가를 불러주기로 한 친구가 연락도 없이 오지 않아서 너무 당황스러웠어. 사귄 지 한 달 만에 남자친구가 결혼을 이야기하니까 당황스러워. 남자친구 집에서 데이트하는데 어머님이 갑작스럽게 방문하셔서 당황스러워. 결혼식 일주일 전에 식장 예약이 갑자기 취소돼서 매우 당황스러워. 친구로만 생각했던 사람이 고백을 하니까 굉장히 당황스러워. 남자친구가 갑자기 연락을 끊고 잠적을 해 버려서 너무 당황스러워. 남자친구의 어머니가 날 찾아오셔서 자기 아들이랑 헤어져달라고 부탁하셨어. 이런 일 처음이라 당황스러워. 출산 후 탈모가 시작됐는데 너무 당황스러워. 아기가 예정된 날보다 빨리 나올 것 같다는 이야기를 들어서 당황스러워. 시험을 봤는데 우리 반 꼴등을 하게 됐어 내가. 너무 속상해. 시험을 쳤는데 성적이 잘 안 나와서 부모님께 성적표를 보여드리기 부끄러워. 반에서 나 혼자만 수학 오 등급이야. 너무 부끄럽고 속상해. 부모님이 자꾸 주변 사람들에게 나를 자랑하시는데 나는 그게 너무 부끄러워. 음악 시간에 친구들 앞에서 노래를 부르는데 진짜 너무 민망해. 새로운 반에서 친구들이 말을 걸어오면 나도 모르게 낯을 가리게 돼. 부모님께 감사하고 죄송한 일이 많은데 이런 걸 표현하는 게 너무 부끄러워. 시험 끝나고 친구들과 답을 맞혀보는 게 너무 창피해. 혹시라도 내 점수가 안 좋게 나왔으면 어쩌지? 선생님께서 부르셔서 교무실에 들어가야 하는데 너무 쑥스러워. 나를 좋아한다고 했던 사람이 갑자기 나에게 쌀쌀맞게 굴어. 난 지금의 여자 친구를 좋아하지 않아. 헤어지자고 해야 하는데 말할 용기가 나지 않아. 아내는 출산을 원하지 않아. 그래서 임신을 하고 울었어. 나는 원래 좋아하던 아이가 있는데 다른 아이를 보고 설레는 감정을 느꼈어. 여자 친구가 제대로 된 청혼을 기다리겠다는데 뭘 어떻게 해야 할지 하나도 모르겠어. 새 여자 친구가 있는데 전 여자 친구에게 연락이 오니까 신경 쓰여. 아내가 낳은 아이와 내 유전자 검사 결과가 일치하지 않대. 어떻게 된 일인지 당황스러워. 상사에게 혼이 났는데 싫어하는 동기가 와서 시선을 돌렸어. 저녁때 가족들이 모여서 식사하는데 엄마가 옷에 밥풀 묻었다고 해서 좀 부끄러웠어. 형은 옷을 왜 그렇게 입고 다니는지 몰라. 학교에서 나한테 아무도 말을 걸어주지 않아. 모두 나에게 등 돌린 거 같아. 체육 시간에 나 혼자만 짝을 못 구했어. 나 때문에 내 짝이 울었어. 친구들이 나만 빼고 자기들끼리 놀러 다녀서 너무 슬퍼. 애들은 내가 싫어진 걸까? 내 친구가 내 말을 거의 무시해. 나한테 화가 난 거 같아. 친구들이 자기들끼리 내 이야기를 하는 거 같아. 애들이 내 험담을 했다는 걸 알게 되었어. 친구들이 날 불편해하는 거 같이 느껴져. 친구들 사이에서 따돌림 당하고 있는데 그래서 요즘 친구들 눈치를 엄청 보게 돼. 친구들이 나를 따돌림 시키려나봐. 너무 무서워. 따돌림당하는 친구를 도와주지 않고 멀리한 것이 후회가 돼. 친구가 폭행을 당했는데 신고를 하지 않았어. 마음에 걸려. 친구를 따돌린 것이 죄책감이 들어. 사과하고 싶어. 학교폭력 가해자로 낙인찍혀서 우리 부모님까지 손가락질을 당했어. 내가 친구를 괴롭혔더니 친구가 자살을 했어. 선생님께 말씀드리면 보복할 걸 알아서 얘기 못 한 친구에게 미안한 느낌이 들어. 친구가 나한테 도망치다가 사고를 당해서 크게 다쳤어. 너무 미안하고 죄책감이 들어. 친구에게 괴롭힌 것을 사과하니 친구가 웃으며 사과를 받아줬어. 미안하면서 고맙더라. 내 동생이 왕따를 당하고 있었어. 나는 내 친구를 왕따시키는데 내 친구에게 미안한 감정이 들더라. 우리 부모님이 피해자 부모님께 용서를 구하면서 잘못했다고 할 때 내 잘못을 알았어. 내가 괴롭히던 친구가 자퇴를 한다고 해서 너무 미안해. 내가 친구를 괴롭혀서 우시는 부모님을 보고 친구에게 사과했어. 마음이 아프고 괴로워. 형이 둥지에 있던 참새를 잔인하게 죽이는 걸 봐서 너무 당황스럽고 놀랬어. 아빠랑 길을 가다가 차에 치인 고양이 사체를 봤는데 너무 당황스럽고 놀랬어. 엄마가 신문을 보시다가 성 소수자를 차별하는 발언을 했는데 그 모습이 너무 혐오스러웠어. 동생이 길을 가다가 들고 있던 쓰레기를 아무 데나 버리는 걸 보고 너무 당황스럽고 놀랬어. 아빠가 아이가 있는데도 담배를 피우고 그 손으로 아이를 만지는 걸 보니 너무 당황스러워. 형은 틈만 나면 자기가 만났던 여자들을 평가하곤 하는데 그런 이야기 들을 때마다 너무 싫어. 여러 여자를 동시에 사귀면서 마치 자랑스럽게 말하는 형이 너무 싫어. 남동생이 학교에서 친구들에게 돈을 빼앗았다는 얘기를 들으니 너무 당황스러워. 아빠는 운전하면서 창문으로 담배를 버리는데 그걸 보면 너무 싫고 당황스러워. 친구가 물건을 훔치는 걸 봤는데 어찌해야 할지 고민이야. 친구가 추천해준 일자리가 나와 안 맞는데 그만둘지 혼란스러워. 사장님이 나를 불러서는 내가 이 회사가 적성에 안 맞는 것 같다고 하셔서 혼란하네. 아버지와 삼촌이 같이 동업하던 회사가 부도를 맞아서 너무 혼란스러워. 여자 친구와 과자를 먹는데 여자친구의 교정기가 갑자기 빠져서 당황스러웠어. 밥을 먹고 나서 친구가 내 카드를 뺏더니 마음대로 계산을 해서 당황스러웠어. 안면도 없는 것 같은 이 대리가 나에게 고백을 했는데 어찌해야 할지 혼란스럽네. 회식 도중에 후배가 나에게 반말을 했는데 술에 취해서 한 거라 넘어가야 하나 혼란하네. 사장님이 내가 담당하던 업무로 큰 손해를 입었다면서 화를 내는데 당황스럽네. 이 주임이 아이 돌볼 사람이 없다고 데려왔는데 아이가 마구 돌아다녀서 혼란스럽네. 하루 만에 부서 동료가 모두 다른 사람으로 바뀌어서 당황스러웠어. 처음 출근한 회사에 나의 상사로 군대 후임을 만났는데 혼란스럽네. 내가 수업 내용을 필기해 놓은 공책을 잃어버렸어. 너무 당황스러워. 친구에게 빌린 교과서에 물을 쏟아버렸는데 친구가 크게 화낼 것 같아. 반에서 내가 관심 없던 남자애가 나한테 고백을 했어. 너무 당황스러워. 친하게 지내던 친구들과 사이가 멀어졌는데 갑자기 이런 일이 일어나서 너무 당황스러워. 달리기를 잘한다고 체육대회 때 계주 선수로 뽑혔어. 하지만 나는 주목받기 싫어. 반에서 수학여행 때 장기자랑을 할 팀을 뽑았는데 내가 뽑혔어. 너무 당황스러워. 시험을 보고 있는데 갑자기 배가 아파서 큰일이야. 저번 수업 시간에 졸다가 쪽지 시험이 있는 걸 몰랐어. 학교에서 모르는 후배가 나한테 인사를 했는데 처음 보는 애라 너무 당황스러웠어. 내가 학교에서 가장 좋아하는 선생님이 다른 학교로 가신대. 나는 남자애들이랑 안 친한데 자꾸 말을 걸어서 당황스러워. 고등학교에 오니까 중학교 때보다 수업이 갑자기 어려워서 이해하기 힘들어. 당황스러워. 형이 아빠 지갑을 훔치고는 나한테 뒤집어 씌웠어. 내가 한 게 아닌데. 여자 친구가 먼저 키스를 했어. 당황했어. 두 달 동안 준비해서 프러포즈를 했는데 거절당했어. 그래서 부끄러워. 여자 친구가 공개적으로 프러포즈를 했어. 예상하지 못한 일이라 당황했어. 그 아이와 사귀냐고 주변에서 놀려댔는데 그 소리에 볼이 빨개져서 부끄러웠어. 동네에서 아내 생리대를 하나 사는데 시선을 어디다 둘지 모르겠더라고. 그때 부끄러웠어. 여친 생일 선물로 속옷을 사려는데 뭔가 부끄러워. 내가 우물쭈물 거리는데 여자 친구가 먼저 사귀자고 고백했어. 내가 먼저 말 못해서 부끄러웠어. 신혼 첫날 밤에 그녀와 나는 평소와 달리 어색했어. 그래서 당황했어. 바람피우고 있는 현장을 아이에게 들켰어. 그래서 당황했어. 대뜸 사람들 앞에서 사랑한다고 얘기하는 여자 친구 때문에 당황했어. 젊었을 적에 아내에게 썼던 연애 편지를 발견했는데 너무 당황했어. 내가 너무 귀엽다고 얘기하는 여자 친구 말에 귀가 빨개졌어. 부끄러웠어. 부모님이 시험을 위해 열심히 지원해주셨는데 성적이 기대에 못 미쳐서 죄송스러워. 이번에 공부를 열심히 하려고 학원에 과외까지 다녔는데 성적이 떨어졌어. 너무 당황스럽다. 공부에 집중이 안 되고 자꾸 핸드폰만 보게 돼. 기분이 안 좋아서 친구에게 쌀쌀맞게 대했어. 지금 생각해보니까 정말 미안하네. 친구와 싸우다가 친구에게 심한 말을 했어. 근데 지금 생각해보니 너무 미안해. 학교에서 시험 보면서 커닝을 했어. 지금 생각해보니 너무 죄스러워. 친구의 콤플렉스를 가지고 놀려서 친구가 상처받았어. 친구에게 미안하네. 친한 친구의 비밀을 다른 친구에게 말해버렸어. 미안해서 어떻게 하지? 친구들과 자리에 없는 다른 친구의 험담을 했어. 너무 미안해져. 같은 반 친구들에게 따돌림을 당하고 있는데 선생님께 말씀을 못 드리겠어. 학교 폭력 가해자는 피해자에게 사과하지 않는 이유는 뭘까? 가해자 태도가 너무 한심해. 애들이 날 따돌려. 내가 학교 폭력 피해자라는 게 정말 한심해. 회식 자리가 불편해서 회식을 할 때마다 나는 혼자 겉돌아. 물놀이를 좋아하지 않아 가족들과 어울리지 않고 숙소에 혼자 있었더니 고립된 기분이야. 다른 직원들 퇴근한 뒤 밀린 업무 하느라 상사와 단둘이 야근하게 되어 당황스러워. 같이 조별 과제하기로 약속한 사람들이 도착하지 않아 당황스러워. 친구가 약속 장소를 잘못 알려줘서 이상한 곳에서 혼자 있어. 되게 고립된 기분이야. 나랑 성격이 비슷하고 잘 맞았던 친구가 혼자 살 집을 얻어서 나갔어. 친구를 초대해 술을 먹고 있는데 친구가 여자친구를 보러 가야 한다며 불쑥 가버렸어. 군대 전역 후 학교에 복학했는데 동기들이 모두 졸업을 해서 아는 사람이 없어. 유일한 가족인 아버지마저 세상을 등진 후 나에겐 아무도 남아있지 않아. 우울한 날에 따로 불러내서 나를 위로해달라고 말할 사람이 없어. 여자친구가 훈련소에 입대한 지 일주일 만에 편지로 헤어지자고 말했어. 남자친구 몰래 클럽에 간 적 있는데 남자친구한테는 간 적 없다고 거짓말했어. 중학교 동창들과 갔던 여행을 남자친구에게는 회사 출장이라고 거짓말을 했어. 친구와의 약속을 까먹어서 친구가 엄청 기다려서 미안해. 나는 가족이랑 같이 살고 있는데도 가끔 외로운 기분이 들어. 나는 시험을 망쳤는데 동생은 시험을 잘 봐서 부모님의 사랑을 독차지하는 중이야. 너무 외로워. 나는 치킨이 먹고 싶었는데 동생 말만 듣고 엄마가 피자를 사왔어. 맨날 내 말은 안 들어줘. 왜 학교 폭력 가해자가 피해자에게 사과하지 않는 걸까? 그런 걸 보면 가해자의 태도가 너무 한심해. 애들이 나를 따돌리고 있어. 내가 학교 폭력 피해자라는 게 한심하게 느껴져. 친구들을 만났는데 자신들 연애 얘기만 해서 재미가 없고 외로웠어. 회식 자리가 난 너무 불편한데 나 혼자 그런지 회식 할 때마다 혼자 겉도는 거 같아. 친구들이 나를 빼고 다 함께 술을 마시러 가서 고립된 기분이 들었어. 다른 직원들은 다 퇴근하고 상사와 단 둘이 야근하게 되었는데 당황스러워. 친구가 약속 장소를 잘못 알려주는 바람에 엉뚱한 곳에 혼자 있어서 고립된 기분이야. 친한 친구들이 갑자기 나를 따돌려서 아주 당황스러워. 학교에서 따돌림당해서 괴로웠어. 학교에서 나를 괴롭히던 친구가 오늘은 갑자기 사과하더라고. 어떤 친구를 내가 많이 괴롭혔는데 나를 경찰에 신고하겠다고 해서 당황했어. 오늘 친구와 말싸움 하다가 그만 친구를 때렸어. 내가 왜 그랬는지 당황스러워. 치매에 걸린 할머니가 나를 보더니 아빠라고 불러. 당황스러워. 아빠가 내게 주신 용돈을 다시 가져가셨는데 안 돌려 주시니 황당해. 저금통에 있는 돈을 꺼내서 몰래 나가는데 엄마가 나를 부르셨어. 들킨 건가? 내가 분명 가정 방문하는 날이라고 말했는데 엄마는 왜 얘기 안 했냐면서 나한테 화를 내. 억울해. 형이 휴대폰으로 소액결제를 했는데 엄마가 요금이 왜 이렇게 많이 나왔냐고 나한테 따졌어. 곤란하네. 가족끼리 외식을 하는데 아빠가 지갑을 두고 와버렸어. 계산할 사람이 없어서 당황스러워. 난 지금 남자친구가 너무 좋아. 그런데 나만 그 사람을 좋아하는 것 같아 당황스러울 때가 있어. 내가 어릴 때 아빠가 돌아가셔서 엄마가 생활전선에 뛰어드셨어. 그런데 요즘 엄마의 뒷모습이 외로워 보여. 남자친구와 헤어진 지 꽤 오래되었는데 요즘 들어 종종 전 남자 친구가 그리워. 부모님과 떨어져 직장생활을 하고 있는데 퇴근 후 집에 오면 너무 쓸쓸해서 들어가기 싫어져. 오늘이 내 생일인데 아무도 오늘이 내 생일이라는 것을 모르나 봐. 그래서 너무 외롭고 쓸쓸해. 지갑이 땅에 떨어져 있길래 주웠는데 주변에 사람이 많아서 내 지갑인 척했어. 분명 잘 지내던 동료들인데 하루아침에 쌀쌀맞게 바뀐 동료들의 태도가 당황스러워. 거래처 직원에게 실수로 친구에게 보낼 메시지를 보내서 당황했어. 최근에 다른 회사에서 나에게 스카우트 제의를 했는데 당황스러웠어. 체육 시간 끝나고 쉬는 시간에 남자애들이 반에서 옷을 갈아입어서 황당했어. 학교 화장실에 갔는데 애들이 담배를 피우고 있어서 너무 당황스러웠어. 수업 시간에 선생님께서 학생들을 차별하시는 게 너무 역겨워. 나는 뭐든지 열심히 하지 않아. 그런 내가 너무 싫어. 오늘 반에서 남자애들이 여자애들에 대한 이상한 얘기를 하는 걸 들었는데 너무 역겨웠어. 융통성이 없는 선생님들 수업을 계속 들어야 하는 것은 너무 혐오스러워. 내가 혼자 있으면 날 보고 수군거리는 친구들의 시선이 너무 싫어. 방학 동안에 실컷 놀아놓고 내 숙제를 보여 달라는 애들이 미워. 학교에서 무리 지어 다니면서 친구 한 명을 따돌리는 애들을 보고 너무 혐오스럽다고 느꼈어. 오늘 등교하다가 친구들 앞에서 크게 넘어졌어. 점심시간에 동료직원과 밥을 먹는데 나도 모르게 트림이 나와서 웃음바다가 되어버렸어. 오늘 알바 중에 손님에게 안내멘트를 실수해버렸어. 부장님에게 이번 프로젝트 잘 할 수 있다고 자신 있게 말했는데 실적이 엉망이야. 김 대리가 어제 회식에서 술을 너무 마셔서 실수를 저질렀는데 참 한심해 보였어. 요즘 취업이 안 돼서 며칠 집에서 뒹굴 거렸더니 부모님이 한심하게 보시는 것 같아. 친구가 나보다 먼저 취업을 해서 괜히 부러운 마음에 질투를 했는데 미안하네. 큰 실수도 아닌데 내가 기분이 안 좋아서 직원을 심하게 혼을 낸 게 미안해지네. 친구가 돈을 빌려달라고 했는데 거절할 수밖에 없어서 마음에 걸리네. 남자친구랑 헤어진 친구에게 위로는커녕 모진 말만 한 것 같아 죄책감이 들어. 항상 나를 믿어 주셨던 상사 분이 중요한 프로젝트에서 실수를 해서 죄책감이 들었어. 해외 유학 중이라 아빠의 임종에 맞춰 제대로 가지 못해서 죄책감이 너무 들었어. 친구의 남자친구를 좋아해서 결국 뺏어 버렸어. 자꾸 나를 언니랑 비교해서 죄 없는 언니에게 화풀이를 해 버렸어. 남자친구에게 마음에도 없는 말을 하면서 헤어지자고 했는데 죄책감이 들어. 내가 버튼을 눌렀는데 갑자기 복사기가 고장나 버렸어. 너무 당황스럽다. 일을 하고 있는데 갑자기 내 등 뒤로 과장님이 다가와서 당황했어. 왜 일을 이런 식으로 했냐는 상사의 말에 당황했어. 오늘은 갑자기 우리 회사 상사가 나한테 칭찬을 해서 당황했어. 면접을 망쳐서 떨어질 줄로만 알았던 회사에서 연락이 와서 당황했어. 졸업 후 가장 가고 싶었던 회사에서 스카우트 제의가 들어와 당황스럽네. 항상 친절했던 사수가 나한테 화를 내면서 한마디 했는데 깜짝 놀랐어. 새로운 회사에서 한 사람이 따돌림당하고 있는 현장을 발견해서 당황스러워. 회사 내 같은 부서 선배가 내게 관심을 표해 오는 것이 당황스러워. 회의 중 부서 사람들 간 다툼으로 분위기가 싸늘해졌는데 당황스럽네. 아르바이트하는 곳에서 사장 물건을 훔친 도둑으로 오해를 받았어. 팀장이 사무용품을 주문하라고 시켰는데 실수로 우리 집으로 보냈어. 퇴근 후 늦게 잠이 들었는데 일어나 보니 회사 점심시간이었어. 나를 괴롭히던 친구가 며칠 전부터 안 괴롭히네. 나에게 관심 없는 친구들이 말을 걸어주니 조금 부담스러워. 친구들이 나를 빼고 쉬는 시간에 나가버렸어. 학교폭력 가해자들이 갑자기 나에게 미안하다고 사과를 해서 혼란스러워. 친구가 나를 학교폭력으로 신고하겠다고 해. 가해자 부모님이 미안하다며 용서를 비셨어. 친구가 폭행을 당했는데 제보하려니 무서운 마음이 들어. 친구가 나 대신 괴롭힘을 당하고 있어. 가해자들이 나에 대한 괴롭힘을 멈춰주겠다며 다른 친구를 따돌리라고 해. 나에게 괴롭힘을 당하던 친구가 자살 시도를 해서 너무 미안해. 오랜만에 친구들을 만났는데 결혼은 언제 할 거냐는 친구 말에 맥주만 마셨어. 그 소리 들으니까 당황스럽더라고. 곧 마흔인데 주변 친구들은 다 결혼하고 애도 있고 나만 독신인 것 같아서 그럴 때마다 외로워져. 여자 친구와 결혼에 대해 얘기를 했는데 여자 친구가 비혼주의자라는 사실을 알게 되었고 그래서 헤어졌어. 속상하고 외롭다. 친구가 결혼한다고 청첩장을 돌렸는데 부럽기도 하고 외롭기도 하더라고. 괜찮을 줄 알았는데 아이를 볼 때마다 죽은 아내가 생각나서 속상하고 힘들어. 아내가 일이 바빠서 함께 할 시간이 별로 없는데 며칠 뒤에 다시 장기 출장을 간다고 하네. 혼자 집에서 자유롭게 간섭 없이 게임도 하고 술도 마시지만 마음 한구석이 너무 허전해. 이혼한 아내를 만나서 오랜만에 재미있었고 좋았는데 갑자기 눈물이 흘렀어. 얼마 전에 친구들을 만났는데 이혼한 아내가 친구들한테 청첩장을 보냈더라고 그걸 보고 얼마나 당황했는지. 얼마 전에 아내 휴대폰에서 다른 남자가 생겼다는 걸 알아버렸어 아내한테 너무 화가 나. 다른 여자들이 고백할 때마다 부담스럽고 외롭지만 받고 싶지는 않아. 얼마 전에 친구를 만났는데 친구 아이를 보니까 너무 부럽고 속상하더라고. 사실 학기 초부터 나를 괴롭히는 애들이 있는데 반 친구들에게는 알리고 싶지 않아. 내가 괴롭히던 친구의 부모님이 알고 보니 우리 집과 연이 있는 분들이라니 어른들을 뵐 낯이 없어. 학교에서 따돌림을 당해 짜증이나 나도 모르게 가족들에게 큰소리를 치게 돼. 아주 부끄럽고 마음이 좋지 않아. 학교에서 맞아서 다친 나를 본 동생이 약을 발라주겠다고 했는데 나도 모르게 큰소리를 쳤어. 그동안 학교에서나 집에서나 내가 했던 짓들이 너무 부끄러워. 나는 그동안 가해자들이 무섭다는 이유로 괴롭힘 받는 친구의 처절한 비명을 무시했어. 오늘 선생님께서 여럿이서 한 명을 괴롭히는 게 부끄러운 일인 줄 알라고 훈계하셔서 우리 모두 숙연해졌었어. 저 친구는 공부한다면서 맨날 독서실에서 잠만 자네. 친구가 공부한다고 내 노트를 빌려 가 놓고는 한 번도 안 본다? 너무 한심해. 열심히 하면 할수록 성적이 떨어지는 걸 보니 내 자신이 한심하게 느껴져. 아무리 열심히 해도 되지 않는 걸 보니 나는 머리가 나쁜가 봐. 노력은 하는데 성적이 점점 떨어져. 부모님께 죄송스러워. 내가 친구의 성적을 듣고 웃어서 상처를 준 것 같아. 일부러 그런 게 아닌데 너무 미안해. 학교에서 받은 학습지를 다 못 풀어서 선생님께 너무 죄송하다. 친구의 노트를 빌려 가서 필기했는데 깜빡하고 가져오지 못했어. 시험 성적이 떨어졌는데도 부모님께서는 언제나 나를 믿고 응원해주셔. 시험문제가 헷갈려서 옆 친구의 답안지를 몰래 베끼다가 선생님께 들켰어. 커닝 페이퍼를 친구들에게 들켜서 놀림 받았어. 너무 부끄러워. 시험성적이 마음에 별로 들지 않았는데 친구들이 계속 물어봐서 화를 냈어. 여태껏 일등을 놓치지 않았는데 성적이 너무 떨어져서 말하기가 부끄러워. 나보다 성적 좋은 친구가 내 성적을 자꾸 물어보는데 당황스럽고 싫어. 어떡하지? 시험 답안을 밀려 쓴 거 같아. 공부하기가 너무 어려운데 도움을 청할 사람이 없어. 동생보다 공부를 못해. 우리 부모님은 내가 명문대 가기를 바라고 계셔. 오르지 명문대만 생각하는 우리 부모님이 혐오스러워. 내년이면 고등학생인데 부모님은 아직 내가 어리다고 하셔. 나도 형제가 있으면 좋겠어. 너무 외로워. 오해가 있어서 동생이랑 심하게 싸웠어. 내가 너무 몰아붙여서 동생이 울었는데 마음이 좋지 않아. 내가 커밍아웃을 했더니 가족들이 날 이상하게 쳐다봤어. 나 오늘 점심시간에 우리 반 친구가 다른 반 애들한테 맞는 걸 봤어. 너무 당황해서 그 자리를 피해버렸어. 내가 일본에서 와서인지 애들이 은근히 따돌리는 거 같아. 나를 보는 시선이 왠지 그런 거 같아. 난 다른 아이들처럼 잘하는 게 하나도 없는 거 같아. 이런 내 자신도 내가 싫은데 친구들이 어떻게 날 좋아하겠어. 너무 우울해. 괴롭힘당하는 친구가 있는데 잘못된 걸 알면서도 도와주지 못했어. 우리 반 애들은 왜 이러는 걸까? 친구가 오늘 나 때문에 울었어. 내가 자기를 따돌렸다더라. 난 그냥 장난이었는데 혼란스러워. 진로를 결정했는데 내 성적으로는 갈 수 없는 곳이야. 그래서 그동안 내가 공부를 안 해온 것에 대해 부끄러워. 나 대학 진학 문제로 너무 고민이야. 엄마가 갑자기 방문을 열고 서랍에 숨겨놓은 성적표를 가지고 갔어. 너무 당황스러워. 내가 가족을 놔두고 전학을 와서 외롭다. 내가 웃는 게 이상하다고 애들이 따돌려. 너무 황당해. 선생님께 내가 돈 뺏긴 거 말씀드릴까 생각도 해봤는데 도저히 말 못 하겠더라. 고등학교에 입학했는데 반에서 친구를 괴롭히는 애가 있어. 고등학생이나 돼서도 그러다니 이해가 안 되고 한심해. 도대체 어떻게 해야 될지 모르겠어. 학교 수업에 못 따라가서 과외까지 받은 건데 이런 불상사가 일어나다니. 매일 독서실만 가니까 혼자서 외롭게 공부하는 기분이야. 매일 옷 어떻게 입고 가야 할지 걱정이야. 반 친구들 행동이 혼란스러워. 이게 학교 폭력인가? 공부를 안 하고 놀기만 하는 친구들이 제일 한심해. 우리 엄마는 왜 그러는 걸까? 나보다 한 살 어린 동생이 한심해. 나 오늘 성적표를 받았어. 친구들이 나만 빼놓고 민지 생일파티를 해서 속상해. 구월에 본 중간고사 시험 성적이 좋지 않아서 부모님께 죄송하고 부끄러워. 친구의 보고서를 몰래 베꼈어. 기한을 맞추려면 어쩔 수 없었지만 계속 마음이 불편해. 가족이 있어도 가끔 외로울 때가 있어. 혼자 있는 건 너무 비참한 것 같다는 생각이 들어. 학교폭력 가해자 애들 보면 진짜 사람이 아닌 것 같아. 오늘도 학교 수업 내내 잤어. 난 진짜 뭐가 될 놈인지 내 스스로도 의문이다. 아주 많이 혼란스럽다. 예절교육 때문에 방학 때 성당 캠프에 와있는데 가족이 너무 그리워. 혼자 떨어져서 있으니까 외롭다. 우리 집도 행복했으면 좋겠어. 부모님이랑 크게 싸웠어. 부모님이 나를 자식으로 아끼시는지 혼란스러워. 우리 반 애들 왜 이러는 걸까? 고등학교 졸업이 얼마 안 남아서 이제는 진로를 결정해야 해. 이번에 성적이 크게 떨어졌어. 부모님께 눈치가 보여. 동생도 나랑 같이 고등학생인데 동생하고 싸워서 엄마가 많이 속상해했어. 학교 수업 못 따라가서 과외받은 건데 이런 불상사가 일어나다니. 학업 진학에 있어 남의 시선을 의식하게 되는 거 같아. 대학에 떨어지니 내가 혐오스럽게 느껴져. 고등학교 졸업이 다가오는데 진로를 정하지 못했어. 아빠 엄마가 서로 싸웠어. 우리 가족들은 왜 항상 나에게 관심이 없는 걸까? 아빠가 혐오스러워. 내가 친딸이 아니라는 걸 알았어. 여자친구가 보는 앞에서 날 때리는데 진짜 역겹다는 생각이 들었어. 엄마도 아빠도 키가 백칠십이 넘는데 나만 키가 작아. 난 입양아가 아닐까? 요즘 내 진로에 대해 고민이 많아. 뭐든 다 잘하는 오빠한테 너무 열등감이 들어. 내가 거실에 있는 도자기를 깨어 버려서 가족들에게 미안해. 내가 걔보다 못한 게 뭔데. 왜 다들 나만 싫어하지? 마음에 들지 않는 친구를 왕따시켜서 그 친구의 어두운 표정이 마음에 걸려. 매일 나만 당하는 거 같고 창피해서 학교 못 다니겠어. 친구들이 나를 따돌려. 나한테 왜 이러는지 모르겠어. 혼자 공부하는 게 너무 힘들어. 매일 바쁘게 사는데도 외로워. 요즘 진로 계획 때문에 너무 혼란스러워. 난 외동딸인데 언니나 오빠가 있는 친구들이 부러워. 혼자는 좀 외롭거든. 요즘 죄책감이 많이 들어. 오늘 당황스러운 일이 생겼어. 꿈이 없어서 앞으로 무엇을 해야 할지 모르겠어. 대학교 수시에 떨어졌어. 엄마가 많이 서운해하셔. 엄마가 알고 보니 새엄마였어. 고등학교 삼학년인데 너무 당황스럽고 충격적이라 공부에 집중이 안 돼. 우리 엄마 아빠는 옷을 너무 못 입는 것 같아. 오빠가 갑자기 나한테 잘해 줘서 혼란스러워. 어쩌지? 팀원들이 조별 과제에 참여를 안 해. 나 아무래도 친구한테 말실수를 한 것 같아 내일 학교에서 혼자 다니면 어떡하지? 요새 사람들이랑 안 만났더니 외로워. 엄마가 언니랑 너무 비교를 많이 해. 내가 자신 있게 말했던 실험이 실패했어. 나만 열심히 살고 있나 봐. 회사 다니는 게 너무 외롭고 고통스러워. 나보다 성적이 낮은 친구가 먼저 취업이 됐어. 학교생활은 내가 더 열심히 했는데. 대학교 시절 같이 취업 스터디 한 사람들을 만나고 왔는데 기분이 별로 안 좋아 오늘 프러포즈를 받았어. 가을이 되니까 쓸쓸하고 외로운 감정이 더 커지는 것 같아. 친구들과 잘 어울리지 못하는 내가 한심하게 느껴져. 자식이 하나인 줄 알았는데 둘이 됐어. 그중 장난 제일 심한 놈이 제일 나이도 많아. 직장에서 일하다 보면 나 스스로가 부족하게 느껴질 때가 많은 것 같아 남자친구가 갑자기 헤어지자고 해서 당황했어. 대학 동기가 갑자기 내 인스타그램 계정을 언팔로우했어. 무엇을 할 때마다 남의 시선 때문에 마음이 불편해 친구한테 죄책감이 생겼어. 직장 생활 하는 게 너무 힘들어. 오늘 산부인과에 왔는데 옆에 산모가 엄청 혐오스러웠어. 오랫동안 참여해 왔던 모임에서 어제 나를 제외하고 남은 사람들끼리 모임을 했던 것을 알게 됐어. 지금 굉장히 당황스러워. 나 결혼 준비해. 출산하고 이제 아이를 집으로 데려왔어. 나 혼자 돌보아야 해. 친구들과 여행을 가기로 했는데 사정이 생겨서 나만 못 갔어. 나는 잘 모르는 사람인데 갑자기 아는 척을 해서 당황스러웠어. 도저히 누군지 기억이 나지 않아. 갑자기 너무 당황스럽네. 다른 사람들과 어울리는 게 힘들어. 출산 후 회사를 그만두고 육아에만 집중하다 보니 고립된 느낌이야. 소극적인 성격 때문에 직장 동료들과 어울리지 못해서 너무 스트레스받아. 정말 부끄러워 죽을 것 같아. 오래 사귄 친구인데 어쩔 때보면 정말 한심해. 회사에서 일하다가 실수해서 창피를 당했어. 출산 후 와이프가 부쩍 나에게 화내는 일이 많아졌어. 나 고민이 생겼어. 요즘 자꾸 다른 사람을 보면 위축되는 것 같은 느낌이 들어. 나의 진로를 선택할 때 자꾸 내가 아닌 다른 사람의 시선을 의식해서 생각하게 돼. 아니 어떻게 나만 빼고 모임을 할 수가 있지? 업무시간에 딴청이나 피우고 정말 옆에 있는 사람 혐오스럽군. 부모님이 고졸인 남자친구를 무작정 싫어하셔서 힘들어. 조별 과제를 같이 하기로 했던 애가 급한 일이 생겨서 못 나온다고 했는데 알고 봤더니 놀이동산에 놀러 갔던 거더라. 다음 달에 출산 예정인 아기가 아들인 줄 알았는데 오늘에서야 딸인 줄 알았어. 남자 이름도 몇 개 골라놓고 옷 신발도 다 파란색으로 사뒀는데 너무 당황스러워. 엄마 친구의 아들은 이번에 과 수석으로 졸업해서 유명한 외국계 회사에 취업했대. 엄마가 그 아들과 날 비교하며 말하는데 정말 열등감이 느껴지더라. 결혼 허락을 받으러 여자친구 집에 인사하러 갔는데 여자친구의 오빠가 내 가장 친한 친구였어. 얼마나 당황스럽던지 삼 년을 사귀는 동안 몰랐다는 게 참 신기했어. 회사에서 실력을 인정받아 이번에 최연소 팀장으로 승진했어. 동료들이 축하해줄 줄 알았는데 오히려 날 멀리하고 피하는 거 같아서 당황스러워. 친구들이 나만 빼놓고 골프를 치러 갔어. 그동안은 나도 같이 골프를 치러 갔었는데 갑자기 날 따돌리는 것 같아서 당황스러워. 얼마 전 칠 년간 사귄 여자친구와 이별했어. 오랜 시간 함께한 사람이 없어지니 일상이 너무 공허하고 시도 때도 없이 외로움이 몰려와. 회사에서 회의 중에 동료와 의견 충돌이 있었는데 갑자기 나한테 화내면서 심한 욕설을 했어. 아무리 화가 나도 욕이라니 너무 당황해서 아무 말도 못 하고 있어. 여자친구가 임신했어. 아직 결혼에 대해 생각해본 적도 없는데 너무 갑작스럽고 당황스러워. 취업이 자꾸 안 되다 보니까 나 자신에게 죄책감이 들어. 많은 사람의 대인관계에서 적응이 어려운 성격이라 외로운 느낌이 들어. 직장에서 사내 연애를 하면서 과하게 애정 행각을 하는 것을 보면 혐오스럽게 느껴져. 대인관계를 잘 유지하지 못하고 있는 것 같아서 한심한 것 같아. 결혼하면 아이를 꼭 낳아야 할까? 아이 없어도 우리만 행복하면 되지 싶다가도 사람들이 걱정하듯 말하는 게 신경 쓰여. 결혼하고 싶은데 모은 돈이 얼마 없어서 부모님께 도움을 요청하려고 해. 자식이 부모님께 너무 짐만 되는 것 같아 죄책감이 들어. 나 요새 많이 외로워서 큰일이야. 조금 전에 황당한 일이 있었어. 취업이 안 돼서 너무 힘들어. 친한 친구도 하나 없는 내가 너무 한심해. 난 항상 다른 사람을 만날 때 또 다른 사람들의 시선을 의식하게 되는 것 같아. 취업했는데 계약직으로 들어왔어. 다들 정규직으로 취직하는데 나는 왜 부끄럽게 계약직일까? 나 오늘 회사에서 넘어져서 많이 부끄러웠어. 오늘 애들이 갑자기 나만 놔두고 밥을 먹으러 가서 당황했어. 여자친구랑 뷔페를 갔는데 좀 당황스러운 일이 있었어. 부모님이 동생만 챙기셔서 너무 힘들어. 가족과 사이가 좋지 않아서 내가 한심한 기분이 들어. 이게 갑자기 무슨 일이지? 상사한테 한 소리 들었어. 당황스러워. 성격이 내성적이라서 사람들 앞에 나서기가 부끄러워. 회사 일로 발표를 할 땐 늘 상사에게 혼나게 돼. 요새 집에만 있고 친구를 못 만나니까 외로워. 바빠지다 보니 부모님과의 관계에 소홀해진 것 같아서 죄책감이 들어. 오늘 의도치 않게 친구의 비밀을 말해버렸어. 내가 상사가 업소에 다닌다는 소문을 들었어. 코로나 시국이 되니 일부 기독교도들이 혐오스럽게 느껴져. 나랑 비슷한 시기에 결혼하는 친구는 시댁에서 집을 해줘서 너무 부러워. 우리는 대출로 시작해. 친구 한 명이 결혼해서 아이를 가졌는데 너무 행복해 보이더라. 기분이 좋지만은 않아. 남들은 결혼 전에 일억을 모았다는데 난 뭐를 한 것인지 모르겠어. 자괴감만 드네. 나보다 결혼을 먼저 한 친구가 부러워. 그 친구 남편은 직장도 내 남편보다 좋고 키와 외모도 저보다 훤칠해. 친구들 모두 결혼하고 나만 혼자 남아서 쓸쓸하네.'"
            ],
            "application/vnd.google.colaboratory.intrinsic+json": {
              "type": "string"
            }
          },
          "metadata": {},
          "execution_count": 74
        }
      ]
    },
    {
      "cell_type": "markdown",
      "source": [
        "######<strong> 데이터 정제</strong>\n",
        "- tokenizer 생성\n",
        "  - mecab을 활용하여 토큰나이저 생성\n",
        "  - 명사, 동사, 형용사만을 추출\n",
        "  - 불용어 리스트 참고하여 stopword 생성\n",
        "    - 불용어 리스트 : 태깅 한국어 코퍼스에서 고빈도어 상위 100개를 뽑은 불용어 리스트\n",
        "    https://bab2min.tistory.com/544\n",
        "\n",
        "- tfidf vectorizer 생성\n",
        "  - 벡터화 수행"
      ],
      "metadata": {
        "id": "am8tpU90QgHW"
      }
    },
    {
      "cell_type": "code",
      "source": [
        "!pip install konlpy"
      ],
      "metadata": {
        "id": "q4iIJEXFRFqx",
        "colab": {
          "base_uri": "https://localhost:8080/"
        },
        "outputId": "d45855aa-dbb5-495d-b668-3aaeecc3d50d"
      },
      "execution_count": 75,
      "outputs": [
        {
          "output_type": "stream",
          "name": "stdout",
          "text": [
            "Looking in indexes: https://pypi.org/simple, https://us-python.pkg.dev/colab-wheels/public/simple/\n",
            "Requirement already satisfied: konlpy in /usr/local/lib/python3.10/dist-packages (0.6.0)\n",
            "Requirement already satisfied: JPype1>=0.7.0 in /usr/local/lib/python3.10/dist-packages (from konlpy) (1.4.1)\n",
            "Requirement already satisfied: lxml>=4.1.0 in /usr/local/lib/python3.10/dist-packages (from konlpy) (4.9.2)\n",
            "Requirement already satisfied: numpy>=1.6 in /usr/local/lib/python3.10/dist-packages (from konlpy) (1.22.4)\n",
            "Requirement already satisfied: packaging in /usr/local/lib/python3.10/dist-packages (from JPype1>=0.7.0->konlpy) (23.1)\n"
          ]
        }
      ]
    },
    {
      "cell_type": "code",
      "source": [
        "!apt-get update\n",
        "!apt-get install g++ openjdk-8-jdk python-dev python3-dev\n",
        "!pip3 install JPype1\n",
        "!pip3 install konlpy\n",
        "!pip3 install mecab-python\n",
        "!bash <(curl -s https://raw.githubusercontent.com/konlpy/konlpy/master/scripts/mecab.sh)"
      ],
      "metadata": {
        "colab": {
          "base_uri": "https://localhost:8080/"
        },
        "id": "aknUqVlQgsDJ",
        "outputId": "c551f63e-3ca1-47f1-ac3c-cebfb40a4feb"
      },
      "execution_count": 76,
      "outputs": [
        {
          "output_type": "stream",
          "name": "stdout",
          "text": [
            "\r0% [Working]\r            \rHit:1 https://cloud.r-project.org/bin/linux/ubuntu focal-cran40/ InRelease\n",
            "\r0% [Connecting to archive.ubuntu.com (91.189.91.39)] [Connecting to security.ub\r                                                                               \rHit:2 http://archive.ubuntu.com/ubuntu focal InRelease\n",
            "\r0% [Waiting for headers] [Connecting to security.ubuntu.com (185.125.190.36)] [\r                                                                               \rHit:3 http://archive.ubuntu.com/ubuntu focal-updates InRelease\n",
            "\r0% [Waiting for headers] [Connecting to security.ubuntu.com (185.125.190.36)] [\r                                                                               \rHit:4 http://archive.ubuntu.com/ubuntu focal-backports InRelease\n",
            "\r0% [Waiting for headers] [Connecting to ppa.launchpad.net (185.125.190.52)] [Wa\r                                                                               \rHit:5 https://developer.download.nvidia.com/compute/cuda/repos/ubuntu2004/x86_64  InRelease\n",
            "\r                                                                               \r0% [Waiting for headers] [Waiting for headers]\r0% [Waiting for headers] [Waiting for headers]\r                                              \rHit:6 http://security.ubuntu.com/ubuntu focal-security InRelease\n",
            "Hit:7 http://ppa.launchpad.net/c2d4u.team/c2d4u4.0+/ubuntu focal InRelease\n",
            "Hit:8 http://ppa.launchpad.net/cran/libgit2/ubuntu focal InRelease\n",
            "Hit:9 http://ppa.launchpad.net/deadsnakes/ppa/ubuntu focal InRelease\n",
            "Hit:10 http://ppa.launchpad.net/graphics-drivers/ppa/ubuntu focal InRelease\n",
            "Hit:11 http://ppa.launchpad.net/ubuntugis/ppa/ubuntu focal InRelease\n",
            "Reading package lists... Done\n",
            "Reading package lists... Done\n",
            "Building dependency tree       \n",
            "Reading state information... Done\n",
            "Note, selecting 'python-dev-is-python2' instead of 'python-dev'\n",
            "g++ is already the newest version (4:9.3.0-1ubuntu2).\n",
            "python3-dev is already the newest version (3.8.2-0ubuntu2).\n",
            "python-dev-is-python2 is already the newest version (2.7.17-4).\n",
            "openjdk-8-jdk is already the newest version (8u372-ga~us1-0ubuntu1~20.04).\n",
            "0 upgraded, 0 newly installed, 0 to remove and 53 not upgraded.\n",
            "Looking in indexes: https://pypi.org/simple, https://us-python.pkg.dev/colab-wheels/public/simple/\n",
            "Requirement already satisfied: JPype1 in /usr/local/lib/python3.10/dist-packages (1.4.1)\n",
            "Requirement already satisfied: packaging in /usr/local/lib/python3.10/dist-packages (from JPype1) (23.1)\n",
            "Looking in indexes: https://pypi.org/simple, https://us-python.pkg.dev/colab-wheels/public/simple/\n",
            "Requirement already satisfied: konlpy in /usr/local/lib/python3.10/dist-packages (0.6.0)\n",
            "Requirement already satisfied: JPype1>=0.7.0 in /usr/local/lib/python3.10/dist-packages (from konlpy) (1.4.1)\n",
            "Requirement already satisfied: lxml>=4.1.0 in /usr/local/lib/python3.10/dist-packages (from konlpy) (4.9.2)\n",
            "Requirement already satisfied: numpy>=1.6 in /usr/local/lib/python3.10/dist-packages (from konlpy) (1.22.4)\n",
            "Requirement already satisfied: packaging in /usr/local/lib/python3.10/dist-packages (from JPype1>=0.7.0->konlpy) (23.1)\n",
            "Looking in indexes: https://pypi.org/simple, https://us-python.pkg.dev/colab-wheels/public/simple/\n",
            "Requirement already satisfied: mecab-python in /usr/local/lib/python3.10/dist-packages (1.0.0)\n",
            "Requirement already satisfied: mecab-python3 in /usr/local/lib/python3.10/dist-packages (from mecab-python) (1.0.6)\n",
            "mecab-ko is already installed\n",
            "mecab-ko-dic is already installed\n",
            "mecab-python is already installed\n",
            "Done.\n"
          ]
        }
      ]
    },
    {
      "cell_type": "code",
      "source": [
        "from konlpy.tag import Komoran"
      ],
      "metadata": {
        "id": "0IVnwVxSQgb6"
      },
      "execution_count": 77,
      "outputs": []
    },
    {
      "cell_type": "code",
      "source": [
        "# 불용어 목록 데이터 불러오기(txt파일을 csv 형식으로 읽기)\n",
        "stopwords = pd.read_csv('/content/drive/MyDrive/data/stopwords.txt', delimiter = '\\t', names=['stopword', 's', 'n'])\n",
        "stopwords"
      ],
      "metadata": {
        "colab": {
          "base_uri": "https://localhost:8080/",
          "height": 419
        },
        "id": "chRac1gmodVj",
        "outputId": "6c59144b-a851-4f22-fbdd-3dd79d573829"
      },
      "execution_count": 78,
      "outputs": [
        {
          "output_type": "execute_result",
          "data": {
            "text/plain": [
              "   stopword    s         n\n",
              "0         이  VCP  0.018280\n",
              "1         있   VA  0.011699\n",
              "2         하   VV  0.009774\n",
              "3         것  NNB  0.009733\n",
              "4         들  XSN  0.006898\n",
              "..      ...  ...       ...\n",
              "95        원  NNB  0.000492\n",
              "96        잘  MAG  0.000491\n",
              "97       통하   VV  0.000487\n",
              "98       소리  NNG  0.000486\n",
              "99        놓   VX  0.000483\n",
              "\n",
              "[100 rows x 3 columns]"
            ],
            "text/html": [
              "\n",
              "  <div id=\"df-8f3e3e89-f362-4fe4-abe3-9d5df57f0e53\">\n",
              "    <div class=\"colab-df-container\">\n",
              "      <div>\n",
              "<style scoped>\n",
              "    .dataframe tbody tr th:only-of-type {\n",
              "        vertical-align: middle;\n",
              "    }\n",
              "\n",
              "    .dataframe tbody tr th {\n",
              "        vertical-align: top;\n",
              "    }\n",
              "\n",
              "    .dataframe thead th {\n",
              "        text-align: right;\n",
              "    }\n",
              "</style>\n",
              "<table border=\"1\" class=\"dataframe\">\n",
              "  <thead>\n",
              "    <tr style=\"text-align: right;\">\n",
              "      <th></th>\n",
              "      <th>stopword</th>\n",
              "      <th>s</th>\n",
              "      <th>n</th>\n",
              "    </tr>\n",
              "  </thead>\n",
              "  <tbody>\n",
              "    <tr>\n",
              "      <th>0</th>\n",
              "      <td>이</td>\n",
              "      <td>VCP</td>\n",
              "      <td>0.018280</td>\n",
              "    </tr>\n",
              "    <tr>\n",
              "      <th>1</th>\n",
              "      <td>있</td>\n",
              "      <td>VA</td>\n",
              "      <td>0.011699</td>\n",
              "    </tr>\n",
              "    <tr>\n",
              "      <th>2</th>\n",
              "      <td>하</td>\n",
              "      <td>VV</td>\n",
              "      <td>0.009774</td>\n",
              "    </tr>\n",
              "    <tr>\n",
              "      <th>3</th>\n",
              "      <td>것</td>\n",
              "      <td>NNB</td>\n",
              "      <td>0.009733</td>\n",
              "    </tr>\n",
              "    <tr>\n",
              "      <th>4</th>\n",
              "      <td>들</td>\n",
              "      <td>XSN</td>\n",
              "      <td>0.006898</td>\n",
              "    </tr>\n",
              "    <tr>\n",
              "      <th>...</th>\n",
              "      <td>...</td>\n",
              "      <td>...</td>\n",
              "      <td>...</td>\n",
              "    </tr>\n",
              "    <tr>\n",
              "      <th>95</th>\n",
              "      <td>원</td>\n",
              "      <td>NNB</td>\n",
              "      <td>0.000492</td>\n",
              "    </tr>\n",
              "    <tr>\n",
              "      <th>96</th>\n",
              "      <td>잘</td>\n",
              "      <td>MAG</td>\n",
              "      <td>0.000491</td>\n",
              "    </tr>\n",
              "    <tr>\n",
              "      <th>97</th>\n",
              "      <td>통하</td>\n",
              "      <td>VV</td>\n",
              "      <td>0.000487</td>\n",
              "    </tr>\n",
              "    <tr>\n",
              "      <th>98</th>\n",
              "      <td>소리</td>\n",
              "      <td>NNG</td>\n",
              "      <td>0.000486</td>\n",
              "    </tr>\n",
              "    <tr>\n",
              "      <th>99</th>\n",
              "      <td>놓</td>\n",
              "      <td>VX</td>\n",
              "      <td>0.000483</td>\n",
              "    </tr>\n",
              "  </tbody>\n",
              "</table>\n",
              "<p>100 rows × 3 columns</p>\n",
              "</div>\n",
              "      <button class=\"colab-df-convert\" onclick=\"convertToInteractive('df-8f3e3e89-f362-4fe4-abe3-9d5df57f0e53')\"\n",
              "              title=\"Convert this dataframe to an interactive table.\"\n",
              "              style=\"display:none;\">\n",
              "        \n",
              "  <svg xmlns=\"http://www.w3.org/2000/svg\" height=\"24px\"viewBox=\"0 0 24 24\"\n",
              "       width=\"24px\">\n",
              "    <path d=\"M0 0h24v24H0V0z\" fill=\"none\"/>\n",
              "    <path d=\"M18.56 5.44l.94 2.06.94-2.06 2.06-.94-2.06-.94-.94-2.06-.94 2.06-2.06.94zm-11 1L8.5 8.5l.94-2.06 2.06-.94-2.06-.94L8.5 2.5l-.94 2.06-2.06.94zm10 10l.94 2.06.94-2.06 2.06-.94-2.06-.94-.94-2.06-.94 2.06-2.06.94z\"/><path d=\"M17.41 7.96l-1.37-1.37c-.4-.4-.92-.59-1.43-.59-.52 0-1.04.2-1.43.59L10.3 9.45l-7.72 7.72c-.78.78-.78 2.05 0 2.83L4 21.41c.39.39.9.59 1.41.59.51 0 1.02-.2 1.41-.59l7.78-7.78 2.81-2.81c.8-.78.8-2.07 0-2.86zM5.41 20L4 18.59l7.72-7.72 1.47 1.35L5.41 20z\"/>\n",
              "  </svg>\n",
              "      </button>\n",
              "      \n",
              "  <style>\n",
              "    .colab-df-container {\n",
              "      display:flex;\n",
              "      flex-wrap:wrap;\n",
              "      gap: 12px;\n",
              "    }\n",
              "\n",
              "    .colab-df-convert {\n",
              "      background-color: #E8F0FE;\n",
              "      border: none;\n",
              "      border-radius: 50%;\n",
              "      cursor: pointer;\n",
              "      display: none;\n",
              "      fill: #1967D2;\n",
              "      height: 32px;\n",
              "      padding: 0 0 0 0;\n",
              "      width: 32px;\n",
              "    }\n",
              "\n",
              "    .colab-df-convert:hover {\n",
              "      background-color: #E2EBFA;\n",
              "      box-shadow: 0px 1px 2px rgba(60, 64, 67, 0.3), 0px 1px 3px 1px rgba(60, 64, 67, 0.15);\n",
              "      fill: #174EA6;\n",
              "    }\n",
              "\n",
              "    [theme=dark] .colab-df-convert {\n",
              "      background-color: #3B4455;\n",
              "      fill: #D2E3FC;\n",
              "    }\n",
              "\n",
              "    [theme=dark] .colab-df-convert:hover {\n",
              "      background-color: #434B5C;\n",
              "      box-shadow: 0px 1px 3px 1px rgba(0, 0, 0, 0.15);\n",
              "      filter: drop-shadow(0px 1px 2px rgba(0, 0, 0, 0.3));\n",
              "      fill: #FFFFFF;\n",
              "    }\n",
              "  </style>\n",
              "\n",
              "      <script>\n",
              "        const buttonEl =\n",
              "          document.querySelector('#df-8f3e3e89-f362-4fe4-abe3-9d5df57f0e53 button.colab-df-convert');\n",
              "        buttonEl.style.display =\n",
              "          google.colab.kernel.accessAllowed ? 'block' : 'none';\n",
              "\n",
              "        async function convertToInteractive(key) {\n",
              "          const element = document.querySelector('#df-8f3e3e89-f362-4fe4-abe3-9d5df57f0e53');\n",
              "          const dataTable =\n",
              "            await google.colab.kernel.invokeFunction('convertToInteractive',\n",
              "                                                     [key], {});\n",
              "          if (!dataTable) return;\n",
              "\n",
              "          const docLinkHtml = 'Like what you see? Visit the ' +\n",
              "            '<a target=\"_blank\" href=https://colab.research.google.com/notebooks/data_table.ipynb>data table notebook</a>'\n",
              "            + ' to learn more about interactive tables.';\n",
              "          element.innerHTML = '';\n",
              "          dataTable['output_type'] = 'display_data';\n",
              "          await google.colab.output.renderOutput(dataTable, element);\n",
              "          const docLink = document.createElement('div');\n",
              "          docLink.innerHTML = docLinkHtml;\n",
              "          element.appendChild(docLink);\n",
              "        }\n",
              "      </script>\n",
              "    </div>\n",
              "  </div>\n",
              "  "
            ]
          },
          "metadata": {},
          "execution_count": 78
        }
      ]
    },
    {
      "cell_type": "code",
      "source": [
        "# 토큰나이저 생성\n",
        "from konlpy.tag import Mecab\n",
        "import pandas as pd\n",
        "\n",
        "stopwords =list(stopwords['stopword'])\n",
        "\n",
        "\n",
        "def tokenizer(raw, pos=[\"NNG\", \"NNP\", \"VV\", \"VA\"], stopword=stopwords):\n",
        "    m = Mecab()\n",
        "    return [word for word, tag in m.pos(raw) if len(word) > 1 and tag in pos and word not in stopword]"
      ],
      "metadata": {
        "id": "MZA-utIwQgi5"
      },
      "execution_count": 79,
      "outputs": []
    },
    {
      "cell_type": "code",
      "source": [
        "#  tfidf vectorizer 생성\n",
        "from sklearn.feature_extraction.text import TfidfVectorizer\n",
        "\n",
        "tfidf_vect = TfidfVectorizer(\n",
        "    stop_words=stopwords, tokenizer=tokenizer, ngram_range=(1, 2), max_features=200000, sublinear_tf=True)"
      ],
      "metadata": {
        "id": "Bucq2hDJQgrU"
      },
      "execution_count": 80,
      "outputs": []
    },
    {
      "cell_type": "code",
      "source": [
        "ftr_mat = tfidf_vect.fit_transform(doc_df['sentence'])"
      ],
      "metadata": {
        "colab": {
          "base_uri": "https://localhost:8080/"
        },
        "id": "b-7eKkYt6ADA",
        "outputId": "411e249e-5cae-4993-fe09-1f62693e5bb1"
      },
      "execution_count": 81,
      "outputs": [
        {
          "output_type": "stream",
          "name": "stderr",
          "text": [
            "/usr/local/lib/python3.10/dist-packages/sklearn/feature_extraction/text.py:528: UserWarning: The parameter 'token_pattern' will not be used since 'tokenizer' is not None'\n",
            "  warnings.warn(\n"
          ]
        }
      ]
    },
    {
      "cell_type": "code",
      "source": [
        "ftr_mat.shape #(학습한 문서의 수, 학습에 사용된 단어의 개수)"
      ],
      "metadata": {
        "colab": {
          "base_uri": "https://localhost:8080/"
        },
        "id": "zAcjGqcetWgH",
        "outputId": "013af135-a5d5-4eea-bd7f-66cdb4615ed8"
      },
      "execution_count": 82,
      "outputs": [
        {
          "output_type": "execute_result",
          "data": {
            "text/plain": [
              "(10, 156611)"
            ]
          },
          "metadata": {},
          "execution_count": 82
        }
      ]
    },
    {
      "cell_type": "markdown",
      "source": [
        "<strong>문서 군집화</strong>\n",
        "- k-평균을 이용하여 문서 군집화"
      ],
      "metadata": {
        "id": "OAk-DAIa8R7-"
      }
    },
    {
      "cell_type": "code",
      "source": [
        "# 문서 군집화\n",
        "from sklearn.cluster import KMeans\n",
        "\n",
        "km_cls = KMeans(n_clusters=6, max_iter=10000, random_state=0)\n",
        "km_cls.fit(ftr_mat)\n",
        "\n",
        "cluster_label = km_cls.labels_\n",
        "cluster_centers = km_cls.cluster_centers_\n",
        "doc_df['cluster_label'] = cluster_label"
      ],
      "metadata": {
        "colab": {
          "base_uri": "https://localhost:8080/"
        },
        "id": "KXnPQ7HhtWo6",
        "outputId": "b2de47b2-a198-418b-ab48-00dbb9d2496a"
      },
      "execution_count": 83,
      "outputs": [
        {
          "output_type": "stream",
          "name": "stderr",
          "text": [
            "/usr/local/lib/python3.10/dist-packages/sklearn/cluster/_kmeans.py:870: FutureWarning: The default value of `n_init` will change from 10 to 'auto' in 1.4. Set the value of `n_init` explicitly to suppress the warning\n",
            "  warnings.warn(\n"
          ]
        }
      ]
    },
    {
      "cell_type": "code",
      "source": [
        "doc_df"
      ],
      "metadata": {
        "id": "B0EydqV8Qg-3",
        "colab": {
          "base_uri": "https://localhost:8080/",
          "height": 359
        },
        "outputId": "ea63a2ff-f26a-46ee-cfdd-e58c20c34ef5"
      },
      "execution_count": 84,
      "outputs": [
        {
          "output_type": "execute_result",
          "data": {
            "text/plain": [
              "  filename                                           sentence  cluster_label\n",
              "0       슬픔   아직도 기대감이 사라지지 않았어...  누나내가 좋아하는건 미안한일이잖아 키스까지...              2\n",
              "1       불안  졸업반이라서 취업을 생각해야 하는데 지금 너무 느긋해서 이래도 되나 싶어. 면접에서...              2\n",
              "2       당황  길을 가다가 우연히 마주친 동네 아주머니께서 취업했냐고 물어보셔서 당황했어. 어제 ...              2\n",
              "3       분노  외교하라니까 친미 친일 하고있는 윤병x이 문제라곤 생각 안하지? 덜떨어진것들 그돈 ...              0\n",
              "4       기쁨  퇴사한 지 얼마 안 됐지만 천천히 직장을 구해보려고. 요즘 직장생활이 너무 편하고 ...              3\n",
              "5       혐오  니들이 1~2년 쓰다가 고장나는건 폰을 개떡같이 쓰니까 그런거야 펴엉신들아ㅉㅉ앱등이...              0\n",
              "6       상처  면접관에게 완전히 속았어. 면접일에 알려준 연봉과 실수령액이 꽤 차이가 나네. 지인...              2\n",
              "7       행복  항상 감사합니다 용규선수ㅠㅠㅠㅠ 축하 한다 ~~^^ 저에겐 요리에 대한 두려움을 없...              4\n",
              "8       놀람  얘네는 댓글만 보면 중국가수네 와 직장인으로서 7천만 연봉이었는데 지금 다 버리고 ...              1\n",
              "9       공포  노인운전자 위험해요 그래서 보내줘야겠는데 멀 보낼지 생각이 안나서 고민0 산천어가 ...              5"
            ],
            "text/html": [
              "\n",
              "  <div id=\"df-59e00e25-47d9-4d26-b766-51320c0a29e5\">\n",
              "    <div class=\"colab-df-container\">\n",
              "      <div>\n",
              "<style scoped>\n",
              "    .dataframe tbody tr th:only-of-type {\n",
              "        vertical-align: middle;\n",
              "    }\n",
              "\n",
              "    .dataframe tbody tr th {\n",
              "        vertical-align: top;\n",
              "    }\n",
              "\n",
              "    .dataframe thead th {\n",
              "        text-align: right;\n",
              "    }\n",
              "</style>\n",
              "<table border=\"1\" class=\"dataframe\">\n",
              "  <thead>\n",
              "    <tr style=\"text-align: right;\">\n",
              "      <th></th>\n",
              "      <th>filename</th>\n",
              "      <th>sentence</th>\n",
              "      <th>cluster_label</th>\n",
              "    </tr>\n",
              "  </thead>\n",
              "  <tbody>\n",
              "    <tr>\n",
              "      <th>0</th>\n",
              "      <td>슬픔</td>\n",
              "      <td>아직도 기대감이 사라지지 않았어...  누나내가 좋아하는건 미안한일이잖아 키스까지...</td>\n",
              "      <td>2</td>\n",
              "    </tr>\n",
              "    <tr>\n",
              "      <th>1</th>\n",
              "      <td>불안</td>\n",
              "      <td>졸업반이라서 취업을 생각해야 하는데 지금 너무 느긋해서 이래도 되나 싶어. 면접에서...</td>\n",
              "      <td>2</td>\n",
              "    </tr>\n",
              "    <tr>\n",
              "      <th>2</th>\n",
              "      <td>당황</td>\n",
              "      <td>길을 가다가 우연히 마주친 동네 아주머니께서 취업했냐고 물어보셔서 당황했어. 어제 ...</td>\n",
              "      <td>2</td>\n",
              "    </tr>\n",
              "    <tr>\n",
              "      <th>3</th>\n",
              "      <td>분노</td>\n",
              "      <td>외교하라니까 친미 친일 하고있는 윤병x이 문제라곤 생각 안하지? 덜떨어진것들 그돈 ...</td>\n",
              "      <td>0</td>\n",
              "    </tr>\n",
              "    <tr>\n",
              "      <th>4</th>\n",
              "      <td>기쁨</td>\n",
              "      <td>퇴사한 지 얼마 안 됐지만 천천히 직장을 구해보려고. 요즘 직장생활이 너무 편하고 ...</td>\n",
              "      <td>3</td>\n",
              "    </tr>\n",
              "    <tr>\n",
              "      <th>5</th>\n",
              "      <td>혐오</td>\n",
              "      <td>니들이 1~2년 쓰다가 고장나는건 폰을 개떡같이 쓰니까 그런거야 펴엉신들아ㅉㅉ앱등이...</td>\n",
              "      <td>0</td>\n",
              "    </tr>\n",
              "    <tr>\n",
              "      <th>6</th>\n",
              "      <td>상처</td>\n",
              "      <td>면접관에게 완전히 속았어. 면접일에 알려준 연봉과 실수령액이 꽤 차이가 나네. 지인...</td>\n",
              "      <td>2</td>\n",
              "    </tr>\n",
              "    <tr>\n",
              "      <th>7</th>\n",
              "      <td>행복</td>\n",
              "      <td>항상 감사합니다 용규선수ㅠㅠㅠㅠ 축하 한다 ~~^^ 저에겐 요리에 대한 두려움을 없...</td>\n",
              "      <td>4</td>\n",
              "    </tr>\n",
              "    <tr>\n",
              "      <th>8</th>\n",
              "      <td>놀람</td>\n",
              "      <td>얘네는 댓글만 보면 중국가수네 와 직장인으로서 7천만 연봉이었는데 지금 다 버리고 ...</td>\n",
              "      <td>1</td>\n",
              "    </tr>\n",
              "    <tr>\n",
              "      <th>9</th>\n",
              "      <td>공포</td>\n",
              "      <td>노인운전자 위험해요 그래서 보내줘야겠는데 멀 보낼지 생각이 안나서 고민0 산천어가 ...</td>\n",
              "      <td>5</td>\n",
              "    </tr>\n",
              "  </tbody>\n",
              "</table>\n",
              "</div>\n",
              "      <button class=\"colab-df-convert\" onclick=\"convertToInteractive('df-59e00e25-47d9-4d26-b766-51320c0a29e5')\"\n",
              "              title=\"Convert this dataframe to an interactive table.\"\n",
              "              style=\"display:none;\">\n",
              "        \n",
              "  <svg xmlns=\"http://www.w3.org/2000/svg\" height=\"24px\"viewBox=\"0 0 24 24\"\n",
              "       width=\"24px\">\n",
              "    <path d=\"M0 0h24v24H0V0z\" fill=\"none\"/>\n",
              "    <path d=\"M18.56 5.44l.94 2.06.94-2.06 2.06-.94-2.06-.94-.94-2.06-.94 2.06-2.06.94zm-11 1L8.5 8.5l.94-2.06 2.06-.94-2.06-.94L8.5 2.5l-.94 2.06-2.06.94zm10 10l.94 2.06.94-2.06 2.06-.94-2.06-.94-.94-2.06-.94 2.06-2.06.94z\"/><path d=\"M17.41 7.96l-1.37-1.37c-.4-.4-.92-.59-1.43-.59-.52 0-1.04.2-1.43.59L10.3 9.45l-7.72 7.72c-.78.78-.78 2.05 0 2.83L4 21.41c.39.39.9.59 1.41.59.51 0 1.02-.2 1.41-.59l7.78-7.78 2.81-2.81c.8-.78.8-2.07 0-2.86zM5.41 20L4 18.59l7.72-7.72 1.47 1.35L5.41 20z\"/>\n",
              "  </svg>\n",
              "      </button>\n",
              "      \n",
              "  <style>\n",
              "    .colab-df-container {\n",
              "      display:flex;\n",
              "      flex-wrap:wrap;\n",
              "      gap: 12px;\n",
              "    }\n",
              "\n",
              "    .colab-df-convert {\n",
              "      background-color: #E8F0FE;\n",
              "      border: none;\n",
              "      border-radius: 50%;\n",
              "      cursor: pointer;\n",
              "      display: none;\n",
              "      fill: #1967D2;\n",
              "      height: 32px;\n",
              "      padding: 0 0 0 0;\n",
              "      width: 32px;\n",
              "    }\n",
              "\n",
              "    .colab-df-convert:hover {\n",
              "      background-color: #E2EBFA;\n",
              "      box-shadow: 0px 1px 2px rgba(60, 64, 67, 0.3), 0px 1px 3px 1px rgba(60, 64, 67, 0.15);\n",
              "      fill: #174EA6;\n",
              "    }\n",
              "\n",
              "    [theme=dark] .colab-df-convert {\n",
              "      background-color: #3B4455;\n",
              "      fill: #D2E3FC;\n",
              "    }\n",
              "\n",
              "    [theme=dark] .colab-df-convert:hover {\n",
              "      background-color: #434B5C;\n",
              "      box-shadow: 0px 1px 3px 1px rgba(0, 0, 0, 0.15);\n",
              "      filter: drop-shadow(0px 1px 2px rgba(0, 0, 0, 0.3));\n",
              "      fill: #FFFFFF;\n",
              "    }\n",
              "  </style>\n",
              "\n",
              "      <script>\n",
              "        const buttonEl =\n",
              "          document.querySelector('#df-59e00e25-47d9-4d26-b766-51320c0a29e5 button.colab-df-convert');\n",
              "        buttonEl.style.display =\n",
              "          google.colab.kernel.accessAllowed ? 'block' : 'none';\n",
              "\n",
              "        async function convertToInteractive(key) {\n",
              "          const element = document.querySelector('#df-59e00e25-47d9-4d26-b766-51320c0a29e5');\n",
              "          const dataTable =\n",
              "            await google.colab.kernel.invokeFunction('convertToInteractive',\n",
              "                                                     [key], {});\n",
              "          if (!dataTable) return;\n",
              "\n",
              "          const docLinkHtml = 'Like what you see? Visit the ' +\n",
              "            '<a target=\"_blank\" href=https://colab.research.google.com/notebooks/data_table.ipynb>data table notebook</a>'\n",
              "            + ' to learn more about interactive tables.';\n",
              "          element.innerHTML = '';\n",
              "          dataTable['output_type'] = 'display_data';\n",
              "          await google.colab.output.renderOutput(dataTable, element);\n",
              "          const docLink = document.createElement('div');\n",
              "          docLink.innerHTML = docLinkHtml;\n",
              "          element.appendChild(docLink);\n",
              "        }\n",
              "      </script>\n",
              "    </div>\n",
              "  </div>\n",
              "  "
            ]
          },
          "metadata": {},
          "execution_count": 84
        }
      ]
    },
    {
      "cell_type": "code",
      "source": [
        "# 문서 군집화\n",
        "from sklearn.cluster import KMeans\n",
        "\n",
        "km_cls = KMeans(n_clusters=6, max_iter=10000, random_state=0)\n",
        "km_cls.fit(ftr_mat)\n",
        "\n",
        "cluster_label = km_cls.labels_\n",
        "cluster_centers = km_cls.cluster_centers_\n",
        "doc_df['cluster_label'] = cluster_label"
      ],
      "metadata": {
        "colab": {
          "base_uri": "https://localhost:8080/"
        },
        "id": "mm2XalpFNKQz",
        "outputId": "4a49c0a9-4621-4228-ebbf-f4a0c59b424d"
      },
      "execution_count": 85,
      "outputs": [
        {
          "output_type": "stream",
          "name": "stderr",
          "text": [
            "/usr/local/lib/python3.10/dist-packages/sklearn/cluster/_kmeans.py:870: FutureWarning: The default value of `n_init` will change from 10 to 'auto' in 1.4. Set the value of `n_init` explicitly to suppress the warning\n",
            "  warnings.warn(\n"
          ]
        }
      ]
    },
    {
      "cell_type": "code",
      "source": [
        "doc_df"
      ],
      "metadata": {
        "colab": {
          "base_uri": "https://localhost:8080/",
          "height": 359
        },
        "id": "HSkfZO3SNNAl",
        "outputId": "61c26151-2895-4f95-87a6-75659d20bf79"
      },
      "execution_count": 86,
      "outputs": [
        {
          "output_type": "execute_result",
          "data": {
            "text/plain": [
              "  filename                                           sentence  cluster_label\n",
              "0       슬픔   아직도 기대감이 사라지지 않았어...  누나내가 좋아하는건 미안한일이잖아 키스까지...              2\n",
              "1       불안  졸업반이라서 취업을 생각해야 하는데 지금 너무 느긋해서 이래도 되나 싶어. 면접에서...              2\n",
              "2       당황  길을 가다가 우연히 마주친 동네 아주머니께서 취업했냐고 물어보셔서 당황했어. 어제 ...              2\n",
              "3       분노  외교하라니까 친미 친일 하고있는 윤병x이 문제라곤 생각 안하지? 덜떨어진것들 그돈 ...              0\n",
              "4       기쁨  퇴사한 지 얼마 안 됐지만 천천히 직장을 구해보려고. 요즘 직장생활이 너무 편하고 ...              3\n",
              "5       혐오  니들이 1~2년 쓰다가 고장나는건 폰을 개떡같이 쓰니까 그런거야 펴엉신들아ㅉㅉ앱등이...              0\n",
              "6       상처  면접관에게 완전히 속았어. 면접일에 알려준 연봉과 실수령액이 꽤 차이가 나네. 지인...              2\n",
              "7       행복  항상 감사합니다 용규선수ㅠㅠㅠㅠ 축하 한다 ~~^^ 저에겐 요리에 대한 두려움을 없...              4\n",
              "8       놀람  얘네는 댓글만 보면 중국가수네 와 직장인으로서 7천만 연봉이었는데 지금 다 버리고 ...              1\n",
              "9       공포  노인운전자 위험해요 그래서 보내줘야겠는데 멀 보낼지 생각이 안나서 고민0 산천어가 ...              5"
            ],
            "text/html": [
              "\n",
              "  <div id=\"df-09d92f6c-428a-45a5-87fa-356e4863b468\">\n",
              "    <div class=\"colab-df-container\">\n",
              "      <div>\n",
              "<style scoped>\n",
              "    .dataframe tbody tr th:only-of-type {\n",
              "        vertical-align: middle;\n",
              "    }\n",
              "\n",
              "    .dataframe tbody tr th {\n",
              "        vertical-align: top;\n",
              "    }\n",
              "\n",
              "    .dataframe thead th {\n",
              "        text-align: right;\n",
              "    }\n",
              "</style>\n",
              "<table border=\"1\" class=\"dataframe\">\n",
              "  <thead>\n",
              "    <tr style=\"text-align: right;\">\n",
              "      <th></th>\n",
              "      <th>filename</th>\n",
              "      <th>sentence</th>\n",
              "      <th>cluster_label</th>\n",
              "    </tr>\n",
              "  </thead>\n",
              "  <tbody>\n",
              "    <tr>\n",
              "      <th>0</th>\n",
              "      <td>슬픔</td>\n",
              "      <td>아직도 기대감이 사라지지 않았어...  누나내가 좋아하는건 미안한일이잖아 키스까지...</td>\n",
              "      <td>2</td>\n",
              "    </tr>\n",
              "    <tr>\n",
              "      <th>1</th>\n",
              "      <td>불안</td>\n",
              "      <td>졸업반이라서 취업을 생각해야 하는데 지금 너무 느긋해서 이래도 되나 싶어. 면접에서...</td>\n",
              "      <td>2</td>\n",
              "    </tr>\n",
              "    <tr>\n",
              "      <th>2</th>\n",
              "      <td>당황</td>\n",
              "      <td>길을 가다가 우연히 마주친 동네 아주머니께서 취업했냐고 물어보셔서 당황했어. 어제 ...</td>\n",
              "      <td>2</td>\n",
              "    </tr>\n",
              "    <tr>\n",
              "      <th>3</th>\n",
              "      <td>분노</td>\n",
              "      <td>외교하라니까 친미 친일 하고있는 윤병x이 문제라곤 생각 안하지? 덜떨어진것들 그돈 ...</td>\n",
              "      <td>0</td>\n",
              "    </tr>\n",
              "    <tr>\n",
              "      <th>4</th>\n",
              "      <td>기쁨</td>\n",
              "      <td>퇴사한 지 얼마 안 됐지만 천천히 직장을 구해보려고. 요즘 직장생활이 너무 편하고 ...</td>\n",
              "      <td>3</td>\n",
              "    </tr>\n",
              "    <tr>\n",
              "      <th>5</th>\n",
              "      <td>혐오</td>\n",
              "      <td>니들이 1~2년 쓰다가 고장나는건 폰을 개떡같이 쓰니까 그런거야 펴엉신들아ㅉㅉ앱등이...</td>\n",
              "      <td>0</td>\n",
              "    </tr>\n",
              "    <tr>\n",
              "      <th>6</th>\n",
              "      <td>상처</td>\n",
              "      <td>면접관에게 완전히 속았어. 면접일에 알려준 연봉과 실수령액이 꽤 차이가 나네. 지인...</td>\n",
              "      <td>2</td>\n",
              "    </tr>\n",
              "    <tr>\n",
              "      <th>7</th>\n",
              "      <td>행복</td>\n",
              "      <td>항상 감사합니다 용규선수ㅠㅠㅠㅠ 축하 한다 ~~^^ 저에겐 요리에 대한 두려움을 없...</td>\n",
              "      <td>4</td>\n",
              "    </tr>\n",
              "    <tr>\n",
              "      <th>8</th>\n",
              "      <td>놀람</td>\n",
              "      <td>얘네는 댓글만 보면 중국가수네 와 직장인으로서 7천만 연봉이었는데 지금 다 버리고 ...</td>\n",
              "      <td>1</td>\n",
              "    </tr>\n",
              "    <tr>\n",
              "      <th>9</th>\n",
              "      <td>공포</td>\n",
              "      <td>노인운전자 위험해요 그래서 보내줘야겠는데 멀 보낼지 생각이 안나서 고민0 산천어가 ...</td>\n",
              "      <td>5</td>\n",
              "    </tr>\n",
              "  </tbody>\n",
              "</table>\n",
              "</div>\n",
              "      <button class=\"colab-df-convert\" onclick=\"convertToInteractive('df-09d92f6c-428a-45a5-87fa-356e4863b468')\"\n",
              "              title=\"Convert this dataframe to an interactive table.\"\n",
              "              style=\"display:none;\">\n",
              "        \n",
              "  <svg xmlns=\"http://www.w3.org/2000/svg\" height=\"24px\"viewBox=\"0 0 24 24\"\n",
              "       width=\"24px\">\n",
              "    <path d=\"M0 0h24v24H0V0z\" fill=\"none\"/>\n",
              "    <path d=\"M18.56 5.44l.94 2.06.94-2.06 2.06-.94-2.06-.94-.94-2.06-.94 2.06-2.06.94zm-11 1L8.5 8.5l.94-2.06 2.06-.94-2.06-.94L8.5 2.5l-.94 2.06-2.06.94zm10 10l.94 2.06.94-2.06 2.06-.94-2.06-.94-.94-2.06-.94 2.06-2.06.94z\"/><path d=\"M17.41 7.96l-1.37-1.37c-.4-.4-.92-.59-1.43-.59-.52 0-1.04.2-1.43.59L10.3 9.45l-7.72 7.72c-.78.78-.78 2.05 0 2.83L4 21.41c.39.39.9.59 1.41.59.51 0 1.02-.2 1.41-.59l7.78-7.78 2.81-2.81c.8-.78.8-2.07 0-2.86zM5.41 20L4 18.59l7.72-7.72 1.47 1.35L5.41 20z\"/>\n",
              "  </svg>\n",
              "      </button>\n",
              "      \n",
              "  <style>\n",
              "    .colab-df-container {\n",
              "      display:flex;\n",
              "      flex-wrap:wrap;\n",
              "      gap: 12px;\n",
              "    }\n",
              "\n",
              "    .colab-df-convert {\n",
              "      background-color: #E8F0FE;\n",
              "      border: none;\n",
              "      border-radius: 50%;\n",
              "      cursor: pointer;\n",
              "      display: none;\n",
              "      fill: #1967D2;\n",
              "      height: 32px;\n",
              "      padding: 0 0 0 0;\n",
              "      width: 32px;\n",
              "    }\n",
              "\n",
              "    .colab-df-convert:hover {\n",
              "      background-color: #E2EBFA;\n",
              "      box-shadow: 0px 1px 2px rgba(60, 64, 67, 0.3), 0px 1px 3px 1px rgba(60, 64, 67, 0.15);\n",
              "      fill: #174EA6;\n",
              "    }\n",
              "\n",
              "    [theme=dark] .colab-df-convert {\n",
              "      background-color: #3B4455;\n",
              "      fill: #D2E3FC;\n",
              "    }\n",
              "\n",
              "    [theme=dark] .colab-df-convert:hover {\n",
              "      background-color: #434B5C;\n",
              "      box-shadow: 0px 1px 3px 1px rgba(0, 0, 0, 0.15);\n",
              "      filter: drop-shadow(0px 1px 2px rgba(0, 0, 0, 0.3));\n",
              "      fill: #FFFFFF;\n",
              "    }\n",
              "  </style>\n",
              "\n",
              "      <script>\n",
              "        const buttonEl =\n",
              "          document.querySelector('#df-09d92f6c-428a-45a5-87fa-356e4863b468 button.colab-df-convert');\n",
              "        buttonEl.style.display =\n",
              "          google.colab.kernel.accessAllowed ? 'block' : 'none';\n",
              "\n",
              "        async function convertToInteractive(key) {\n",
              "          const element = document.querySelector('#df-09d92f6c-428a-45a5-87fa-356e4863b468');\n",
              "          const dataTable =\n",
              "            await google.colab.kernel.invokeFunction('convertToInteractive',\n",
              "                                                     [key], {});\n",
              "          if (!dataTable) return;\n",
              "\n",
              "          const docLinkHtml = 'Like what you see? Visit the ' +\n",
              "            '<a target=\"_blank\" href=https://colab.research.google.com/notebooks/data_table.ipynb>data table notebook</a>'\n",
              "            + ' to learn more about interactive tables.';\n",
              "          element.innerHTML = '';\n",
              "          dataTable['output_type'] = 'display_data';\n",
              "          await google.colab.output.renderOutput(dataTable, element);\n",
              "          const docLink = document.createElement('div');\n",
              "          docLink.innerHTML = docLinkHtml;\n",
              "          element.appendChild(docLink);\n",
              "        }\n",
              "      </script>\n",
              "    </div>\n",
              "  </div>\n",
              "  "
            ]
          },
          "metadata": {},
          "execution_count": 86
        }
      ]
    },
    {
      "cell_type": "code",
      "source": [
        "doc_df[doc_df.filename == '공포'].sentence"
      ],
      "metadata": {
        "colab": {
          "base_uri": "https://localhost:8080/"
        },
        "id": "W-ZBMt0gNxnf",
        "outputId": "12b43c39-1427-4613-e492-fc459bdb46a6"
      },
      "execution_count": 87,
      "outputs": [
        {
          "output_type": "execute_result",
          "data": {
            "text/plain": [
              "9    노인운전자 위험해요 그래서 보내줘야겠는데 멀 보낼지 생각이 안나서 고민0 산천어가 ...\n",
              "Name: sentence, dtype: object"
            ]
          },
          "metadata": {},
          "execution_count": 87
        }
      ]
    },
    {
      "cell_type": "code",
      "source": [
        "doc_df[doc_df['cluster_label'] == 0].filename"
      ],
      "metadata": {
        "colab": {
          "base_uri": "https://localhost:8080/"
        },
        "id": "ui1urN8pXXRL",
        "outputId": "b43b78b7-5685-4a45-fd99-79ebf3cc2135"
      },
      "execution_count": 88,
      "outputs": [
        {
          "output_type": "execute_result",
          "data": {
            "text/plain": [
              "3    분노\n",
              "5    혐오\n",
              "Name: filename, dtype: object"
            ]
          },
          "metadata": {},
          "execution_count": 88
        }
      ]
    },
    {
      "cell_type": "code",
      "source": [
        "doc_df[doc_df['cluster_label'] == 1].filename"
      ],
      "metadata": {
        "colab": {
          "base_uri": "https://localhost:8080/"
        },
        "id": "7aYjI-AmY2Vp",
        "outputId": "362c37ae-56a5-4c64-fdee-1313d709d265"
      },
      "execution_count": 89,
      "outputs": [
        {
          "output_type": "execute_result",
          "data": {
            "text/plain": [
              "8    놀람\n",
              "Name: filename, dtype: object"
            ]
          },
          "metadata": {},
          "execution_count": 89
        }
      ]
    },
    {
      "cell_type": "code",
      "source": [
        "doc_df[doc_df['cluster_label'] == 2].filename"
      ],
      "metadata": {
        "colab": {
          "base_uri": "https://localhost:8080/"
        },
        "id": "_Zotrh0zY2q-",
        "outputId": "6fb0e31d-77d4-4fe4-b89b-0230bab928df"
      },
      "execution_count": 90,
      "outputs": [
        {
          "output_type": "execute_result",
          "data": {
            "text/plain": [
              "0    슬픔\n",
              "1    불안\n",
              "2    당황\n",
              "6    상처\n",
              "Name: filename, dtype: object"
            ]
          },
          "metadata": {},
          "execution_count": 90
        }
      ]
    },
    {
      "cell_type": "code",
      "source": [
        "doc_df[doc_df['cluster_label'] == 3].filename"
      ],
      "metadata": {
        "colab": {
          "base_uri": "https://localhost:8080/"
        },
        "id": "FI0ry3nmY2x9",
        "outputId": "1241acf9-5805-4bef-d055-cca8d2c615e0"
      },
      "execution_count": 91,
      "outputs": [
        {
          "output_type": "execute_result",
          "data": {
            "text/plain": [
              "4    기쁨\n",
              "Name: filename, dtype: object"
            ]
          },
          "metadata": {},
          "execution_count": 91
        }
      ]
    },
    {
      "cell_type": "code",
      "source": [
        "doc_df[doc_df['cluster_label'] == 4].filename"
      ],
      "metadata": {
        "colab": {
          "base_uri": "https://localhost:8080/"
        },
        "id": "DPY5X4ArY25j",
        "outputId": "d6dca750-c12e-4f25-f7b4-3b393e4c0b61"
      },
      "execution_count": 92,
      "outputs": [
        {
          "output_type": "execute_result",
          "data": {
            "text/plain": [
              "7    행복\n",
              "Name: filename, dtype: object"
            ]
          },
          "metadata": {},
          "execution_count": 92
        }
      ]
    },
    {
      "cell_type": "code",
      "source": [
        "doc_df[doc_df['cluster_label'] == 5].filename"
      ],
      "metadata": {
        "colab": {
          "base_uri": "https://localhost:8080/"
        },
        "id": "a7Kw1u9lY8TT",
        "outputId": "34696609-ed54-4e6e-e211-85f4861163d3"
      },
      "execution_count": 93,
      "outputs": [
        {
          "output_type": "execute_result",
          "data": {
            "text/plain": [
              "9    공포\n",
              "Name: filename, dtype: object"
            ]
          },
          "metadata": {},
          "execution_count": 93
        }
      ]
    },
    {
      "cell_type": "markdown",
      "source": [
        "<strong>동일한 군집으로 묶인 문서들 간의 유사도 측정"
      ],
      "metadata": {
        "id": "HuhuEq3dXZiT"
      }
    },
    {
      "cell_type": "code",
      "source": [
        "from sklearn.metrics.pairwise import cosine_similarity"
      ],
      "metadata": {
        "id": "QqunI54dXmq5"
      },
      "execution_count": 94,
      "outputs": []
    },
    {
      "cell_type": "code",
      "source": [
        "sim_pair = cosine_similarity(ftr_mat, ftr_mat)\n",
        "print(sim_pair)\n",
        "print(sim_pair.shape)"
      ],
      "metadata": {
        "colab": {
          "base_uri": "https://localhost:8080/"
        },
        "id": "e80NVS6uXiAf",
        "outputId": "dbeb546b-75e1-4d3a-e670-b21e23addbd7"
      },
      "execution_count": 95,
      "outputs": [
        {
          "output_type": "stream",
          "name": "stdout",
          "text": [
            "[[1.         0.19243722 0.19247829 0.16324326 0.15339183 0.0922945\n",
            "  0.20412134 0.07764019 0.09205088 0.11797175]\n",
            " [0.19243722 1.         0.22803746 0.15836035 0.17712357 0.05410401\n",
            "  0.2202689  0.04690747 0.05565837 0.09105744]\n",
            " [0.19247829 0.22803746 1.         0.15729204 0.16580497 0.05916769\n",
            "  0.23108028 0.04887062 0.05935257 0.08503396]\n",
            " [0.16324326 0.15836035 0.15729204 1.         0.11916346 0.16643886\n",
            "  0.15946927 0.08046045 0.12001734 0.11286656]\n",
            " [0.15339183 0.17712357 0.16580497 0.11916346 1.         0.05050338\n",
            "  0.16731742 0.0663863  0.05436337 0.07877067]\n",
            " [0.0922945  0.05410401 0.05916769 0.16643886 0.05050338 1.\n",
            "  0.05813094 0.09292018 0.1404603  0.11004507]\n",
            " [0.20412134 0.2202689  0.23108028 0.15946927 0.16731742 0.05813094\n",
            "  1.         0.04795562 0.05660873 0.08161311]\n",
            " [0.07764019 0.04690747 0.04887062 0.08046045 0.0663863  0.09292018\n",
            "  0.04795562 1.         0.11236033 0.08428243]\n",
            " [0.09205088 0.05565837 0.05935257 0.12001734 0.05436337 0.1404603\n",
            "  0.05660873 0.11236033 1.         0.12329448]\n",
            " [0.11797175 0.09105744 0.08503396 0.11286656 0.07877067 0.11004507\n",
            "  0.08161311 0.08428243 0.12329448 1.        ]]\n",
            "(10, 10)\n"
          ]
        }
      ]
    },
    {
      "cell_type": "code",
      "source": [
        "import matplotlib.pyplot as plt\n",
        "plt.rc('font', family='NanumBarunGothic')"
      ],
      "metadata": {
        "id": "JUV916_n-iu9"
      },
      "execution_count": 96,
      "outputs": []
    },
    {
      "cell_type": "code",
      "source": [
        "def sim_heatmap(sim_df):\n",
        "    cmap = sns.diverging_palette(240, 10, n=9, as_cmap=True)\n",
        "    plt.figure(figsize=(12,12))\n",
        "    mask = np.zeros_like(sim_df, dtype=np.bool_)\n",
        "    mask[np.triu_indices_from(mask)]=True\n",
        "    sns.heatmap(sim_df, annot=False, cmap=cmap, mask=mask,\n",
        "               linewidths=0.5, fmt='.2f', annot_kws={'size':8})\n",
        "    plt.rc('font', family='NanumBarunGothic')\n",
        "    plt.show()\n",
        "sim_heatmap(sim_pair)"
      ],
      "metadata": {
        "colab": {
          "base_uri": "https://localhost:8080/",
          "height": 982
        },
        "id": "oySp07DFXjox",
        "outputId": "f8f62c0b-b0c0-49b8-cf04-fe4fe21795b7"
      },
      "execution_count": 97,
      "outputs": [
        {
          "output_type": "display_data",
          "data": {
            "text/plain": [
              "<Figure size 1200x1200 with 2 Axes>"
            ],
            "image/png": "[encoded data removed]"
          },
          "metadata": {}
        }
      ]
    },
    {
      "cell_type": "markdown",
      "source": [
        "<strong>cluster_label=2인 문서들 간의 코사인 유사도¶"
      ],
      "metadata": {
        "id": "4tM0I5oE9BCx"
      }
    },
    {
      "cell_type": "code",
      "source": [
        "emotion_idx = doc_df[doc_df.cluster_label==2].index\n",
        "docname = doc_df.iloc[emotion_idx[0]].filename\n",
        "sim_pair = cosine_similarity(ftr_mat[emotion_idx], ftr_mat[emotion_idx])\n",
        "print(f'{docname}과 다른 문서간의 유사도')\n",
        "print(sim_pair.shape)"
      ],
      "metadata": {
        "colab": {
          "base_uri": "https://localhost:8080/"
        },
        "id": "ut3VT-8_9HY0",
        "outputId": "4c34828f-7154-49a5-f3c5-669da63c40cd"
      },
      "execution_count": 98,
      "outputs": [
        {
          "output_type": "stream",
          "name": "stdout",
          "text": [
            "슬픔과 다른 문서간의 유사도\n",
            "(4, 4)\n"
          ]
        }
      ]
    },
    {
      "cell_type": "markdown",
      "source": [
        "<strong> barplot, heatmap</strong>\n",
        "- cluster_label=2인 문서들 중 첫번째 문서와 다른 문서들간의 유사도 시각화"
      ],
      "metadata": {
        "id": "IJ4S2Wl68dzf"
      }
    },
    {
      "cell_type": "code",
      "source": [
        "sim_heatmap(sim_pair)"
      ],
      "metadata": {
        "colab": {
          "base_uri": "https://localhost:8080/",
          "height": 982
        },
        "id": "HaaSCK-i8_Co",
        "outputId": "1d18a65d-4f4f-4029-a43b-6eda48eba158"
      },
      "execution_count": 99,
      "outputs": [
        {
          "output_type": "display_data",
          "data": {
            "text/plain": [
              "<Figure size 1200x1200 with 2 Axes>"
            ],
            "image/png": "[encoded data removed]"
          },
          "metadata": {}
        }
      ]
    },
    {
      "cell_type": "code",
      "source": [
        "s_idx = sim_pair[0].argsort()[::-1]\n",
        "doc_idx = list(emotion_idx[s_idx])\n",
        "sim = sim_pair[0, s_idx[1:]]\n",
        "idx = doc_df.iloc[emotion_idx[1:]].filename\n",
        "sim_df = pd.DataFrame(data=sim, index = idx, columns=['similarity'])\n",
        "sns.barplot(data=sim_df, x='similarity', y=sim_df.index)\n",
        "plt.title(f'{doc_df.filename[doc_idx[0]]}')\n",
        "plt.show()"
      ],
      "metadata": {
        "colab": {
          "base_uri": "https://localhost:8080/",
          "height": 471
        },
        "id": "0rDFA00r8uCh",
        "outputId": "48cea42a-8164-4383-b494-9f1c88891a29"
      },
      "execution_count": 100,
      "outputs": [
        {
          "output_type": "display_data",
          "data": {
            "text/plain": [
              "<Figure size 640x480 with 1 Axes>"
            ],
            "image/png": "[encoded data removed]"
          },
          "metadata": {}
        }
      ]
    },
    {
      "cell_type": "code",
      "source": [],
      "metadata": {
        "id": "Kforg-q8T4PV"
      },
      "execution_count": 51,
      "outputs": []
    }
  ]
}